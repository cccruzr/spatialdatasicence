{
 "cells": [
  {
   "cell_type": "code",
   "execution_count": 1,
   "metadata": {},
   "outputs": [],
   "source": [
    "import geopandas as gpd\n",
    "import matplotlib.pyplot as plt\n",
    "%matplotlib inline"
   ]
  },
  {
   "cell_type": "code",
   "execution_count": 2,
   "metadata": {},
   "outputs": [],
   "source": [
    "# File paths\n",
    "grid_fp = r\"data/TravelTimes_to_5975375_RailwayStation.shp\"\n",
    "roads_fp = r\"data/roads.shp\"\n",
    "metro_fp = r\"data/metro.shp\"\n",
    "\n",
    "# Read files\n",
    "grid = gpd.read_file(grid_fp)\n",
    "roads = gpd.read_file(roads_fp)\n",
    "metro = gpd.read_file(metro_fp)"
   ]
  },
  {
   "cell_type": "code",
   "execution_count": 3,
   "metadata": {},
   "outputs": [
    {
     "name": "stdout",
     "output_type": "stream",
     "text": [
      "{'init': 'epsg:3067'}\n"
     ]
    },
    {
     "data": {
      "text/html": [
       "<div>\n",
       "<style scoped>\n",
       "    .dataframe tbody tr th:only-of-type {\n",
       "        vertical-align: middle;\n",
       "    }\n",
       "\n",
       "    .dataframe tbody tr th {\n",
       "        vertical-align: top;\n",
       "    }\n",
       "\n",
       "    .dataframe thead th {\n",
       "        text-align: right;\n",
       "    }\n",
       "</style>\n",
       "<table border=\"1\" class=\"dataframe\">\n",
       "  <thead>\n",
       "    <tr style=\"text-align: right;\">\n",
       "      <th></th>\n",
       "      <th>car_m_d</th>\n",
       "      <th>car_m_t</th>\n",
       "      <th>car_r_d</th>\n",
       "      <th>car_r_t</th>\n",
       "      <th>from_id</th>\n",
       "      <th>pt_m_d</th>\n",
       "      <th>pt_m_t</th>\n",
       "      <th>pt_m_tt</th>\n",
       "      <th>pt_r_d</th>\n",
       "      <th>pt_r_t</th>\n",
       "      <th>pt_r_tt</th>\n",
       "      <th>to_id</th>\n",
       "      <th>walk_d</th>\n",
       "      <th>walk_t</th>\n",
       "      <th>geometry</th>\n",
       "    </tr>\n",
       "  </thead>\n",
       "  <tbody>\n",
       "    <tr>\n",
       "      <th>0</th>\n",
       "      <td>32297</td>\n",
       "      <td>43</td>\n",
       "      <td>32260</td>\n",
       "      <td>48</td>\n",
       "      <td>5785640</td>\n",
       "      <td>32616</td>\n",
       "      <td>116</td>\n",
       "      <td>147</td>\n",
       "      <td>32616</td>\n",
       "      <td>108</td>\n",
       "      <td>139</td>\n",
       "      <td>5975375</td>\n",
       "      <td>32164</td>\n",
       "      <td>459</td>\n",
       "      <td>POLYGON ((382000.0001358641 6697750.000038058,...</td>\n",
       "    </tr>\n",
       "    <tr>\n",
       "      <th>1</th>\n",
       "      <td>32508</td>\n",
       "      <td>43</td>\n",
       "      <td>32471</td>\n",
       "      <td>49</td>\n",
       "      <td>5785641</td>\n",
       "      <td>32822</td>\n",
       "      <td>119</td>\n",
       "      <td>145</td>\n",
       "      <td>32822</td>\n",
       "      <td>111</td>\n",
       "      <td>133</td>\n",
       "      <td>5975375</td>\n",
       "      <td>29547</td>\n",
       "      <td>422</td>\n",
       "      <td>POLYGON ((382250.0001358146 6697750.000038053,...</td>\n",
       "    </tr>\n",
       "  </tbody>\n",
       "</table>\n",
       "</div>"
      ],
      "text/plain": [
       "   car_m_d  car_m_t  car_r_d  car_r_t  from_id  pt_m_d  pt_m_t  pt_m_tt  \\\n",
       "0    32297       43    32260       48  5785640   32616     116      147   \n",
       "1    32508       43    32471       49  5785641   32822     119      145   \n",
       "\n",
       "   pt_r_d  pt_r_t  pt_r_tt    to_id  walk_d  walk_t  \\\n",
       "0   32616     108      139  5975375   32164     459   \n",
       "1   32822     111      133  5975375   29547     422   \n",
       "\n",
       "                                            geometry  \n",
       "0  POLYGON ((382000.0001358641 6697750.000038058,...  \n",
       "1  POLYGON ((382250.0001358146 6697750.000038053,...  "
      ]
     },
     "execution_count": 3,
     "metadata": {},
     "output_type": "execute_result"
    }
   ],
   "source": [
    "# Grid CRS\n",
    "gridCRS = grid.crs\n",
    "print(gridCRS)\n",
    "grid.head(2)"
   ]
  },
  {
   "cell_type": "code",
   "execution_count": 4,
   "metadata": {},
   "outputs": [
    {
     "name": "stdout",
     "output_type": "stream",
     "text": [
      "{'proj': 'tmerc', 'lat_0': 0, 'lon_0': 24, 'k': 1, 'x_0': 2500000, 'y_0': 0, 'ellps': 'intl', 'units': 'm', 'no_defs': True}\n",
      "{'proj': 'tmerc', 'lat_0': 0, 'lon_0': 24, 'k': 1, 'x_0': 2500000, 'y_0': 0, 'ellps': 'intl', 'units': 'm', 'no_defs': True}\n"
     ]
    },
    {
     "data": {
      "text/html": [
       "<div>\n",
       "<style scoped>\n",
       "    .dataframe tbody tr th:only-of-type {\n",
       "        vertical-align: middle;\n",
       "    }\n",
       "\n",
       "    .dataframe tbody tr th {\n",
       "        vertical-align: top;\n",
       "    }\n",
       "\n",
       "    .dataframe thead th {\n",
       "        text-align: right;\n",
       "    }\n",
       "</style>\n",
       "<table border=\"1\" class=\"dataframe\">\n",
       "  <thead>\n",
       "    <tr style=\"text-align: right;\">\n",
       "      <th></th>\n",
       "      <th>NIMI</th>\n",
       "      <th>NIMI0</th>\n",
       "      <th>NRO</th>\n",
       "      <th>MTRYHM</th>\n",
       "      <th>geometry</th>\n",
       "    </tr>\n",
       "  </thead>\n",
       "  <tbody>\n",
       "    <tr>\n",
       "      <th>0</th>\n",
       "      <td>Moottoriväylä</td>\n",
       "      <td>Porvoon väylä</td>\n",
       "      <td>1</td>\n",
       "      <td>80</td>\n",
       "      <td>LINESTRING (2559971.273352734 6682910.73006964...</td>\n",
       "    </tr>\n",
       "    <tr>\n",
       "      <th>1</th>\n",
       "      <td>Moottoriväylä</td>\n",
       "      <td>Kehä III</td>\n",
       "      <td>1</td>\n",
       "      <td>80</td>\n",
       "      <td>LINESTRING (2564301.75712334 6681430.171351024...</td>\n",
       "    </tr>\n",
       "  </tbody>\n",
       "</table>\n",
       "</div>"
      ],
      "text/plain": [
       "            NIMI          NIMI0  NRO  MTRYHM  \\\n",
       "0  Moottoriväylä  Porvoon väylä    1      80   \n",
       "1  Moottoriväylä       Kehä III    1      80   \n",
       "\n",
       "                                            geometry  \n",
       "0  LINESTRING (2559971.273352734 6682910.73006964...  \n",
       "1  LINESTRING (2564301.75712334 6681430.171351024...  "
      ]
     },
     "execution_count": 4,
     "metadata": {},
     "output_type": "execute_result"
    }
   ],
   "source": [
    "# Roads and metro CRSs\n",
    "print(roads.crs)\n",
    "print(metro.crs)\n",
    "roads.head(2)"
   ]
  },
  {
   "cell_type": "code",
   "execution_count": 5,
   "metadata": {},
   "outputs": [
    {
     "name": "stdout",
     "output_type": "stream",
     "text": [
      "{'init': 'epsg:3067'}\n",
      "{'init': 'epsg:3067'}\n"
     ]
    },
    {
     "data": {
      "text/html": [
       "<div>\n",
       "<style scoped>\n",
       "    .dataframe tbody tr th:only-of-type {\n",
       "        vertical-align: middle;\n",
       "    }\n",
       "\n",
       "    .dataframe tbody tr th {\n",
       "        vertical-align: top;\n",
       "    }\n",
       "\n",
       "    .dataframe thead th {\n",
       "        text-align: right;\n",
       "    }\n",
       "</style>\n",
       "<table border=\"1\" class=\"dataframe\">\n",
       "  <thead>\n",
       "    <tr style=\"text-align: right;\">\n",
       "      <th></th>\n",
       "      <th>NIMI</th>\n",
       "      <th>NIMI0</th>\n",
       "      <th>NRO</th>\n",
       "      <th>MTRYHM</th>\n",
       "      <th>geometry</th>\n",
       "    </tr>\n",
       "  </thead>\n",
       "  <tbody>\n",
       "    <tr>\n",
       "      <th>0</th>\n",
       "      <td>Moottoriväylä</td>\n",
       "      <td>Porvoon väylä</td>\n",
       "      <td>1</td>\n",
       "      <td>80</td>\n",
       "      <td>LINESTRING (393902.4363970492 6681130.13311762...</td>\n",
       "    </tr>\n",
       "    <tr>\n",
       "      <th>1</th>\n",
       "      <td>Moottoriväylä</td>\n",
       "      <td>Kehä III</td>\n",
       "      <td>1</td>\n",
       "      <td>80</td>\n",
       "      <td>LINESTRING (398159.608959613 6679454.908297231...</td>\n",
       "    </tr>\n",
       "  </tbody>\n",
       "</table>\n",
       "</div>"
      ],
      "text/plain": [
       "            NIMI          NIMI0  NRO  MTRYHM  \\\n",
       "0  Moottoriväylä  Porvoon väylä    1      80   \n",
       "1  Moottoriväylä       Kehä III    1      80   \n",
       "\n",
       "                                            geometry  \n",
       "0  LINESTRING (393902.4363970492 6681130.13311762...  \n",
       "1  LINESTRING (398159.608959613 6679454.908297231...  "
      ]
     },
     "execution_count": 5,
     "metadata": {},
     "output_type": "execute_result"
    }
   ],
   "source": [
    "# Reproject geometries onto grid CRS\n",
    "roads = roads.copy().to_crs(crs=gridCRS)\n",
    "metro = metro.copy().to_crs(crs=gridCRS)\n",
    "\n",
    "print(roads['geometry'].crs)\n",
    "print(metro.crs)\n",
    "roads.head(2)"
   ]
  },
  {
   "cell_type": "code",
   "execution_count": 6,
   "metadata": {},
   "outputs": [
    {
     "name": "stderr",
     "output_type": "stream",
     "text": [
      "C:\\ProgramData\\Anaconda3\\envs\\geopy\\lib\\site-packages\\pysal\\__init__.py:65: VisibleDeprecationWarning: PySAL's API will be changed on 2018-12-31. The last release made with this API is version 1.14.4. A preview of the next API version is provided in the `pysalnext` package. The API changes and a guide on how to change imports is provided at https://migrating.pysal.org\n",
      "  ), VisibleDeprecationWarning)\n",
      "C:\\ProgramData\\Anaconda3\\envs\\geopy\\lib\\site-packages\\scipy\\stats\\stats.py:1713: FutureWarning: Using a non-tuple sequence for multidimensional indexing is deprecated; use `arr[tuple(seq)]` instead of `arr[seq]`. In the future this will be interpreted as an array index, `arr[np.array(seq)]`, which will result either in an error or a different result.\n",
      "  return np.add.reduce(sorted[indexer] * weights, axis=axis) / sumval\n"
     ]
    },
    {
     "data": {
      "image/png": "[encoded data removed]",
      "text/plain": [
       "<Figure size 432x288 with 1 Axes>"
      ]
     },
     "metadata": {},
     "output_type": "display_data"
    }
   ],
   "source": [
    "# Visualize the travel times into 9 classes using \"Quantiles\" \n",
    "# classification scheme\n",
    "# Add also a little bit of transparency with `alpha` parameter\n",
    "# (ranges from 0 to 1 where 0 is fully transparent and 1 has no transparency)\n",
    "map1 = grid.plot(column='car_r_t', lw=0.03, cmap='RdYlBu', scheme='quantiles', k=9, alpha=0.8)\n",
    "\n",
    "# Add roads on top of the grid\n",
    "# (use ax parameter to define the map on top of which the second items are plotted)\n",
    "roads.plot(ax=map1, color=\"blue\", linewidth=1.5)\n",
    "\n",
    "# Add metro on top of the previous map\n",
    "metro.plot(ax=map1, color=\"red\", linewidth=2.5)\n",
    "\n",
    "# Remove the empty white-space around the axes\n",
    "plt.tight_layout()\n",
    "\n",
    "# Save the figure as png file with resolution of 300 dpi\n",
    "outfp = r\"output/static_map.png\"\n",
    "plt.savefig(outfp, dpi=300)"
   ]
  },
  {
   "cell_type": "code",
   "execution_count": null,
   "metadata": {},
   "outputs": [],
   "source": []
  }
 ],
 "metadata": {
  "kernelspec": {
   "display_name": "Python 3",
   "language": "python",
   "name": "python3"
  },
  "language_info": {
   "codemirror_mode": {
    "name": "ipython",
    "version": 3
   },
   "file_extension": ".py",
   "mimetype": "text/x-python",
   "name": "python",
   "nbconvert_exporter": "python",
   "pygments_lexer": "ipython3",
   "version": "3.7.0"
  }
 },
 "nbformat": 4,
 "nbformat_minor": 2
}
