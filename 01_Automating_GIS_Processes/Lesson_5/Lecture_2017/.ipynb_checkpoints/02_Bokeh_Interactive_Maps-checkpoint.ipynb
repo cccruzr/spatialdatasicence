{
 "cells": [
  {
   "cell_type": "markdown",
   "metadata": {},
   "source": [
    "## Simple interactive point plot"
   ]
  },
  {
   "cell_type": "code",
   "execution_count": 2,
   "metadata": {},
   "outputs": [],
   "source": [
    "import geopandas as gpd\n",
    "from bokeh.plotting import figure, save\n",
    "from bokeh.models import ColumnDataSource\n",
    "from IPython.display import HTML, display"
   ]
  },
  {
   "cell_type": "code",
   "execution_count": 3,
   "metadata": {},
   "outputs": [
    {
     "data": {
      "text/html": [
       "<div style=\"display: table;\"><div style=\"display: table-row;\"><div style=\"display: table-cell;\"><b title=\"bokeh.plotting.figure.Figure\">Figure</b>(</div><div style=\"display: table-cell;\">id&nbsp;=&nbsp;'32110b6b-df8c-4871-8870-146278aaa708', <span id=\"9059e62d-9349-4e2e-a478-18d50f61cac6\" style=\"cursor: pointer;\">&hellip;)</span></div></div><div class=\"d602987c-76f0-4a52-ae2e-0635fda1c400\" style=\"display: none;\"><div style=\"display: table-cell;\"></div><div style=\"display: table-cell;\">above&nbsp;=&nbsp;[],</div></div><div class=\"d602987c-76f0-4a52-ae2e-0635fda1c400\" style=\"display: none;\"><div style=\"display: table-cell;\"></div><div style=\"display: table-cell;\">aspect_scale&nbsp;=&nbsp;1,</div></div><div class=\"d602987c-76f0-4a52-ae2e-0635fda1c400\" style=\"display: none;\"><div style=\"display: table-cell;\"></div><div style=\"display: table-cell;\">background_fill_alpha&nbsp;=&nbsp;{'value': 1.0},</div></div><div class=\"d602987c-76f0-4a52-ae2e-0635fda1c400\" style=\"display: none;\"><div style=\"display: table-cell;\"></div><div style=\"display: table-cell;\">background_fill_color&nbsp;=&nbsp;{'value': '#ffffff'},</div></div><div class=\"d602987c-76f0-4a52-ae2e-0635fda1c400\" style=\"display: none;\"><div style=\"display: table-cell;\"></div><div style=\"display: table-cell;\">below&nbsp;=&nbsp;[LinearAxis(id='76f03ec0-6a84-41d7-afed-863ea2434d02', ...)],</div></div><div class=\"d602987c-76f0-4a52-ae2e-0635fda1c400\" style=\"display: none;\"><div style=\"display: table-cell;\"></div><div style=\"display: table-cell;\">border_fill_alpha&nbsp;=&nbsp;{'value': 1.0},</div></div><div class=\"d602987c-76f0-4a52-ae2e-0635fda1c400\" style=\"display: none;\"><div style=\"display: table-cell;\"></div><div style=\"display: table-cell;\">border_fill_color&nbsp;=&nbsp;{'value': '#ffffff'},</div></div><div class=\"d602987c-76f0-4a52-ae2e-0635fda1c400\" style=\"display: none;\"><div style=\"display: table-cell;\"></div><div style=\"display: table-cell;\">css_classes&nbsp;=&nbsp;[],</div></div><div class=\"d602987c-76f0-4a52-ae2e-0635fda1c400\" style=\"display: none;\"><div style=\"display: table-cell;\"></div><div style=\"display: table-cell;\">disabled&nbsp;=&nbsp;False,</div></div><div class=\"d602987c-76f0-4a52-ae2e-0635fda1c400\" style=\"display: none;\"><div style=\"display: table-cell;\"></div><div style=\"display: table-cell;\">extra_x_ranges&nbsp;=&nbsp;{},</div></div><div class=\"d602987c-76f0-4a52-ae2e-0635fda1c400\" style=\"display: none;\"><div style=\"display: table-cell;\"></div><div style=\"display: table-cell;\">extra_y_ranges&nbsp;=&nbsp;{},</div></div><div class=\"d602987c-76f0-4a52-ae2e-0635fda1c400\" style=\"display: none;\"><div style=\"display: table-cell;\"></div><div style=\"display: table-cell;\">h_symmetry&nbsp;=&nbsp;True,</div></div><div class=\"d602987c-76f0-4a52-ae2e-0635fda1c400\" style=\"display: none;\"><div style=\"display: table-cell;\"></div><div style=\"display: table-cell;\">height&nbsp;=&nbsp;None,</div></div><div class=\"d602987c-76f0-4a52-ae2e-0635fda1c400\" style=\"display: none;\"><div style=\"display: table-cell;\"></div><div style=\"display: table-cell;\">hidpi&nbsp;=&nbsp;True,</div></div><div class=\"d602987c-76f0-4a52-ae2e-0635fda1c400\" style=\"display: none;\"><div style=\"display: table-cell;\"></div><div style=\"display: table-cell;\">js_event_callbacks&nbsp;=&nbsp;{},</div></div><div class=\"d602987c-76f0-4a52-ae2e-0635fda1c400\" style=\"display: none;\"><div style=\"display: table-cell;\"></div><div style=\"display: table-cell;\">js_property_callbacks&nbsp;=&nbsp;{},</div></div><div class=\"d602987c-76f0-4a52-ae2e-0635fda1c400\" style=\"display: none;\"><div style=\"display: table-cell;\"></div><div style=\"display: table-cell;\">left&nbsp;=&nbsp;[LinearAxis(id='a2ec4877-8eff-4d42-8dcf-7f6df94e39cf', ...)],</div></div><div class=\"d602987c-76f0-4a52-ae2e-0635fda1c400\" style=\"display: none;\"><div style=\"display: table-cell;\"></div><div style=\"display: table-cell;\">lod_factor&nbsp;=&nbsp;10,</div></div><div class=\"d602987c-76f0-4a52-ae2e-0635fda1c400\" style=\"display: none;\"><div style=\"display: table-cell;\"></div><div style=\"display: table-cell;\">lod_interval&nbsp;=&nbsp;300,</div></div><div class=\"d602987c-76f0-4a52-ae2e-0635fda1c400\" style=\"display: none;\"><div style=\"display: table-cell;\"></div><div style=\"display: table-cell;\">lod_threshold&nbsp;=&nbsp;2000,</div></div><div class=\"d602987c-76f0-4a52-ae2e-0635fda1c400\" style=\"display: none;\"><div style=\"display: table-cell;\"></div><div style=\"display: table-cell;\">lod_timeout&nbsp;=&nbsp;500,</div></div><div class=\"d602987c-76f0-4a52-ae2e-0635fda1c400\" style=\"display: none;\"><div style=\"display: table-cell;\"></div><div style=\"display: table-cell;\">match_aspect&nbsp;=&nbsp;False,</div></div><div class=\"d602987c-76f0-4a52-ae2e-0635fda1c400\" style=\"display: none;\"><div style=\"display: table-cell;\"></div><div style=\"display: table-cell;\">min_border&nbsp;=&nbsp;5,</div></div><div class=\"d602987c-76f0-4a52-ae2e-0635fda1c400\" style=\"display: none;\"><div style=\"display: table-cell;\"></div><div style=\"display: table-cell;\">min_border_bottom&nbsp;=&nbsp;None,</div></div><div class=\"d602987c-76f0-4a52-ae2e-0635fda1c400\" style=\"display: none;\"><div style=\"display: table-cell;\"></div><div style=\"display: table-cell;\">min_border_left&nbsp;=&nbsp;None,</div></div><div class=\"d602987c-76f0-4a52-ae2e-0635fda1c400\" style=\"display: none;\"><div style=\"display: table-cell;\"></div><div style=\"display: table-cell;\">min_border_right&nbsp;=&nbsp;None,</div></div><div class=\"d602987c-76f0-4a52-ae2e-0635fda1c400\" style=\"display: none;\"><div style=\"display: table-cell;\"></div><div style=\"display: table-cell;\">min_border_top&nbsp;=&nbsp;None,</div></div><div class=\"d602987c-76f0-4a52-ae2e-0635fda1c400\" style=\"display: none;\"><div style=\"display: table-cell;\"></div><div style=\"display: table-cell;\">name&nbsp;=&nbsp;None,</div></div><div class=\"d602987c-76f0-4a52-ae2e-0635fda1c400\" style=\"display: none;\"><div style=\"display: table-cell;\"></div><div style=\"display: table-cell;\">outline_line_alpha&nbsp;=&nbsp;{'value': 1.0},</div></div><div class=\"d602987c-76f0-4a52-ae2e-0635fda1c400\" style=\"display: none;\"><div style=\"display: table-cell;\"></div><div style=\"display: table-cell;\">outline_line_cap&nbsp;=&nbsp;'butt',</div></div><div class=\"d602987c-76f0-4a52-ae2e-0635fda1c400\" style=\"display: none;\"><div style=\"display: table-cell;\"></div><div style=\"display: table-cell;\">outline_line_color&nbsp;=&nbsp;{'value': '#e5e5e5'},</div></div><div class=\"d602987c-76f0-4a52-ae2e-0635fda1c400\" style=\"display: none;\"><div style=\"display: table-cell;\"></div><div style=\"display: table-cell;\">outline_line_dash&nbsp;=&nbsp;[],</div></div><div class=\"d602987c-76f0-4a52-ae2e-0635fda1c400\" style=\"display: none;\"><div style=\"display: table-cell;\"></div><div style=\"display: table-cell;\">outline_line_dash_offset&nbsp;=&nbsp;0,</div></div><div class=\"d602987c-76f0-4a52-ae2e-0635fda1c400\" style=\"display: none;\"><div style=\"display: table-cell;\"></div><div style=\"display: table-cell;\">outline_line_join&nbsp;=&nbsp;'miter',</div></div><div class=\"d602987c-76f0-4a52-ae2e-0635fda1c400\" style=\"display: none;\"><div style=\"display: table-cell;\"></div><div style=\"display: table-cell;\">outline_line_width&nbsp;=&nbsp;{'value': 1},</div></div><div class=\"d602987c-76f0-4a52-ae2e-0635fda1c400\" style=\"display: none;\"><div style=\"display: table-cell;\"></div><div style=\"display: table-cell;\">output_backend&nbsp;=&nbsp;'canvas',</div></div><div class=\"d602987c-76f0-4a52-ae2e-0635fda1c400\" style=\"display: none;\"><div style=\"display: table-cell;\"></div><div style=\"display: table-cell;\">plot_height&nbsp;=&nbsp;600,</div></div><div class=\"d602987c-76f0-4a52-ae2e-0635fda1c400\" style=\"display: none;\"><div style=\"display: table-cell;\"></div><div style=\"display: table-cell;\">plot_width&nbsp;=&nbsp;600,</div></div><div class=\"d602987c-76f0-4a52-ae2e-0635fda1c400\" style=\"display: none;\"><div style=\"display: table-cell;\"></div><div style=\"display: table-cell;\">renderers&nbsp;=&nbsp;[LinearAxis(id='76f03ec0-6a84-41d7-afed-863ea2434d02', ...), Grid(id='6aabe5ef-bc81-4bc6-ae90-0f8d17fd1413', ...), LinearAxis(id='a2ec4877-8eff-4d42-8dcf-7f6df94e39cf', ...), Grid(id='d87868b5-880d-45cf-a3da-01166925ce82', ...), BoxAnnotation(id='7ac75306-3677-4101-b3e7-ee9d287c6364', ...)],</div></div><div class=\"d602987c-76f0-4a52-ae2e-0635fda1c400\" style=\"display: none;\"><div style=\"display: table-cell;\"></div><div style=\"display: table-cell;\">right&nbsp;=&nbsp;[],</div></div><div class=\"d602987c-76f0-4a52-ae2e-0635fda1c400\" style=\"display: none;\"><div style=\"display: table-cell;\"></div><div style=\"display: table-cell;\">sizing_mode&nbsp;=&nbsp;'fixed',</div></div><div class=\"d602987c-76f0-4a52-ae2e-0635fda1c400\" style=\"display: none;\"><div style=\"display: table-cell;\"></div><div style=\"display: table-cell;\">subscribed_events&nbsp;=&nbsp;[],</div></div><div class=\"d602987c-76f0-4a52-ae2e-0635fda1c400\" style=\"display: none;\"><div style=\"display: table-cell;\"></div><div style=\"display: table-cell;\">tags&nbsp;=&nbsp;[],</div></div><div class=\"d602987c-76f0-4a52-ae2e-0635fda1c400\" style=\"display: none;\"><div style=\"display: table-cell;\"></div><div style=\"display: table-cell;\">title&nbsp;=&nbsp;Title(id='e0f84288-01c0-411f-b219-046d16ba26ba', ...),</div></div><div class=\"d602987c-76f0-4a52-ae2e-0635fda1c400\" style=\"display: none;\"><div style=\"display: table-cell;\"></div><div style=\"display: table-cell;\">title_location&nbsp;=&nbsp;'above',</div></div><div class=\"d602987c-76f0-4a52-ae2e-0635fda1c400\" style=\"display: none;\"><div style=\"display: table-cell;\"></div><div style=\"display: table-cell;\">toolbar&nbsp;=&nbsp;Toolbar(id='562c5edf-9abd-459b-9e63-84a98ff37415', ...),</div></div><div class=\"d602987c-76f0-4a52-ae2e-0635fda1c400\" style=\"display: none;\"><div style=\"display: table-cell;\"></div><div style=\"display: table-cell;\">toolbar_location&nbsp;=&nbsp;'right',</div></div><div class=\"d602987c-76f0-4a52-ae2e-0635fda1c400\" style=\"display: none;\"><div style=\"display: table-cell;\"></div><div style=\"display: table-cell;\">toolbar_sticky&nbsp;=&nbsp;True,</div></div><div class=\"d602987c-76f0-4a52-ae2e-0635fda1c400\" style=\"display: none;\"><div style=\"display: table-cell;\"></div><div style=\"display: table-cell;\">v_symmetry&nbsp;=&nbsp;False,</div></div><div class=\"d602987c-76f0-4a52-ae2e-0635fda1c400\" style=\"display: none;\"><div style=\"display: table-cell;\"></div><div style=\"display: table-cell;\">width&nbsp;=&nbsp;None,</div></div><div class=\"d602987c-76f0-4a52-ae2e-0635fda1c400\" style=\"display: none;\"><div style=\"display: table-cell;\"></div><div style=\"display: table-cell;\">x_range&nbsp;=&nbsp;DataRange1d(id='ef99682e-f570-4f16-8c0f-e91304831ce1', ...),</div></div><div class=\"d602987c-76f0-4a52-ae2e-0635fda1c400\" style=\"display: none;\"><div style=\"display: table-cell;\"></div><div style=\"display: table-cell;\">x_scale&nbsp;=&nbsp;LinearScale(id='b7c2738d-c0a2-4e8e-83b3-fe13d4bc96c5', ...),</div></div><div class=\"d602987c-76f0-4a52-ae2e-0635fda1c400\" style=\"display: none;\"><div style=\"display: table-cell;\"></div><div style=\"display: table-cell;\">y_range&nbsp;=&nbsp;DataRange1d(id='ca00fd65-d350-475e-b3c7-d370b0120051', ...),</div></div><div class=\"d602987c-76f0-4a52-ae2e-0635fda1c400\" style=\"display: none;\"><div style=\"display: table-cell;\"></div><div style=\"display: table-cell;\">y_scale&nbsp;=&nbsp;LinearScale(id='9b372717-908b-4621-92c8-13966ed0b6ea', ...))</div></div></div>\n",
       "<script>\n",
       "(function() {\n",
       "  var expanded = false;\n",
       "  var ellipsis = document.getElementById(\"9059e62d-9349-4e2e-a478-18d50f61cac6\");\n",
       "  ellipsis.addEventListener(\"click\", function() {\n",
       "    var rows = document.getElementsByClassName(\"d602987c-76f0-4a52-ae2e-0635fda1c400\");\n",
       "    for (var i = 0; i < rows.length; i++) {\n",
       "      var el = rows[i];\n",
       "      el.style.display = expanded ? \"none\" : \"table-row\";\n",
       "    }\n",
       "    ellipsis.innerHTML = expanded ? \"&hellip;)\" : \"&lsaquo;&lsaquo;&lsaquo;\";\n",
       "    expanded = !expanded;\n",
       "  });\n",
       "})();\n",
       "</script>\n"
      ],
      "text/plain": [
       "Figure(id='32110b6b-df8c-4871-8870-146278aaa708', ...)"
      ]
     },
     "execution_count": 3,
     "metadata": {},
     "output_type": "execute_result"
    }
   ],
   "source": [
    "# Initialize the plot (p) and give a title\n",
    "p = figure(title='Interactive plot')\n",
    "p"
   ]
  },
  {
   "cell_type": "code",
   "execution_count": 4,
   "metadata": {},
   "outputs": [],
   "source": [
    "# Create a lost of x and y coordinates\n",
    "x_coords = [0, 1, 2, 3, 4]\n",
    "y_coords = [5, 4, 1, 2, 0]"
   ]
  },
  {
   "cell_type": "code",
   "execution_count": 5,
   "metadata": {},
   "outputs": [
    {
     "data": {
      "text/html": [
       "<div style=\"display: table;\"><div style=\"display: table-row;\"><div style=\"display: table-cell;\"><b title=\"bokeh.models.renderers.GlyphRenderer\">GlyphRenderer</b>(</div><div style=\"display: table-cell;\">id&nbsp;=&nbsp;'7f5e16d0-60ab-4ad7-abf1-8c54a932cd2c', <span id=\"876224d9-78de-47ed-92df-19ea03f91a98\" style=\"cursor: pointer;\">&hellip;)</span></div></div><div class=\"3f273e11-0e86-4edd-ba92-b792ab83d59e\" style=\"display: none;\"><div style=\"display: table-cell;\"></div><div style=\"display: table-cell;\">data_source&nbsp;=&nbsp;ColumnDataSource(id='16108362-4f18-4340-9254-0f7bd8a7c54c', ...),</div></div><div class=\"3f273e11-0e86-4edd-ba92-b792ab83d59e\" style=\"display: none;\"><div style=\"display: table-cell;\"></div><div style=\"display: table-cell;\">glyph&nbsp;=&nbsp;Circle(id='4625d58b-9b37-45e2-912d-6d603a7e054d', ...),</div></div><div class=\"3f273e11-0e86-4edd-ba92-b792ab83d59e\" style=\"display: none;\"><div style=\"display: table-cell;\"></div><div style=\"display: table-cell;\">hover_glyph&nbsp;=&nbsp;None,</div></div><div class=\"3f273e11-0e86-4edd-ba92-b792ab83d59e\" style=\"display: none;\"><div style=\"display: table-cell;\"></div><div style=\"display: table-cell;\">js_event_callbacks&nbsp;=&nbsp;{},</div></div><div class=\"3f273e11-0e86-4edd-ba92-b792ab83d59e\" style=\"display: none;\"><div style=\"display: table-cell;\"></div><div style=\"display: table-cell;\">js_property_callbacks&nbsp;=&nbsp;{},</div></div><div class=\"3f273e11-0e86-4edd-ba92-b792ab83d59e\" style=\"display: none;\"><div style=\"display: table-cell;\"></div><div style=\"display: table-cell;\">level&nbsp;=&nbsp;'glyph',</div></div><div class=\"3f273e11-0e86-4edd-ba92-b792ab83d59e\" style=\"display: none;\"><div style=\"display: table-cell;\"></div><div style=\"display: table-cell;\">muted&nbsp;=&nbsp;False,</div></div><div class=\"3f273e11-0e86-4edd-ba92-b792ab83d59e\" style=\"display: none;\"><div style=\"display: table-cell;\"></div><div style=\"display: table-cell;\">muted_glyph&nbsp;=&nbsp;None,</div></div><div class=\"3f273e11-0e86-4edd-ba92-b792ab83d59e\" style=\"display: none;\"><div style=\"display: table-cell;\"></div><div style=\"display: table-cell;\">name&nbsp;=&nbsp;None,</div></div><div class=\"3f273e11-0e86-4edd-ba92-b792ab83d59e\" style=\"display: none;\"><div style=\"display: table-cell;\"></div><div style=\"display: table-cell;\">nonselection_glyph&nbsp;=&nbsp;Circle(id='dedd290b-b44e-4ae7-9987-af5278351010', ...),</div></div><div class=\"3f273e11-0e86-4edd-ba92-b792ab83d59e\" style=\"display: none;\"><div style=\"display: table-cell;\"></div><div style=\"display: table-cell;\">selection_glyph&nbsp;=&nbsp;None,</div></div><div class=\"3f273e11-0e86-4edd-ba92-b792ab83d59e\" style=\"display: none;\"><div style=\"display: table-cell;\"></div><div style=\"display: table-cell;\">subscribed_events&nbsp;=&nbsp;[],</div></div><div class=\"3f273e11-0e86-4edd-ba92-b792ab83d59e\" style=\"display: none;\"><div style=\"display: table-cell;\"></div><div style=\"display: table-cell;\">tags&nbsp;=&nbsp;[],</div></div><div class=\"3f273e11-0e86-4edd-ba92-b792ab83d59e\" style=\"display: none;\"><div style=\"display: table-cell;\"></div><div style=\"display: table-cell;\">view&nbsp;=&nbsp;CDSView(id='16bc9b12-45cf-458a-9694-f496de1561a5', ...),</div></div><div class=\"3f273e11-0e86-4edd-ba92-b792ab83d59e\" style=\"display: none;\"><div style=\"display: table-cell;\"></div><div style=\"display: table-cell;\">visible&nbsp;=&nbsp;True,</div></div><div class=\"3f273e11-0e86-4edd-ba92-b792ab83d59e\" style=\"display: none;\"><div style=\"display: table-cell;\"></div><div style=\"display: table-cell;\">x_range_name&nbsp;=&nbsp;'default',</div></div><div class=\"3f273e11-0e86-4edd-ba92-b792ab83d59e\" style=\"display: none;\"><div style=\"display: table-cell;\"></div><div style=\"display: table-cell;\">y_range_name&nbsp;=&nbsp;'default')</div></div></div>\n",
       "<script>\n",
       "(function() {\n",
       "  var expanded = false;\n",
       "  var ellipsis = document.getElementById(\"876224d9-78de-47ed-92df-19ea03f91a98\");\n",
       "  ellipsis.addEventListener(\"click\", function() {\n",
       "    var rows = document.getElementsByClassName(\"3f273e11-0e86-4edd-ba92-b792ab83d59e\");\n",
       "    for (var i = 0; i < rows.length; i++) {\n",
       "      var el = rows[i];\n",
       "      el.style.display = expanded ? \"none\" : \"table-row\";\n",
       "    }\n",
       "    ellipsis.innerHTML = expanded ? \"&hellip;)\" : \"&lsaquo;&lsaquo;&lsaquo;\";\n",
       "    expanded = !expanded;\n",
       "  });\n",
       "})();\n",
       "</script>\n"
      ],
      "text/plain": [
       "GlyphRenderer(id='7f5e16d0-60ab-4ad7-abf1-8c54a932cd2c', ...)"
      ]
     },
     "execution_count": 5,
     "metadata": {},
     "output_type": "execute_result"
    }
   ],
   "source": [
    "# Plot the points using .circle()\n",
    "p.circle(x=x_coords, y=y_coords, size=10, color='red')"
   ]
  },
  {
   "cell_type": "code",
   "execution_count": 6,
   "metadata": {},
   "outputs": [
    {
     "name": "stderr",
     "output_type": "stream",
     "text": [
      "C:\\Users\\cccru\\Anaconda3\\envs\\geopython\\lib\\site-packages\\bokeh\\io\\saving.py:125: UserWarning: save() called but no resources were supplied and output_file(...) was never called, defaulting to resources.CDN\n",
      "  warn(\"save() called but no resources were supplied and output_file(...) was never called, defaulting to resources.CDN\")\n",
      "C:\\Users\\cccru\\Anaconda3\\envs\\geopython\\lib\\site-packages\\bokeh\\io\\saving.py:138: UserWarning: save() called but no title was supplied and output_file(...) was never called, using default title 'Bokeh Plot'\n",
      "  warn(\"save() called but no title was supplied and output_file(...) was never called, using default title 'Bokeh Plot'\")\n"
     ]
    },
    {
     "data": {
      "text/plain": [
       "'C:\\\\Users\\\\cccru\\\\Documents\\\\AutoGIS\\\\Lesson_5\\\\Lecture_2017\\\\output\\\\points.html'"
      ]
     },
     "execution_count": 6,
     "metadata": {},
     "output_type": "execute_result"
    }
   ],
   "source": [
    "# All interactive plots are typically saved as HTML files\n",
    "# Output file path\n",
    "out_fp = r'output/points.html'\n",
    "\n",
    "# Save the plot by passing the plot-object and output path\n",
    "save(obj=p, filename=out_fp)"
   ]
  },
  {
   "cell_type": "code",
   "execution_count": 7,
   "metadata": {
    "scrolled": false
   },
   "outputs": [
    {
     "data": {
      "text/html": [
       "<iframe src=output/points.html width=700 height=650> </iframe>"
      ],
      "text/plain": [
       "<IPython.core.display.HTML object>"
      ]
     },
     "execution_count": 7,
     "metadata": {},
     "output_type": "execute_result"
    }
   ],
   "source": [
    "HTML('<iframe src='+out_fp+' width=700 height=650> </iframe>')\n",
    "#HTML('<iframe src=http://ipython.org/notebook.html width=900 height=350></iframe>')"
   ]
  },
  {
   "cell_type": "markdown",
   "metadata": {},
   "source": [
    "## Creating interactive maps: Bokeh + Geopandas"
   ]
  },
  {
   "cell_type": "markdown",
   "metadata": {},
   "source": [
    "Creating an interactive Bokeh map from Shapefile(s) contains typically following steps:\n",
    "\n",
    "1. Read the Shapefile into GeoDataFrame\n",
    "2. Calculate the x and y coordinates of the geometries into separate columns\n",
    "3. Convert the GeoDataFrame into a Bokeh DataSource\n",
    "4. Plot the x and y coordinates as points, lines or polygons (which are in Bokeh words: circle, multi_line and patches)\n",
    "\n"
   ]
  },
  {
   "cell_type": "code",
   "execution_count": 8,
   "metadata": {},
   "outputs": [],
   "source": [
    "# Point map\n",
    "# Path and read data\n",
    "points_fp = r'data/addresses.shp'\n",
    "points = gpd.read_file(points_fp)"
   ]
  },
  {
   "cell_type": "code",
   "execution_count": 9,
   "metadata": {},
   "outputs": [
    {
     "data": {
      "text/html": [
       "<div>\n",
       "<style scoped>\n",
       "    .dataframe tbody tr th:only-of-type {\n",
       "        vertical-align: middle;\n",
       "    }\n",
       "\n",
       "    .dataframe tbody tr th {\n",
       "        vertical-align: top;\n",
       "    }\n",
       "\n",
       "    .dataframe thead th {\n",
       "        text-align: right;\n",
       "    }\n",
       "</style>\n",
       "<table border=\"1\" class=\"dataframe\">\n",
       "  <thead>\n",
       "    <tr style=\"text-align: right;\">\n",
       "      <th></th>\n",
       "      <th>address</th>\n",
       "      <th>id</th>\n",
       "      <th>geometry</th>\n",
       "    </tr>\n",
       "  </thead>\n",
       "  <tbody>\n",
       "    <tr>\n",
       "      <th>0</th>\n",
       "      <td>Kampinkuja 1, 00100 Helsinki, Finland</td>\n",
       "      <td>1001</td>\n",
       "      <td>POINT (24.9301701 60.1683731)</td>\n",
       "    </tr>\n",
       "    <tr>\n",
       "      <th>1</th>\n",
       "      <td>Kaivokatu 8, 00101 Helsinki, Finland</td>\n",
       "      <td>1002</td>\n",
       "      <td>POINT (24.9418933 60.1698665)</td>\n",
       "    </tr>\n",
       "  </tbody>\n",
       "</table>\n",
       "</div>"
      ],
      "text/plain": [
       "                                 address    id                       geometry\n",
       "0  Kampinkuja 1, 00100 Helsinki, Finland  1001  POINT (24.9301701 60.1683731)\n",
       "1   Kaivokatu 8, 00101 Helsinki, Finland  1002  POINT (24.9418933 60.1698665)"
      ]
     },
     "execution_count": 9,
     "metadata": {},
     "output_type": "execute_result"
    }
   ],
   "source": [
    "points.head(2)"
   ]
  },
  {
   "cell_type": "code",
   "execution_count": 10,
   "metadata": {},
   "outputs": [],
   "source": [
    "# Create a function to extract the X and Y coordinates\n",
    "def getPointCoords(row, geom, coord_type):\n",
    "    \"\"\"Calculates coordinates ('x' or 'y') of a Point geometry\"\"\"\n",
    "    if coord_type == 'x':\n",
    "        return row[geom].x\n",
    "    elif coord_type == 'y':\n",
    "        return row[geom].y"
   ]
  },
  {
   "cell_type": "code",
   "execution_count": 11,
   "metadata": {},
   "outputs": [],
   "source": [
    "# Calculate 'x' coordinates\n",
    "points['x'] = points.apply(getPointCoords, geom='geometry', coord_type='x', axis=1)\n",
    "\n",
    "# Calculate 'y' coordinates\n",
    "points['y'] = points.apply(getPointCoords, geom='geometry', coord_type='y', axis=1)"
   ]
  },
  {
   "cell_type": "code",
   "execution_count": 12,
   "metadata": {},
   "outputs": [
    {
     "data": {
      "text/html": [
       "<div>\n",
       "<style scoped>\n",
       "    .dataframe tbody tr th:only-of-type {\n",
       "        vertical-align: middle;\n",
       "    }\n",
       "\n",
       "    .dataframe tbody tr th {\n",
       "        vertical-align: top;\n",
       "    }\n",
       "\n",
       "    .dataframe thead th {\n",
       "        text-align: right;\n",
       "    }\n",
       "</style>\n",
       "<table border=\"1\" class=\"dataframe\">\n",
       "  <thead>\n",
       "    <tr style=\"text-align: right;\">\n",
       "      <th></th>\n",
       "      <th>address</th>\n",
       "      <th>id</th>\n",
       "      <th>geometry</th>\n",
       "      <th>x</th>\n",
       "      <th>y</th>\n",
       "    </tr>\n",
       "  </thead>\n",
       "  <tbody>\n",
       "    <tr>\n",
       "      <th>0</th>\n",
       "      <td>Kampinkuja 1, 00100 Helsinki, Finland</td>\n",
       "      <td>1001</td>\n",
       "      <td>POINT (24.9301701 60.1683731)</td>\n",
       "      <td>24.930170</td>\n",
       "      <td>60.168373</td>\n",
       "    </tr>\n",
       "    <tr>\n",
       "      <th>1</th>\n",
       "      <td>Kaivokatu 8, 00101 Helsinki, Finland</td>\n",
       "      <td>1002</td>\n",
       "      <td>POINT (24.9418933 60.1698665)</td>\n",
       "      <td>24.941893</td>\n",
       "      <td>60.169866</td>\n",
       "    </tr>\n",
       "  </tbody>\n",
       "</table>\n",
       "</div>"
      ],
      "text/plain": [
       "                                 address    id                       geometry  \\\n",
       "0  Kampinkuja 1, 00100 Helsinki, Finland  1001  POINT (24.9301701 60.1683731)   \n",
       "1   Kaivokatu 8, 00101 Helsinki, Finland  1002  POINT (24.9418933 60.1698665)   \n",
       "\n",
       "           x          y  \n",
       "0  24.930170  60.168373  \n",
       "1  24.941893  60.169866  "
      ]
     },
     "execution_count": 12,
     "metadata": {},
     "output_type": "execute_result"
    }
   ],
   "source": [
    "points.head(2)"
   ]
  },
  {
   "cell_type": "markdown",
   "metadata": {},
   "source": [
    "Bokeh ColumnDataSource do not understand Shapely geometry -objects. Thus, we need to remove the geometry -column before convert our DataFrame into a ColumnDataSouce."
   ]
  },
  {
   "cell_type": "code",
   "execution_count": 13,
   "metadata": {},
   "outputs": [
    {
     "data": {
      "text/html": [
       "<div>\n",
       "<style scoped>\n",
       "    .dataframe tbody tr th:only-of-type {\n",
       "        vertical-align: middle;\n",
       "    }\n",
       "\n",
       "    .dataframe tbody tr th {\n",
       "        vertical-align: top;\n",
       "    }\n",
       "\n",
       "    .dataframe thead th {\n",
       "        text-align: right;\n",
       "    }\n",
       "</style>\n",
       "<table border=\"1\" class=\"dataframe\">\n",
       "  <thead>\n",
       "    <tr style=\"text-align: right;\">\n",
       "      <th></th>\n",
       "      <th>address</th>\n",
       "      <th>id</th>\n",
       "      <th>x</th>\n",
       "      <th>y</th>\n",
       "    </tr>\n",
       "  </thead>\n",
       "  <tbody>\n",
       "    <tr>\n",
       "      <th>0</th>\n",
       "      <td>Kampinkuja 1, 00100 Helsinki, Finland</td>\n",
       "      <td>1001</td>\n",
       "      <td>24.930170</td>\n",
       "      <td>60.168373</td>\n",
       "    </tr>\n",
       "    <tr>\n",
       "      <th>1</th>\n",
       "      <td>Kaivokatu 8, 00101 Helsinki, Finland</td>\n",
       "      <td>1002</td>\n",
       "      <td>24.941893</td>\n",
       "      <td>60.169866</td>\n",
       "    </tr>\n",
       "  </tbody>\n",
       "</table>\n",
       "</div>"
      ],
      "text/plain": [
       "                                 address    id          x          y\n",
       "0  Kampinkuja 1, 00100 Helsinki, Finland  1001  24.930170  60.168373\n",
       "1   Kaivokatu 8, 00101 Helsinki, Finland  1002  24.941893  60.169866"
      ]
     },
     "execution_count": 13,
     "metadata": {},
     "output_type": "execute_result"
    }
   ],
   "source": [
    "# Make a copy of the GDF and drop the geometry column\n",
    "points_df = points.copy().drop('geometry', axis=1)\n",
    "points_df.head(2)"
   ]
  },
  {
   "cell_type": "code",
   "execution_count": 14,
   "metadata": {},
   "outputs": [
    {
     "data": {
      "text/html": [
       "<div style=\"display: table;\"><div style=\"display: table-row;\"><div style=\"display: table-cell;\"><b title=\"bokeh.models.sources.ColumnDataSource\">ColumnDataSource</b>(</div><div style=\"display: table-cell;\">id&nbsp;=&nbsp;'9eb8f705-6a8e-4f8d-8d55-430a8b359a5b', <span id=\"a2b079ba-c788-44e2-98c3-e71bc78c1fd3\" style=\"cursor: pointer;\">&hellip;)</span></div></div><div class=\"f01ffdf3-ad40-4bd2-aeab-46acd4e6cfb3\" style=\"display: none;\"><div style=\"display: table-cell;\"></div><div style=\"display: table-cell;\">callback&nbsp;=&nbsp;None,</div></div><div class=\"f01ffdf3-ad40-4bd2-aeab-46acd4e6cfb3\" style=\"display: none;\"><div style=\"display: table-cell;\"></div><div style=\"display: table-cell;\">column_names&nbsp;=&nbsp;['address', 'id', 'x', 'y', 'index'],</div></div><div class=\"f01ffdf3-ad40-4bd2-aeab-46acd4e6cfb3\" style=\"display: none;\"><div style=\"display: table-cell;\"></div><div style=\"display: table-cell;\">data&nbsp;=&nbsp;{'address': ['Kampinkuja 1, 00100 Helsinki, Finland', 'Kaivokatu 8, 00101 Helsinki, Finland', 'Hermanstads strandsväg 1, 00580 Helsingfors, Finland', 'Itäväylä, 00900 Helsinki, Finland', 'Tyynenmerenkatu 9, 00220 Helsinki, Finland', 'Kontulantie 18, 00940 Helsinki, Finland', 'Itäväylä, 00800 Helsinki, Finland', 'Tapulikaupungintie 3, 00750 Helsinki, Finland', 'Sompionpolku 2, 00730 Helsinki, Finland', 'Atomitie 5, 00370 Helsinki, Finland', 'Rautatientori 1, 00100 Helsinki, Finland', 'Kuparitie 8, 00440 Helsinki, Finland', 'Trumstigen 8, 00420 Helsingfors, Finland', 'Kullatorpsvägen 1, 00620 Helsingfors, Finland', 'Malminkaari 15, 00700 Helsinki, Finland', 'Kylätie 23, 00320 Helsinki, Finland', 'Malminkartanontie 17, 00410 Helsinki, Finland', 'Åggelby torg 2b, 00640 Helsingfors, Finland', 'Bangårdsvägen 6, 00101 Helsingfors, Finland', 'Pitäjänmäentie 15, 00370 Helsinki, Finland', 'Eskolantie 2, 00720 Helsinki, Finland', 'Tattariharjuntie, 00700 Helsinki, Finland', 'Tallinnanaukio 1, 00930 Helsinki, Finland', 'Tyynylaavantie 7, 00980 Helsinki, Finland', 'Varvasmäenkuja, 00920 Helsinki, Finland', 'Mellungsbackastråket 6, 00970 Helsingfors, Finland', 'Vasastigen 2, 00101 Helsingfors, Finland', 'Hiihtäjäntie 2, 00810 Helsinki, Finland', 'Ukko-Pekan porras, 00570 Helsinki, Finland', 'Siltasaarenkatu 16, 00530 Helsinki, Finland', 'Urho Kekkosen katu 1, 00100 Helsinki, Finland', 'Gräsviksgatan 17, 00101 Helsingfors, Finland', 'Stillahavsgatan 3, 00220 Helsingfors, Finland', 'Vilhelmsgatan 4, 00101 Helsingfors, Finland', 'Torisilta, 00980 Helsinki, Finland'], 'id': [1001, 1002, 1003, 1004, 1005, 1006, 1007, 1008, 1009, 1010, 1011, 1012, 1013, 1014, 1015, 1016, 1017, 1018, 1019, 1020, 1021, 1022, 1023, 1024, 1025, 1026, 1027, 1028, 1029, 1030, 1031, 1032, 1033, 1034, 1035], 'index': [0, 1, 2, 3, 4, 5, 6, 7, 8, 9, 10, 11, 12, 13, 14, 15, 16, 17, 18, 19, 20, 21, 22, 23, 24, 25, 26, 27, 28, 29, 30, 31, 32, 33, 34], 'y': {'__ndarray__': 'WAPvP40VTkDOF3svvhVOQBZPh1/7F05A7Y4xHHQbTkCJYk3AChROQKWRKuUQHk5AeXNdnQgaTkBiFjXzPyNOQD12vG62IU5AvvjsyngcTkBfPv536RVOQCf0n9qFHU5AyVpDqb0eTkDCWbZ7XhxOQPG/phgxIE5A5xJYSuAbTkABAjFk0B9OQDrJVpdTHU5A0xedh24ZTkC4LMt8rBxOQNXUDW8xH05Au+B440kfTkA4SrlW1hpOQA5LubGPGk5AUoGTbeAcTkCEXbmDfR5OQCreEsoMGE5Aue5Sj9kYTkBPsLWtHBhOQEctgyD2Fk5A+WXVjLEVTkCnZRDEHhVOQFpnfF9cFE5AI+pPLAEWTkCtVGF9TRpOQA==', 'shape': (35,), 'dtype': 'float64'}, 'x': {'__ndarray__': 'kTevoB/uOEBP0lfrH/E4QOoYoek2+jhA9OeR9YoXOUCExCxq5us4QMTVXMnpFDlAoZ3TLNAKOUDpZRTLLQk5QPoO2ZtzBzlAdbIvNDLfOEAoJ9pVSPE4QAYEhCBR4jhA/RAbLJzgOEDdItUcxfI4QNKOG343AzlABVPNrKXkOEAGu2Hbotw4QCf9GM6Q9zhAbGv6ovPuOEDkh0ojZtw4QAol3eBV/jhACcbBpWMKOUBGUhxR6xM5QKrj53V6JDlA6Ek+G14TOUCZyuw9phs5QNFTiVf+9ThAGPQ50nQHOUDTznpCwAE5QM32MpsR8zhAEuozsQrvOECFkJhFzew4QEti/yvh6zhA/Ct12mTyOEB5R3zd2B45QA==', 'shape': (35,), 'dtype': 'float64'}},</div></div><div class=\"f01ffdf3-ad40-4bd2-aeab-46acd4e6cfb3\" style=\"display: none;\"><div style=\"display: table-cell;\"></div><div style=\"display: table-cell;\">js_event_callbacks&nbsp;=&nbsp;{},</div></div><div class=\"f01ffdf3-ad40-4bd2-aeab-46acd4e6cfb3\" style=\"display: none;\"><div style=\"display: table-cell;\"></div><div style=\"display: table-cell;\">js_property_callbacks&nbsp;=&nbsp;{},</div></div><div class=\"f01ffdf3-ad40-4bd2-aeab-46acd4e6cfb3\" style=\"display: none;\"><div style=\"display: table-cell;\"></div><div style=\"display: table-cell;\">name&nbsp;=&nbsp;None,</div></div><div class=\"f01ffdf3-ad40-4bd2-aeab-46acd4e6cfb3\" style=\"display: none;\"><div style=\"display: table-cell;\"></div><div style=\"display: table-cell;\">selected&nbsp;=&nbsp;{'0d': {'glyph': None, 'indices': []}, '1d': {'indices': []}, '2d': {'indices': {}}},</div></div><div class=\"f01ffdf3-ad40-4bd2-aeab-46acd4e6cfb3\" style=\"display: none;\"><div style=\"display: table-cell;\"></div><div style=\"display: table-cell;\">subscribed_events&nbsp;=&nbsp;[],</div></div><div class=\"f01ffdf3-ad40-4bd2-aeab-46acd4e6cfb3\" style=\"display: none;\"><div style=\"display: table-cell;\"></div><div style=\"display: table-cell;\">tags&nbsp;=&nbsp;[])</div></div></div>\n",
       "<script>\n",
       "(function() {\n",
       "  var expanded = false;\n",
       "  var ellipsis = document.getElementById(\"a2b079ba-c788-44e2-98c3-e71bc78c1fd3\");\n",
       "  ellipsis.addEventListener(\"click\", function() {\n",
       "    var rows = document.getElementsByClassName(\"f01ffdf3-ad40-4bd2-aeab-46acd4e6cfb3\");\n",
       "    for (var i = 0; i < rows.length; i++) {\n",
       "      var el = rows[i];\n",
       "      el.style.display = expanded ? \"none\" : \"table-row\";\n",
       "    }\n",
       "    ellipsis.innerHTML = expanded ? \"&hellip;)\" : \"&lsaquo;&lsaquo;&lsaquo;\";\n",
       "    expanded = !expanded;\n",
       "  });\n",
       "})();\n",
       "</script>\n"
      ],
      "text/plain": [
       "ColumnDataSource(id='9eb8f705-6a8e-4f8d-8d55-430a8b359a5b', ...)"
      ]
     },
     "execution_count": 14,
     "metadata": {},
     "output_type": "execute_result"
    }
   ],
   "source": [
    "# Point data source\n",
    "p_source = ColumnDataSource(points_df)\n",
    "p_source"
   ]
  },
  {
   "cell_type": "code",
   "execution_count": 15,
   "metadata": {},
   "outputs": [
    {
     "name": "stderr",
     "output_type": "stream",
     "text": [
      "C:\\Users\\cccru\\Anaconda3\\envs\\geopython\\lib\\site-packages\\bokeh\\io\\saving.py:125: UserWarning: save() called but no resources were supplied and output_file(...) was never called, defaulting to resources.CDN\n",
      "  warn(\"save() called but no resources were supplied and output_file(...) was never called, defaulting to resources.CDN\")\n",
      "C:\\Users\\cccru\\Anaconda3\\envs\\geopython\\lib\\site-packages\\bokeh\\io\\saving.py:138: UserWarning: save() called but no title was supplied and output_file(...) was never called, using default title 'Bokeh Plot'\n",
      "  warn(\"save() called but no title was supplied and output_file(...) was never called, using default title 'Bokeh Plot'\")\n"
     ]
    },
    {
     "data": {
      "text/plain": [
       "'C:\\\\Users\\\\cccru\\\\Documents\\\\AutoGIS\\\\Lesson_5\\\\Lecture_2017\\\\output\\\\point_map.html'"
      ]
     },
     "execution_count": 15,
     "metadata": {},
     "output_type": "execute_result"
    }
   ],
   "source": [
    "# Initialize plot figure\n",
    "p = figure(title=\"Map of address points -from SHP-\")\n",
    "\n",
    "#Add points to the map from 'p_source' ColumnDataSource-object\n",
    "p.circle('x', 'y', source=p_source, color='red', size=10)\n",
    "\n",
    "# Output file path\n",
    "out_points_fp = r'output/point_map.html'\n",
    "save(p, out_points_fp)"
   ]
  },
  {
   "cell_type": "code",
   "execution_count": 16,
   "metadata": {},
   "outputs": [
    {
     "data": {
      "text/html": [
       "<iframe src=output/point_map.html width=700 height=650> </iframe>"
      ],
      "text/plain": [
       "<IPython.core.display.HTML object>"
      ]
     },
     "execution_count": 16,
     "metadata": {},
     "output_type": "execute_result"
    }
   ],
   "source": [
    "# Create iframe to visualize the plot\n",
    "HTML('<iframe src='+out_points_fp+' width=700 height=650> </iframe>')"
   ]
  },
  {
   "cell_type": "markdown",
   "metadata": {},
   "source": [
    "## Adding interactivity to the map"
   ]
  },
  {
   "cell_type": "code",
   "execution_count": 17,
   "metadata": {},
   "outputs": [],
   "source": [
    "# Adding hover interactivity\n",
    "from bokeh.models import HoverTool"
   ]
  },
  {
   "cell_type": "code",
   "execution_count": 18,
   "metadata": {},
   "outputs": [],
   "source": [
    "# Initialize hover tool\n",
    "my_hover = HoverTool()\n",
    "\n",
    "# Define the tooltips ('Label1', '@col1')\n",
    "my_hover.tooltips = [('ID', '@id'),('Address', '@address')]\n",
    "\n",
    "# Add tool to plot\n",
    "p.add_tools(my_hover)"
   ]
  },
  {
   "cell_type": "code",
   "execution_count": 19,
   "metadata": {},
   "outputs": [
    {
     "name": "stderr",
     "output_type": "stream",
     "text": [
      "C:\\Users\\cccru\\Anaconda3\\envs\\geopython\\lib\\site-packages\\bokeh\\io\\saving.py:125: UserWarning: save() called but no resources were supplied and output_file(...) was never called, defaulting to resources.CDN\n",
      "  warn(\"save() called but no resources were supplied and output_file(...) was never called, defaulting to resources.CDN\")\n",
      "C:\\Users\\cccru\\Anaconda3\\envs\\geopython\\lib\\site-packages\\bokeh\\io\\saving.py:138: UserWarning: save() called but no title was supplied and output_file(...) was never called, using default title 'Bokeh Plot'\n",
      "  warn(\"save() called but no title was supplied and output_file(...) was never called, using default title 'Bokeh Plot'\")\n"
     ]
    },
    {
     "data": {
      "text/html": [
       "<iframe src=output/point_map_hover.html width=700 height=650> </iframe>"
      ],
      "text/plain": [
       "<IPython.core.display.HTML object>"
      ]
     },
     "execution_count": 19,
     "metadata": {},
     "output_type": "execute_result"
    }
   ],
   "source": [
    "# Output file path\n",
    "out_points_fp = r'output/point_map_hover.html'\n",
    "save(p, out_points_fp)\n",
    "\n",
    "HTML('<iframe src='+out_points_fp+' width=700 height=650> </iframe>')"
   ]
  },
  {
   "cell_type": "markdown",
   "metadata": {},
   "source": [
    "## Create a Line Map"
   ]
  },
  {
   "cell_type": "code",
   "execution_count": 20,
   "metadata": {},
   "outputs": [],
   "source": [
    "# Define file path and read data\n",
    "metro_fp = r'data/metro.shp'\n",
    "metro = gpd.read_file(metro_fp)"
   ]
  },
  {
   "cell_type": "code",
   "execution_count": 21,
   "metadata": {},
   "outputs": [
    {
     "data": {
      "text/html": [
       "<div>\n",
       "<style scoped>\n",
       "    .dataframe tbody tr th:only-of-type {\n",
       "        vertical-align: middle;\n",
       "    }\n",
       "\n",
       "    .dataframe tbody tr th {\n",
       "        vertical-align: top;\n",
       "    }\n",
       "\n",
       "    .dataframe thead th {\n",
       "        text-align: right;\n",
       "    }\n",
       "</style>\n",
       "<table border=\"1\" class=\"dataframe\">\n",
       "  <thead>\n",
       "    <tr style=\"text-align: right;\">\n",
       "      <th></th>\n",
       "      <th>NUMERO</th>\n",
       "      <th>SUUNTA</th>\n",
       "      <th>geometry</th>\n",
       "    </tr>\n",
       "  </thead>\n",
       "  <tbody>\n",
       "    <tr>\n",
       "      <th>0</th>\n",
       "      <td>1300M</td>\n",
       "      <td>1</td>\n",
       "      <td>LINESTRING (2561676.997249531 6681346.00195433...</td>\n",
       "    </tr>\n",
       "    <tr>\n",
       "      <th>1</th>\n",
       "      <td>1300M</td>\n",
       "      <td>2</td>\n",
       "      <td>LINESTRING (2550919.001803585 6672692.00211347...</td>\n",
       "    </tr>\n",
       "  </tbody>\n",
       "</table>\n",
       "</div>"
      ],
      "text/plain": [
       "  NUMERO  SUUNTA                                           geometry\n",
       "0  1300M       1  LINESTRING (2561676.997249531 6681346.00195433...\n",
       "1  1300M       2  LINESTRING (2550919.001803585 6672692.00211347..."
      ]
     },
     "execution_count": 21,
     "metadata": {},
     "output_type": "execute_result"
    }
   ],
   "source": [
    "metro.head(2)"
   ]
  },
  {
   "cell_type": "code",
   "execution_count": 22,
   "metadata": {},
   "outputs": [],
   "source": [
    "# Create a function to extract the list of coordinates from a LineString\n",
    "def getLineCoords(row, geom, coord_type):\n",
    "    \"\"\"Returns a list of coordinates ('x' or 'y') of a LineString geometry\"\"\"\n",
    "    if coord_type == 'x':\n",
    "        return list( row[geom].coords.xy[0] )\n",
    "    elif coord_type == 'y':\n",
    "        return list( row[geom].coords.xy[1] )"
   ]
  },
  {
   "cell_type": "code",
   "execution_count": 23,
   "metadata": {},
   "outputs": [
    {
     "data": {
      "text/html": [
       "<div>\n",
       "<style scoped>\n",
       "    .dataframe tbody tr th:only-of-type {\n",
       "        vertical-align: middle;\n",
       "    }\n",
       "\n",
       "    .dataframe tbody tr th {\n",
       "        vertical-align: top;\n",
       "    }\n",
       "\n",
       "    .dataframe thead th {\n",
       "        text-align: right;\n",
       "    }\n",
       "</style>\n",
       "<table border=\"1\" class=\"dataframe\">\n",
       "  <thead>\n",
       "    <tr style=\"text-align: right;\">\n",
       "      <th></th>\n",
       "      <th>NUMERO</th>\n",
       "      <th>SUUNTA</th>\n",
       "      <th>geometry</th>\n",
       "      <th>x</th>\n",
       "      <th>y</th>\n",
       "    </tr>\n",
       "  </thead>\n",
       "  <tbody>\n",
       "    <tr>\n",
       "      <th>0</th>\n",
       "      <td>1300M</td>\n",
       "      <td>1</td>\n",
       "      <td>LINESTRING (2561676.997249531 6681346.00195433...</td>\n",
       "      <td>[2561676.997249531, 2560202.997150008, 2560127...</td>\n",
       "      <td>[6681346.001954339, 6681016.996685321, 6680969...</td>\n",
       "    </tr>\n",
       "    <tr>\n",
       "      <th>1</th>\n",
       "      <td>1300M</td>\n",
       "      <td>2</td>\n",
       "      <td>LINESTRING (2550919.001803585 6672692.00211347...</td>\n",
       "      <td>[2550919.001803585, 2551145.9991329825, 255126...</td>\n",
       "      <td>[6672692.002113477, 6672713.997145447, 6672737...</td>\n",
       "    </tr>\n",
       "    <tr>\n",
       "      <th>2</th>\n",
       "      <td>1300M1</td>\n",
       "      <td>1</td>\n",
       "      <td>LINESTRING (2561676.997249531 6681346.00195433...</td>\n",
       "      <td>[2561676.997249531, 2560202.997150008, 2560127...</td>\n",
       "      <td>[6681346.001954339, 6681016.996685321, 6680969...</td>\n",
       "    </tr>\n",
       "  </tbody>\n",
       "</table>\n",
       "</div>"
      ],
      "text/plain": [
       "   NUMERO  SUUNTA                                           geometry  \\\n",
       "0   1300M       1  LINESTRING (2561676.997249531 6681346.00195433...   \n",
       "1   1300M       2  LINESTRING (2550919.001803585 6672692.00211347...   \n",
       "2  1300M1       1  LINESTRING (2561676.997249531 6681346.00195433...   \n",
       "\n",
       "                                                   x  \\\n",
       "0  [2561676.997249531, 2560202.997150008, 2560127...   \n",
       "1  [2550919.001803585, 2551145.9991329825, 255126...   \n",
       "2  [2561676.997249531, 2560202.997150008, 2560127...   \n",
       "\n",
       "                                                   y  \n",
       "0  [6681346.001954339, 6681016.996685321, 6680969...  \n",
       "1  [6672692.002113477, 6672713.997145447, 6672737...  \n",
       "2  [6681346.001954339, 6681016.996685321, 6680969...  "
      ]
     },
     "execution_count": 23,
     "metadata": {},
     "output_type": "execute_result"
    }
   ],
   "source": [
    "# Calculate X coordinates of the line\n",
    "metro['x'] = metro.apply(getLineCoords, geom='geometry', coord_type='x', axis=1)\n",
    "\n",
    "# Calculate Y coordinates of the line\n",
    "metro['y'] = metro.apply(getLineCoords, geom='geometry', coord_type='y', axis=1)\n",
    "\n",
    "metro.head(3)"
   ]
  },
  {
   "cell_type": "code",
   "execution_count": 24,
   "metadata": {},
   "outputs": [
    {
     "data": {
      "text/html": [
       "<div>\n",
       "<style scoped>\n",
       "    .dataframe tbody tr th:only-of-type {\n",
       "        vertical-align: middle;\n",
       "    }\n",
       "\n",
       "    .dataframe tbody tr th {\n",
       "        vertical-align: top;\n",
       "    }\n",
       "\n",
       "    .dataframe thead th {\n",
       "        text-align: right;\n",
       "    }\n",
       "</style>\n",
       "<table border=\"1\" class=\"dataframe\">\n",
       "  <thead>\n",
       "    <tr style=\"text-align: right;\">\n",
       "      <th></th>\n",
       "      <th>NUMERO</th>\n",
       "      <th>SUUNTA</th>\n",
       "      <th>x</th>\n",
       "      <th>y</th>\n",
       "    </tr>\n",
       "  </thead>\n",
       "  <tbody>\n",
       "    <tr>\n",
       "      <th>0</th>\n",
       "      <td>1300M</td>\n",
       "      <td>1</td>\n",
       "      <td>[2561676.997249531, 2560202.997150008, 2560127...</td>\n",
       "      <td>[6681346.001954339, 6681016.996685321, 6680969...</td>\n",
       "    </tr>\n",
       "    <tr>\n",
       "      <th>1</th>\n",
       "      <td>1300M</td>\n",
       "      <td>2</td>\n",
       "      <td>[2550919.001803585, 2551145.9991329825, 255126...</td>\n",
       "      <td>[6672692.002113477, 6672713.997145447, 6672737...</td>\n",
       "    </tr>\n",
       "  </tbody>\n",
       "</table>\n",
       "</div>"
      ],
      "text/plain": [
       "  NUMERO  SUUNTA                                                  x  \\\n",
       "0  1300M       1  [2561676.997249531, 2560202.997150008, 2560127...   \n",
       "1  1300M       2  [2550919.001803585, 2551145.9991329825, 255126...   \n",
       "\n",
       "                                                   y  \n",
       "0  [6681346.001954339, 6681016.996685321, 6680969...  \n",
       "1  [6672692.002113477, 6672713.997145447, 6672737...  "
      ]
     },
     "execution_count": 24,
     "metadata": {},
     "output_type": "execute_result"
    }
   ],
   "source": [
    "# Make a copy and drop the geometry column\n",
    "metro_df = metro.copy().drop('geometry', axis=1)\n",
    "metro_df.head(2)"
   ]
  },
  {
   "cell_type": "code",
   "execution_count": 25,
   "metadata": {},
   "outputs": [
    {
     "data": {
      "text/html": [
       "<div style=\"display: table;\"><div style=\"display: table-row;\"><div style=\"display: table-cell;\"><b title=\"bokeh.models.sources.ColumnDataSource\">ColumnDataSource</b>(</div><div style=\"display: table-cell;\">id&nbsp;=&nbsp;'189efbb9-b2da-48b0-90ad-d9f371fdcc97', <span id=\"44a3e5cb-5c0a-4e12-9c66-a908a160efb0\" style=\"cursor: pointer;\">&hellip;)</span></div></div><div class=\"505f47ea-4fd4-4306-823a-e7591a2198c1\" style=\"display: none;\"><div style=\"display: table-cell;\"></div><div style=\"display: table-cell;\">callback&nbsp;=&nbsp;None,</div></div><div class=\"505f47ea-4fd4-4306-823a-e7591a2198c1\" style=\"display: none;\"><div style=\"display: table-cell;\"></div><div style=\"display: table-cell;\">column_names&nbsp;=&nbsp;['NUMERO', 'SUUNTA', 'x', 'y', 'index'],</div></div><div class=\"505f47ea-4fd4-4306-823a-e7591a2198c1\" style=\"display: none;\"><div style=\"display: table-cell;\"></div><div style=\"display: table-cell;\">data&nbsp;=&nbsp;{'SUUNTA': [1, 2, 1, 2, 1, 2, 1, 2, 1, 2, 1, 2, 1, 2, 1, 2], 'index': [0, 1, 2, 3, 4, 5, 6, 7, 8, 9, 10, 11, 12, 13, 14, 15], 'y': [[6681346.001954339, 6681016.996685321, 6680969.995932604, 6680902.000376748, 6680713.99736588, 6680342.002261752, 6680249.000985148, 6680103.997811678, 6680056.997058961, 6679968.996926506, 6679882.997251712, 6679795.997348087, 6679721.000190421, 6679533.9974083835, 6679437.99544529, 6678736.0048456015, 6678526.997029305, 6678410.000263073, 6678360.999052696, 6678295.003954499, 6678246.002744122, 6678179.9976436375, 6678095.998426503, 6678008.998522878, 6677957.996854841, 6677914.997017444, 6677900.003587283, 6677895.002443134, 6677916.9974751035, 6677922.998848083, 6677878.998781856, 6677829.997571479, 6677793.999335891, 6677740.997210194, 6677675.002111997, 6677611.9976980025, 6677474.996355171, 6677360.000046598, 6677248.004424514, 6676633.003726162, 6676526.999474769, 6676375.004701778, 6676311.000058953, 6676190.0023774, 6676114.004990905, 6676023.00417196, 6675825.999101623, 6675765.995374118, 6675727.99668087, 6675703.000962411, 6675670.003413312, 6675615.0008299565, 6675586.004196177, 6675537.002985801, 6675458.995139357, 6675433.999420898, 6675401.001871799, 6675351.000432593, 6675342.9986019535, 6675370.0047803605, 6675515.998180373, 6675544.00458761, 6675637.996090756, 6675666.0024979925, 6675660.001125013, 6675640.996777245, 6675589.995109209, 6675534.002299311, 6675479.999944785, 6675363.003178552, 6675284.995332108, 6675223.001149231, 6675128.999643796, 6675067.9956874605, 6675003.000818094, 6674919.001600959, 6674846.995127494, 6674720.996301793, 6674644.998915297, 6674573.002444121, 6674421.997897671, 6674079.999656152, 6674050.002793543, 6673822.000631767, 6673715.996380375, 6673652.001739838, 6673609.001902441, 6673580.995495204, 6673565.001836213, 6673552.999090254, 6673537.995657806, 6673511.999710517, 6673457.997355991, 6673403.0047749225, 6673418.998433913, 6673190.996272137, 6673120.000029791, 6672953.001824351, 6672897.999240995, 6672747.004696834, 6672737.002408534, 6672713.997145447, 6672692.002113477], [6672692.002113477, 6672713.997145447, 6672737.002408534, 6672747.004696834, 6672897.999240995, 6672953.001824351, 6673120.000029791, 6673190.996272137, 6673395.002944284, 6673403.0047749225, 6673457.997355991, 6673511.999710517, 6673537.995657806, 6673552.999090254, 6673565.001836213, 6673580.995495204, 6673609.001902441, 6673652.001739838, 6673715.996380375, 6673822.000631767, 6674050.002793543, 6674079.999656152, 6674421.997897671, 6674573.002444121, 6674644.998915297, 6674720.996301793, 6674846.995127494, 6674919.001600959, 6675003.000818094, 6675067.9956874605, 6675128.999643796, 6675223.001149231, 6675284.995332108, 6675363.003178552, 6675479.999944785, 6675534.002299311, 6675589.995109209, 6675640.996777245, 6675660.001125013, 6675666.0024979925, 6675637.996090756, 6675544.00458761, 6675520.999324522, 6675370.0047803605, 6675342.9986019535, 6675351.000432593, 6675401.001871799, 6675433.999420898, 6675458.995139357, 6675537.002985801, 6675586.004196177, 6675615.0008299565, 6675670.003413312, 6675703.000962411, 6675727.99668087, 6675765.995374118, 6675825.999101623, 6676023.00417196, 6676114.004990905, 6676190.0023774, 6676311.000058953, 6676375.004701778, 6676526.999474769, 6676633.003726162, 6677248.004424514, 6677360.000046598, 6677474.996355171, 6677612.997926832, 6677675.002111997, 6677740.997210194, 6677793.999335891, 6677829.997571479, 6677878.998781856, 6677922.998848083, 6677916.9974751035, 6677895.002443134, 6677900.003587283, 6677914.997017444, 6677957.996854841, 6678008.998522878, 6678095.998426503, 6678179.9976436375, 6678246.002744122, 6678295.003954499, 6678360.999052696, 6678410.000263073, 6678526.997029305, 6678736.0048456015, 6679437.99544529, 6679533.9974083835, 6679721.000190421, 6679795.997348087, 6679882.997251712, 6679968.996926506, 6680056.997058961, 6680103.997811678, 6680249.000985148, 6680342.002261752, 6680713.99736588, 6680902.000376748, 6680969.995932604, 6681016.996685321, 6681149.997112833, 6681190.99649257, 6681207.000153849, 6681202.999238529, 6681158.999172302, 6681167.001002941, 6681202.999238529, 6681228.9951858185, 6681255.001135396, 6681346.001954339], [6681346.001954339, 6681016.996685321, 6680969.995932604, 6680902.000376748, 6680713.99736588, 6680342.002261752, 6680249.000985148, 6680103.997811678, 6680056.997058961, 6679968.996926506, 6679882.997251712, 6679795.997348087, 6679721.000190421, 6679533.9974083835, 6679437.99544529, 6678736.0048456015, 6678526.997029305, 6678410.000263073, 6678360.999052696, 6678295.003954499, 6678246.002744122, 6678179.9976436375, 6678095.998426503], [6678095.998426503, 6678179.9976436375, 6678246.002744122, 6678295.003954499, 6678360.999052696, 6678410.000263073, 6678526.997029305, 6678736.0048456015, 6679437.99544529, 6679533.9974083835, 6679721.000190421, 6679795.997348087, 6679882.997251712, 6679968.996926506, 6680056.997058961, 6680103.997811678, 6680249.000985148, 6680342.002261752, 6680713.99736588, 6680902.000376748, 6680969.995932604, 6681016.996685321, 6681149.997112833, 6681190.99649257, 6681207.000153849, 6681202.999238529, 6681158.999172302, 6681167.001002941, 6681202.999238529, 6681228.9951858185, 6681255.001135396, 6681346.001954339], [6678095.998426503, 6678008.998522878, 6677957.996854841, 6677914.997017444, 6677900.003587283, 6677895.002443134, 6677916.9974751035, 6677922.998848083, 6677878.998781856, 6677829.997571479, 6677793.999335891, 6677740.997210194, 6677675.002111997, 6677611.9976980025, 6677474.996355171, 6677360.000046598, 6677248.004424514, 6676633.003726162, 6676526.999474769, 6676375.004701778, 6676311.000058953, 6676190.0023774, 6676114.004990905, 6676023.00417196, 6675825.999101623, 6675765.995374118, 6675727.99668087, 6675703.000962411, 6675670.003413312, 6675615.0008299565, 6675586.004196177, 6675537.002985801, 6675458.995139357, 6675433.999420898, 6675401.001871799, 6675351.000432593, 6675342.9986019535, 6675370.0047803605, 6675515.998180373, 6675544.00458761, 6675637.996090756, 6675666.0024979925, 6675660.001125013, 6675640.996777245, 6675589.995109209, 6675534.002299311, 6675479.999944785, 6675363.003178552, 6675284.995332108, 6675223.001149231, 6675128.999643796, 6675067.9956874605, 6675003.000818094, 6674919.001600959, 6674846.995127494, 6674720.996301793, 6674644.998915297, 6674573.002444121, 6674421.997897671, 6674079.999656152, 6674050.002793543, 6673822.000631767, 6673715.996380375, 6673652.001739838, 6673609.001902441, 6673580.995495204, 6673565.001836213, 6673552.999090254, 6673537.995657806, 6673511.999710517, 6673457.997355991, 6673403.0047749225, 6673418.998433913, 6673190.996272137, 6673120.000029791, 6672953.001824351, 6672897.999240995, 6672747.004696834, 6672737.002408534, 6672713.997145447, 6672692.002113477], [6672692.002113477, 6672713.997145447, 6672737.002408534, 6672747.004696834, 6672897.999240995, 6672953.001824351, 6673120.000029791, 6673190.996272137, 6673395.002944284, 6673403.0047749225, 6673457.997355991, 6673511.999710517, 6673537.995657806, 6673552.999090254, 6673565.001836213, 6673580.995495204, 6673609.001902441, 6673652.001739838, 6673715.996380375, 6673822.000631767, 6674050.002793543, 6674079.999656152, 6674421.997897671, 6674573.002444121, 6674644.998915297, 6674720.996301793, 6674846.995127494, 6674919.001600959, 6675003.000818094, 6675067.9956874605, 6675128.999643796, 6675223.001149231, 6675284.995332108, 6675363.003178552, 6675479.999944785, 6675534.002299311, 6675589.995109209, 6675640.996777245, 6675660.001125013, 6675666.0024979925, 6675637.996090756, 6675544.00458761, 6675520.999324522, 6675370.0047803605, 6675342.9986019535, 6675351.000432593, 6675401.001871799, 6675433.999420898, 6675458.995139357, 6675537.002985801, 6675586.004196177, 6675615.0008299565, 6675670.003413312, 6675703.000962411, 6675727.99668087, 6675765.995374118, 6675825.999101623, 6676023.00417196, 6676114.004990905, 6676190.0023774, 6676311.000058953, 6676375.004701778, 6676526.999474769, 6676633.003726162, 6677248.004424514, 6677360.000046598, 6677474.996355171, 6677612.997926832, 6677675.002111997, 6677740.997210194, 6677793.999335891, 6677829.997571479, 6677878.998781856, 6677922.998848083, 6677916.9974751035, 6677895.002443134, 6677900.003587283, 6677914.997017444, 6677957.996854841, 6678008.998522878, 6678095.998426503], [6681346.001954339, 6681016.996685321, 6680969.995932604, 6680902.000376748, 6680713.99736588, 6680342.002261752, 6680249.000985148, 6680103.997811678, 6680056.997058961, 6679968.996926506, 6679882.997251712, 6679795.997348087, 6679721.000190421, 6679533.9974083835, 6679437.99544529, 6678736.0048456015, 6678526.997029305, 6678410.000263073, 6678360.999052696, 6678295.003954499, 6678246.002744122, 6678179.9976436375, 6678095.998426503, 6678008.998522878, 6677957.996854841, 6677914.997017444, 6677900.003587283, 6677895.002443134, 6677916.9974751035, 6677922.998848083, 6677878.998781856, 6677829.997571479, 6677793.999335891, 6677740.997210194, 6677675.002111997, 6677611.9976980025, 6677474.996355171, 6677360.000046598, 6677248.004424514, 6676633.003726162, 6676526.999474769, 6676375.004701778, 6676311.000058953, 6676190.0023774, 6676114.004990905, 6676023.00417196, 6675825.999101623, 6675765.995374118, 6675727.99668087, 6675703.000962411, 6675670.003413312, 6675615.0008299565, 6675586.004196177, 6675537.002985801, 6675458.995139357, 6675433.999420898, 6675401.001871799, 6675351.000432593, 6675342.9986019535, 6675370.0047803605, 6675515.998180373, 6675544.00458761, 6675637.996090756, 6675666.0024979925, 6675660.001125013, 6675640.996777245, 6675589.995109209, 6675534.002299311, 6675479.999944785, 6675363.003178552, 6675284.995332108, 6675223.001149231, 6675128.999643796, 6675067.9956874605, 6675003.000818094, 6674919.001600959, 6674846.995127494, 6674720.996301793, 6674644.998915297, 6674573.002444121, 6674421.997897671, 6674079.999656152, 6674050.002793543, 6673822.000631767, 6673715.996380375, 6673652.001739838, 6673609.001902441, 6673580.995495204, 6673565.001836213, 6673552.999090254, 6673537.995657806, 6673511.999710517, 6673457.997355991, 6673403.0047749225, 6673418.998433913, 6673190.996272137, 6673120.000029791, 6672953.001824351, 6672897.999240995, 6672747.004696834, 6672737.002408534, 6672713.997145447, 6672692.002113477], [6672692.002113477, 6672713.997145447, 6672737.002408534, 6672747.004696834, 6672897.999240995, 6672953.001824351, 6673120.000029791, 6673190.996272137, 6673395.002944284, 6673403.0047749225, 6673457.997355991, 6673511.999710517, 6673537.995657806, 6673552.999090254, 6673565.001836213, 6673580.995495204, 6673609.001902441, 6673652.001739838, 6673715.996380375, 6673822.000631767, 6674050.002793543, 6674079.999656152, 6674421.997897671, 6674573.002444121, 6674644.998915297, 6674720.996301793, 6674846.995127494, 6674919.001600959, 6675003.000818094, 6675067.9956874605, 6675128.999643796, 6675223.001149231, 6675284.995332108, 6675363.003178552, 6675479.999944785, 6675534.002299311, 6675589.995109209, 6675640.996777245, 6675660.001125013, 6675666.0024979925, 6675637.996090756, 6675544.00458761, 6675520.999324522, 6675370.0047803605, 6675342.9986019535, 6675351.000432593, 6675401.001871799, 6675433.999420898, 6675458.995139357, 6675537.002985801, 6675586.004196177, 6675615.0008299565, 6675670.003413312, 6675703.000962411, 6675727.99668087, 6675765.995374118, 6675825.999101623, 6676023.00417196, 6676114.004990905, 6676190.0023774, 6676311.000058953, 6676375.004701778, 6676526.999474769, 6676633.003726162, 6677248.004424514, 6677360.000046598, 6677474.996355171, 6677612.997926832, 6677675.002111997, 6677740.997210194, 6677793.999335891, 6677829.997571479, 6677878.998781856, 6677922.998848083, 6677916.9974751035, 6677895.002443134, 6677900.003587283, 6677914.997017444, 6677957.996854841, 6678008.998522878, 6678095.998426503, 6678179.9976436375, 6678246.002744122, 6678295.003954499, 6678360.999052696, 6678410.000263073, 6678526.997029305, 6678736.0048456015, 6679437.99544529, 6679533.9974083835, 6679721.000190421, 6679795.997348087, 6679882.997251712, 6679968.996926506, 6680056.997058961, 6680103.997811678, 6680249.000985148, 6680342.002261752, 6680713.99736588, 6680902.000376748, 6680969.995932604, 6681016.996685321, 6681149.997112833, 6681190.99649257, 6681207.000153849, 6681202.999238529, 6681158.999172302, 6681167.001002941, 6681202.999238529, 6681228.9951858185, 6681255.001135396, 6681346.001954339], [6677851.002376907, 6677781.996589933, 6677746.998583174, 6677702.998516947, 6677613.998155663, 6677575.9994624145, 6677559.995801136, 6677556.995114647, 6677564.996945285, 6677606.996553853, 6677643.004791729, 6677939.002509361, 6677991.004406228, 6678034.004243625, 6678164.003984647, 6678364.999968016, 6678465.002846429, 6678531.998173456, 6678572.997553193, 6678590.001443301, 6678613.99693293, 6678604.00464692, 6678593.002129791, 6678568.996637873, 6678533.998631115, 6678485.997649568, 6678360.999052696, 6678295.003954499, 6678246.002744122, 6678179.9976436375, 6678095.998426503, 6678008.998522878, 6677957.996854841, 6677914.997017444, 6677900.003587283, 6677895.002443134, 6677916.9974751035, 6677922.998848083, 6677878.998781856, 6677829.997571479, 6677793.999335891, 6677740.997210194, 6677675.002111997, 6677611.9976980025, 6677474.996355171, 6677360.000046598, 6677248.004424514, 6676633.003726162, 6676526.999474769, 6676375.004701778, 6676311.000058953, 6676190.0023774, 6676114.004990905, 6676023.00417196, 6675825.999101623, 6675765.995374118, 6675727.99668087, 6675703.000962411, 6675670.003413312, 6675615.0008299565, 6675586.004196177, 6675537.002985801, 6675458.995139357, 6675433.999420898, 6675401.001871799, 6675351.000432593, 6675342.9986019535, 6675370.0047803605, 6675515.998180373, 6675544.00458761, 6675637.996090756, 6675666.0024979925, 6675660.001125013, 6675640.996777245, 6675589.995109209, 6675534.002299311, 6675479.999944785, 6675363.003178552, 6675284.995332108, 6675223.001149231, 6675128.999643796, 6675067.9956874605, 6675003.000818094, 6674919.001600959, 6674846.995127494, 6674720.996301793, 6674644.998915297, 6674573.002444121, 6674421.997897671, 6674079.999656152, 6674050.002793543, 6673822.000631767, 6673715.996380375, 6673652.001739838, 6673609.001902441, 6673580.995495204, 6673565.001836213, 6673552.999090254, 6673537.995657806, 6673511.999710517, 6673457.997355991, 6673403.0047749225, 6673418.998433913, 6673190.996272137, 6673120.000029791, 6672953.001824351, 6672897.999240995, 6672747.004696834, 6672737.002408534, 6672713.997145447, 6672692.002113477], [6672692.002113477, 6672713.997145447, 6672737.002408534, 6672747.004696834, 6672897.999240995, 6672953.001824351, 6673120.000029791, 6673190.996272137, 6673395.002944284, 6673403.0047749225, 6673457.997355991, 6673511.999710517, 6673537.995657806, 6673552.999090254, 6673565.001836213, 6673580.995495204, 6673609.001902441, 6673652.001739838, 6673715.996380375, 6673822.000631767, 6674050.002793543, 6674079.999656152, 6674421.997897671, 6674573.002444121, 6674644.998915297, 6674720.996301793, 6674846.995127494, 6674919.001600959, 6675003.000818094, 6675067.9956874605, 6675128.999643796, 6675223.001149231, 6675284.995332108, 6675363.003178552, 6675479.999944785, 6675534.002299311, 6675589.995109209, 6675640.996777245, 6675660.001125013, 6675666.0024979925, 6675637.996090756, 6675544.00458761, 6675520.999324522, 6675370.0047803605, 6675342.9986019535, 6675351.000432593, 6675401.001871799, 6675433.999420898, 6675458.995139357, 6675537.002985801, 6675586.004196177, 6675615.0008299565, 6675670.003413312, 6675703.000962411, 6675727.99668087, 6675765.995374118, 6675825.999101623, 6676023.00417196, 6676114.004990905, 6676190.0023774, 6676311.000058953, 6676375.004701778, 6676526.999474769, 6676633.003726162, 6677248.004424514, 6677360.000046598, 6677474.996355171, 6677612.997926832, 6677675.002111997, 6677740.997210194, 6677793.999335891, 6677829.997571479, 6677878.998781856, 6677922.998848083, 6677916.9974751035, 6677895.002443134, 6677900.003587283, 6677914.997017444, 6677957.996854841, 6678008.998522878, 6678095.998426503, 6678179.9976436375, 6678246.002744122, 6678295.003954499, 6678360.999052696, 6678485.997649568, 6678533.998631115, 6678568.996637873, 6678593.002129791, 6678604.00464692, 6678613.99693293, 6678590.001443301, 6678572.997553193, 6678531.998173456, 6678465.002846429, 6678364.999968016, 6678164.003984647, 6678034.004243625, 6677991.004406228, 6677939.002509361, 6677643.004791729, 6677851.002376907], [6677851.002376907, 6677781.996589933, 6677746.998583174, 6677702.998516947, 6677613.998155663, 6677575.9994624145, 6677559.995801136, 6677556.995114647, 6677564.996945285, 6677606.996553853, 6677643.004791729, 6677939.002509361, 6677991.004406228, 6678034.004243625, 6678164.003984647, 6678364.999968016, 6678465.002846429, 6678531.998173456, 6678572.997553193, 6678590.001443301, 6678613.99693293, 6678604.00464692, 6678593.002129791, 6678568.996637873, 6678533.998631115, 6678485.997649568, 6678360.999052696, 6678295.003954499, 6678246.002744122, 6678179.9976436375, 6678095.998426503, 6678008.998522878, 6677957.996854841, 6677914.997017444, 6677900.003587283, 6677895.002443134, 6677916.9974751035, 6677922.998848083, 6677878.998781856, 6677829.997571479, 6677793.999335891, 6677740.997210194, 6677675.002111997, 6677611.9976980025, 6677474.996355171, 6677360.000046598, 6677248.004424514, 6676633.003726162, 6676526.999474769, 6676375.004701778, 6676311.000058953, 6676190.0023774, 6676114.004990905, 6676023.00417196, 6675825.999101623, 6675765.995374118, 6675727.99668087, 6675703.000962411, 6675670.003413312, 6675615.0008299565, 6675586.004196177, 6675537.002985801, 6675458.995139357, 6675433.999420898, 6675401.001871799, 6675351.000432593, 6675342.9986019535, 6675370.0047803605, 6675515.998180373, 6675544.00458761, 6675637.996090756, 6675666.0024979925, 6675660.001125013, 6675640.996777245, 6675589.995109209, 6675534.002299311, 6675479.999944785, 6675363.003178552, 6675284.995332108, 6675223.001149231, 6675128.999643796, 6675067.9956874605, 6675003.000818094, 6674919.001600959, 6674846.995127494, 6674720.996301793, 6674644.998915297, 6674573.002444121, 6674421.997897671, 6674079.999656152, 6674050.002793543, 6673822.000631767, 6673715.996380375, 6673652.001739838, 6673609.001902441, 6673580.995495204, 6673565.001836213], [6673565.001836213, 6673580.995495204, 6673609.001902441, 6673652.001739838, 6673715.996380375, 6673822.000631767, 6674050.002793543, 6674079.999656152, 6674421.997897671, 6674573.002444121, 6674644.998915297, 6674720.996301793, 6674846.995127494, 6674919.001600959, 6675003.000818094, 6675067.9956874605, 6675128.999643796, 6675223.001149231, 6675284.995332108, 6675363.003178552, 6675479.999944785, 6675534.002299311, 6675589.995109209, 6675640.996777245, 6675660.001125013, 6675666.0024979925, 6675637.996090756, 6675544.00458761, 6675520.999324522, 6675370.0047803605, 6675342.9986019535, 6675351.000432593, 6675401.001871799, 6675433.999420898, 6675458.995139357, 6675537.002985801, 6675586.004196177, 6675615.0008299565, 6675670.003413312, 6675703.000962411, 6675727.99668087, 6675765.995374118, 6675825.999101623, 6676023.00417196, 6676114.004990905, 6676190.0023774, 6676311.000058953, 6676375.004701778, 6676526.999474769, 6676633.003726162, 6677248.004424514, 6677360.000046598, 6677474.996355171, 6677612.997926832, 6677675.002111997, 6677740.997210194, 6677793.999335891, 6677829.997571479, 6677878.998781856, 6677922.998848083, 6677916.9974751035, 6677895.002443134, 6677900.003587283, 6677914.997017444, 6677957.996854841, 6678008.998522878, 6678095.998426503, 6678179.9976436375, 6678246.002744122, 6678295.003954499, 6678360.999052696, 6678485.997649568, 6678533.998631115, 6678568.996637873, 6678593.002129791, 6678604.00464692, 6678613.99693293, 6678590.001443301, 6678572.997553193, 6678531.998173456, 6678465.002846429, 6678364.999968016, 6678164.003984647, 6678034.004243625, 6677991.004406228, 6677939.002509361, 6677643.004791729, 6677851.002376907], [6677851.002376907, 6677781.996589933, 6677746.998583174, 6677702.998516947, 6677613.998155663, 6677575.9994624145, 6677559.995801136, 6677556.995114647, 6677564.996945285, 6677606.996553853, 6677643.004791729, 6677939.002509361, 6677991.004406228, 6678034.004243625, 6678164.003984647, 6678364.999968016, 6678465.002846429, 6678531.998173456, 6678572.997553193, 6678590.001443301, 6678613.99693293, 6678604.00464692, 6678593.002129791, 6678568.996637873, 6678533.998631115, 6678485.997649568, 6678360.999052696, 6678295.003954499, 6678246.002744122, 6678179.9976436375, 6678095.998426503], [6678095.998426503, 6678179.9976436375, 6678246.002744122, 6678295.003954499, 6678360.999052696, 6678485.997649568, 6678533.998631115, 6678568.996637873, 6678593.002129791, 6678604.00464692, 6678613.99693293, 6678590.001443301, 6678572.997553193, 6678531.998173456, 6678465.002846429, 6678364.999968016, 6678164.003984647, 6678034.004243625, 6677991.004406228, 6677939.002509361, 6677643.004791729, 6677851.002376907], [6677851.002376907, 6677781.996589933, 6677746.998583174, 6677702.998516947, 6677613.998155663, 6677575.9994624145, 6677559.995801136, 6677556.995114647, 6677564.996945285, 6677606.996553853, 6677643.004791729, 6677939.002509361, 6677991.004406228, 6678034.004243625, 6678164.003984647, 6678364.999968016, 6678465.002846429, 6678531.998173456, 6678572.997553193, 6678590.001443301, 6678613.99693293, 6678604.00464692, 6678593.002129791, 6678568.996637873, 6678533.998631115, 6678485.997649568, 6678360.999052696, 6678295.003954499, 6678246.002744122, 6678179.9976436375, 6678095.998426503, 6678008.998522878, 6677957.996854841, 6677914.997017444, 6677900.003587283, 6677895.002443134, 6677916.9974751035, 6677922.998848083, 6677878.998781856, 6677829.997571479, 6677793.999335891, 6677740.997210194, 6677675.002111997, 6677611.9976980025, 6677474.996355171, 6677360.000046598, 6677248.004424514, 6676633.003726162, 6676526.999474769, 6676375.004701778, 6676311.000058953, 6676190.0023774, 6676114.004990905, 6676023.00417196, 6675825.999101623, 6675765.995374118, 6675727.99668087, 6675703.000962411, 6675670.003413312, 6675615.0008299565, 6675586.004196177, 6675537.002985801, 6675458.995139357, 6675433.999420898, 6675401.001871799, 6675351.000432593, 6675342.9986019535, 6675370.0047803605, 6675515.998180373, 6675544.00458761, 6675637.996090756, 6675666.0024979925, 6675660.001125013, 6675640.996777245, 6675589.995109209, 6675534.002299311, 6675479.999944785, 6675363.003178552, 6675284.995332108, 6675223.001149231, 6675128.999643796, 6675067.9956874605, 6675003.000818094, 6674919.001600959, 6674846.995127494, 6674720.996301793, 6674644.998915297, 6674573.002444121, 6674421.997897671, 6674079.999656152, 6674050.002793543, 6673822.000631767, 6673715.996380375, 6673652.001739838, 6673609.001902441, 6673580.995495204, 6673565.001836213, 6673552.999090254, 6673537.995657806, 6673511.999710517, 6673457.997355991, 6673403.0047749225, 6673418.998433913, 6673190.996272137, 6673120.000029791, 6672953.001824351, 6672897.999240995, 6672747.004696834, 6672737.002408534, 6672713.997145447, 6672692.002113477], [6672692.002113477, 6672713.997145447, 6672737.002408534, 6672747.004696834, 6672897.999240995, 6672953.001824351, 6673120.000029791, 6673190.996272137, 6673395.002944284, 6673403.0047749225, 6673457.997355991, 6673511.999710517, 6673537.995657806, 6673552.999090254, 6673565.001836213, 6673580.995495204, 6673609.001902441, 6673652.001739838, 6673715.996380375, 6673822.000631767, 6674050.002793543, 6674079.999656152, 6674421.997897671, 6674573.002444121, 6674644.998915297, 6674720.996301793, 6674846.995127494, 6674919.001600959, 6675003.000818094, 6675067.9956874605, 6675128.999643796, 6675223.001149231, 6675284.995332108, 6675363.003178552, 6675479.999944785, 6675534.002299311, 6675589.995109209, 6675640.996777245, 6675660.001125013, 6675666.0024979925, 6675637.996090756, 6675544.00458761, 6675520.999324522, 6675370.0047803605, 6675342.9986019535, 6675351.000432593, 6675401.001871799, 6675433.999420898, 6675458.995139357, 6675537.002985801, 6675586.004196177, 6675615.0008299565, 6675670.003413312, 6675703.000962411, 6675727.99668087, 6675765.995374118, 6675825.999101623, 6676023.00417196, 6676114.004990905, 6676190.0023774, 6676311.000058953, 6676375.004701778, 6676526.999474769, 6676633.003726162, 6677248.004424514, 6677360.000046598, 6677474.996355171, 6677612.997926832, 6677675.002111997, 6677740.997210194, 6677793.999335891, 6677829.997571479, 6677878.998781856, 6677922.998848083, 6677916.9974751035, 6677895.002443134, 6677900.003587283, 6677914.997017444, 6677957.996854841, 6678008.998522878, 6678095.998426503, 6678179.9976436375, 6678246.002744122, 6678295.003954499, 6678360.999052696, 6678485.997649568, 6678533.998631115, 6678568.996637873, 6678593.002129791, 6678604.00464692, 6678613.99693293, 6678590.001443301, 6678572.997553193, 6678531.998173456, 6678465.002846429, 6678364.999968016, 6678164.003984647, 6678034.004243625, 6677991.004406228, 6677939.002509361, 6677643.004791729, 6677851.002376907]], 'NUMERO': ['1300M', '1300M', '1300M1', '1300M1', '1300M2', '1300M2', '1300M3', '1300M3', '1300V', '1300V', '1300V1', '1300V1', '1300V2', '1300V2', '1300V3', '1300V3'], 'x': [[2561676.997249531, 2560202.997150008, 2560127.0000479664, 2560054.001723172, 2559957.998733594, 2559777.9962869603, 2559742.996513187, 2559697.004030683, 2559690.9980526567, 2559701.999184918, 2559741.000136199, 2559794.000996989, 2559834.9983252576, 2559949.0024018516, 2560001.000862382, 2560244.0029018084, 2560265.9967428003, 2560268.00154332, 2560248.0040793153, 2560219.995836765, 2560184.9960629917, 2560094.9990514405, 2559946.003624604, 2559644.0031698933, 2559479.003033028, 2559315.9992731507, 2559065.0033022417, 2558917.001852134, 2558682.0021677217, 2558524.0019856114, 2558408.0015320294, 2558286.0035239523, 2558230.9978626426, 2558170.0030703703, 2558108.9998545656, 2558090.998767549, 2557980.995868462, 2557914.0035216943, 2557851.99790563, 2557488.000258386, 2557437.004198116, 2557367.998627297, 2557253.0005739746, 2557034.9995763195, 2556952.002519523, 2556850.00197545, 2556588.9988490073, 2556475.997172673, 2556373.0026518716, 2556264.002153044, 2556054.997487132, 2555892.002150786, 2555825.001380487, 2555746.9994779257, 2555629.9966240837, 2555591.004096335, 2555511.9997935137, 2555334.996124127, 2555194.0030523054, 2555030.999292428, 2554395.9997867392, 2554267.0018239077, 2553917.998062901, 2553815.0035421005, 2553700.999465506, 2553639.996249702, 2553516.995841365, 2553464.0034041065, 2553436.0035850876, 2553369.0028147884, 2553306.997198724, 2553233.99887393, 2553060.0024053226, 2552989.000457516, 2552948.9971059756, 2552916.0021327212, 2552905.00100046, 2552909.0021779668, 2552923.9960642043, 2552928.999641971, 2552940.000774233, 2552958.0018612496, 2552951.001906495, 2552812.999188389, 2552761.000727859, 2552695.002357819, 2552617.000455258, 2552523.9962429274, 2552422.004122386, 2552190.9971919497, 2552130.9963764055, 2552070.0015841327, 2551987.998504064, 2551906.0038475273, 2551873.0004507415, 2551639.0031665894, 2551580.9987280327, 2551519.0015355, 2551477.001806972, 2551289.9994055834, 2551264.998363812, 2551145.9991329825, 2550919.001803585], [2550919.001803585, 2551145.9991329825, 2551264.998363812, 2551289.9994055834, 2551477.001806972, 2551519.0015355, 2551580.9987280327, 2551639.0031665894, 2551889.9991374984, 2551906.0038475273, 2551987.998504064, 2552070.0015841327, 2552130.9963764055, 2552190.9971919497, 2552422.004122386, 2552523.9962429274, 2552617.000455258, 2552695.002357819, 2552761.000727859, 2552812.999188389, 2552951.001906495, 2552958.0018612496, 2552940.000774233, 2552928.999641971, 2552923.9960642043, 2552909.0021779668, 2552905.00100046, 2552916.0021327212, 2552948.9971059756, 2552989.000457516, 2553060.0024053226, 2553233.99887393, 2553306.997198724, 2553369.0028147884, 2553436.0035850876, 2553464.0034041065, 2553516.995841365, 2553639.996249702, 2553700.999465506, 2553815.0035421005, 2553917.998062901, 2554267.0018239077, 2554397.002186999, 2555030.999292428, 2555194.0030523054, 2555334.996124127, 2555511.9997935137, 2555591.004096335, 2555629.9966240837, 2555746.9994779257, 2555825.001380487, 2555892.002150786, 2556054.997487132, 2556264.002153044, 2556373.0026518716, 2556475.997172673, 2556588.9988490073, 2556850.00197545, 2556952.002519523, 2557034.9995763195, 2557253.0005739746, 2557367.998627297, 2557437.004198116, 2557488.000258386, 2557851.99790563, 2557914.0035216943, 2557980.995868462, 2558089.002390561, 2558108.9998545656, 2558170.0030703703, 2558230.9978626426, 2558286.0035239523, 2558408.0015320294, 2558524.0019856114, 2558682.0021677217, 2558917.001852134, 2559065.0033022417, 2559315.9992731507, 2559479.003033028, 2559644.0031698933, 2559946.003624604, 2560094.9990514405, 2560184.9960629917, 2560219.995836765, 2560248.0040793153, 2560268.00154332, 2560265.9967428003, 2560244.0029018084, 2560001.000862382, 2559949.0024018516, 2559834.9983252576, 2559794.000996989, 2559741.000136199, 2559701.999184918, 2559690.9980526567, 2559697.004030683, 2559742.996513187, 2559777.9962869603, 2559957.998733594, 2560054.001723172, 2560127.0000479664, 2560202.997150008, 2560486.996517703, 2560599.9981940375, 2560728.9961568695, 2560802.0029051956, 2561104.997336635, 2561223.9965674644, 2561371.0040408443, 2561455.003497901, 2561519.9994676807, 2561676.997249531], [2561676.997249531, 2560202.997150008, 2560127.0000479664, 2560054.001723172, 2559957.998733594, 2559777.9962869603, 2559742.996513187, 2559697.004030683, 2559690.9980526567, 2559701.999184918, 2559741.000136199, 2559794.000996989, 2559834.9983252576, 2559949.0024018516, 2560001.000862382, 2560244.0029018084, 2560265.9967428003, 2560268.00154332, 2560248.0040793153, 2560219.995836765, 2560184.9960629917, 2560094.9990514405, 2559946.003624604], [2559946.003624604, 2560094.9990514405, 2560184.9960629917, 2560219.995836765, 2560248.0040793153, 2560268.00154332, 2560265.9967428003, 2560244.0029018084, 2560001.000862382, 2559949.0024018516, 2559834.9983252576, 2559794.000996989, 2559741.000136199, 2559701.999184918, 2559690.9980526567, 2559697.004030683, 2559742.996513187, 2559777.9962869603, 2559957.998733594, 2560054.001723172, 2560127.0000479664, 2560202.997150008, 2560486.996517703, 2560599.9981940375, 2560728.9961568695, 2560802.0029051956, 2561104.997336635, 2561223.9965674644, 2561371.0040408443, 2561455.003497901, 2561519.9994676807, 2561676.997249531], [2559946.003624604, 2559644.0031698933, 2559479.003033028, 2559315.9992731507, 2559065.0033022417, 2558917.001852134, 2558682.0021677217, 2558524.0019856114, 2558408.0015320294, 2558286.0035239523, 2558230.9978626426, 2558170.0030703703, 2558108.9998545656, 2558090.998767549, 2557980.995868462, 2557914.0035216943, 2557851.99790563, 2557488.000258386, 2557437.004198116, 2557367.998627297, 2557253.0005739746, 2557034.9995763195, 2556952.002519523, 2556850.00197545, 2556588.9988490073, 2556475.997172673, 2556373.0026518716, 2556264.002153044, 2556054.997487132, 2555892.002150786, 2555825.001380487, 2555746.9994779257, 2555629.9966240837, 2555591.004096335, 2555511.9997935137, 2555334.996124127, 2555194.0030523054, 2555030.999292428, 2554395.9997867392, 2554267.0018239077, 2553917.998062901, 2553815.0035421005, 2553700.999465506, 2553639.996249702, 2553516.995841365, 2553464.0034041065, 2553436.0035850876, 2553369.0028147884, 2553306.997198724, 2553233.99887393, 2553060.0024053226, 2552989.000457516, 2552948.9971059756, 2552916.0021327212, 2552905.00100046, 2552909.0021779668, 2552923.9960642043, 2552928.999641971, 2552940.000774233, 2552958.0018612496, 2552951.001906495, 2552812.999188389, 2552761.000727859, 2552695.002357819, 2552617.000455258, 2552523.9962429274, 2552422.004122386, 2552190.9971919497, 2552130.9963764055, 2552070.0015841327, 2551987.998504064, 2551906.0038475273, 2551873.0004507415, 2551639.0031665894, 2551580.9987280327, 2551519.0015355, 2551477.001806972, 2551289.9994055834, 2551264.998363812, 2551145.9991329825, 2550919.001803585], [2550919.001803585, 2551145.9991329825, 2551264.998363812, 2551289.9994055834, 2551477.001806972, 2551519.0015355, 2551580.9987280327, 2551639.0031665894, 2551889.9991374984, 2551906.0038475273, 2551987.998504064, 2552070.0015841327, 2552130.9963764055, 2552190.9971919497, 2552422.004122386, 2552523.9962429274, 2552617.000455258, 2552695.002357819, 2552761.000727859, 2552812.999188389, 2552951.001906495, 2552958.0018612496, 2552940.000774233, 2552928.999641971, 2552923.9960642043, 2552909.0021779668, 2552905.00100046, 2552916.0021327212, 2552948.9971059756, 2552989.000457516, 2553060.0024053226, 2553233.99887393, 2553306.997198724, 2553369.0028147884, 2553436.0035850876, 2553464.0034041065, 2553516.995841365, 2553639.996249702, 2553700.999465506, 2553815.0035421005, 2553917.998062901, 2554267.0018239077, 2554397.002186999, 2555030.999292428, 2555194.0030523054, 2555334.996124127, 2555511.9997935137, 2555591.004096335, 2555629.9966240837, 2555746.9994779257, 2555825.001380487, 2555892.002150786, 2556054.997487132, 2556264.002153044, 2556373.0026518716, 2556475.997172673, 2556588.9988490073, 2556850.00197545, 2556952.002519523, 2557034.9995763195, 2557253.0005739746, 2557367.998627297, 2557437.004198116, 2557488.000258386, 2557851.99790563, 2557914.0035216943, 2557980.995868462, 2558089.002390561, 2558108.9998545656, 2558170.0030703703, 2558230.9978626426, 2558286.0035239523, 2558408.0015320294, 2558524.0019856114, 2558682.0021677217, 2558917.001852134, 2559065.0033022417, 2559315.9992731507, 2559479.003033028, 2559644.0031698933, 2559946.003624604], [2561676.997249531, 2560202.997150008, 2560127.0000479664, 2560054.001723172, 2559957.998733594, 2559777.9962869603, 2559742.996513187, 2559697.004030683, 2559690.9980526567, 2559701.999184918, 2559741.000136199, 2559794.000996989, 2559834.9983252576, 2559949.0024018516, 2560001.000862382, 2560244.0029018084, 2560265.9967428003, 2560268.00154332, 2560248.0040793153, 2560219.995836765, 2560184.9960629917, 2560094.9990514405, 2559946.003624604, 2559644.0031698933, 2559479.003033028, 2559315.9992731507, 2559065.0033022417, 2558917.001852134, 2558682.0021677217, 2558524.0019856114, 2558408.0015320294, 2558286.0035239523, 2558230.9978626426, 2558170.0030703703, 2558108.9998545656, 2558090.998767549, 2557980.995868462, 2557914.0035216943, 2557851.99790563, 2557488.000258386, 2557437.004198116, 2557367.998627297, 2557253.0005739746, 2557034.9995763195, 2556952.002519523, 2556850.00197545, 2556588.9988490073, 2556475.997172673, 2556373.0026518716, 2556264.002153044, 2556054.997487132, 2555892.002150786, 2555825.001380487, 2555746.9994779257, 2555629.9966240837, 2555591.004096335, 2555511.9997935137, 2555334.996124127, 2555194.0030523054, 2555030.999292428, 2554395.9997867392, 2554267.0018239077, 2553917.998062901, 2553815.0035421005, 2553700.999465506, 2553639.996249702, 2553516.995841365, 2553464.0034041065, 2553436.0035850876, 2553369.0028147884, 2553306.997198724, 2553233.99887393, 2553060.0024053226, 2552989.000457516, 2552948.9971059756, 2552916.0021327212, 2552905.00100046, 2552909.0021779668, 2552923.9960642043, 2552928.999641971, 2552940.000774233, 2552958.0018612496, 2552951.001906495, 2552812.999188389, 2552761.000727859, 2552695.002357819, 2552617.000455258, 2552523.9962429274, 2552422.004122386, 2552190.9971919497, 2552130.9963764055, 2552070.0015841327, 2551987.998504064, 2551906.0038475273, 2551873.0004507415, 2551639.0031665894, 2551580.9987280327, 2551519.0015355, 2551477.001806972, 2551289.9994055834, 2551264.998363812, 2551145.9991329825, 2550919.001803585], [2550919.001803585, 2551145.9991329825, 2551264.998363812, 2551289.9994055834, 2551477.001806972, 2551519.0015355, 2551580.9987280327, 2551639.0031665894, 2551889.9991374984, 2551906.0038475273, 2551987.998504064, 2552070.0015841327, 2552130.9963764055, 2552190.9971919497, 2552422.004122386, 2552523.9962429274, 2552617.000455258, 2552695.002357819, 2552761.000727859, 2552812.999188389, 2552951.001906495, 2552958.0018612496, 2552940.000774233, 2552928.999641971, 2552923.9960642043, 2552909.0021779668, 2552905.00100046, 2552916.0021327212, 2552948.9971059756, 2552989.000457516, 2553060.0024053226, 2553233.99887393, 2553306.997198724, 2553369.0028147884, 2553436.0035850876, 2553464.0034041065, 2553516.995841365, 2553639.996249702, 2553700.999465506, 2553815.0035421005, 2553917.998062901, 2554267.0018239077, 2554397.002186999, 2555030.999292428, 2555194.0030523054, 2555334.996124127, 2555511.9997935137, 2555591.004096335, 2555629.9966240837, 2555746.9994779257, 2555825.001380487, 2555892.002150786, 2556054.997487132, 2556264.002153044, 2556373.0026518716, 2556475.997172673, 2556588.9988490073, 2556850.00197545, 2556952.002519523, 2557034.9995763195, 2557253.0005739746, 2557367.998627297, 2557437.004198116, 2557488.000258386, 2557851.99790563, 2557914.0035216943, 2557980.995868462, 2558089.002390561, 2558108.9998545656, 2558170.0030703703, 2558230.9978626426, 2558286.0035239523, 2558408.0015320294, 2558524.0019856114, 2558682.0021677217, 2558917.001852134, 2559065.0033022417, 2559315.9992731507, 2559479.003033028, 2559644.0031698933, 2559946.003624604, 2560094.9990514405, 2560184.9960629917, 2560219.995836765, 2560248.0040793153, 2560268.00154332, 2560265.9967428003, 2560244.0029018084, 2560001.000862382, 2559949.0024018516, 2559834.9983252576, 2559794.000996989, 2559741.000136199, 2559701.999184918, 2559690.9980526567, 2559697.004030683, 2559742.996513187, 2559777.9962869603, 2559957.998733594, 2560054.001723172, 2560127.0000479664, 2560202.997150008, 2560486.996517703, 2560599.9981940375, 2560728.9961568695, 2560802.0029051956, 2561104.997336635, 2561223.9965674644, 2561371.0040408443, 2561455.003497901, 2561519.9994676807, 2561676.997249531], [2563544.999615836, 2563207.9993873513, 2563133.9986622976, 2563048.0028282534, 2562866.0040046317, 2562750.003551049, 2562673.004048748, 2562588.002191432, 2562504.0027343757, 2562374.9963480122, 2562293.0016914755, 2561608.0001022443, 2561528.001822695, 2561484.9996939073, 2561399.997836591, 2561269.9974734997, 2561177.001684701, 2561084.9998726305, 2561003.999192822, 2560925.003313532, 2560805.001682443, 2560627.9980130563, 2560543.998556, 2560478.0001859604, 2560413.9981929087, 2560353.997377364, 2560248.0040793153, 2560219.995836765, 2560184.9960629917, 2560094.9990514405, 2559946.003624604, 2559644.0031698933, 2559479.003033028, 2559315.9992731507, 2559065.0033022417, 2558917.001852134, 2558682.0021677217, 2558524.0019856114, 2558408.0015320294, 2558286.0035239523, 2558230.9978626426, 2558170.0030703703, 2558108.9998545656, 2558090.998767549, 2557980.995868462, 2557914.0035216943, 2557851.99790563, 2557488.000258386, 2557437.004198116, 2557367.998627297, 2557253.0005739746, 2557034.9995763195, 2556952.002519523, 2556850.00197545, 2556588.9988490073, 2556475.997172673, 2556373.0026518716, 2556264.002153044, 2556054.997487132, 2555892.002150786, 2555825.001380487, 2555746.9994779257, 2555629.9966240837, 2555591.004096335, 2555511.9997935137, 2555334.996124127, 2555194.0030523054, 2555030.999292428, 2554395.9997867392, 2554267.0018239077, 2553917.998062901, 2553815.0035421005, 2553700.999465506, 2553639.996249702, 2553516.995841365, 2553464.0034041065, 2553436.0035850876, 2553369.0028147884, 2553306.997198724, 2553233.99887393, 2553060.0024053226, 2552989.000457516, 2552948.9971059756, 2552916.0021327212, 2552905.00100046, 2552909.0021779668, 2552923.9960642043, 2552928.999641971, 2552940.000774233, 2552958.0018612496, 2552951.001906495, 2552812.999188389, 2552761.000727859, 2552695.002357819, 2552617.000455258, 2552523.9962429274, 2552422.004122386, 2552190.9971919497, 2552130.9963764055, 2552070.0015841327, 2551987.998504064, 2551906.0038475273, 2551873.0004507415, 2551639.0031665894, 2551580.9987280327, 2551519.0015355, 2551477.001806972, 2551289.9994055834, 2551264.998363812, 2551145.9991329825, 2550919.001803585], [2550919.001803585, 2551145.9991329825, 2551264.998363812, 2551289.9994055834, 2551477.001806972, 2551519.0015355, 2551580.9987280327, 2551639.0031665894, 2551889.9991374984, 2551906.0038475273, 2551987.998504064, 2552070.0015841327, 2552130.9963764055, 2552190.9971919497, 2552422.004122386, 2552523.9962429274, 2552617.000455258, 2552695.002357819, 2552761.000727859, 2552812.999188389, 2552951.001906495, 2552958.0018612496, 2552940.000774233, 2552928.999641971, 2552923.9960642043, 2552909.0021779668, 2552905.00100046, 2552916.0021327212, 2552948.9971059756, 2552989.000457516, 2553060.0024053226, 2553233.99887393, 2553306.997198724, 2553369.0028147884, 2553436.0035850876, 2553464.0034041065, 2553516.995841365, 2553639.996249702, 2553700.999465506, 2553815.0035421005, 2553917.998062901, 2554267.0018239077, 2554397.002186999, 2555030.999292428, 2555194.0030523054, 2555334.996124127, 2555511.9997935137, 2555591.004096335, 2555629.9966240837, 2555746.9994779257, 2555825.001380487, 2555892.002150786, 2556054.997487132, 2556264.002153044, 2556373.0026518716, 2556475.997172673, 2556588.9988490073, 2556850.00197545, 2556952.002519523, 2557034.9995763195, 2557253.0005739746, 2557367.998627297, 2557437.004198116, 2557488.000258386, 2557851.99790563, 2557914.0035216943, 2557980.995868462, 2558089.002390561, 2558108.9998545656, 2558170.0030703703, 2558230.9978626426, 2558286.0035239523, 2558408.0015320294, 2558524.0019856114, 2558682.0021677217, 2558917.001852134, 2559065.0033022417, 2559315.9992731507, 2559479.003033028, 2559644.0031698933, 2559946.003624604, 2560094.9990514405, 2560184.9960629917, 2560219.995836765, 2560248.0040793153, 2560353.997377364, 2560413.9981929087, 2560478.0001859604, 2560543.998556, 2560627.9980130563, 2560805.001682443, 2560925.003313532, 2561003.999192822, 2561084.9998726305, 2561177.001684701, 2561269.9974734997, 2561399.997836591, 2561484.9996939073, 2561528.001822695, 2561608.0001022443, 2562293.0016914755, 2563544.999615836], [2563544.999615836, 2563207.9993873513, 2563133.9986622976, 2563048.0028282534, 2562866.0040046317, 2562750.003551049, 2562673.004048748, 2562588.002191432, 2562504.0027343757, 2562374.9963480122, 2562293.0016914755, 2561608.0001022443, 2561528.001822695, 2561484.9996939073, 2561399.997836591, 2561269.9974734997, 2561177.001684701, 2561084.9998726305, 2561003.999192822, 2560925.003313532, 2560805.001682443, 2560627.9980130563, 2560543.998556, 2560478.0001859604, 2560413.9981929087, 2560353.997377364, 2560248.0040793153, 2560219.995836765, 2560184.9960629917, 2560094.9990514405, 2559946.003624604, 2559644.0031698933, 2559479.003033028, 2559315.9992731507, 2559065.0033022417, 2558917.001852134, 2558682.0021677217, 2558524.0019856114, 2558408.0015320294, 2558286.0035239523, 2558230.9978626426, 2558170.0030703703, 2558108.9998545656, 2558090.998767549, 2557980.995868462, 2557914.0035216943, 2557851.99790563, 2557488.000258386, 2557437.004198116, 2557367.998627297, 2557253.0005739746, 2557034.9995763195, 2556952.002519523, 2556850.00197545, 2556588.9988490073, 2556475.997172673, 2556373.0026518716, 2556264.002153044, 2556054.997487132, 2555892.002150786, 2555825.001380487, 2555746.9994779257, 2555629.9966240837, 2555591.004096335, 2555511.9997935137, 2555334.996124127, 2555194.0030523054, 2555030.999292428, 2554395.9997867392, 2554267.0018239077, 2553917.998062901, 2553815.0035421005, 2553700.999465506, 2553639.996249702, 2553516.995841365, 2553464.0034041065, 2553436.0035850876, 2553369.0028147884, 2553306.997198724, 2553233.99887393, 2553060.0024053226, 2552989.000457516, 2552948.9971059756, 2552916.0021327212, 2552905.00100046, 2552909.0021779668, 2552923.9960642043, 2552928.999641971, 2552940.000774233, 2552958.0018612496, 2552951.001906495, 2552812.999188389, 2552761.000727859, 2552695.002357819, 2552617.000455258, 2552523.9962429274, 2552422.004122386], [2552422.004122386, 2552523.9962429274, 2552617.000455258, 2552695.002357819, 2552761.000727859, 2552812.999188389, 2552951.001906495, 2552958.0018612496, 2552940.000774233, 2552928.999641971, 2552923.9960642043, 2552909.0021779668, 2552905.00100046, 2552916.0021327212, 2552948.9971059756, 2552989.000457516, 2553060.0024053226, 2553233.99887393, 2553306.997198724, 2553369.0028147884, 2553436.0035850876, 2553464.0034041065, 2553516.995841365, 2553639.996249702, 2553700.999465506, 2553815.0035421005, 2553917.998062901, 2554267.0018239077, 2554397.002186999, 2555030.999292428, 2555194.0030523054, 2555334.996124127, 2555511.9997935137, 2555591.004096335, 2555629.9966240837, 2555746.9994779257, 2555825.001380487, 2555892.002150786, 2556054.997487132, 2556264.002153044, 2556373.0026518716, 2556475.997172673, 2556588.9988490073, 2556850.00197545, 2556952.002519523, 2557034.9995763195, 2557253.0005739746, 2557367.998627297, 2557437.004198116, 2557488.000258386, 2557851.99790563, 2557914.0035216943, 2557980.995868462, 2558089.002390561, 2558108.9998545656, 2558170.0030703703, 2558230.9978626426, 2558286.0035239523, 2558408.0015320294, 2558524.0019856114, 2558682.0021677217, 2558917.001852134, 2559065.0033022417, 2559315.9992731507, 2559479.003033028, 2559644.0031698933, 2559946.003624604, 2560094.9990514405, 2560184.9960629917, 2560219.995836765, 2560248.0040793153, 2560353.997377364, 2560413.9981929087, 2560478.0001859604, 2560543.998556, 2560627.9980130563, 2560805.001682443, 2560925.003313532, 2561003.999192822, 2561084.9998726305, 2561177.001684701, 2561269.9974734997, 2561399.997836591, 2561484.9996939073, 2561528.001822695, 2561608.0001022443, 2562293.0016914755, 2563544.999615836], [2563544.999615836, 2563207.9993873513, 2563133.9986622976, 2563048.0028282534, 2562866.0040046317, 2562750.003551049, 2562673.004048748, 2562588.002191432, 2562504.0027343757, 2562374.9963480122, 2562293.0016914755, 2561608.0001022443, 2561528.001822695, 2561484.9996939073, 2561399.997836591, 2561269.9974734997, 2561177.001684701, 2561084.9998726305, 2561003.999192822, 2560925.003313532, 2560805.001682443, 2560627.9980130563, 2560543.998556, 2560478.0001859604, 2560413.9981929087, 2560353.997377364, 2560248.0040793153, 2560219.995836765, 2560184.9960629917, 2560094.9990514405, 2559946.003624604], [2559946.003624604, 2560094.9990514405, 2560184.9960629917, 2560219.995836765, 2560248.0040793153, 2560353.997377364, 2560413.9981929087, 2560478.0001859604, 2560543.998556, 2560627.9980130563, 2560805.001682443, 2560925.003313532, 2561003.999192822, 2561084.9998726305, 2561177.001684701, 2561269.9974734997, 2561399.997836591, 2561484.9996939073, 2561528.001822695, 2561608.0001022443, 2562293.0016914755, 2563544.999615836], [2563544.999615836, 2563207.9993873513, 2563133.9986622976, 2563048.0028282534, 2562866.0040046317, 2562750.003551049, 2562673.004048748, 2562588.002191432, 2562504.0027343757, 2562374.9963480122, 2562293.0016914755, 2561608.0001022443, 2561528.001822695, 2561484.9996939073, 2561399.997836591, 2561269.9974734997, 2561177.001684701, 2561084.9998726305, 2561003.999192822, 2560925.003313532, 2560805.001682443, 2560627.9980130563, 2560543.998556, 2560478.0001859604, 2560413.9981929087, 2560353.997377364, 2560248.0040793153, 2560219.995836765, 2560184.9960629917, 2560094.9990514405, 2559946.003624604, 2559644.0031698933, 2559479.003033028, 2559315.9992731507, 2559065.0033022417, 2558917.001852134, 2558682.0021677217, 2558524.0019856114, 2558408.0015320294, 2558286.0035239523, 2558230.9978626426, 2558170.0030703703, 2558108.9998545656, 2558090.998767549, 2557980.995868462, 2557914.0035216943, 2557851.99790563, 2557488.000258386, 2557437.004198116, 2557367.998627297, 2557253.0005739746, 2557034.9995763195, 2556952.002519523, 2556850.00197545, 2556588.9988490073, 2556475.997172673, 2556373.0026518716, 2556264.002153044, 2556054.997487132, 2555892.002150786, 2555825.001380487, 2555746.9994779257, 2555629.9966240837, 2555591.004096335, 2555511.9997935137, 2555334.996124127, 2555194.0030523054, 2555030.999292428, 2554395.9997867392, 2554267.0018239077, 2553917.998062901, 2553815.0035421005, 2553700.999465506, 2553639.996249702, 2553516.995841365, 2553464.0034041065, 2553436.0035850876, 2553369.0028147884, 2553306.997198724, 2553233.99887393, 2553060.0024053226, 2552989.000457516, 2552948.9971059756, 2552916.0021327212, 2552905.00100046, 2552909.0021779668, 2552923.9960642043, 2552928.999641971, 2552940.000774233, 2552958.0018612496, 2552951.001906495, 2552812.999188389, 2552761.000727859, 2552695.002357819, 2552617.000455258, 2552523.9962429274, 2552422.004122386, 2552190.9971919497, 2552130.9963764055, 2552070.0015841327, 2551987.998504064, 2551906.0038475273, 2551873.0004507415, 2551639.0031665894, 2551580.9987280327, 2551519.0015355, 2551477.001806972, 2551289.9994055834, 2551264.998363812, 2551145.9991329825, 2550919.001803585], [2550919.001803585, 2551145.9991329825, 2551264.998363812, 2551289.9994055834, 2551477.001806972, 2551519.0015355, 2551580.9987280327, 2551639.0031665894, 2551889.9991374984, 2551906.0038475273, 2551987.998504064, 2552070.0015841327, 2552130.9963764055, 2552190.9971919497, 2552422.004122386, 2552523.9962429274, 2552617.000455258, 2552695.002357819, 2552761.000727859, 2552812.999188389, 2552951.001906495, 2552958.0018612496, 2552940.000774233, 2552928.999641971, 2552923.9960642043, 2552909.0021779668, 2552905.00100046, 2552916.0021327212, 2552948.9971059756, 2552989.000457516, 2553060.0024053226, 2553233.99887393, 2553306.997198724, 2553369.0028147884, 2553436.0035850876, 2553464.0034041065, 2553516.995841365, 2553639.996249702, 2553700.999465506, 2553815.0035421005, 2553917.998062901, 2554267.0018239077, 2554397.002186999, 2555030.999292428, 2555194.0030523054, 2555334.996124127, 2555511.9997935137, 2555591.004096335, 2555629.9966240837, 2555746.9994779257, 2555825.001380487, 2555892.002150786, 2556054.997487132, 2556264.002153044, 2556373.0026518716, 2556475.997172673, 2556588.9988490073, 2556850.00197545, 2556952.002519523, 2557034.9995763195, 2557253.0005739746, 2557367.998627297, 2557437.004198116, 2557488.000258386, 2557851.99790563, 2557914.0035216943, 2557980.995868462, 2558089.002390561, 2558108.9998545656, 2558170.0030703703, 2558230.9978626426, 2558286.0035239523, 2558408.0015320294, 2558524.0019856114, 2558682.0021677217, 2558917.001852134, 2559065.0033022417, 2559315.9992731507, 2559479.003033028, 2559644.0031698933, 2559946.003624604, 2560094.9990514405, 2560184.9960629917, 2560219.995836765, 2560248.0040793153, 2560353.997377364, 2560413.9981929087, 2560478.0001859604, 2560543.998556, 2560627.9980130563, 2560805.001682443, 2560925.003313532, 2561003.999192822, 2561084.9998726305, 2561177.001684701, 2561269.9974734997, 2561399.997836591, 2561484.9996939073, 2561528.001822695, 2561608.0001022443, 2562293.0016914755, 2563544.999615836]]},</div></div><div class=\"505f47ea-4fd4-4306-823a-e7591a2198c1\" style=\"display: none;\"><div style=\"display: table-cell;\"></div><div style=\"display: table-cell;\">js_event_callbacks&nbsp;=&nbsp;{},</div></div><div class=\"505f47ea-4fd4-4306-823a-e7591a2198c1\" style=\"display: none;\"><div style=\"display: table-cell;\"></div><div style=\"display: table-cell;\">js_property_callbacks&nbsp;=&nbsp;{},</div></div><div class=\"505f47ea-4fd4-4306-823a-e7591a2198c1\" style=\"display: none;\"><div style=\"display: table-cell;\"></div><div style=\"display: table-cell;\">name&nbsp;=&nbsp;None,</div></div><div class=\"505f47ea-4fd4-4306-823a-e7591a2198c1\" style=\"display: none;\"><div style=\"display: table-cell;\"></div><div style=\"display: table-cell;\">selected&nbsp;=&nbsp;{'0d': {'glyph': None, 'indices': []}, '1d': {'indices': []}, '2d': {'indices': {}}},</div></div><div class=\"505f47ea-4fd4-4306-823a-e7591a2198c1\" style=\"display: none;\"><div style=\"display: table-cell;\"></div><div style=\"display: table-cell;\">subscribed_events&nbsp;=&nbsp;[],</div></div><div class=\"505f47ea-4fd4-4306-823a-e7591a2198c1\" style=\"display: none;\"><div style=\"display: table-cell;\"></div><div style=\"display: table-cell;\">tags&nbsp;=&nbsp;[])</div></div></div>\n",
       "<script>\n",
       "(function() {\n",
       "  var expanded = false;\n",
       "  var ellipsis = document.getElementById(\"44a3e5cb-5c0a-4e12-9c66-a908a160efb0\");\n",
       "  ellipsis.addEventListener(\"click\", function() {\n",
       "    var rows = document.getElementsByClassName(\"505f47ea-4fd4-4306-823a-e7591a2198c1\");\n",
       "    for (var i = 0; i < rows.length; i++) {\n",
       "      var el = rows[i];\n",
       "      el.style.display = expanded ? \"none\" : \"table-row\";\n",
       "    }\n",
       "    ellipsis.innerHTML = expanded ? \"&hellip;)\" : \"&lsaquo;&lsaquo;&lsaquo;\";\n",
       "    expanded = !expanded;\n",
       "  });\n",
       "})();\n",
       "</script>\n"
      ],
      "text/plain": [
       "ColumnDataSource(id='189efbb9-b2da-48b0-90ad-d9f371fdcc97', ...)"
      ]
     },
     "execution_count": 25,
     "metadata": {},
     "output_type": "execute_result"
    }
   ],
   "source": [
    "# Create ColumnDataSource\n",
    "metro_source = ColumnDataSource(metro_df)\n",
    "metro_source"
   ]
  },
  {
   "cell_type": "code",
   "execution_count": 26,
   "metadata": {},
   "outputs": [
    {
     "name": "stderr",
     "output_type": "stream",
     "text": [
      "C:\\Users\\cccru\\Anaconda3\\envs\\geopython\\lib\\site-packages\\bokeh\\io\\saving.py:125: UserWarning: save() called but no resources were supplied and output_file(...) was never called, defaulting to resources.CDN\n",
      "  warn(\"save() called but no resources were supplied and output_file(...) was never called, defaulting to resources.CDN\")\n",
      "C:\\Users\\cccru\\Anaconda3\\envs\\geopython\\lib\\site-packages\\bokeh\\io\\saving.py:138: UserWarning: save() called but no title was supplied and output_file(...) was never called, using default title 'Bokeh Plot'\n",
      "  warn(\"save() called but no title was supplied and output_file(...) was never called, using default title 'Bokeh Plot'\")\n"
     ]
    },
    {
     "data": {
      "text/html": [
       "<iframe src=output/metro_map.html width=700 height=650> </iframe>"
      ],
      "text/plain": [
       "<IPython.core.display.HTML object>"
      ]
     },
     "execution_count": 26,
     "metadata": {},
     "output_type": "execute_result"
    }
   ],
   "source": [
    "# Initialize plot figure\n",
    "lineplot = figure(title='Helsinky Metro')\n",
    "\n",
    "# Create tooltips on hover\n",
    "metro_hover = HoverTool()\n",
    "metro_hover.tooltips = [('NUMERO', '@NUMERO')]\n",
    "lineplot.add_tools(metro_hover)\n",
    "\n",
    "# Add lines to the map from metro_source\n",
    "lineplot.multi_line('x', 'y', source=metro_source, color='red', line_width=3)\n",
    "\n",
    "# Save plot\n",
    "metroPlot_fp = r'output/metro_map.html'\n",
    "save(lineplot, metroPlot_fp)\n",
    "\n",
    "HTML('<iframe src='+metroPlot_fp+' width=700 height=650> </iframe>')"
   ]
  },
  {
   "cell_type": "markdown",
   "metadata": {},
   "source": [
    "## Polygon map with Points and Lines"
   ]
  },
  {
   "cell_type": "code",
   "execution_count": 27,
   "metadata": {},
   "outputs": [],
   "source": [
    "from bokeh.plotting import figure, save\n",
    "from bokeh.models import ColumnDataSource, HoverTool, LogColorMapper\n",
    "import pysal as ps"
   ]
  },
  {
   "cell_type": "code",
   "execution_count": 28,
   "metadata": {},
   "outputs": [],
   "source": [
    "# Define file paths and read SHP files\n",
    "grid_fp = r'data/TravelTimes_to_5975375_RailwayStation.shp'\n",
    "point_fp = r'data/addresses.shp'\n",
    "metro_fp = r'data/metro.shp'\n",
    "\n",
    "grid = gpd.read_file(grid_fp)\n",
    "points = gpd.read_file(point_fp)\n",
    "metro = gpd.read_file(metro_fp)"
   ]
  },
  {
   "cell_type": "code",
   "execution_count": 32,
   "metadata": {},
   "outputs": [
    {
     "name": "stdout",
     "output_type": "stream",
     "text": [
      "grid.crs: {'init': 'epsg:3067'} \n",
      "points.crs: {'init': 'epsg:3067'} \n",
      "metro.crs: [{'init': 'epsg:3067'}\n"
     ]
    }
   ],
   "source": [
    "# Define common CRS and reproject\n",
    "cCRS = grid.crs\n",
    "points = points.copy().to_crs(crs=cCRS)\n",
    "metro = metro.copy().to_crs(crs=cCRS)\n",
    "print(\"grid.crs: {0} \\npoints.crs: {1} \\nmetro.crs: [{2}\".format(grid.crs, points.crs,metro.crs))"
   ]
  },
  {
   "cell_type": "code",
   "execution_count": 33,
   "metadata": {},
   "outputs": [
    {
     "data": {
      "text/html": [
       "<div>\n",
       "<style scoped>\n",
       "    .dataframe tbody tr th:only-of-type {\n",
       "        vertical-align: middle;\n",
       "    }\n",
       "\n",
       "    .dataframe tbody tr th {\n",
       "        vertical-align: top;\n",
       "    }\n",
       "\n",
       "    .dataframe thead th {\n",
       "        text-align: right;\n",
       "    }\n",
       "</style>\n",
       "<table border=\"1\" class=\"dataframe\">\n",
       "  <thead>\n",
       "    <tr style=\"text-align: right;\">\n",
       "      <th></th>\n",
       "      <th>car_m_d</th>\n",
       "      <th>car_m_t</th>\n",
       "      <th>car_r_d</th>\n",
       "      <th>car_r_t</th>\n",
       "      <th>from_id</th>\n",
       "      <th>pt_m_d</th>\n",
       "      <th>pt_m_t</th>\n",
       "      <th>pt_m_tt</th>\n",
       "      <th>pt_r_d</th>\n",
       "      <th>pt_r_t</th>\n",
       "      <th>pt_r_tt</th>\n",
       "      <th>to_id</th>\n",
       "      <th>walk_d</th>\n",
       "      <th>walk_t</th>\n",
       "      <th>geometry</th>\n",
       "    </tr>\n",
       "  </thead>\n",
       "  <tbody>\n",
       "    <tr>\n",
       "      <th>0</th>\n",
       "      <td>32297</td>\n",
       "      <td>43</td>\n",
       "      <td>32260</td>\n",
       "      <td>48</td>\n",
       "      <td>5785640</td>\n",
       "      <td>32616</td>\n",
       "      <td>116</td>\n",
       "      <td>147</td>\n",
       "      <td>32616</td>\n",
       "      <td>108</td>\n",
       "      <td>139</td>\n",
       "      <td>5975375</td>\n",
       "      <td>32164</td>\n",
       "      <td>459</td>\n",
       "      <td>POLYGON ((382000.0001358641 6697750.000038058,...</td>\n",
       "    </tr>\n",
       "    <tr>\n",
       "      <th>1</th>\n",
       "      <td>32508</td>\n",
       "      <td>43</td>\n",
       "      <td>32471</td>\n",
       "      <td>49</td>\n",
       "      <td>5785641</td>\n",
       "      <td>32822</td>\n",
       "      <td>119</td>\n",
       "      <td>145</td>\n",
       "      <td>32822</td>\n",
       "      <td>111</td>\n",
       "      <td>133</td>\n",
       "      <td>5975375</td>\n",
       "      <td>29547</td>\n",
       "      <td>422</td>\n",
       "      <td>POLYGON ((382250.0001358146 6697750.000038053,...</td>\n",
       "    </tr>\n",
       "  </tbody>\n",
       "</table>\n",
       "</div>"
      ],
      "text/plain": [
       "   car_m_d  car_m_t  car_r_d  car_r_t  from_id  pt_m_d  pt_m_t  pt_m_tt  \\\n",
       "0    32297       43    32260       48  5785640   32616     116      147   \n",
       "1    32508       43    32471       49  5785641   32822     119      145   \n",
       "\n",
       "   pt_r_d  pt_r_t  pt_r_tt    to_id  walk_d  walk_t  \\\n",
       "0   32616     108      139  5975375   32164     459   \n",
       "1   32822     111      133  5975375   29547     422   \n",
       "\n",
       "                                            geometry  \n",
       "0  POLYGON ((382000.0001358641 6697750.000038058,...  \n",
       "1  POLYGON ((382250.0001358146 6697750.000038053,...  "
      ]
     },
     "execution_count": 33,
     "metadata": {},
     "output_type": "execute_result"
    }
   ],
   "source": [
    "grid.head(2)"
   ]
  },
  {
   "cell_type": "code",
   "execution_count": 34,
   "metadata": {},
   "outputs": [
    {
     "data": {
      "text/html": [
       "<div>\n",
       "<style scoped>\n",
       "    .dataframe tbody tr th:only-of-type {\n",
       "        vertical-align: middle;\n",
       "    }\n",
       "\n",
       "    .dataframe tbody tr th {\n",
       "        vertical-align: top;\n",
       "    }\n",
       "\n",
       "    .dataframe thead th {\n",
       "        text-align: right;\n",
       "    }\n",
       "</style>\n",
       "<table border=\"1\" class=\"dataframe\">\n",
       "  <thead>\n",
       "    <tr style=\"text-align: right;\">\n",
       "      <th></th>\n",
       "      <th>address</th>\n",
       "      <th>id</th>\n",
       "      <th>geometry</th>\n",
       "    </tr>\n",
       "  </thead>\n",
       "  <tbody>\n",
       "    <tr>\n",
       "      <th>0</th>\n",
       "      <td>Kampinkuja 1, 00100 Helsinki, Finland</td>\n",
       "      <td>1001</td>\n",
       "      <td>POINT (385149.4478367225 6671962.669661295)</td>\n",
       "    </tr>\n",
       "    <tr>\n",
       "      <th>1</th>\n",
       "      <td>Kaivokatu 8, 00101 Helsinki, Finland</td>\n",
       "      <td>1002</td>\n",
       "      <td>POINT (385804.9853879581 6672108.604159363)</td>\n",
       "    </tr>\n",
       "  </tbody>\n",
       "</table>\n",
       "</div>"
      ],
      "text/plain": [
       "                                 address    id  \\\n",
       "0  Kampinkuja 1, 00100 Helsinki, Finland  1001   \n",
       "1   Kaivokatu 8, 00101 Helsinki, Finland  1002   \n",
       "\n",
       "                                      geometry  \n",
       "0  POINT (385149.4478367225 6671962.669661295)  \n",
       "1  POINT (385804.9853879581 6672108.604159363)  "
      ]
     },
     "execution_count": 34,
     "metadata": {},
     "output_type": "execute_result"
    }
   ],
   "source": [
    "points.head(2)"
   ]
  },
  {
   "cell_type": "code",
   "execution_count": 35,
   "metadata": {},
   "outputs": [
    {
     "data": {
      "text/html": [
       "<div>\n",
       "<style scoped>\n",
       "    .dataframe tbody tr th:only-of-type {\n",
       "        vertical-align: middle;\n",
       "    }\n",
       "\n",
       "    .dataframe tbody tr th {\n",
       "        vertical-align: top;\n",
       "    }\n",
       "\n",
       "    .dataframe thead th {\n",
       "        text-align: right;\n",
       "    }\n",
       "</style>\n",
       "<table border=\"1\" class=\"dataframe\">\n",
       "  <thead>\n",
       "    <tr style=\"text-align: right;\">\n",
       "      <th></th>\n",
       "      <th>NUMERO</th>\n",
       "      <th>SUUNTA</th>\n",
       "      <th>geometry</th>\n",
       "    </tr>\n",
       "  </thead>\n",
       "  <tbody>\n",
       "    <tr>\n",
       "      <th>0</th>\n",
       "      <td>1300M</td>\n",
       "      <td>1</td>\n",
       "      <td>LINESTRING (395534.7026002127 6679490.08463068...</td>\n",
       "    </tr>\n",
       "    <tr>\n",
       "      <th>1</th>\n",
       "      <td>1300M</td>\n",
       "      <td>2</td>\n",
       "      <td>LINESTRING (384398.5021810767 6671336.40736277...</td>\n",
       "    </tr>\n",
       "  </tbody>\n",
       "</table>\n",
       "</div>"
      ],
      "text/plain": [
       "  NUMERO  SUUNTA                                           geometry\n",
       "0  1300M       1  LINESTRING (395534.7026002127 6679490.08463068...\n",
       "1  1300M       2  LINESTRING (384398.5021810767 6671336.40736277..."
      ]
     },
     "execution_count": 35,
     "metadata": {},
     "output_type": "execute_result"
    }
   ],
   "source": [
    "metro.head(2)"
   ]
  },
  {
   "cell_type": "code",
   "execution_count": 36,
   "metadata": {},
   "outputs": [],
   "source": [
    "# Function to parse X and Y coords from polygon shape\n",
    "def getPolyCoords(row, geom, coord_type):\n",
    "    \"\"\"Returns the coordinates ('x' or 'y') of edges of a Polygon exterior\"\"\"\n",
    "\n",
    "    # Parse the exterior of the coordinate\n",
    "    exterior = row[geom].exterior\n",
    "\n",
    "    if coord_type == 'x':\n",
    "        # Get the x coordinates of the exterior\n",
    "        return list( exterior.coords.xy[0] )\n",
    "    elif coord_type == 'y':\n",
    "        # Get the y coordinates of the exterior\n",
    "        return list( exterior.coords.xy[1] )"
   ]
  },
  {
   "cell_type": "code",
   "execution_count": 38,
   "metadata": {},
   "outputs": [],
   "source": [
    "# Get coordinate lists from Polygon SHP\n",
    "grid['x'] = grid.apply(getPolyCoords, geom='geometry', coord_type='x', axis=1)\n",
    "grid['y'] = grid.apply(getPolyCoords, geom='geometry', coord_type='y', axis=1)\n",
    "\n",
    "# Get coordinate lists from LineString SHP\n",
    "metro['x'] = metro.apply(getLineCoords, geom='geometry', coord_type='x', axis=1)\n",
    "metro['y'] = metro.apply(getLineCoords, geom='geometry', coord_type='y', axis=1)\n",
    "\n",
    "# Get coordinate lists from Point SHP\n",
    "points['x'] = points.apply(getPointCoords, geom='geometry', coord_type='x', axis=1)\n",
    "points['y'] = points.apply(getPointCoords, geom='geometry', coord_type='y', axis=1)"
   ]
  },
  {
   "cell_type": "markdown",
   "metadata": {},
   "source": [
    "Let’s now classify the travel times of our grid int 5 minute intervals until 200 minutes using a pysal classifier called ```User_Defined``` that allows to set our own criteria for class intervals. But first we need to replace the No Data values with a large number so that they wouldn’t be seen as the “best” accessible areas."
   ]
  },
  {
   "cell_type": "code",
   "execution_count": 40,
   "metadata": {},
   "outputs": [],
   "source": [
    "# Replace NoData values (-1) with a large number (999)\n",
    "grid = grid.replace(-1,999)\n",
    "\n",
    "# Classify travel times into 5 minute classes until 200 minutes ----\n",
    "# Create a list of values where min=5 max=200 & step=5\n",
    "breaks = [x for x in range(5, 200, 5)]\n",
    "\n",
    "# Initialize classifier\n",
    "classifier = ps.User_Defined.make(bins=breaks)\n",
    "pt_classif = grid[['pt_r_tt']].apply(classifier)\n",
    "\n",
    "# Rename classifier column\n",
    "pt_classif.columns = ['pt_r_tt_UsDef']\n",
    "\n",
    "# Join back into grid layer\n",
    "grid = grid.join(pt_classif)"
   ]
  },
  {
   "cell_type": "code",
   "execution_count": 41,
   "metadata": {},
   "outputs": [
    {
     "data": {
      "text/html": [
       "<div>\n",
       "<style scoped>\n",
       "    .dataframe tbody tr th:only-of-type {\n",
       "        vertical-align: middle;\n",
       "    }\n",
       "\n",
       "    .dataframe tbody tr th {\n",
       "        vertical-align: top;\n",
       "    }\n",
       "\n",
       "    .dataframe thead th {\n",
       "        text-align: right;\n",
       "    }\n",
       "</style>\n",
       "<table border=\"1\" class=\"dataframe\">\n",
       "  <thead>\n",
       "    <tr style=\"text-align: right;\">\n",
       "      <th></th>\n",
       "      <th>car_m_d</th>\n",
       "      <th>car_m_t</th>\n",
       "      <th>car_r_d</th>\n",
       "      <th>car_r_t</th>\n",
       "      <th>from_id</th>\n",
       "      <th>pt_m_d</th>\n",
       "      <th>pt_m_t</th>\n",
       "      <th>pt_m_tt</th>\n",
       "      <th>pt_r_d</th>\n",
       "      <th>pt_r_t</th>\n",
       "      <th>pt_r_tt</th>\n",
       "      <th>to_id</th>\n",
       "      <th>walk_d</th>\n",
       "      <th>walk_t</th>\n",
       "      <th>geometry</th>\n",
       "      <th>x</th>\n",
       "      <th>y</th>\n",
       "      <th>pt_r_tt_UsDef</th>\n",
       "    </tr>\n",
       "  </thead>\n",
       "  <tbody>\n",
       "    <tr>\n",
       "      <th>0</th>\n",
       "      <td>32297</td>\n",
       "      <td>43</td>\n",
       "      <td>32260</td>\n",
       "      <td>48</td>\n",
       "      <td>5785640</td>\n",
       "      <td>32616</td>\n",
       "      <td>116</td>\n",
       "      <td>147</td>\n",
       "      <td>32616</td>\n",
       "      <td>108</td>\n",
       "      <td>139</td>\n",
       "      <td>5975375</td>\n",
       "      <td>32164</td>\n",
       "      <td>459</td>\n",
       "      <td>POLYGON ((382000.0001358641 6697750.000038058,...</td>\n",
       "      <td>[382000.00013586413, 381750.0001359122, 381750...</td>\n",
       "      <td>[6697750.000038058, 6697750.000038066, 6698000...</td>\n",
       "      <td>27</td>\n",
       "    </tr>\n",
       "    <tr>\n",
       "      <th>1</th>\n",
       "      <td>32508</td>\n",
       "      <td>43</td>\n",
       "      <td>32471</td>\n",
       "      <td>49</td>\n",
       "      <td>5785641</td>\n",
       "      <td>32822</td>\n",
       "      <td>119</td>\n",
       "      <td>145</td>\n",
       "      <td>32822</td>\n",
       "      <td>111</td>\n",
       "      <td>133</td>\n",
       "      <td>5975375</td>\n",
       "      <td>29547</td>\n",
       "      <td>422</td>\n",
       "      <td>POLYGON ((382250.0001358146 6697750.000038053,...</td>\n",
       "      <td>[382250.0001358146, 382000.00013586413, 382000...</td>\n",
       "      <td>[6697750.000038053, 6697750.000038058, 6698000...</td>\n",
       "      <td>26</td>\n",
       "    </tr>\n",
       "  </tbody>\n",
       "</table>\n",
       "</div>"
      ],
      "text/plain": [
       "   car_m_d  car_m_t  car_r_d  car_r_t  from_id  pt_m_d  pt_m_t  pt_m_tt  \\\n",
       "0    32297       43    32260       48  5785640   32616     116      147   \n",
       "1    32508       43    32471       49  5785641   32822     119      145   \n",
       "\n",
       "   pt_r_d  pt_r_t  pt_r_tt    to_id  walk_d  walk_t  \\\n",
       "0   32616     108      139  5975375   32164     459   \n",
       "1   32822     111      133  5975375   29547     422   \n",
       "\n",
       "                                            geometry  \\\n",
       "0  POLYGON ((382000.0001358641 6697750.000038058,...   \n",
       "1  POLYGON ((382250.0001358146 6697750.000038053,...   \n",
       "\n",
       "                                                   x  \\\n",
       "0  [382000.00013586413, 381750.0001359122, 381750...   \n",
       "1  [382250.0001358146, 382000.00013586413, 382000...   \n",
       "\n",
       "                                                   y  pt_r_tt_UsDef  \n",
       "0  [6697750.000038058, 6697750.000038066, 6698000...             27  \n",
       "1  [6697750.000038053, 6697750.000038058, 6698000...             26  "
      ]
     },
     "execution_count": 41,
     "metadata": {},
     "output_type": "execute_result"
    }
   ],
   "source": [
    "grid.head(2)"
   ]
  },
  {
   "cell_type": "code",
   "execution_count": 43,
   "metadata": {},
   "outputs": [],
   "source": [
    "# Convert GDF into ColumnDataSource\n",
    "metro_df = metro.copy().drop('geometry', axis=1)\n",
    "metro_source = ColumnDataSource(metro_df)\n",
    "\n",
    "points_df = points.copy().drop('geometry', axis=1)\n",
    "points_source = ColumnDataSource(points_df)\n",
    "\n",
    "grid_df = grid.copy().drop('geometry', axis=1)\n",
    "grid_source = ColumnDataSource(grid_df)"
   ]
  },
  {
   "cell_type": "markdown",
   "metadata": {},
   "source": [
    "For visualizing the Polygons we need to define the color palette that we are going to use. There are many different ones available but we are now going to use a palette called RdYlBu and use eleven color-classes for the values (defined as RdYlBu11). Let’s prepare our color_mapper."
   ]
  },
  {
   "cell_type": "code",
   "execution_count": 44,
   "metadata": {},
   "outputs": [],
   "source": [
    "# Import Converter: color palet into map number\n",
    "from bokeh.palettes import RdYlBu11 as palette\n",
    "from bokeh.models import LogColorMapper\n",
    "\n",
    "# Create the color mapper\n",
    "color_mapper = LogColorMapper(palette=palette)"
   ]
  },
  {
   "cell_type": "code",
   "execution_count": 45,
   "metadata": {},
   "outputs": [
    {
     "name": "stderr",
     "output_type": "stream",
     "text": [
      "C:\\Users\\cccru\\Anaconda3\\envs\\geopython\\lib\\site-packages\\bokeh\\io\\saving.py:125: UserWarning: save() called but no resources were supplied and output_file(...) was never called, defaulting to resources.CDN\n",
      "  warn(\"save() called but no resources were supplied and output_file(...) was never called, defaulting to resources.CDN\")\n",
      "C:\\Users\\cccru\\Anaconda3\\envs\\geopython\\lib\\site-packages\\bokeh\\io\\saving.py:138: UserWarning: save() called but no title was supplied and output_file(...) was never called, using default title 'Bokeh Plot'\n",
      "  warn(\"save() called but no title was supplied and output_file(...) was never called, using default title 'Bokeh Plot'\")\n"
     ]
    },
    {
     "data": {
      "text/html": [
       "<iframe src=output/travel_time_map.html width=700 height=650> </iframe>"
      ],
      "text/plain": [
       "<IPython.core.display.HTML object>"
      ]
     },
     "execution_count": 45,
     "metadata": {},
     "output_type": "execute_result"
    }
   ],
   "source": [
    "# FIgure initialization\n",
    "plot = figure(title=\"Travel times: Public transportation to Central Train Station\")\n",
    "\n",
    "# Plot grid\n",
    "plot.patches('x','y', source=grid_source,\n",
    "            fill_color={'field':'pt_r_tt_UsDef', 'transform':color_mapper},\n",
    "            fill_alpha=1.0, line_color='black', line_width=0.05)\n",
    "\n",
    "# Add metro on top\n",
    "plot.multi_line('x','y', source=metro_source, color=\"red\", line_width=2)\n",
    "\n",
    "# Add points on top\n",
    "plot.circle('x','y', source=points_source, color=\"black\", size=3)\n",
    "\n",
    "# Save figure\n",
    "travelMap_fp = r'output/travel_time_map.html'\n",
    "save(plot, travelMap_fp)\n",
    "\n",
    "HTML('<iframe src='+travelMap_fp+' width=700 height=650> </iframe>')"
   ]
  },
  {
   "cell_type": "code",
   "execution_count": 46,
   "metadata": {},
   "outputs": [],
   "source": [
    "# Create names for the legend\n",
    "up_lim = 60\n",
    "step = 5\n",
    "legend_names = [\"%s-%s\" % (x-5, x) for x in range(step, up_lim, step)]\n",
    "\n",
    "# Label for legend above 60\n",
    "legend_names.append(\"%s <\" % up_lim)"
   ]
  },
  {
   "cell_type": "code",
   "execution_count": null,
   "metadata": {},
   "outputs": [],
   "source": [
    "# Assign legend names for the classes\n",
    "grid['label_pt'] = None\n",
    "grid['label_car'] = None\n",
    "\n",
    "# Update rows with class name\n",
    "for i in range(len(legend_names)):\n",
    "    grid.loc[grid['pt_r_tt_UsDef'] == i, 'label_pt'] = names[i]"
   ]
  }
 ],
 "metadata": {
  "kernelspec": {
   "display_name": "Python 3",
   "language": "python",
   "name": "python3"
  },
  "language_info": {
   "codemirror_mode": {
    "name": "ipython",
    "version": 3
   },
   "file_extension": ".py",
   "mimetype": "text/x-python",
   "name": "python",
   "nbconvert_exporter": "python",
   "pygments_lexer": "ipython3",
   "version": "3.6.4"
  }
 },
 "nbformat": 4,
 "nbformat_minor": 2
}
