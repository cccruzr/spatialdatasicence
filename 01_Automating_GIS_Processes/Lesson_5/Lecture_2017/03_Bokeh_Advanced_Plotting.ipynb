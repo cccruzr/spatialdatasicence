{
 "cells": [
  {
   "cell_type": "markdown",
   "metadata": {},
   "source": [
    "# Advanced plotting with bokeh"
   ]
  },
  {
   "cell_type": "code",
   "execution_count": 40,
   "metadata": {},
   "outputs": [],
   "source": [
    "from bokeh.palettes import YlOrRd6 as palette\n",
    "from bokeh.plotting import figure, save\n",
    "from bokeh.models import ColumnDataSource, HoverTool, LogColorMapper, GeoJSONDataSource\n",
    "from bokeh.palettes import RdYlGn10 as palette\n",
    "import geopandas as gpd\n",
    "import pysal as ps\n",
    "import numpy as np"
   ]
  },
  {
   "cell_type": "code",
   "execution_count": 41,
   "metadata": {},
   "outputs": [],
   "source": [
    "# Geodata filepaths\n",
    "ttimes_fp = r\"data/TravelTimes_to_5975375_RailwayStation.shp\"\n",
    "roads_fp = r\"data/roads.shp\"\n",
    "metro_fp = r\"data/metro.shp\""
   ]
  },
  {
   "cell_type": "code",
   "execution_count": 42,
   "metadata": {},
   "outputs": [],
   "source": [
    "# Read data in geoPandas\n",
    "ttimes = gpd.read_file(ttimes_fp)\n",
    "roads = gpd.read_file(roads_fp)\n",
    "metro = gpd.read_file(metro_fp)"
   ]
  },
  {
   "cell_type": "code",
   "execution_count": 43,
   "metadata": {},
   "outputs": [
    {
     "data": {
      "text/plain": [
       "{'init': 'epsg:3067'}"
      ]
     },
     "execution_count": 43,
     "metadata": {},
     "output_type": "execute_result"
    }
   ],
   "source": [
    "ttimes.crs"
   ]
  },
  {
   "cell_type": "code",
   "execution_count": 44,
   "metadata": {},
   "outputs": [
    {
     "name": "stdout",
     "output_type": "stream",
     "text": [
      "{'proj': 'tmerc', 'lat_0': 0, 'lon_0': 24, 'k': 1, 'x_0': 2500000, 'y_0': 0, 'ellps': 'intl', 'units': 'm', 'no_defs': True} \n",
      " {'proj': 'tmerc', 'lat_0': 0, 'lon_0': 24, 'k': 1, 'x_0': 2500000, 'y_0': 0, 'ellps': 'intl', 'units': 'm', 'no_defs': True}\n"
     ]
    }
   ],
   "source": [
    "print(roads.crs, '\\n', metro.crs)"
   ]
  },
  {
   "cell_type": "code",
   "execution_count": 45,
   "metadata": {},
   "outputs": [],
   "source": [
    "roads = roads.to_crs(epsg=3067)\n",
    "metro = metro.to_crs(epsg=3067)"
   ]
  },
  {
   "cell_type": "code",
   "execution_count": 46,
   "metadata": {},
   "outputs": [
    {
     "name": "stdout",
     "output_type": "stream",
     "text": [
      "{'init': 'epsg:3067', 'no_defs': True} \n",
      " {'init': 'epsg:3067', 'no_defs': True}\n"
     ]
    }
   ],
   "source": [
    "print(roads.crs, '\\n', metro.crs)"
   ]
  },
  {
   "cell_type": "code",
   "execution_count": 47,
   "metadata": {},
   "outputs": [
    {
     "data": {
      "text/html": [
       "<div>\n",
       "<style scoped>\n",
       "    .dataframe tbody tr th:only-of-type {\n",
       "        vertical-align: middle;\n",
       "    }\n",
       "\n",
       "    .dataframe tbody tr th {\n",
       "        vertical-align: top;\n",
       "    }\n",
       "\n",
       "    .dataframe thead th {\n",
       "        text-align: right;\n",
       "    }\n",
       "</style>\n",
       "<table border=\"1\" class=\"dataframe\">\n",
       "  <thead>\n",
       "    <tr style=\"text-align: right;\">\n",
       "      <th></th>\n",
       "      <th>car_m_d</th>\n",
       "      <th>car_m_t</th>\n",
       "      <th>car_r_d</th>\n",
       "      <th>car_r_t</th>\n",
       "      <th>from_id</th>\n",
       "      <th>pt_m_d</th>\n",
       "      <th>pt_m_t</th>\n",
       "      <th>pt_m_tt</th>\n",
       "      <th>pt_r_d</th>\n",
       "      <th>pt_r_t</th>\n",
       "      <th>pt_r_tt</th>\n",
       "      <th>to_id</th>\n",
       "      <th>walk_d</th>\n",
       "      <th>walk_t</th>\n",
       "      <th>geometry</th>\n",
       "    </tr>\n",
       "  </thead>\n",
       "  <tbody>\n",
       "    <tr>\n",
       "      <th>0</th>\n",
       "      <td>32297</td>\n",
       "      <td>43</td>\n",
       "      <td>32260</td>\n",
       "      <td>48</td>\n",
       "      <td>5785640</td>\n",
       "      <td>32616</td>\n",
       "      <td>116</td>\n",
       "      <td>147</td>\n",
       "      <td>32616</td>\n",
       "      <td>108</td>\n",
       "      <td>139</td>\n",
       "      <td>5975375</td>\n",
       "      <td>32164</td>\n",
       "      <td>459</td>\n",
       "      <td>POLYGON ((382000.0001358641 6697750.000038058,...</td>\n",
       "    </tr>\n",
       "    <tr>\n",
       "      <th>1</th>\n",
       "      <td>32508</td>\n",
       "      <td>43</td>\n",
       "      <td>32471</td>\n",
       "      <td>49</td>\n",
       "      <td>5785641</td>\n",
       "      <td>32822</td>\n",
       "      <td>119</td>\n",
       "      <td>145</td>\n",
       "      <td>32822</td>\n",
       "      <td>111</td>\n",
       "      <td>133</td>\n",
       "      <td>5975375</td>\n",
       "      <td>29547</td>\n",
       "      <td>422</td>\n",
       "      <td>POLYGON ((382250.0001358146 6697750.000038053,...</td>\n",
       "    </tr>\n",
       "  </tbody>\n",
       "</table>\n",
       "</div>"
      ],
      "text/plain": [
       "   car_m_d  car_m_t  car_r_d  car_r_t  from_id  pt_m_d  pt_m_t  pt_m_tt  \\\n",
       "0    32297       43    32260       48  5785640   32616     116      147   \n",
       "1    32508       43    32471       49  5785641   32822     119      145   \n",
       "\n",
       "   pt_r_d  pt_r_t  pt_r_tt    to_id  walk_d  walk_t  \\\n",
       "0   32616     108      139  5975375   32164     459   \n",
       "1   32822     111      133  5975375   29547     422   \n",
       "\n",
       "                                            geometry  \n",
       "0  POLYGON ((382000.0001358641 6697750.000038058,...  \n",
       "1  POLYGON ((382250.0001358146 6697750.000038053,...  "
      ]
     },
     "execution_count": 47,
     "metadata": {},
     "output_type": "execute_result"
    }
   ],
   "source": [
    "ttimes.head(2)"
   ]
  },
  {
   "cell_type": "code",
   "execution_count": 48,
   "metadata": {},
   "outputs": [
    {
     "data": {
      "text/html": [
       "<div>\n",
       "<style scoped>\n",
       "    .dataframe tbody tr th:only-of-type {\n",
       "        vertical-align: middle;\n",
       "    }\n",
       "\n",
       "    .dataframe tbody tr th {\n",
       "        vertical-align: top;\n",
       "    }\n",
       "\n",
       "    .dataframe thead th {\n",
       "        text-align: right;\n",
       "    }\n",
       "</style>\n",
       "<table border=\"1\" class=\"dataframe\">\n",
       "  <thead>\n",
       "    <tr style=\"text-align: right;\">\n",
       "      <th></th>\n",
       "      <th>NIMI</th>\n",
       "      <th>NIMI0</th>\n",
       "      <th>NRO</th>\n",
       "      <th>MTRYHM</th>\n",
       "      <th>geometry</th>\n",
       "    </tr>\n",
       "  </thead>\n",
       "  <tbody>\n",
       "    <tr>\n",
       "      <th>0</th>\n",
       "      <td>Moottoriväylä</td>\n",
       "      <td>Porvoon väylä</td>\n",
       "      <td>1</td>\n",
       "      <td>80</td>\n",
       "      <td>LINESTRING (393902.4363970492 6681130.13311762...</td>\n",
       "    </tr>\n",
       "    <tr>\n",
       "      <th>1</th>\n",
       "      <td>Moottoriväylä</td>\n",
       "      <td>Kehä III</td>\n",
       "      <td>1</td>\n",
       "      <td>80</td>\n",
       "      <td>LINESTRING (398159.608959613 6679454.908297231...</td>\n",
       "    </tr>\n",
       "  </tbody>\n",
       "</table>\n",
       "</div>"
      ],
      "text/plain": [
       "            NIMI          NIMI0  NRO  MTRYHM  \\\n",
       "0  Moottoriväylä  Porvoon väylä    1      80   \n",
       "1  Moottoriväylä       Kehä III    1      80   \n",
       "\n",
       "                                            geometry  \n",
       "0  LINESTRING (393902.4363970492 6681130.13311762...  \n",
       "1  LINESTRING (398159.608959613 6679454.908297231...  "
      ]
     },
     "execution_count": 48,
     "metadata": {},
     "output_type": "execute_result"
    }
   ],
   "source": [
    "roads.head(2)"
   ]
  },
  {
   "cell_type": "code",
   "execution_count": 49,
   "metadata": {},
   "outputs": [
    {
     "data": {
      "text/html": [
       "<div>\n",
       "<style scoped>\n",
       "    .dataframe tbody tr th:only-of-type {\n",
       "        vertical-align: middle;\n",
       "    }\n",
       "\n",
       "    .dataframe tbody tr th {\n",
       "        vertical-align: top;\n",
       "    }\n",
       "\n",
       "    .dataframe thead th {\n",
       "        text-align: right;\n",
       "    }\n",
       "</style>\n",
       "<table border=\"1\" class=\"dataframe\">\n",
       "  <thead>\n",
       "    <tr style=\"text-align: right;\">\n",
       "      <th></th>\n",
       "      <th>NUMERO</th>\n",
       "      <th>SUUNTA</th>\n",
       "      <th>geometry</th>\n",
       "    </tr>\n",
       "  </thead>\n",
       "  <tbody>\n",
       "    <tr>\n",
       "      <th>0</th>\n",
       "      <td>1300M</td>\n",
       "      <td>1</td>\n",
       "      <td>LINESTRING (395534.7026002127 6679490.08463068...</td>\n",
       "    </tr>\n",
       "    <tr>\n",
       "      <th>1</th>\n",
       "      <td>1300M</td>\n",
       "      <td>2</td>\n",
       "      <td>LINESTRING (384398.5021810767 6671336.40736277...</td>\n",
       "    </tr>\n",
       "  </tbody>\n",
       "</table>\n",
       "</div>"
      ],
      "text/plain": [
       "  NUMERO  SUUNTA                                           geometry\n",
       "0  1300M       1  LINESTRING (395534.7026002127 6679490.08463068...\n",
       "1  1300M       2  LINESTRING (384398.5021810767 6671336.40736277..."
      ]
     },
     "execution_count": 49,
     "metadata": {},
     "output_type": "execute_result"
    }
   ],
   "source": [
    "metro.head(2)"
   ]
  },
  {
   "cell_type": "code",
   "execution_count": 50,
   "metadata": {},
   "outputs": [],
   "source": [
    "# Functions to get X Y coordinates\n",
    "\n",
    "def getXYCoords(geometry, coord_type):\n",
    "    \"\"\" Returns either x or y coordinates from  geometry coordinate sequence. Used with LineString and Polygon geometries.\"\"\"\n",
    "    if coord_type == 'x':\n",
    "        return geometry.coords.xy[0]\n",
    "    elif coord_type == 'y':\n",
    "        return geometry.coords.xy[1]\n",
    "\n",
    "def getPolyCoords(geometry, coord_type):\n",
    "    \"\"\" Returns Coordinates of Polygon using the Exterior of the Polygon.\"\"\"\n",
    "    ext = geometry.exterior\n",
    "    return getXYCoords(ext, coord_type)\n",
    "\n",
    "def getLineCoords(geometry, coord_type):\n",
    "    \"\"\" Returns Coordinates of Linestring object.\"\"\"\n",
    "    return getXYCoords(geometry, coord_type)\n",
    "\n",
    "def getPointCoords(geometry, coord_type):\n",
    "    \"\"\" Returns Coordinates of Point object.\"\"\"\n",
    "    if coord_type == 'x':\n",
    "        return geometry.x\n",
    "    elif coord_type == 'y':\n",
    "        return geometry.y\n",
    "\n",
    "def multiGeomHandler(multi_geometry, coord_type, geom_type):\n",
    "    \"\"\"\n",
    "    Function for handling multi-geometries. Can be MultiPoint, MultiLineString or MultiPolygon.\n",
    "    Returns a list of coordinates where all parts of Multi-geometries are merged into a single list.\n",
    "    Individual geometries are separated with np.nan which is how Bokeh wants them.\n",
    "    # Bokeh documentation regarding the Multi-geometry issues can be found here (it is an open issue)\n",
    "    # https://github.com/bokeh/bokeh/issues/2321\n",
    "    \"\"\"\n",
    "\n",
    "    for i, part in enumerate(multi_geometry):\n",
    "        # On the first part of the Multi-geometry initialize the coord_array (np.array)\n",
    "        if i == 0:\n",
    "            if geom_type == \"MultiPoint\":\n",
    "                coord_arrays = np.append(getPointCoords(part, coord_type), np.nan)\n",
    "            elif geom_type == \"MultiLineString\":\n",
    "                coord_arrays = np.append(getLineCoords(part, coord_type), np.nan)\n",
    "            elif geom_type == \"MultiPolygon\":\n",
    "                coord_arrays = np.append(getPolyCoords(part, coord_type), np.nan)\n",
    "        else:\n",
    "            if geom_type == \"MultiPoint\":\n",
    "                coord_arrays = np.concatenate([coord_arrays, np.append(getPointCoords(part, coord_type), np.nan)])\n",
    "            elif geom_type == \"MultiLineString\":\n",
    "                coord_arrays = np.concatenate([coord_arrays, np.append(getLineCoords(part, coord_type), np.nan)])\n",
    "            elif geom_type == \"MultiPolygon\":\n",
    "                coord_arrays = np.concatenate([coord_arrays, np.append(getPolyCoords(part, coord_type), np.nan)])\n",
    "\n",
    "    # Return the coordinates\n",
    "    return coord_arrays\n",
    "\n",
    "\n",
    "def getCoords(row, geom_col, coord_type):\n",
    "    \"\"\"\n",
    "    Returns coordinates ('x' or 'y') of a geometry (Point, LineString or Polygon) as a list (if geometry is LineString or Polygon).\n",
    "    Can handle also MultiGeometries.\n",
    "    \"\"\"\n",
    "    # Get geometry\n",
    "    geom = row[geom_col]\n",
    "\n",
    "    # Check the geometry type\n",
    "    gtype = geom.geom_type\n",
    "\n",
    "    # \"Normal\" geometries\n",
    "    # -------------------\n",
    "\n",
    "    if gtype == \"Point\":\n",
    "        return getPointCoords(geom, coord_type)\n",
    "    elif gtype == \"LineString\":\n",
    "        return list( getLineCoords(geom, coord_type) )\n",
    "    elif gtype == \"Polygon\":\n",
    "        return list( getPolyCoords(geom, coord_type) )\n",
    "\n",
    "    # Multi geometries\n",
    "    # ----------------\n",
    "\n",
    "    else:\n",
    "        return list( multiGeomHandler(geom, coord_type, gtype) )"
   ]
  },
  {
   "cell_type": "code",
   "execution_count": 51,
   "metadata": {},
   "outputs": [],
   "source": [
    "# Calculate the x and y coordinates of the grid, roads and metro stations\n",
    "ttimes['x'] = ttimes.apply(getCoords, geom_col='geometry', coord_type='x', axis=1)\n",
    "ttimes['y'] = ttimes.apply(getCoords, geom_col='geometry', coord_type='y', axis=1)\n",
    "\n",
    "roads['x'] = roads.apply(getCoords, geom_col='geometry', coord_type='x', axis=1)\n",
    "roads['y'] = roads.apply(getCoords, geom_col='geometry', coord_type='y', axis=1)\n",
    "\n",
    "metro['x'] = metro.apply(getCoords, geom_col='geometry', coord_type='x', axis=1)\n",
    "metro['y'] = metro.apply(getCoords, geom_col='geometry', coord_type='y', axis=1)"
   ]
  },
  {
   "cell_type": "code",
   "execution_count": 52,
   "metadata": {},
   "outputs": [],
   "source": [
    "# Next, we need to classify the travel time values into 5 minute intervals using Pysal’s \n",
    "# user defined classifier. We also create legend labels for the classes.\n",
    "\n",
    "# First, we need to replace No Data values (-1) with large number (999) \n",
    "# so that those values end up in the last class.\n",
    "ttimes = ttimes.replace(-1,999)"
   ]
  },
  {
   "cell_type": "code",
   "execution_count": 53,
   "metadata": {},
   "outputs": [],
   "source": [
    "# Next, we want to classify the travel times with 5 minute intervals until 200 minutes.\n",
    "\n",
    "# Let’s create a list of values where minumum value is 5, maximum value is 200 and step is 5.\n",
    "breaks = [x for x in range(5, 200, 5)]"
   ]
  },
  {
   "cell_type": "code",
   "execution_count": 54,
   "metadata": {},
   "outputs": [],
   "source": [
    "# Now we can create a pysal User_Defined classifier and classify our travel time values.\n",
    "classifier = ps.User_Defined.make(bins=breaks)\n",
    "\n",
    "pt_classif = ttimes[['pt_r_tt']].apply(classifier)\n",
    "car_classif = ttimes[['car_r_t']].apply(classifier)\n",
    "\n",
    "# Rename the columns of our classified columns.\n",
    "pt_classif.columns = ['pt_r_tt_usrdef']\n",
    "car_classif.columns = ['car_r_t_usrdef']"
   ]
  },
  {
   "cell_type": "code",
   "execution_count": 55,
   "metadata": {},
   "outputs": [
    {
     "data": {
      "text/html": [
       "<div>\n",
       "<style scoped>\n",
       "    .dataframe tbody tr th:only-of-type {\n",
       "        vertical-align: middle;\n",
       "    }\n",
       "\n",
       "    .dataframe tbody tr th {\n",
       "        vertical-align: top;\n",
       "    }\n",
       "\n",
       "    .dataframe thead th {\n",
       "        text-align: right;\n",
       "    }\n",
       "</style>\n",
       "<table border=\"1\" class=\"dataframe\">\n",
       "  <thead>\n",
       "    <tr style=\"text-align: right;\">\n",
       "      <th></th>\n",
       "      <th>car_m_d</th>\n",
       "      <th>car_m_t</th>\n",
       "      <th>car_r_d</th>\n",
       "      <th>car_r_t</th>\n",
       "      <th>from_id</th>\n",
       "      <th>pt_m_d</th>\n",
       "      <th>pt_m_t</th>\n",
       "      <th>pt_m_tt</th>\n",
       "      <th>pt_r_d</th>\n",
       "      <th>pt_r_t</th>\n",
       "      <th>pt_r_tt</th>\n",
       "      <th>to_id</th>\n",
       "      <th>walk_d</th>\n",
       "      <th>walk_t</th>\n",
       "      <th>geometry</th>\n",
       "      <th>x</th>\n",
       "      <th>y</th>\n",
       "      <th>pt_r_tt_usrdef</th>\n",
       "      <th>car_r_t_usrdef</th>\n",
       "    </tr>\n",
       "  </thead>\n",
       "  <tbody>\n",
       "    <tr>\n",
       "      <th>0</th>\n",
       "      <td>32297</td>\n",
       "      <td>43</td>\n",
       "      <td>32260</td>\n",
       "      <td>48</td>\n",
       "      <td>5785640</td>\n",
       "      <td>32616</td>\n",
       "      <td>116</td>\n",
       "      <td>147</td>\n",
       "      <td>32616</td>\n",
       "      <td>108</td>\n",
       "      <td>139</td>\n",
       "      <td>5975375</td>\n",
       "      <td>32164</td>\n",
       "      <td>459</td>\n",
       "      <td>POLYGON ((382000.0001358641 6697750.000038058,...</td>\n",
       "      <td>[382000.00013586413, 381750.0001359122, 381750...</td>\n",
       "      <td>[6697750.000038058, 6697750.000038066, 6698000...</td>\n",
       "      <td>27</td>\n",
       "      <td>9</td>\n",
       "    </tr>\n",
       "    <tr>\n",
       "      <th>1</th>\n",
       "      <td>32508</td>\n",
       "      <td>43</td>\n",
       "      <td>32471</td>\n",
       "      <td>49</td>\n",
       "      <td>5785641</td>\n",
       "      <td>32822</td>\n",
       "      <td>119</td>\n",
       "      <td>145</td>\n",
       "      <td>32822</td>\n",
       "      <td>111</td>\n",
       "      <td>133</td>\n",
       "      <td>5975375</td>\n",
       "      <td>29547</td>\n",
       "      <td>422</td>\n",
       "      <td>POLYGON ((382250.0001358146 6697750.000038053,...</td>\n",
       "      <td>[382250.0001358146, 382000.00013586413, 382000...</td>\n",
       "      <td>[6697750.000038053, 6697750.000038058, 6698000...</td>\n",
       "      <td>26</td>\n",
       "      <td>9</td>\n",
       "    </tr>\n",
       "  </tbody>\n",
       "</table>\n",
       "</div>"
      ],
      "text/plain": [
       "   car_m_d  car_m_t  car_r_d  car_r_t  from_id  pt_m_d  pt_m_t  pt_m_tt  \\\n",
       "0    32297       43    32260       48  5785640   32616     116      147   \n",
       "1    32508       43    32471       49  5785641   32822     119      145   \n",
       "\n",
       "   pt_r_d  pt_r_t  pt_r_tt    to_id  walk_d  walk_t  \\\n",
       "0   32616     108      139  5975375   32164     459   \n",
       "1   32822     111      133  5975375   29547     422   \n",
       "\n",
       "                                            geometry  \\\n",
       "0  POLYGON ((382000.0001358641 6697750.000038058,...   \n",
       "1  POLYGON ((382250.0001358146 6697750.000038053,...   \n",
       "\n",
       "                                                   x  \\\n",
       "0  [382000.00013586413, 381750.0001359122, 381750...   \n",
       "1  [382250.0001358146, 382000.00013586413, 382000...   \n",
       "\n",
       "                                                   y  pt_r_tt_usrdef  \\\n",
       "0  [6697750.000038058, 6697750.000038066, 6698000...              27   \n",
       "1  [6697750.000038053, 6697750.000038058, 6698000...              26   \n",
       "\n",
       "   car_r_t_usrdef  \n",
       "0               9  \n",
       "1               9  "
      ]
     },
     "execution_count": 55,
     "metadata": {},
     "output_type": "execute_result"
    }
   ],
   "source": [
    "# Join the classes back to the main data\n",
    "ttimes = ttimes.join(pt_classif).join(car_classif)\n",
    "ttimes.head(2)"
   ]
  },
  {
   "cell_type": "code",
   "execution_count": 56,
   "metadata": {},
   "outputs": [],
   "source": [
    "# Create names for the legend (until 60 minutes)\n",
    "# The following will produce: [\"0-5\", \"5-10\", \"10-15\", ... , \"60 <\"].\n",
    "upper_limit = 60\n",
    "step = 5\n",
    "names = ['%s - %s' % (x-5, x) for x in range(step, upper_limit, step)]\n",
    "\n",
    "# Add legend label for times over 60.\n",
    "names.append('%s <' % upper_limit)"
   ]
  },
  {
   "cell_type": "code",
   "execution_count": 57,
   "metadata": {},
   "outputs": [],
   "source": [
    "# Assign legend names for the classes\n",
    "ttimes['label_pt'] = None\n",
    "ttimes['label_car'] = None"
   ]
  },
  {
   "cell_type": "code",
   "execution_count": 59,
   "metadata": {},
   "outputs": [],
   "source": [
    "# Update rows with class names\n",
    "for i in range(len(names)):\n",
    "    ttimes.loc[ttimes['pt_r_tt_usrdef'] == i, 'label_pt'] = names[i]\n",
    "    ttimes.loc[ttimes['pt_r_tt_usrdef'] == i, 'label_pt'] = names[i]\n",
    "\n",
    "# Update all cells that didn’t get any value with \"60 <\"\n",
    "ttimes['label_pt'] = ttimes['label_pt'].fillna('%s <' % upper_limit)\n",
    "ttimes['label_car'] = ttimes['label_car'].fillna('%s <' % upper_limit)"
   ]
  },
  {
   "cell_type": "code",
   "execution_count": 61,
   "metadata": {},
   "outputs": [
    {
     "ename": "KeyError",
     "evalue": "\"['pt_r_tt_ud'] not in index\"",
     "output_type": "error",
     "traceback": [
      "\u001b[1;31m---------------------------------------------------------------------------\u001b[0m",
      "\u001b[1;31mKeyError\u001b[0m                                  Traceback (most recent call last)",
      "\u001b[1;32m<ipython-input-61-792a468b6294>\u001b[0m in \u001b[0;36m<module>\u001b[1;34m()\u001b[0m\n\u001b[1;32m----> 1\u001b[1;33m \u001b[0mdf\u001b[0m \u001b[1;33m=\u001b[0m \u001b[0mttimes\u001b[0m\u001b[1;33m[\u001b[0m\u001b[1;33m[\u001b[0m\u001b[1;34m'x'\u001b[0m\u001b[1;33m,\u001b[0m \u001b[1;34m'y'\u001b[0m\u001b[1;33m,\u001b[0m \u001b[1;34m'pt_r_tt_ud'\u001b[0m\u001b[1;33m,\u001b[0m \u001b[1;34m'pt_r_tt'\u001b[0m\u001b[1;33m,\u001b[0m \u001b[1;34m'car_r_t'\u001b[0m\u001b[1;33m,\u001b[0m \u001b[1;34m'from_id'\u001b[0m\u001b[1;33m,\u001b[0m \u001b[1;34m'label_pt'\u001b[0m\u001b[1;33m]\u001b[0m\u001b[1;33m]\u001b[0m\u001b[1;33m\u001b[0m\u001b[0m\n\u001b[0m",
      "\u001b[1;32mC:\\ProgramData\\Anaconda3\\envs\\geopy\\lib\\site-packages\\geopandas\\geodataframe.py\u001b[0m in \u001b[0;36m__getitem__\u001b[1;34m(self, key)\u001b[0m\n\u001b[0;32m    453\u001b[0m         \u001b[0mGeoDataFrame\u001b[0m\u001b[1;33m.\u001b[0m\u001b[1;33m\u001b[0m\u001b[0m\n\u001b[0;32m    454\u001b[0m         \"\"\"\n\u001b[1;32m--> 455\u001b[1;33m         \u001b[0mresult\u001b[0m \u001b[1;33m=\u001b[0m \u001b[0msuper\u001b[0m\u001b[1;33m(\u001b[0m\u001b[0mGeoDataFrame\u001b[0m\u001b[1;33m,\u001b[0m \u001b[0mself\u001b[0m\u001b[1;33m)\u001b[0m\u001b[1;33m.\u001b[0m\u001b[0m__getitem__\u001b[0m\u001b[1;33m(\u001b[0m\u001b[0mkey\u001b[0m\u001b[1;33m)\u001b[0m\u001b[1;33m\u001b[0m\u001b[0m\n\u001b[0m\u001b[0;32m    456\u001b[0m         \u001b[0mgeo_col\u001b[0m \u001b[1;33m=\u001b[0m \u001b[0mself\u001b[0m\u001b[1;33m.\u001b[0m\u001b[0m_geometry_column_name\u001b[0m\u001b[1;33m\u001b[0m\u001b[0m\n\u001b[0;32m    457\u001b[0m         \u001b[1;32mif\u001b[0m \u001b[0misinstance\u001b[0m\u001b[1;33m(\u001b[0m\u001b[0mkey\u001b[0m\u001b[1;33m,\u001b[0m \u001b[0mstring_types\u001b[0m\u001b[1;33m)\u001b[0m \u001b[1;32mand\u001b[0m \u001b[0mkey\u001b[0m \u001b[1;33m==\u001b[0m \u001b[0mgeo_col\u001b[0m\u001b[1;33m:\u001b[0m\u001b[1;33m\u001b[0m\u001b[0m\n",
      "\u001b[1;32mC:\\ProgramData\\Anaconda3\\envs\\geopy\\lib\\site-packages\\pandas\\core\\frame.py\u001b[0m in \u001b[0;36m__getitem__\u001b[1;34m(self, key)\u001b[0m\n\u001b[0;32m   2680\u001b[0m         \u001b[1;32mif\u001b[0m \u001b[0misinstance\u001b[0m\u001b[1;33m(\u001b[0m\u001b[0mkey\u001b[0m\u001b[1;33m,\u001b[0m \u001b[1;33m(\u001b[0m\u001b[0mSeries\u001b[0m\u001b[1;33m,\u001b[0m \u001b[0mnp\u001b[0m\u001b[1;33m.\u001b[0m\u001b[0mndarray\u001b[0m\u001b[1;33m,\u001b[0m \u001b[0mIndex\u001b[0m\u001b[1;33m,\u001b[0m \u001b[0mlist\u001b[0m\u001b[1;33m)\u001b[0m\u001b[1;33m)\u001b[0m\u001b[1;33m:\u001b[0m\u001b[1;33m\u001b[0m\u001b[0m\n\u001b[0;32m   2681\u001b[0m             \u001b[1;31m# either boolean or fancy integer index\u001b[0m\u001b[1;33m\u001b[0m\u001b[1;33m\u001b[0m\u001b[0m\n\u001b[1;32m-> 2682\u001b[1;33m             \u001b[1;32mreturn\u001b[0m \u001b[0mself\u001b[0m\u001b[1;33m.\u001b[0m\u001b[0m_getitem_array\u001b[0m\u001b[1;33m(\u001b[0m\u001b[0mkey\u001b[0m\u001b[1;33m)\u001b[0m\u001b[1;33m\u001b[0m\u001b[0m\n\u001b[0m\u001b[0;32m   2683\u001b[0m         \u001b[1;32melif\u001b[0m \u001b[0misinstance\u001b[0m\u001b[1;33m(\u001b[0m\u001b[0mkey\u001b[0m\u001b[1;33m,\u001b[0m \u001b[0mDataFrame\u001b[0m\u001b[1;33m)\u001b[0m\u001b[1;33m:\u001b[0m\u001b[1;33m\u001b[0m\u001b[0m\n\u001b[0;32m   2684\u001b[0m             \u001b[1;32mreturn\u001b[0m \u001b[0mself\u001b[0m\u001b[1;33m.\u001b[0m\u001b[0m_getitem_frame\u001b[0m\u001b[1;33m(\u001b[0m\u001b[0mkey\u001b[0m\u001b[1;33m)\u001b[0m\u001b[1;33m\u001b[0m\u001b[0m\n",
      "\u001b[1;32mC:\\ProgramData\\Anaconda3\\envs\\geopy\\lib\\site-packages\\pandas\\core\\frame.py\u001b[0m in \u001b[0;36m_getitem_array\u001b[1;34m(self, key)\u001b[0m\n\u001b[0;32m   2724\u001b[0m             \u001b[1;32mreturn\u001b[0m \u001b[0mself\u001b[0m\u001b[1;33m.\u001b[0m\u001b[0m_take\u001b[0m\u001b[1;33m(\u001b[0m\u001b[0mindexer\u001b[0m\u001b[1;33m,\u001b[0m \u001b[0maxis\u001b[0m\u001b[1;33m=\u001b[0m\u001b[1;36m0\u001b[0m\u001b[1;33m)\u001b[0m\u001b[1;33m\u001b[0m\u001b[0m\n\u001b[0;32m   2725\u001b[0m         \u001b[1;32melse\u001b[0m\u001b[1;33m:\u001b[0m\u001b[1;33m\u001b[0m\u001b[0m\n\u001b[1;32m-> 2726\u001b[1;33m             \u001b[0mindexer\u001b[0m \u001b[1;33m=\u001b[0m \u001b[0mself\u001b[0m\u001b[1;33m.\u001b[0m\u001b[0mloc\u001b[0m\u001b[1;33m.\u001b[0m\u001b[0m_convert_to_indexer\u001b[0m\u001b[1;33m(\u001b[0m\u001b[0mkey\u001b[0m\u001b[1;33m,\u001b[0m \u001b[0maxis\u001b[0m\u001b[1;33m=\u001b[0m\u001b[1;36m1\u001b[0m\u001b[1;33m)\u001b[0m\u001b[1;33m\u001b[0m\u001b[0m\n\u001b[0m\u001b[0;32m   2727\u001b[0m             \u001b[1;32mreturn\u001b[0m \u001b[0mself\u001b[0m\u001b[1;33m.\u001b[0m\u001b[0m_take\u001b[0m\u001b[1;33m(\u001b[0m\u001b[0mindexer\u001b[0m\u001b[1;33m,\u001b[0m \u001b[0maxis\u001b[0m\u001b[1;33m=\u001b[0m\u001b[1;36m1\u001b[0m\u001b[1;33m)\u001b[0m\u001b[1;33m\u001b[0m\u001b[0m\n\u001b[0;32m   2728\u001b[0m \u001b[1;33m\u001b[0m\u001b[0m\n",
      "\u001b[1;32mC:\\ProgramData\\Anaconda3\\envs\\geopy\\lib\\site-packages\\pandas\\core\\indexing.py\u001b[0m in \u001b[0;36m_convert_to_indexer\u001b[1;34m(self, obj, axis, is_setter)\u001b[0m\n\u001b[0;32m   1325\u001b[0m                 \u001b[1;32mif\u001b[0m \u001b[0mmask\u001b[0m\u001b[1;33m.\u001b[0m\u001b[0many\u001b[0m\u001b[1;33m(\u001b[0m\u001b[1;33m)\u001b[0m\u001b[1;33m:\u001b[0m\u001b[1;33m\u001b[0m\u001b[0m\n\u001b[0;32m   1326\u001b[0m                     raise KeyError('{mask} not in index'\n\u001b[1;32m-> 1327\u001b[1;33m                                    .format(mask=objarr[mask]))\n\u001b[0m\u001b[0;32m   1328\u001b[0m \u001b[1;33m\u001b[0m\u001b[0m\n\u001b[0;32m   1329\u001b[0m                 \u001b[1;32mreturn\u001b[0m \u001b[0mcom\u001b[0m\u001b[1;33m.\u001b[0m\u001b[0m_values_from_object\u001b[0m\u001b[1;33m(\u001b[0m\u001b[0mindexer\u001b[0m\u001b[1;33m)\u001b[0m\u001b[1;33m\u001b[0m\u001b[0m\n",
      "\u001b[1;31mKeyError\u001b[0m: \"['pt_r_tt_ud'] not in index\""
     ]
    }
   ],
   "source": [
    "df = ttimes[['x', 'y', 'pt_r_tt_ud', 'pt_r_tt', 'car_r_t', 'from_id', 'label_pt']]\n"
   ]
  },
  {
   "cell_type": "code",
   "execution_count": 65,
   "metadata": {},
   "outputs": [
    {
     "name": "stderr",
     "output_type": "stream",
     "text": [
      "C:\\ProgramData\\Anaconda3\\envs\\geopy\\lib\\site-packages\\bokeh\\io\\saving.py:123: UserWarning: save() called but no resources were supplied and output_file(...) was never called, defaulting to resources.CDN\n",
      "  warn(\"save() called but no resources were supplied and output_file(...) was never called, defaulting to resources.CDN\")\n",
      "C:\\ProgramData\\Anaconda3\\envs\\geopy\\lib\\site-packages\\bokeh\\io\\saving.py:136: UserWarning: save() called but no title was supplied and output_file(...) was never called, using default title 'Bokeh Plot'\n",
      "  warn(\"save() called but no title was supplied and output_file(...) was never called, using default title 'Bokeh Plot'\")\n"
     ]
    },
    {
     "ename": "ValueError",
     "evalue": "Out of range float values are not JSON compliant",
     "output_type": "error",
     "traceback": [
      "\u001b[1;31m---------------------------------------------------------------------------\u001b[0m",
      "\u001b[1;31mValueError\u001b[0m                                Traceback (most recent call last)",
      "\u001b[1;32m<ipython-input-65-e7daa12c4f41>\u001b[0m in \u001b[0;36m<module>\u001b[1;34m()\u001b[0m\n\u001b[0;32m     62\u001b[0m \u001b[1;33m\u001b[0m\u001b[0m\n\u001b[0;32m     63\u001b[0m \u001b[1;31m# Save the map\u001b[0m\u001b[1;33m\u001b[0m\u001b[1;33m\u001b[0m\u001b[0m\n\u001b[1;32m---> 64\u001b[1;33m \u001b[0msave\u001b[0m\u001b[1;33m(\u001b[0m\u001b[0mp\u001b[0m\u001b[1;33m,\u001b[0m \u001b[0mfilename\u001b[0m\u001b[1;33m=\u001b[0m\u001b[0moutput_file\u001b[0m\u001b[1;33m)\u001b[0m\u001b[1;33m\u001b[0m\u001b[0m\n\u001b[0m",
      "\u001b[1;32mC:\\ProgramData\\Anaconda3\\envs\\geopy\\lib\\site-packages\\bokeh\\io\\saving.py\u001b[0m in \u001b[0;36msave\u001b[1;34m(obj, filename, resources, title, template, state, **kwargs)\u001b[0m\n\u001b[0;32m     81\u001b[0m \u001b[1;33m\u001b[0m\u001b[0m\n\u001b[0;32m     82\u001b[0m     \u001b[0mfilename\u001b[0m\u001b[1;33m,\u001b[0m \u001b[0mresources\u001b[0m\u001b[1;33m,\u001b[0m \u001b[0mtitle\u001b[0m \u001b[1;33m=\u001b[0m \u001b[0m_get_save_args\u001b[0m\u001b[1;33m(\u001b[0m\u001b[0mstate\u001b[0m\u001b[1;33m,\u001b[0m \u001b[0mfilename\u001b[0m\u001b[1;33m,\u001b[0m \u001b[0mresources\u001b[0m\u001b[1;33m,\u001b[0m \u001b[0mtitle\u001b[0m\u001b[1;33m)\u001b[0m\u001b[1;33m\u001b[0m\u001b[0m\n\u001b[1;32m---> 83\u001b[1;33m     \u001b[0m_save_helper\u001b[0m\u001b[1;33m(\u001b[0m\u001b[0mobj\u001b[0m\u001b[1;33m,\u001b[0m \u001b[0mfilename\u001b[0m\u001b[1;33m,\u001b[0m \u001b[0mresources\u001b[0m\u001b[1;33m,\u001b[0m \u001b[0mtitle\u001b[0m\u001b[1;33m,\u001b[0m \u001b[0mtemplate\u001b[0m\u001b[1;33m)\u001b[0m\u001b[1;33m\u001b[0m\u001b[0m\n\u001b[0m\u001b[0;32m     84\u001b[0m     \u001b[1;32mreturn\u001b[0m \u001b[0mabspath\u001b[0m\u001b[1;33m(\u001b[0m\u001b[0mfilename\u001b[0m\u001b[1;33m)\u001b[0m\u001b[1;33m\u001b[0m\u001b[0m\n\u001b[0;32m     85\u001b[0m \u001b[1;33m\u001b[0m\u001b[0m\n",
      "\u001b[1;32mC:\\ProgramData\\Anaconda3\\envs\\geopy\\lib\\site-packages\\bokeh\\io\\saving.py\u001b[0m in \u001b[0;36m_save_helper\u001b[1;34m(obj, filename, resources, title, template)\u001b[0m\n\u001b[0;32m    143\u001b[0m     '''\n\u001b[0;32m    144\u001b[0m     \u001b[1;32mfrom\u001b[0m \u001b[1;33m.\u001b[0m\u001b[1;33m.\u001b[0m\u001b[0membed\u001b[0m \u001b[1;32mimport\u001b[0m \u001b[0mfile_html\u001b[0m\u001b[1;33m\u001b[0m\u001b[0m\n\u001b[1;32m--> 145\u001b[1;33m     \u001b[0mhtml\u001b[0m \u001b[1;33m=\u001b[0m \u001b[0mfile_html\u001b[0m\u001b[1;33m(\u001b[0m\u001b[0mobj\u001b[0m\u001b[1;33m,\u001b[0m \u001b[0mresources\u001b[0m\u001b[1;33m,\u001b[0m \u001b[0mtitle\u001b[0m\u001b[1;33m=\u001b[0m\u001b[0mtitle\u001b[0m\u001b[1;33m,\u001b[0m \u001b[0mtemplate\u001b[0m\u001b[1;33m=\u001b[0m\u001b[0mtemplate\u001b[0m\u001b[1;33m)\u001b[0m\u001b[1;33m\u001b[0m\u001b[0m\n\u001b[0m\u001b[0;32m    146\u001b[0m \u001b[1;33m\u001b[0m\u001b[0m\n\u001b[0;32m    147\u001b[0m     \u001b[1;32mwith\u001b[0m \u001b[0mio\u001b[0m\u001b[1;33m.\u001b[0m\u001b[0mopen\u001b[0m\u001b[1;33m(\u001b[0m\u001b[0mfilename\u001b[0m\u001b[1;33m,\u001b[0m \u001b[0mmode\u001b[0m\u001b[1;33m=\u001b[0m\u001b[1;34m\"w\"\u001b[0m\u001b[1;33m,\u001b[0m \u001b[0mencoding\u001b[0m\u001b[1;33m=\u001b[0m\u001b[1;34m\"utf-8\"\u001b[0m\u001b[1;33m)\u001b[0m \u001b[1;32mas\u001b[0m \u001b[0mf\u001b[0m\u001b[1;33m:\u001b[0m\u001b[1;33m\u001b[0m\u001b[0m\n",
      "\u001b[1;32mC:\\ProgramData\\Anaconda3\\envs\\geopy\\lib\\site-packages\\bokeh\\embed\\standalone.py\u001b[0m in \u001b[0;36mfile_html\u001b[1;34m(models, resources, title, template, template_variables, theme)\u001b[0m\n\u001b[0;32m    279\u001b[0m \u001b[1;33m\u001b[0m\u001b[0m\n\u001b[0;32m    280\u001b[0m     \u001b[1;32mwith\u001b[0m \u001b[0m_ModelInDocument\u001b[0m\u001b[1;33m(\u001b[0m\u001b[0mmodels\u001b[0m\u001b[1;33m,\u001b[0m \u001b[0mapply_theme\u001b[0m\u001b[1;33m=\u001b[0m\u001b[0mtheme\u001b[0m\u001b[1;33m)\u001b[0m \u001b[1;32mas\u001b[0m \u001b[0mdoc\u001b[0m\u001b[1;33m:\u001b[0m\u001b[1;33m\u001b[0m\u001b[0m\n\u001b[1;32m--> 281\u001b[1;33m         \u001b[1;33m(\u001b[0m\u001b[0mdocs_json\u001b[0m\u001b[1;33m,\u001b[0m \u001b[0mrender_items\u001b[0m\u001b[1;33m)\u001b[0m \u001b[1;33m=\u001b[0m \u001b[0mstandalone_docs_json_and_render_items\u001b[0m\u001b[1;33m(\u001b[0m\u001b[0mmodels\u001b[0m\u001b[1;33m)\u001b[0m\u001b[1;33m\u001b[0m\u001b[0m\n\u001b[0m\u001b[0;32m    282\u001b[0m         \u001b[0mtitle\u001b[0m \u001b[1;33m=\u001b[0m \u001b[0m_title_from_models\u001b[0m\u001b[1;33m(\u001b[0m\u001b[0mmodels\u001b[0m\u001b[1;33m,\u001b[0m \u001b[0mtitle\u001b[0m\u001b[1;33m)\u001b[0m\u001b[1;33m\u001b[0m\u001b[0m\n\u001b[0;32m    283\u001b[0m         \u001b[0mbundle\u001b[0m \u001b[1;33m=\u001b[0m \u001b[0mbundle_for_objs_and_resources\u001b[0m\u001b[1;33m(\u001b[0m\u001b[1;33m[\u001b[0m\u001b[0mdoc\u001b[0m\u001b[1;33m]\u001b[0m\u001b[1;33m,\u001b[0m \u001b[0mresources\u001b[0m\u001b[1;33m)\u001b[0m\u001b[1;33m\u001b[0m\u001b[0m\n",
      "\u001b[1;32mC:\\ProgramData\\Anaconda3\\envs\\geopy\\lib\\site-packages\\bokeh\\embed\\util.py\u001b[0m in \u001b[0;36mstandalone_docs_json_and_render_items\u001b[1;34m(models)\u001b[0m\n\u001b[0;32m    338\u001b[0m     \u001b[0mdocs_json\u001b[0m \u001b[1;33m=\u001b[0m \u001b[1;33m{\u001b[0m\u001b[1;33m}\u001b[0m\u001b[1;33m\u001b[0m\u001b[0m\n\u001b[0;32m    339\u001b[0m     \u001b[1;32mfor\u001b[0m \u001b[0mdoc\u001b[0m\u001b[1;33m,\u001b[0m \u001b[1;33m(\u001b[0m\u001b[0mdocid\u001b[0m\u001b[1;33m,\u001b[0m \u001b[0m_\u001b[0m\u001b[1;33m)\u001b[0m \u001b[1;32min\u001b[0m \u001b[0mdocs\u001b[0m\u001b[1;33m.\u001b[0m\u001b[0mitems\u001b[0m\u001b[1;33m(\u001b[0m\u001b[1;33m)\u001b[0m\u001b[1;33m:\u001b[0m\u001b[1;33m\u001b[0m\u001b[0m\n\u001b[1;32m--> 340\u001b[1;33m         \u001b[0mdocs_json\u001b[0m\u001b[1;33m[\u001b[0m\u001b[0mdocid\u001b[0m\u001b[1;33m]\u001b[0m \u001b[1;33m=\u001b[0m \u001b[0mdoc\u001b[0m\u001b[1;33m.\u001b[0m\u001b[0mto_json\u001b[0m\u001b[1;33m(\u001b[0m\u001b[1;33m)\u001b[0m\u001b[1;33m\u001b[0m\u001b[0m\n\u001b[0m\u001b[0;32m    341\u001b[0m \u001b[1;33m\u001b[0m\u001b[0m\n\u001b[0;32m    342\u001b[0m     \u001b[0mrender_items\u001b[0m \u001b[1;33m=\u001b[0m \u001b[1;33m[\u001b[0m\u001b[1;33m]\u001b[0m\u001b[1;33m\u001b[0m\u001b[0m\n",
      "\u001b[1;32mC:\\ProgramData\\Anaconda3\\envs\\geopy\\lib\\site-packages\\bokeh\\document\\document.py\u001b[0m in \u001b[0;36mto_json\u001b[1;34m(self)\u001b[0m\n\u001b[0;32m    779\u001b[0m         \u001b[1;31m# this is a total hack to go via a string, needed because\u001b[0m\u001b[1;33m\u001b[0m\u001b[1;33m\u001b[0m\u001b[0m\n\u001b[0;32m    780\u001b[0m         \u001b[1;31m# our BokehJSONEncoder goes straight to a string.\u001b[0m\u001b[1;33m\u001b[0m\u001b[1;33m\u001b[0m\u001b[0m\n\u001b[1;32m--> 781\u001b[1;33m         \u001b[0mdoc_json\u001b[0m \u001b[1;33m=\u001b[0m \u001b[0mself\u001b[0m\u001b[1;33m.\u001b[0m\u001b[0mto_json_string\u001b[0m\u001b[1;33m(\u001b[0m\u001b[1;33m)\u001b[0m\u001b[1;33m\u001b[0m\u001b[0m\n\u001b[0m\u001b[0;32m    782\u001b[0m         \u001b[1;32mreturn\u001b[0m \u001b[0mloads\u001b[0m\u001b[1;33m(\u001b[0m\u001b[0mdoc_json\u001b[0m\u001b[1;33m)\u001b[0m\u001b[1;33m\u001b[0m\u001b[0m\n\u001b[0;32m    783\u001b[0m \u001b[1;33m\u001b[0m\u001b[0m\n",
      "\u001b[1;32mC:\\ProgramData\\Anaconda3\\envs\\geopy\\lib\\site-packages\\bokeh\\document\\document.py\u001b[0m in \u001b[0;36mto_json_string\u001b[1;34m(self, indent)\u001b[0m\n\u001b[0;32m    808\u001b[0m         }\n\u001b[0;32m    809\u001b[0m \u001b[1;33m\u001b[0m\u001b[0m\n\u001b[1;32m--> 810\u001b[1;33m         \u001b[1;32mreturn\u001b[0m \u001b[0mserialize_json\u001b[0m\u001b[1;33m(\u001b[0m\u001b[0mjson\u001b[0m\u001b[1;33m,\u001b[0m \u001b[0mindent\u001b[0m\u001b[1;33m=\u001b[0m\u001b[0mindent\u001b[0m\u001b[1;33m)\u001b[0m\u001b[1;33m\u001b[0m\u001b[0m\n\u001b[0m\u001b[0;32m    811\u001b[0m \u001b[1;33m\u001b[0m\u001b[0m\n\u001b[0;32m    812\u001b[0m     \u001b[1;32mdef\u001b[0m \u001b[0mvalidate\u001b[0m\u001b[1;33m(\u001b[0m\u001b[0mself\u001b[0m\u001b[1;33m)\u001b[0m\u001b[1;33m:\u001b[0m\u001b[1;33m\u001b[0m\u001b[0m\n",
      "\u001b[1;32mC:\\ProgramData\\Anaconda3\\envs\\geopy\\lib\\site-packages\\bokeh\\core\\json_encoder.py\u001b[0m in \u001b[0;36mserialize_json\u001b[1;34m(obj, pretty, indent, **kwargs)\u001b[0m\n\u001b[0;32m    211\u001b[0m         \u001b[0mindent\u001b[0m \u001b[1;33m=\u001b[0m \u001b[1;36m2\u001b[0m\u001b[1;33m\u001b[0m\u001b[0m\n\u001b[0;32m    212\u001b[0m \u001b[1;33m\u001b[0m\u001b[0m\n\u001b[1;32m--> 213\u001b[1;33m     \u001b[1;32mreturn\u001b[0m \u001b[0mjson\u001b[0m\u001b[1;33m.\u001b[0m\u001b[0mdumps\u001b[0m\u001b[1;33m(\u001b[0m\u001b[0mobj\u001b[0m\u001b[1;33m,\u001b[0m \u001b[0mcls\u001b[0m\u001b[1;33m=\u001b[0m\u001b[0mBokehJSONEncoder\u001b[0m\u001b[1;33m,\u001b[0m \u001b[0mallow_nan\u001b[0m\u001b[1;33m=\u001b[0m\u001b[1;32mFalse\u001b[0m\u001b[1;33m,\u001b[0m \u001b[0mindent\u001b[0m\u001b[1;33m=\u001b[0m\u001b[0mindent\u001b[0m\u001b[1;33m,\u001b[0m \u001b[0mseparators\u001b[0m\u001b[1;33m=\u001b[0m\u001b[0mseparators\u001b[0m\u001b[1;33m,\u001b[0m \u001b[0msort_keys\u001b[0m\u001b[1;33m=\u001b[0m\u001b[1;32mTrue\u001b[0m\u001b[1;33m,\u001b[0m \u001b[1;33m**\u001b[0m\u001b[0mkwargs\u001b[0m\u001b[1;33m)\u001b[0m\u001b[1;33m\u001b[0m\u001b[0m\n\u001b[0m",
      "\u001b[1;32mC:\\ProgramData\\Anaconda3\\envs\\geopy\\lib\\json\\__init__.py\u001b[0m in \u001b[0;36mdumps\u001b[1;34m(obj, skipkeys, ensure_ascii, check_circular, allow_nan, cls, indent, separators, default, sort_keys, **kw)\u001b[0m\n\u001b[0;32m    236\u001b[0m         \u001b[0mcheck_circular\u001b[0m\u001b[1;33m=\u001b[0m\u001b[0mcheck_circular\u001b[0m\u001b[1;33m,\u001b[0m \u001b[0mallow_nan\u001b[0m\u001b[1;33m=\u001b[0m\u001b[0mallow_nan\u001b[0m\u001b[1;33m,\u001b[0m \u001b[0mindent\u001b[0m\u001b[1;33m=\u001b[0m\u001b[0mindent\u001b[0m\u001b[1;33m,\u001b[0m\u001b[1;33m\u001b[0m\u001b[0m\n\u001b[0;32m    237\u001b[0m         \u001b[0mseparators\u001b[0m\u001b[1;33m=\u001b[0m\u001b[0mseparators\u001b[0m\u001b[1;33m,\u001b[0m \u001b[0mdefault\u001b[0m\u001b[1;33m=\u001b[0m\u001b[0mdefault\u001b[0m\u001b[1;33m,\u001b[0m \u001b[0msort_keys\u001b[0m\u001b[1;33m=\u001b[0m\u001b[0msort_keys\u001b[0m\u001b[1;33m,\u001b[0m\u001b[1;33m\u001b[0m\u001b[0m\n\u001b[1;32m--> 238\u001b[1;33m         **kw).encode(obj)\n\u001b[0m\u001b[0;32m    239\u001b[0m \u001b[1;33m\u001b[0m\u001b[0m\n\u001b[0;32m    240\u001b[0m \u001b[1;33m\u001b[0m\u001b[0m\n",
      "\u001b[1;32mC:\\ProgramData\\Anaconda3\\envs\\geopy\\lib\\json\\encoder.py\u001b[0m in \u001b[0;36mencode\u001b[1;34m(self, o)\u001b[0m\n\u001b[0;32m    197\u001b[0m         \u001b[1;31m# exceptions aren't as detailed.  The list call should be roughly\u001b[0m\u001b[1;33m\u001b[0m\u001b[1;33m\u001b[0m\u001b[0m\n\u001b[0;32m    198\u001b[0m         \u001b[1;31m# equivalent to the PySequence_Fast that ''.join() would do.\u001b[0m\u001b[1;33m\u001b[0m\u001b[1;33m\u001b[0m\u001b[0m\n\u001b[1;32m--> 199\u001b[1;33m         \u001b[0mchunks\u001b[0m \u001b[1;33m=\u001b[0m \u001b[0mself\u001b[0m\u001b[1;33m.\u001b[0m\u001b[0miterencode\u001b[0m\u001b[1;33m(\u001b[0m\u001b[0mo\u001b[0m\u001b[1;33m,\u001b[0m \u001b[0m_one_shot\u001b[0m\u001b[1;33m=\u001b[0m\u001b[1;32mTrue\u001b[0m\u001b[1;33m)\u001b[0m\u001b[1;33m\u001b[0m\u001b[0m\n\u001b[0m\u001b[0;32m    200\u001b[0m         \u001b[1;32mif\u001b[0m \u001b[1;32mnot\u001b[0m \u001b[0misinstance\u001b[0m\u001b[1;33m(\u001b[0m\u001b[0mchunks\u001b[0m\u001b[1;33m,\u001b[0m \u001b[1;33m(\u001b[0m\u001b[0mlist\u001b[0m\u001b[1;33m,\u001b[0m \u001b[0mtuple\u001b[0m\u001b[1;33m)\u001b[0m\u001b[1;33m)\u001b[0m\u001b[1;33m:\u001b[0m\u001b[1;33m\u001b[0m\u001b[0m\n\u001b[0;32m    201\u001b[0m             \u001b[0mchunks\u001b[0m \u001b[1;33m=\u001b[0m \u001b[0mlist\u001b[0m\u001b[1;33m(\u001b[0m\u001b[0mchunks\u001b[0m\u001b[1;33m)\u001b[0m\u001b[1;33m\u001b[0m\u001b[0m\n",
      "\u001b[1;32mC:\\ProgramData\\Anaconda3\\envs\\geopy\\lib\\json\\encoder.py\u001b[0m in \u001b[0;36miterencode\u001b[1;34m(self, o, _one_shot)\u001b[0m\n\u001b[0;32m    255\u001b[0m                 \u001b[0mself\u001b[0m\u001b[1;33m.\u001b[0m\u001b[0mkey_separator\u001b[0m\u001b[1;33m,\u001b[0m \u001b[0mself\u001b[0m\u001b[1;33m.\u001b[0m\u001b[0mitem_separator\u001b[0m\u001b[1;33m,\u001b[0m \u001b[0mself\u001b[0m\u001b[1;33m.\u001b[0m\u001b[0msort_keys\u001b[0m\u001b[1;33m,\u001b[0m\u001b[1;33m\u001b[0m\u001b[0m\n\u001b[0;32m    256\u001b[0m                 self.skipkeys, _one_shot)\n\u001b[1;32m--> 257\u001b[1;33m         \u001b[1;32mreturn\u001b[0m \u001b[0m_iterencode\u001b[0m\u001b[1;33m(\u001b[0m\u001b[0mo\u001b[0m\u001b[1;33m,\u001b[0m \u001b[1;36m0\u001b[0m\u001b[1;33m)\u001b[0m\u001b[1;33m\u001b[0m\u001b[0m\n\u001b[0m\u001b[0;32m    258\u001b[0m \u001b[1;33m\u001b[0m\u001b[0m\n\u001b[0;32m    259\u001b[0m def _make_iterencode(markers, _default, _encoder, _indent, _floatstr,\n",
      "\u001b[1;31mValueError\u001b[0m: Out of range float values are not JSON compliant"
     ]
    }
   ],
   "source": [
    "# Select only necessary columns for our plotting to keep the amount of data minumum\n",
    "df = ttimes[['x', 'y', 'pt_r_tt_usrdef', 'pt_r_tt', 'car_r_t', 'from_id', 'label_pt']]\n",
    "dfsource = ColumnDataSource(data=df)\n",
    "\n",
    "# Include only coordinates from roads (exclude 'geometry' column)\n",
    "rdf = roads[['x', 'y']]\n",
    "rdfsource = ColumnDataSource(data=rdf)\n",
    "\n",
    "# Include only coordinates from metro (exclude 'geometry' column)\n",
    "mdf = metro[['x','y']]\n",
    "mdfsource = ColumnDataSource(data=mdf)\n",
    "\n",
    "# Specify the tools that we want to use\n",
    "TOOLS = \"pan, wheel_zoom, box_zoom, reset, save\"\n",
    "\n",
    "# Flip the colors in color palette\n",
    "palette.reverse()\n",
    "color_mapper = LogColorMapper(palette=palette)\n",
    "\n",
    "p = figure(title=\"Travel times to Helsinki city center by public transportation\", \n",
    "           tools=TOOLS, plot_width=650, plot_height=500, active_scroll = \"wheel_zoom\" )\n",
    "\n",
    "# Do not add grid line\n",
    "p.grid.grid_line_color = None\n",
    "\n",
    "# Add polygon grid and a legend for it\n",
    "grid = p.patches('x', 'y', source=dfsource, name=\"grid\",\n",
    "         fill_color={'field': 'pt_r_tt_usrdef', 'transform': color_mapper},\n",
    "         fill_alpha=1.0, line_color=\"black\", line_width=0.03, legend=\"label_pt\")\n",
    "\n",
    "# Add roads\n",
    "r = p.multi_line('x', 'y', source=rdfsource, color=\"grey\")\n",
    "\n",
    "# Add metro\n",
    "m = p.multi_line('x', 'y', source=mdfsource, color=\"red\")\n",
    "\n",
    "# Modify legend location\n",
    "p.legend.location = \"top_right\"\n",
    "p.legend.orientation = \"vertical\"\n",
    "\n",
    "# Insert a circle on top of the Central Railway Station (coords in EurefFIN-TM35FIN)\n",
    "station_x = 385752.214\n",
    "station_y =  6672143.803\n",
    "circle = p.circle(x=[station_x], y=[station_y], name=\"point\", size=6, color=\"yellow\")\n",
    "\n",
    "# Add two separate hover tools for the data\n",
    "phover = HoverTool(renderers=[circle])\n",
    "phover.tooltips=[(\"Destination\", \"Railway Station\")]\n",
    "\n",
    "ghover = HoverTool(renderers=[grid])\n",
    "ghover.tooltips=[\n",
    "    (\"YKR-ID\", \"@from_id\"),\n",
    "    (\"PT time\", \"@pt_r_tt\"),\n",
    "    (\"Car time\", \"@car_r_t\"),\n",
    "]\n",
    "\n",
    "p.add_tools(ghover)\n",
    "p.add_tools(phover)\n",
    "\n",
    "# Output filepath to HTML\n",
    "output_file = r\"output/accessibility_map_Helsinki.html\"\n",
    "\n",
    "# Save the map\n",
    "save(p, filename=output_file)"
   ]
  },
  {
   "cell_type": "code",
   "execution_count": 70,
   "metadata": {},
   "outputs": [
    {
     "name": "stderr",
     "output_type": "stream",
     "text": [
      "C:\\ProgramData\\Anaconda3\\envs\\geopy\\lib\\site-packages\\bokeh\\io\\saving.py:123: UserWarning: save() called but no resources were supplied and output_file(...) was never called, defaulting to resources.CDN\n",
      "  warn(\"save() called but no resources were supplied and output_file(...) was never called, defaulting to resources.CDN\")\n",
      "C:\\ProgramData\\Anaconda3\\envs\\geopy\\lib\\site-packages\\bokeh\\io\\saving.py:136: UserWarning: save() called but no title was supplied and output_file(...) was never called, using default title 'Bokeh Plot'\n",
      "  warn(\"save() called but no title was supplied and output_file(...) was never called, using default title 'Bokeh Plot'\")\n"
     ]
    },
    {
     "data": {
      "text/html": [
       "<iframe src=output\\test_map.html width=700 height=650> </iframe>"
      ],
      "text/plain": [
       "<IPython.core.display.HTML object>"
      ]
     },
     "execution_count": 70,
     "metadata": {},
     "output_type": "execute_result"
    }
   ],
   "source": [
    "import geopandas as gpd\n",
    "from bokeh.plotting import save, figure\n",
    "from bokeh.models import GeoJSONDataSource\n",
    "\n",
    "addresses_fp = r'data/addresses.shp'\n",
    "roads_fp = r'data/roads.shp'\n",
    "\n",
    "# Read the data\n",
    "addresses = gpd.read_file(addresses_fp)\n",
    "roads = gpd.read_file(roads_fp)\n",
    "\n",
    "# Reproject to the same projection\n",
    "CRS = roads.crs\n",
    "addresses = addresses.to_crs(crs=CRS)\n",
    "\n",
    "# Convert GeoDataFrames into GeoJSONDataSource objects (similar to ColumnDataSource)\n",
    "point_source = GeoJSONDataSource(geojson=addresses.to_json())\n",
    "roads_source = GeoJSONDataSource(geojson=roads.to_json())\n",
    "\n",
    "# Initialize our plot figure\n",
    "p = figure(title=\"A test map\")\n",
    "\n",
    "# Add the lines to the map from our GeoJSONDataSource -object (it is important to specify the columns as 'xs' and 'ys')\n",
    "p.multi_line('xs', 'ys', source=roads_source, color='gray', line_width=3)\n",
    "\n",
    "# Add the lines to the map from our 'msource' ColumnDataSource -object\n",
    "p.circle('x', 'y', source=point_source, color='black', size=6)\n",
    "\n",
    "# Output filepath\n",
    "outfp = r\"output\\test_map.html\"\n",
    "\n",
    "# Save the map\n",
    "save(p, outfp)\n",
    "\n",
    "# New method supporting GeoJSON\n",
    "dfsource2 = GeoJSONDataSource(geojson=df.to_json())\n",
    "rdfsource2 = GeoJSONDataSource(geojson=rdf.to_json())\n",
    "mdfsource2 = GeoJSONDataSource(geojson=mdf.to_json())\n",
    "\n",
    "from IPython.display import HTML, display\n",
    "HTML('<iframe src='+outfp+' width=700 height=650> </iframe>')"
   ]
  }
 ],
 "metadata": {
  "kernelspec": {
   "display_name": "Python 3",
   "language": "python",
   "name": "python3"
  },
  "language_info": {
   "codemirror_mode": {
    "name": "ipython",
    "version": 3
   },
   "file_extension": ".py",
   "mimetype": "text/x-python",
   "name": "python",
   "nbconvert_exporter": "python",
   "pygments_lexer": "ipython3",
   "version": "3.7.0"
  }
 },
 "nbformat": 4,
 "nbformat_minor": 2
}
