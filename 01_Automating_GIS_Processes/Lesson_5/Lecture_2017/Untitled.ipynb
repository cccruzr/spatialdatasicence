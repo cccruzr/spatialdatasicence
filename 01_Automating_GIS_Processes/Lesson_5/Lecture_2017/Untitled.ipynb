{
 "cells": [
  {
   "cell_type": "code",
   "execution_count": 25,
   "metadata": {},
   "outputs": [],
   "source": [
    "import folium\n",
    "import fiona\n",
    "import geopandas as gpd\n",
    "from folium.plugins import MarkerCluster"
   ]
  },
  {
   "cell_type": "code",
   "execution_count": 26,
   "metadata": {},
   "outputs": [],
   "source": [
    "# Create a map instance\n",
    "m = folium.Map(\n",
    "    location=[60.25, 24.8],\n",
    "    tiles='Stamen Toner',\n",
    "    zoom_start=9,\n",
    "    control_scale=True,\n",
    "    prefer_canvas=True #Optional\n",
    ")"
   ]
  },
  {
   "cell_type": "code",
   "execution_count": 27,
   "metadata": {},
   "outputs": [],
   "source": [
    "# Save map\n",
    "outfp = 'data/leaflet_folium_basemap.html'\n",
    "m.save(outfp)"
   ]
  },
  {
   "cell_type": "code",
   "execution_count": 28,
   "metadata": {},
   "outputs": [
    {
     "data": {
      "text/html": [
       "<iframe src=data/leaflet_folium_basemap.html width=700 height=400> </iframe>"
      ],
      "text/plain": [
       "<IPython.core.display.HTML object>"
      ]
     },
     "execution_count": 28,
     "metadata": {},
     "output_type": "execute_result"
    }
   ],
   "source": [
    "from IPython.display import HTML, display\n",
    "HTML('<iframe src='+outfp+' width=700 height=400> </iframe>')"
   ]
  },
  {
   "cell_type": "code",
   "execution_count": 29,
   "metadata": {},
   "outputs": [],
   "source": [
    "# Adding some layers to the map\n",
    "\n",
    "# Filepaths\n",
    "fp = 'data/Vaestotietoruudukko_2015.shp'\n",
    "add_fp = 'data/addresses.shp'\n",
    "\n",
    "# Read data\n",
    "data = gpd.read_file(fp)\n",
    "a_data = gpd.read_file(add_fp)\n"
   ]
  },
  {
   "cell_type": "code",
   "execution_count": 30,
   "metadata": {},
   "outputs": [],
   "source": [
    "# Re-project coordinates\n",
    "data['geometry'] = data['geometry'].to_crs(epsg=4326)\n",
    "a_data['geometry'] = a_data['geometry'].to_crs(epsg=4326)"
   ]
  },
  {
   "cell_type": "code",
   "execution_count": 31,
   "metadata": {},
   "outputs": [
    {
     "name": "stdout",
     "output_type": "stream",
     "text": [
      "{'init': 'epsg:4326', 'no_defs': True} \t {'init': 'epsg:4326', 'no_defs': True}\n"
     ]
    }
   ],
   "source": [
    "# Update gdf CRS\n",
    "data.crs = fiona.crs.from_epsg(4326)\n",
    "a_data.crs = fiona.crs.from_epsg(4326)\n",
    "print(data.crs, '\\t', a_data.crs)"
   ]
  },
  {
   "cell_type": "code",
   "execution_count": 32,
   "metadata": {},
   "outputs": [],
   "source": [
    "# Select data\n",
    "data_select = data.copy().loc[(data['ASUKKAITA'] > 0) & (data['ASUKKAITA'] < 1000)]"
   ]
  },
  {
   "cell_type": "code",
   "execution_count": 33,
   "metadata": {},
   "outputs": [],
   "source": [
    "# Create a Geo-id which is needed by the Folium \n",
    "# (it needs to have a unique identifier for each row)\n",
    "data_select['geoid'] = data_select.index.astype(str)\n",
    "a_data['geoid'] = a_data.index.astype(str)"
   ]
  },
  {
   "cell_type": "code",
   "execution_count": 34,
   "metadata": {},
   "outputs": [],
   "source": [
    "# Select map data\n",
    "map_data = data_select.copy()[['geoid', 'ASUKKAITA', 'geometry']]"
   ]
  },
  {
   "cell_type": "code",
   "execution_count": 35,
   "metadata": {},
   "outputs": [],
   "source": [
    "# Save file as GeoJSON\n",
    "map_json = map_data.to_json()"
   ]
  },
  {
   "cell_type": "code",
   "execution_count": 40,
   "metadata": {},
   "outputs": [],
   "source": [
    "## Map creation\n",
    "\n",
    "# Create a map instance\n",
    "m = folium.Map(\n",
    "    location=[60.25, 24.8],\n",
    "    tiles='Stamen Terrain',\n",
    "    zoom_start=11,\n",
    "    control_scale=True,\n",
    "    prefer_canvas=True #Optional\n",
    ")\n",
    "\n",
    "\n",
    "# Create a Clustered map where points are clustered\n",
    "marker_cluster = MarkerCluster().add_to(m)"
   ]
  },
  {
   "cell_type": "code",
   "execution_count": 41,
   "metadata": {},
   "outputs": [],
   "source": [
    "# Create Choropleth map where the colors are coming from a column \"ASUKKAITA\".\n",
    "# Notice: 'geoid' column that we created earlier needs to be assigned always as the first column\n",
    "# with threshold_scale we can adjust the class intervals for the values\n",
    "m.choropleth(geo_data=map_json, data=map_data, columns=['geoid', 'ASUKKAITA'], key_on=\"feature.id\",\n",
    "             fill_color='YlOrRd', fill_opacity=0.7, line_opacity=0.2,\n",
    "             line_color='white', line_weight=0,\n",
    "             threshold_scale=[100, 250, 500, 1000, 2000], \n",
    "             legend_name='Population in Helsinki', highlight=False, smooth_factor=1.0)"
   ]
  },
  {
   "cell_type": "code",
   "execution_count": 42,
   "metadata": {},
   "outputs": [],
   "source": [
    "# Create Address points on top of the map\n",
    "for idx, row in a_data.iterrows():\n",
    "    # Get lat and lon of points\n",
    "    lon = row['geometry'].x\n",
    "    lat = row['geometry'].y\n",
    "\n",
    "    # Get address information\n",
    "    address = row['address']\n",
    "    \n",
    "    # Add marker to the map\n",
    "    folium.Marker(location=[lat, lon], \n",
    "                  popup=address).add_to(marker_cluster)"
   ]
  },
  {
   "cell_type": "code",
   "execution_count": 43,
   "metadata": {},
   "outputs": [
    {
     "data": {
      "text/html": [
       "<iframe src=output/leaflet_pop15.html width=700 height=400> </iframe>"
      ],
      "text/plain": [
       "<IPython.core.display.HTML object>"
      ]
     },
     "execution_count": 43,
     "metadata": {},
     "output_type": "execute_result"
    }
   ],
   "source": [
    "# Save output\n",
    "leaflet_map = 'output/leaflet_pop15.html'\n",
    "m.save(leaflet_map)\n",
    "\n",
    "HTML('<iframe src='+leaflet_map+' width=700 height=400> </iframe>')"
   ]
  },
  {
   "cell_type": "code",
   "execution_count": null,
   "metadata": {},
   "outputs": [],
   "source": []
  }
 ],
 "metadata": {
  "kernelspec": {
   "display_name": "Python 3",
   "language": "python",
   "name": "python3"
  },
  "language_info": {
   "codemirror_mode": {
    "name": "ipython",
    "version": 3
   },
   "file_extension": ".py",
   "mimetype": "text/x-python",
   "name": "python",
   "nbconvert_exporter": "python",
   "pygments_lexer": "ipython3",
   "version": "3.7.0"
  }
 },
 "nbformat": 4,
 "nbformat_minor": 2
}
