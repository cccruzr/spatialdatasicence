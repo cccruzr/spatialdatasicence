{
 "cells": [
  {
   "cell_type": "markdown",
   "metadata": {},
   "source": [
    "# Exercise 2\n",
    "\n",
    "## Problem 1: Create Polygon from lists of coordinates\n",
    "\n",
    "In the first problem you should: \n",
    " - create a Polygon out of the the x and y coordinates that are provided in the `create_polygon.py` -script. \n",
    " - insert the polygon into a GeoDataFrame \n",
    " - save the Polygon into a Shapefile. \n",
    " - plot and save a figure out of the Polygon. \n",
    " \n",
    "The [**create_polygon.py**](create_polygon.py) starter script has all necessary steps listed and also some hints are provided. There are all together 6 steps that you need to fill to accomplish\n",
    "the problem 1. Each step that you need to fill is marked with capital P -letter (P1 to P6). "
   ]
  },
  {
   "cell_type": "code",
   "execution_count": 11,
   "metadata": {
    "collapsed": true
   },
   "outputs": [],
   "source": [
    "# Import necessary modules first\n",
    "import geopandas as gpd\n",
    "import pandas as pd\n",
    "import geopandas as gpd\n",
    "from shapely.geometry import Point, LineString, Polygon\n",
    "import fiona"
   ]
  },
  {
   "cell_type": "code",
   "execution_count": 12,
   "metadata": {
    "collapsed": true
   },
   "outputs": [],
   "source": [
    "# X -coordinates \n",
    "xcoords = [29.99671173095703, 31.58196258544922, 27.738052368164062, 26.50013542175293, 26.652359008789062, 25.921663284301758, 22.90027618408203, 23.257217407226562,\n",
    "           23.335693359375, 22.87444305419922, 23.08465003967285, 22.565473556518555, 21.452774047851562, 21.66388702392578, 21.065969467163086, 21.67659568786621,\n",
    "           21.496871948242188, 22.339998245239258, 22.288192749023438, 24.539581298828125, 25.444232940673828, 25.303749084472656, 24.669166564941406, 24.689163208007812,\n",
    "           24.174999237060547, 23.68471908569336, 24.000761032104492, 23.57332992553711, 23.76513671875, 23.430830001831055, 23.6597900390625, 20.580928802490234, 21.320831298828125,\n",
    "           22.398330688476562, 23.97638702392578, 24.934917449951172, 25.7611083984375, 25.95930290222168, 26.476804733276367, 27.91069221496582, 29.1027774810791, 29.29846954345703,\n",
    "           28.4355525970459, 28.817358016967773, 28.459857940673828, 30.028610229492188, 29.075136184692383, 30.13492774963379, 29.818885803222656, 29.640830993652344, 30.57735824584961,\n",
    "           29.99671173095703]\n",
    "\n",
    "# Y -coordinates\n",
    "ycoords = [63.748023986816406, 62.90789794921875, 60.511383056640625, 60.44499588012695, 60.646385192871094, 60.243743896484375, 59.806800842285156, 59.91944122314453,\n",
    "           60.02395248413086, 60.14555358886719, 60.3452033996582, 60.211936950683594, 60.56249237060547, 61.54027557373047, 62.59798049926758, 63.02013397216797,\n",
    "           63.20353698730469, 63.27652359008789, 63.525691986083984, 64.79915618896484, 64.9533920288086, 65.51513671875, 65.65470886230469, 65.89610290527344, 65.79151916503906,\n",
    "           66.26332092285156, 66.80228424072266, 67.1570053100586, 67.4168701171875, 67.47978210449219, 67.94589233398438, 69.060302734375, 69.32611083984375, 68.71110534667969,\n",
    "           68.83248901367188, 68.580810546875, 68.98916625976562, 69.68568420410156, 69.9363784790039, 70.08860778808594, 69.70597076416016, 69.48533630371094, 68.90263366699219,\n",
    "           68.84700012207031, 68.53485107421875, 67.69471740722656, 66.90360260009766, 65.70887756347656, 65.6533203125, 64.92096710205078, 64.22373962402344, 63.748023986816406]"
   ]
  },
  {
   "cell_type": "code",
   "execution_count": 13,
   "metadata": {},
   "outputs": [
    {
     "name": "stdout",
     "output_type": "stream",
     "text": [
      "52 52\n"
     ]
    }
   ],
   "source": [
    "print(len(xcoords), len(ycoords))"
   ]
  },
  {
   "cell_type": "code",
   "execution_count": 14,
   "metadata": {},
   "outputs": [
    {
     "name": "stdout",
     "output_type": "stream",
     "text": [
      "[[29.99671173095703, 63.748023986816406], [31.58196258544922, 62.90789794921875], [27.738052368164062, 60.511383056640625], [26.50013542175293, 60.44499588012695], [26.652359008789062, 60.646385192871094], [25.921663284301758, 60.243743896484375], [22.90027618408203, 59.806800842285156], [23.257217407226562, 59.91944122314453], [23.335693359375, 60.02395248413086], [22.87444305419922, 60.14555358886719], [23.08465003967285, 60.3452033996582], [22.565473556518555, 60.211936950683594], [21.452774047851562, 60.56249237060547], [21.66388702392578, 61.54027557373047], [21.065969467163086, 62.59798049926758], [21.67659568786621, 63.02013397216797], [21.496871948242188, 63.20353698730469], [22.339998245239258, 63.27652359008789], [22.288192749023438, 63.525691986083984], [24.539581298828125, 64.79915618896484], [25.444232940673828, 64.9533920288086], [25.303749084472656, 65.51513671875], [24.669166564941406, 65.65470886230469], [24.689163208007812, 65.89610290527344], [24.174999237060547, 65.79151916503906], [23.68471908569336, 66.26332092285156], [24.000761032104492, 66.80228424072266], [23.57332992553711, 67.1570053100586], [23.76513671875, 67.4168701171875], [23.430830001831055, 67.47978210449219], [23.6597900390625, 67.94589233398438], [20.580928802490234, 69.060302734375], [21.320831298828125, 69.32611083984375], [22.398330688476562, 68.71110534667969], [23.97638702392578, 68.83248901367188], [24.934917449951172, 68.580810546875], [25.7611083984375, 68.98916625976562], [25.95930290222168, 69.68568420410156], [26.476804733276367, 69.9363784790039], [27.91069221496582, 70.08860778808594], [29.1027774810791, 69.70597076416016], [29.29846954345703, 69.48533630371094], [28.4355525970459, 68.90263366699219], [28.817358016967773, 68.84700012207031], [28.459857940673828, 68.53485107421875], [30.028610229492188, 67.69471740722656], [29.075136184692383, 66.90360260009766], [30.13492774963379, 65.70887756347656], [29.818885803222656, 65.6533203125], [29.640830993652344, 64.92096710205078], [30.57735824584961, 64.22373962402344], [29.99671173095703, 63.748023986816406]]\n"
     ]
    }
   ],
   "source": [
    "# P1. Create a list of x and y coordinate pairs out of xcoords and ycoords\n",
    "# ------------------------------------------------------------------------\n",
    "# Coordinate pair can be either a tuple or a list.\n",
    "# The first coordinate pair in the 'coordpairs' -list should look like: \n",
    "#(29.99671173095703, 63.748023986816406)\n",
    "# Hint: you might want to iterate over items in the lists using a for-loop\n",
    "\n",
    "coordpairs = []\n",
    "\n",
    "for i in range(len(xcoords)):\n",
    "    coordpairs.append([xcoords[i], ycoords[i]])\n",
    "\n",
    "print(coordpairs)"
   ]
  },
  {
   "cell_type": "code",
   "execution_count": 15,
   "metadata": {},
   "outputs": [
    {
     "data": {
      "image/svg+xml": [
       "<svg xmlns=\"http://www.w3.org/2000/svg\" xmlns:xlink=\"http://www.w3.org/1999/xlink\" width=\"100.0\" height=\"100.0\" viewBox=\"20.140887451171874 59.3667594909668 11.881116485595701 11.161889648437494\" preserveAspectRatio=\"xMinYMin meet\"><g transform=\"matrix(1,0,0,-1,0,129.8954086303711)\"><path fill-rule=\"evenodd\" fill=\"#66cc99\" stroke=\"#555555\" stroke-width=\"0.23762232971191402\" opacity=\"0.6\" d=\"M 29.99671173095703,63.748023986816406 L 31.58196258544922,62.90789794921875 L 27.738052368164062,60.511383056640625 L 26.50013542175293,60.44499588012695 L 26.652359008789062,60.646385192871094 L 25.921663284301758,60.243743896484375 L 22.90027618408203,59.806800842285156 L 23.257217407226562,59.91944122314453 L 23.335693359375,60.02395248413086 L 22.87444305419922,60.14555358886719 L 23.08465003967285,60.3452033996582 L 22.565473556518555,60.211936950683594 L 21.452774047851562,60.56249237060547 L 21.66388702392578,61.54027557373047 L 21.065969467163086,62.59798049926758 L 21.67659568786621,63.02013397216797 L 21.496871948242188,63.20353698730469 L 22.339998245239258,63.27652359008789 L 22.288192749023438,63.525691986083984 L 24.539581298828125,64.79915618896484 L 25.444232940673828,64.9533920288086 L 25.303749084472656,65.51513671875 L 24.669166564941406,65.65470886230469 L 24.689163208007812,65.89610290527344 L 24.174999237060547,65.79151916503906 L 23.68471908569336,66.26332092285156 L 24.000761032104492,66.80228424072266 L 23.57332992553711,67.1570053100586 L 23.76513671875,67.4168701171875 L 23.430830001831055,67.47978210449219 L 23.6597900390625,67.94589233398438 L 20.580928802490234,69.060302734375 L 21.320831298828125,69.32611083984375 L 22.398330688476562,68.71110534667969 L 23.97638702392578,68.83248901367188 L 24.934917449951172,68.580810546875 L 25.7611083984375,68.98916625976562 L 25.95930290222168,69.68568420410156 L 26.476804733276367,69.9363784790039 L 27.91069221496582,70.08860778808594 L 29.1027774810791,69.70597076416016 L 29.29846954345703,69.48533630371094 L 28.4355525970459,68.90263366699219 L 28.817358016967773,68.84700012207031 L 28.459857940673828,68.53485107421875 L 30.028610229492188,67.69471740722656 L 29.075136184692383,66.90360260009766 L 30.13492774963379,65.70887756347656 L 29.818885803222656,65.6533203125 L 29.640830993652344,64.92096710205078 L 30.57735824584961,64.22373962402344 L 29.99671173095703,63.748023986816406 z\" /></g></svg>"
      ],
      "text/plain": [
       "<shapely.geometry.polygon.Polygon at 0x22433f919b0>"
      ]
     },
     "execution_count": 15,
     "metadata": {},
     "output_type": "execute_result"
    }
   ],
   "source": [
    "# P2. Create a shapely Polygon using the 'coordpairs' -list\n",
    "# ------------------------------------------------------------------------\n",
    "\n",
    "poly = Polygon(shell=[elem for elem in coordpairs])\n",
    "poly"
   ]
  },
  {
   "cell_type": "code",
   "execution_count": 16,
   "metadata": {
    "collapsed": true
   },
   "outputs": [],
   "source": [
    "# P3. Create an empty GeoDataFrame\n",
    "# ---------------------------------\n",
    "geo = newdata = gpd.GeoDataFrame()"
   ]
  },
  {
   "cell_type": "code",
   "execution_count": 17,
   "metadata": {},
   "outputs": [
    {
     "data": {
      "text/html": [
       "<div>\n",
       "<style scoped>\n",
       "    .dataframe tbody tr th:only-of-type {\n",
       "        vertical-align: middle;\n",
       "    }\n",
       "\n",
       "    .dataframe tbody tr th {\n",
       "        vertical-align: top;\n",
       "    }\n",
       "\n",
       "    .dataframe thead th {\n",
       "        text-align: right;\n",
       "    }\n",
       "</style>\n",
       "<table border=\"1\" class=\"dataframe\">\n",
       "  <thead>\n",
       "    <tr style=\"text-align: right;\">\n",
       "      <th></th>\n",
       "      <th>geometry</th>\n",
       "    </tr>\n",
       "  </thead>\n",
       "  <tbody>\n",
       "    <tr>\n",
       "      <th>0</th>\n",
       "      <td>POLYGON ((29.99671173095703 63.74802398681641,...</td>\n",
       "    </tr>\n",
       "  </tbody>\n",
       "</table>\n",
       "</div>"
      ],
      "text/plain": [
       "                                            geometry\n",
       "0  POLYGON ((29.99671173095703 63.74802398681641,..."
      ]
     },
     "execution_count": 17,
     "metadata": {},
     "output_type": "execute_result"
    }
   ],
   "source": [
    "# P4. Insert our 'poly' -polygon into the 'geo' GeoDataFrame \n",
    "# using a column name 'geometry' \n",
    "# ------------------------------------------------------------------------------------------\n",
    "# Hint: Take advantage of .loc -funtion\n",
    "geo.loc[0, 'geometry'] = poly\n",
    "geo"
   ]
  },
  {
   "cell_type": "code",
   "execution_count": 18,
   "metadata": {
    "collapsed": true
   },
   "outputs": [],
   "source": [
    "# P5. Save the GeoDataFrame into a new Shapefile called 'polygon.shp'\n",
    "# --------------------------------------------------------------------\n",
    "# Note: you do not need to define the coordinate reference \n",
    "# system at this time\n",
    "\n",
    "import os\n",
    "\n",
    "# Determine outputpath\n",
    "outputFolder = r\"Output/\"\n",
    "\n",
    "# Create a new folder called 'Results' (if does not exist) to that \n",
    "# folder using os.makedirs() function\n",
    "if not os.path.exists(outputFolder):\n",
    "    os.makedirs(outputFolder)\n",
    "\n",
    "# Output file name\n",
    "outputName = \"Polygon.shp\"\n",
    "\n",
    "# Create an output path\n",
    "outputPath = os.path.join(outputFolder, outputName)\n",
    "\n",
    "# Export the data\n",
    "geo.to_file(outputPath)"
   ]
  },
  {
   "cell_type": "code",
   "execution_count": 19,
   "metadata": {},
   "outputs": [
    {
     "data": {
      "text/plain": [
       "<matplotlib.axes._subplots.AxesSubplot at 0x22433f911d0>"
      ]
     },
     "execution_count": 19,
     "metadata": {},
     "output_type": "execute_result"
    },
    {
     "data": {
      "image/png": "[encoded data removed]",
      "text/plain": [
       "<matplotlib.figure.Figure at 0x22433d1eda0>"
      ]
     },
     "metadata": {},
     "output_type": "display_data"
    }
   ],
   "source": [
    "%matplotlib inline\n",
    "geo.plot()"
   ]
  },
  {
   "cell_type": "markdown",
   "metadata": {},
   "source": [
    "## Problem 2: Points to map\n",
    " \n",
    "The problem 2 this week continues the process that we started last week, i.e. creating geometric point -objects and putting them into a map. \n",
    "Here our aim is to plot a set of x and y coordinates that we should read from a `some_posts.csv` comma separated file that contains following kind of data:\n",
    " \n",
    "```\n",
    "lat,lon,timestamp,userid\n",
    "-24.980792492,31.484633302,2015-07-07 03:02,66487960\n",
    "-25.499224667,31.508905612,2015-07-07 03:18,65281761\n",
    "-24.342578456,30.930866066,2015-03-07 03:38,90916112\n",
    "-24.85461393,31.519718439,2015-10-07 05:04,37959089\n",
    "```\n",
    "\n",
    "The data has 81379 rows and consists of locations and times of social media posts inside Kruger national park in South Africa:\n",
    "\n",
    "| Column | Description |\n",
    "|--------|-------------|\n",
    "| lat | y-coordinate of the post |\n",
    "| lon | x-coordinate of the post |\n",
    "| timestamp | Time when the post was uploaded |\n",
    "| userid | userid |\n",
    "\n",
    "*Note: although the data is based on real social media data, it is heavily anonymized. Userids and timestamps have been randomized, i.e. they do not not match with real ones, \n",
    "also spatial accuracy of the data have been lowered.*\n",
    "\n",
    "- [Download the data](https://raw.githubusercontent.com/Automating-GIS-processes/Exercise-2/master/data/some_posts.csv?token=AGWdzhgsQbNFI3lk6a5GxrjguPnmuhwoks5YKVWrwA%3D%3D) (Click on the link ==> CNTRL + S)  \n",
    "- Read the data into memory \n",
    "  - You can use numpy but recommendable way is to read it directly with Pandas into a DataFrame, [read hints](https://github.com/Automating-GIS-processes/Lesson-2-Geo-DataFrames/blob/master/Lesson/Hints-Exercise-2.md) how to do it.\n",
    "- Create an empty column called `geometry` where you will store shapely Point objects\n",
    "- Iterate over the rows of the DataFrame and insert Point objects into column geometry (you need to use .loc indexer to update the row, [see materials](https://github.com/Automating-GIS-processes/Lesson-2-Geo-DataFrames/blob/master/Lesson/pandas-geopandas.md#creating-geometries-into-geodataframe) \n",
    "- Convert that DataFrame into a GeoDataFrame, [see hints](https://github.com/Automating-GIS-processes/Lesson-2-Geo-DataFrames/blob/master/Lesson/Hints-Exercise-2.md)\n",
    "- Update the CRS for coordinate system as WGS84 (i.e. epsg code: 4326)\n",
    "- Save the data into a Shapefile called `Kruger_posts.shp`\n",
    "- Create a simple map of those points using either QGIS installed in the computer instance or using `.plot()` -funtion in Python. Save it to GitHub as png file. "
   ]
  },
  {
   "cell_type": "code",
   "execution_count": 20,
   "metadata": {},
   "outputs": [
    {
     "data": {
      "text/html": [
       "<div>\n",
       "<style scoped>\n",
       "    .dataframe tbody tr th:only-of-type {\n",
       "        vertical-align: middle;\n",
       "    }\n",
       "\n",
       "    .dataframe tbody tr th {\n",
       "        vertical-align: top;\n",
       "    }\n",
       "\n",
       "    .dataframe thead th {\n",
       "        text-align: right;\n",
       "    }\n",
       "</style>\n",
       "<table border=\"1\" class=\"dataframe\">\n",
       "  <thead>\n",
       "    <tr style=\"text-align: right;\">\n",
       "      <th></th>\n",
       "      <th>lat</th>\n",
       "      <th>lon</th>\n",
       "      <th>timestamp</th>\n",
       "      <th>userid</th>\n",
       "    </tr>\n",
       "  </thead>\n",
       "  <tbody>\n",
       "    <tr>\n",
       "      <th>0</th>\n",
       "      <td>-24.980792</td>\n",
       "      <td>31.484633</td>\n",
       "      <td>2015-07-07 03:02</td>\n",
       "      <td>66487960</td>\n",
       "    </tr>\n",
       "    <tr>\n",
       "      <th>1</th>\n",
       "      <td>-25.499225</td>\n",
       "      <td>31.508906</td>\n",
       "      <td>2015-07-07 03:18</td>\n",
       "      <td>65281761</td>\n",
       "    </tr>\n",
       "    <tr>\n",
       "      <th>2</th>\n",
       "      <td>-24.342578</td>\n",
       "      <td>30.930866</td>\n",
       "      <td>2015-03-07 03:38</td>\n",
       "      <td>90916112</td>\n",
       "    </tr>\n",
       "    <tr>\n",
       "      <th>3</th>\n",
       "      <td>-24.854614</td>\n",
       "      <td>31.519718</td>\n",
       "      <td>2015-10-07 05:04</td>\n",
       "      <td>37959089</td>\n",
       "    </tr>\n",
       "    <tr>\n",
       "      <th>4</th>\n",
       "      <td>-24.921069</td>\n",
       "      <td>31.520836</td>\n",
       "      <td>2015-10-07 05:19</td>\n",
       "      <td>27793716</td>\n",
       "    </tr>\n",
       "  </tbody>\n",
       "</table>\n",
       "</div>"
      ],
      "text/plain": [
       "         lat        lon         timestamp    userid\n",
       "0 -24.980792  31.484633  2015-07-07 03:02  66487960\n",
       "1 -25.499225  31.508906  2015-07-07 03:18  65281761\n",
       "2 -24.342578  30.930866  2015-03-07 03:38  90916112\n",
       "3 -24.854614  31.519718  2015-10-07 05:04  37959089\n",
       "4 -24.921069  31.520836  2015-10-07 05:19  27793716"
      ]
     },
     "execution_count": 20,
     "metadata": {},
     "output_type": "execute_result"
    }
   ],
   "source": [
    "# Determine filepath\n",
    "filePath = r\"data/some_posts.csv\"\n",
    "\n",
    "# Read data\n",
    "df = pd.read_csv(filePath, sep=',')\n",
    "df.head()"
   ]
  },
  {
   "cell_type": "code",
   "execution_count": null,
   "metadata": {},
   "outputs": [
    {
     "data": {
      "text/html": [
       "<div>\n",
       "<style scoped>\n",
       "    .dataframe tbody tr th:only-of-type {\n",
       "        vertical-align: middle;\n",
       "    }\n",
       "\n",
       "    .dataframe tbody tr th {\n",
       "        vertical-align: top;\n",
       "    }\n",
       "\n",
       "    .dataframe thead th {\n",
       "        text-align: right;\n",
       "    }\n",
       "</style>\n",
       "<table border=\"1\" class=\"dataframe\">\n",
       "  <thead>\n",
       "    <tr style=\"text-align: right;\">\n",
       "      <th></th>\n",
       "      <th>timestamp</th>\n",
       "      <th>userid</th>\n",
       "      <th>geometry</th>\n",
       "    </tr>\n",
       "  </thead>\n",
       "  <tbody>\n",
       "    <tr>\n",
       "      <th>0</th>\n",
       "      <td>2015-07-07 03:02</td>\n",
       "      <td>66487960</td>\n",
       "      <td>POINT (31.484633302 -24.980792492)</td>\n",
       "    </tr>\n",
       "    <tr>\n",
       "      <th>1</th>\n",
       "      <td>2015-07-07 03:18</td>\n",
       "      <td>65281761</td>\n",
       "      <td>POINT (31.508905612 -25.499224667)</td>\n",
       "    </tr>\n",
       "    <tr>\n",
       "      <th>2</th>\n",
       "      <td>2015-03-07 03:38</td>\n",
       "      <td>90916112</td>\n",
       "      <td>POINT (30.930866066 -24.342578456)</td>\n",
       "    </tr>\n",
       "    <tr>\n",
       "      <th>3</th>\n",
       "      <td>2015-10-07 05:04</td>\n",
       "      <td>37959089</td>\n",
       "      <td>POINT (31.519718439 -24.85461393)</td>\n",
       "    </tr>\n",
       "    <tr>\n",
       "      <th>4</th>\n",
       "      <td>2015-10-07 05:19</td>\n",
       "      <td>27793716</td>\n",
       "      <td>POINT (31.520835558 -24.921068894)</td>\n",
       "    </tr>\n",
       "  </tbody>\n",
       "</table>\n",
       "</div>"
      ],
      "text/plain": [
       "          timestamp    userid                            geometry\n",
       "0  2015-07-07 03:02  66487960  POINT (31.484633302 -24.980792492)\n",
       "1  2015-07-07 03:18  65281761  POINT (31.508905612 -25.499224667)\n",
       "2  2015-03-07 03:38  90916112  POINT (30.930866066 -24.342578456)\n",
       "3  2015-10-07 05:04  37959089   POINT (31.519718439 -24.85461393)\n",
       "4  2015-10-07 05:19  27793716  POINT (31.520835558 -24.921068894)"
      ]
     },
     "execution_count": 22,
     "metadata": {},
     "output_type": "execute_result"
    }
   ],
   "source": [
    "geometry = [Point(xy) for xy in zip(df['lon'], df['lat'])]\n",
    "df = df.drop(['lon', 'lat'], axis=1)\n",
    "crs = {'init': 'epsg:4326'} #WGS84\n",
    "gdf = gpd.GeoDataFrame(df, crs=crs, geometry=geometry)\n",
    "gdf.head()"
   ]
  },
  {
   "cell_type": "code",
   "execution_count": null,
   "metadata": {},
   "outputs": [],
   "source": [
    "gdf.plot(markersize=0.75)"
   ]
  },
  {
   "cell_type": "markdown",
   "metadata": {},
   "source": [
    "## Problem 3: Movements of individual user (optional task for advanced students)\n",
    "\n",
    "This is an optional extra task for those who likes to learn even more. Write your codes into the same file as in previous Problem (2).\n",
    "\n",
    " - Group the data by userid\n",
    " - Create an empty GeoDataFrame\n",
    " - For each user: \n",
    "    - [sort](http://pandas.pydata.org/pandas-docs/stable/generated/pandas.DataFrame.sort_values.html) the rows by timestamp \n",
    "    - create LineString objects based on the points\n",
    "    - [add](http://pandas.pydata.org/pandas-docs/stable/generated/pandas.DataFrame.append.html) the geometry and the userid into the GeoDataFrame you created in the last step\n",
    " - Determine the CRS of your GeoDataFrame to WGS84 (epsg code: 4326)\n",
    " - Save the movements of each user into a separate Shapefile\n",
    "   - Name the output Shapefile based on the userid number"
   ]
  },
  {
   "cell_type": "code",
   "execution_count": null,
   "metadata": {},
   "outputs": [],
   "source": [
    "gdf_user_group = gdf.sort_values(['timestamp']).groupby('userid')\n",
    "list(gdf_user_group)"
   ]
  },
  {
   "cell_type": "code",
   "execution_count": null,
   "metadata": {},
   "outputs": [],
   "source": [
    "\n",
    "\n",
    "gdf_movement = gpd.GeoDataFrame()\n",
    "gdf_movement['geometry'] = None\n",
    "point = Point(31.726971969, -25.493266016)\n",
    "gdf_movement.loc[0,'geometry']= point\n",
    "gdf_movement"
   ]
  },
  {
   "cell_type": "code",
   "execution_count": null,
   "metadata": {},
   "outputs": [],
   "source": [
    "\n",
    "\n",
    "# Iterate over the group object\n",
    "for key, user in gdf_user_group:\n",
    "    #gdf_movement['userid'] = user['userid']\n",
    "    line_points = []\n",
    "    user_id = key\n",
    "    #print(key, len(user), '\\n',user)\n",
    "    #print(user['geometry'][user['userid']==key])\n",
    "    subset = user['geometry'][user['userid']==key]\n",
    "    #print(subset.shape)\n",
    "    \n",
    "    \n",
    "    \n",
    "    if len(user) < 2:\n",
    "        geometry = user['geometry'][user['userid']==key]\n",
    "        print(geometry)\n",
    "    else:\n",
    "        for i in range(len(user)):\n",
    "            #print(user.iloc[i,2])\n",
    "            line_points.append(user.iloc[i,2])\n",
    "        geometry = LineString(line_points)\n",
    "        print(geometry)\n",
    "        \n",
    "    gdf_movement.loc[key, 'userid'] = user_id\n",
    "    #gdf_movement.loc[key, 'geometry'] = geometry\n",
    "        "
   ]
  },
  {
   "cell_type": "code",
   "execution_count": null,
   "metadata": {},
   "outputs": [],
   "source": [
    "gdf_movement.head()"
   ]
  },
  {
   "cell_type": "code",
   "execution_count": null,
   "metadata": {
    "collapsed": true
   },
   "outputs": [],
   "source": [
    "gdf_movement.loc[0,'geometry']= Point(31.726971969 -25.493266016)\n",
    "gdf_movement"
   ]
  },
  {
   "cell_type": "code",
   "execution_count": null,
   "metadata": {
    "collapsed": true
   },
   "outputs": [],
   "source": []
  }
 ],
 "metadata": {
  "kernelspec": {
   "display_name": "Python 3",
   "language": "python",
   "name": "python3"
  },
  "language_info": {
   "codemirror_mode": {
    "name": "ipython",
    "version": 3
   },
   "file_extension": ".py",
   "mimetype": "text/x-python",
   "name": "python",
   "nbconvert_exporter": "python",
   "pygments_lexer": "ipython3",
   "version": "3.5.4"
  }
 },
 "nbformat": 4,
 "nbformat_minor": 2
}
