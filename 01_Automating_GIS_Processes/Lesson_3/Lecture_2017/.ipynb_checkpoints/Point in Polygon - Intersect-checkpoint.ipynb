{
 "cells": [
  {
   "cell_type": "markdown",
   "metadata": {},
   "source": [
    "# Point in Polygon & Intersect"
   ]
  },
  {
   "cell_type": "code",
   "execution_count": 49,
   "metadata": {
    "collapsed": true
   },
   "outputs": [],
   "source": [
    "import geopandas as gpd\n",
    "from shapely.geometry import Point, LineString, Polygon\n",
    "import matplotlib.pyplot as plt\n",
    "import shapely.speedups\n",
    "shapely.speedups.enable()\n",
    "\n",
    "%matplotlib inline\n",
    "\n",
    "# Import KML drivers (read/write)\n",
    "gpd.io.file.fiona.drvsupport.supported_drivers['KML'] = 'rw'"
   ]
  },
  {
   "cell_type": "markdown",
   "metadata": {},
   "source": [
    "## Within / Contains"
   ]
  },
  {
   "cell_type": "code",
   "execution_count": 14,
   "metadata": {
    "collapsed": true
   },
   "outputs": [],
   "source": [
    "# Create Point objects\n",
    "p1 = Point(24.952242, 60.1696017)\n",
    "p2 = Point(24.976567, 60.1612500)"
   ]
  },
  {
   "cell_type": "code",
   "execution_count": 11,
   "metadata": {},
   "outputs": [
    {
     "data": {
      "image/svg+xml": [
       "<svg xmlns=\"http://www.w3.org/2000/svg\" xmlns:xlink=\"http://www.w3.org/1999/xlink\" width=\"100.0\" height=\"100.0\" viewBox=\"23.9522242 59.1696017 2.0 2.0\" preserveAspectRatio=\"xMinYMin meet\"><g transform=\"matrix(1,0,0,-1,0,120.3392034)\"><circle cx=\"24.9522242\" cy=\"60.1696017\" r=\"0.06\" stroke=\"#555555\" stroke-width=\"0.02\" fill=\"#66cc99\" opacity=\"0.6\" /></g></svg>"
      ],
      "text/plain": [
       "<shapely.geometry.point.Point at 0x20d5d2d6208>"
      ]
     },
     "execution_count": 11,
     "metadata": {},
     "output_type": "execute_result"
    }
   ],
   "source": [
    "p1"
   ]
  },
  {
   "cell_type": "code",
   "execution_count": 12,
   "metadata": {},
   "outputs": [
    {
     "data": {
      "image/svg+xml": [
       "<svg xmlns=\"http://www.w3.org/2000/svg\" xmlns:xlink=\"http://www.w3.org/1999/xlink\" width=\"100.0\" height=\"100.0\" viewBox=\"24.95079456 60.16905356 0.0028198800000041047 0.0011548800000014126\" preserveAspectRatio=\"xMinYMin meet\"><g transform=\"matrix(1,0,0,-1,0,120.339262)\"><path fill-rule=\"evenodd\" fill=\"#66cc99\" stroke=\"#555555\" stroke-width=\"5.639760000008209e-05\" opacity=\"0.6\" d=\"M 24.950899,60.169158 L 24.953492,60.169158 L 24.95351,60.170104 L 24.950958,60.16999 L 24.950899,60.169158 z\" /></g></svg>"
      ],
      "text/plain": [
       "<shapely.geometry.polygon.Polygon at 0x20d5d2d6a90>"
      ]
     },
     "execution_count": 12,
     "metadata": {},
     "output_type": "execute_result"
    }
   ],
   "source": [
    "# Create a Polygon\n",
    "pol_coords = [(24.950899, 60.169158), (24.953492, 60.169158), (24.953510, 60.170104), (24.950958, 60.169990)]\n",
    "poly = Polygon(pol_coords)\n",
    "poly"
   ]
  },
  {
   "cell_type": "code",
   "execution_count": 15,
   "metadata": {},
   "outputs": [
    {
     "data": {
      "text/plain": [
       "True"
      ]
     },
     "execution_count": 15,
     "metadata": {},
     "output_type": "execute_result"
    }
   ],
   "source": [
    "# Check if point 1 is inside the Polygon\n",
    "p1.within(poly)"
   ]
  },
  {
   "cell_type": "code",
   "execution_count": 16,
   "metadata": {},
   "outputs": [
    {
     "data": {
      "text/plain": [
       "False"
      ]
     },
     "execution_count": 16,
     "metadata": {},
     "output_type": "execute_result"
    }
   ],
   "source": [
    "# Check if point 2 is inside the Polygon\n",
    "p2.within(poly)"
   ]
  },
  {
   "cell_type": "code",
   "execution_count": 17,
   "metadata": {},
   "outputs": [
    {
     "data": {
      "text/plain": [
       "True"
      ]
     },
     "execution_count": 17,
     "metadata": {},
     "output_type": "execute_result"
    }
   ],
   "source": [
    "# Check if polygon contains a point\n",
    "poly.contains(p1)"
   ]
  },
  {
   "cell_type": "markdown",
   "metadata": {},
   "source": [
    "## Intersect"
   ]
  },
  {
   "cell_type": "code",
   "execution_count": 19,
   "metadata": {
    "collapsed": true
   },
   "outputs": [],
   "source": [
    "# Create two lines\n",
    "line_a = LineString([(0, 0), (1, 1)])\n",
    "line_b = LineString([(1, 1), (0, 2)])"
   ]
  },
  {
   "cell_type": "code",
   "execution_count": 20,
   "metadata": {},
   "outputs": [
    {
     "data": {
      "text/plain": [
       "True"
      ]
     },
     "execution_count": 20,
     "metadata": {},
     "output_type": "execute_result"
    }
   ],
   "source": [
    "# Check if lines intersect\n",
    "line_a.intersects(line_b)"
   ]
  },
  {
   "cell_type": "code",
   "execution_count": 21,
   "metadata": {},
   "outputs": [
    {
     "data": {
      "text/plain": [
       "True"
      ]
     },
     "execution_count": 21,
     "metadata": {},
     "output_type": "execute_result"
    }
   ],
   "source": [
    "# Check if lines touch\n",
    "line_a.touches(line_b)"
   ]
  },
  {
   "cell_type": "code",
   "execution_count": 23,
   "metadata": {},
   "outputs": [
    {
     "data": {
      "image/svg+xml": [
       "<svg xmlns=\"http://www.w3.org/2000/svg\" xmlns:xlink=\"http://www.w3.org/1999/xlink\" width=\"100.0\" height=\"100.0\" viewBox=\"-0.08 -0.08 1.1600000000000001 2.16\" preserveAspectRatio=\"xMinYMin meet\"><g transform=\"matrix(1,0,0,-1,0,2.0)\"><g><polyline fill=\"none\" stroke=\"#66cc99\" stroke-width=\"0.0432\" points=\"0.0,0.0 1.0,1.0\" opacity=\"0.8\" /><polyline fill=\"none\" stroke=\"#66cc99\" stroke-width=\"0.0432\" points=\"1.0,1.0 0.0,2.0\" opacity=\"0.8\" /></g></g></svg>"
      ],
      "text/plain": [
       "<shapely.geometry.multilinestring.MultiLineString at 0x20d5d33eac8>"
      ]
     },
     "execution_count": 23,
     "metadata": {},
     "output_type": "execute_result"
    }
   ],
   "source": [
    "from shapely.geometry import LineString, MultiLineString\n",
    "\n",
    "# We can see this by plotting the features together\n",
    "# Create a MultiLineString\n",
    "multiline = MultiLineString([line_a, line_b])\n",
    "multiline"
   ]
  },
  {
   "cell_type": "markdown",
   "metadata": {},
   "source": [
    "## Point in Polygon using Geopandas"
   ]
  },
  {
   "cell_type": "code",
   "execution_count": 26,
   "metadata": {
    "collapsed": true
   },
   "outputs": [],
   "source": [
    "# Filepath: Geocoded addresses & Polygons\n",
    "adr_fp = r'data/addresses_geocode.shp'\n",
    "poly_fp = r'data/PKS_suuralue.kml'"
   ]
  },
  {
   "cell_type": "code",
   "execution_count": 27,
   "metadata": {},
   "outputs": [
    {
     "data": {
      "text/html": [
       "<div>\n",
       "<style scoped>\n",
       "    .dataframe tbody tr th:only-of-type {\n",
       "        vertical-align: middle;\n",
       "    }\n",
       "\n",
       "    .dataframe tbody tr th {\n",
       "        vertical-align: top;\n",
       "    }\n",
       "\n",
       "    .dataframe thead th {\n",
       "        text-align: right;\n",
       "    }\n",
       "</style>\n",
       "<table border=\"1\" class=\"dataframe\">\n",
       "  <thead>\n",
       "    <tr style=\"text-align: right;\">\n",
       "      <th></th>\n",
       "      <th>addr</th>\n",
       "      <th>address</th>\n",
       "      <th>geometry</th>\n",
       "      <th>id</th>\n",
       "    </tr>\n",
       "  </thead>\n",
       "  <tbody>\n",
       "    <tr>\n",
       "      <th>0</th>\n",
       "      <td>Itämerenkatu 14, 00101 Helsinki, Finland</td>\n",
       "      <td>Ruoholahti, 14, Itämerenkatu, Ruoholahti, Läns...</td>\n",
       "      <td>POINT (24.9155655 60.1632005)</td>\n",
       "      <td>1000</td>\n",
       "    </tr>\n",
       "    <tr>\n",
       "      <th>1</th>\n",
       "      <td>Kampinkuja 1, 00100 Helsinki, Finland</td>\n",
       "      <td>Kamppi, 1, Kampinkuja, Kamppi, Eteläinen suurp...</td>\n",
       "      <td>POINT (24.9316914 60.1690222)</td>\n",
       "      <td>1001</td>\n",
       "    </tr>\n",
       "    <tr>\n",
       "      <th>2</th>\n",
       "      <td>Kaivokatu 8, 00101 Helsinki, Finland</td>\n",
       "      <td>Citycenter, 8, Kaivokatu, Keskusta, Kluuvi, Et...</td>\n",
       "      <td>POINT (24.94244049213 60.16988445)</td>\n",
       "      <td>1002</td>\n",
       "    </tr>\n",
       "    <tr>\n",
       "      <th>3</th>\n",
       "      <td>Hermannin rantatie 1, 00580 Helsinki, Finland</td>\n",
       "      <td>Hermannin rantatie, Kyläsaari, Hermanni, Helsi...</td>\n",
       "      <td>POINT (24.9709473 60.1975589)</td>\n",
       "      <td>1003</td>\n",
       "    </tr>\n",
       "    <tr>\n",
       "      <th>4</th>\n",
       "      <td>Tyynenmerenkatu 9, 00220 Helsinki, Finland</td>\n",
       "      <td>Hesburger Jätkäsaari, 9, Tyynenmerenkatu, Jätk...</td>\n",
       "      <td>POINT (24.9215601 60.1566956)</td>\n",
       "      <td>1005</td>\n",
       "    </tr>\n",
       "  </tbody>\n",
       "</table>\n",
       "</div>"
      ],
      "text/plain": [
       "                                            addr  \\\n",
       "0       Itämerenkatu 14, 00101 Helsinki, Finland   \n",
       "1          Kampinkuja 1, 00100 Helsinki, Finland   \n",
       "2           Kaivokatu 8, 00101 Helsinki, Finland   \n",
       "3  Hermannin rantatie 1, 00580 Helsinki, Finland   \n",
       "4     Tyynenmerenkatu 9, 00220 Helsinki, Finland   \n",
       "\n",
       "                                             address  \\\n",
       "0  Ruoholahti, 14, Itämerenkatu, Ruoholahti, Läns...   \n",
       "1  Kamppi, 1, Kampinkuja, Kamppi, Eteläinen suurp...   \n",
       "2  Citycenter, 8, Kaivokatu, Keskusta, Kluuvi, Et...   \n",
       "3  Hermannin rantatie, Kyläsaari, Hermanni, Helsi...   \n",
       "4  Hesburger Jätkäsaari, 9, Tyynenmerenkatu, Jätk...   \n",
       "\n",
       "                             geometry    id  \n",
       "0       POINT (24.9155655 60.1632005)  1000  \n",
       "1       POINT (24.9316914 60.1690222)  1001  \n",
       "2  POINT (24.94244049213 60.16988445)  1002  \n",
       "3       POINT (24.9709473 60.1975589)  1003  \n",
       "4       POINT (24.9215601 60.1566956)  1005  "
      ]
     },
     "execution_count": 27,
     "metadata": {},
     "output_type": "execute_result"
    }
   ],
   "source": [
    "# Read shapefile of addresses\n",
    "data = gpd.read_file(adr_fp)\n",
    "data.head()"
   ]
  },
  {
   "cell_type": "code",
   "execution_count": 33,
   "metadata": {},
   "outputs": [
    {
     "data": {
      "text/html": [
       "<div>\n",
       "<style scoped>\n",
       "    .dataframe tbody tr th:only-of-type {\n",
       "        vertical-align: middle;\n",
       "    }\n",
       "\n",
       "    .dataframe tbody tr th {\n",
       "        vertical-align: top;\n",
       "    }\n",
       "\n",
       "    .dataframe thead th {\n",
       "        text-align: right;\n",
       "    }\n",
       "</style>\n",
       "<table border=\"1\" class=\"dataframe\">\n",
       "  <thead>\n",
       "    <tr style=\"text-align: right;\">\n",
       "      <th></th>\n",
       "      <th>Description</th>\n",
       "      <th>Name</th>\n",
       "      <th>geometry</th>\n",
       "    </tr>\n",
       "  </thead>\n",
       "  <tbody>\n",
       "    <tr>\n",
       "      <th>0</th>\n",
       "      <td></td>\n",
       "      <td>Suur-Espoonlahti</td>\n",
       "      <td>POLYGON Z ((24.775059677807 60.1090604462157 0...</td>\n",
       "    </tr>\n",
       "    <tr>\n",
       "      <th>1</th>\n",
       "      <td></td>\n",
       "      <td>Suur-Kauklahti</td>\n",
       "      <td>POLYGON Z ((24.6157775254076 60.1725681273527 ...</td>\n",
       "    </tr>\n",
       "    <tr>\n",
       "      <th>2</th>\n",
       "      <td></td>\n",
       "      <td>Vanha-Espoo</td>\n",
       "      <td>POLYGON Z ((24.6757633262026 60.2120070032819 ...</td>\n",
       "    </tr>\n",
       "    <tr>\n",
       "      <th>3</th>\n",
       "      <td></td>\n",
       "      <td>Pohjois-Espoo</td>\n",
       "      <td>POLYGON Z ((24.767921197401 60.2691954732391 0...</td>\n",
       "    </tr>\n",
       "    <tr>\n",
       "      <th>4</th>\n",
       "      <td></td>\n",
       "      <td>Suur-Matinkylä</td>\n",
       "      <td>POLYGON Z ((24.7536131356802 60.1663051341717 ...</td>\n",
       "    </tr>\n",
       "  </tbody>\n",
       "</table>\n",
       "</div>"
      ],
      "text/plain": [
       "  Description              Name  \\\n",
       "0              Suur-Espoonlahti   \n",
       "1                Suur-Kauklahti   \n",
       "2                   Vanha-Espoo   \n",
       "3                 Pohjois-Espoo   \n",
       "4                Suur-Matinkylä   \n",
       "\n",
       "                                            geometry  \n",
       "0  POLYGON Z ((24.775059677807 60.1090604462157 0...  \n",
       "1  POLYGON Z ((24.6157775254076 60.1725681273527 ...  \n",
       "2  POLYGON Z ((24.6757633262026 60.2120070032819 ...  \n",
       "3  POLYGON Z ((24.767921197401 60.2691954732391 0...  \n",
       "4  POLYGON Z ((24.7536131356802 60.1663051341717 ...  "
      ]
     },
     "execution_count": 33,
     "metadata": {},
     "output_type": "execute_result"
    }
   ],
   "source": [
    "# Read KML polygons\n",
    "polys= gpd.read_file(poly_fp, driver='KML')\n",
    "polys.head()"
   ]
  },
  {
   "cell_type": "code",
   "execution_count": 40,
   "metadata": {},
   "outputs": [
    {
     "data": {
      "text/html": [
       "<div>\n",
       "<style scoped>\n",
       "    .dataframe tbody tr th:only-of-type {\n",
       "        vertical-align: middle;\n",
       "    }\n",
       "\n",
       "    .dataframe tbody tr th {\n",
       "        vertical-align: top;\n",
       "    }\n",
       "\n",
       "    .dataframe thead th {\n",
       "        text-align: right;\n",
       "    }\n",
       "</style>\n",
       "<table border=\"1\" class=\"dataframe\">\n",
       "  <thead>\n",
       "    <tr style=\"text-align: right;\">\n",
       "      <th></th>\n",
       "      <th>Description</th>\n",
       "      <th>Name</th>\n",
       "      <th>geometry</th>\n",
       "    </tr>\n",
       "  </thead>\n",
       "  <tbody>\n",
       "    <tr>\n",
       "      <th>0</th>\n",
       "      <td></td>\n",
       "      <td>Eteläinen</td>\n",
       "      <td>POLYGON Z ((24.7827651307035 60.09997268858 0,...</td>\n",
       "    </tr>\n",
       "  </tbody>\n",
       "</table>\n",
       "</div>"
      ],
      "text/plain": [
       "  Description       Name                                           geometry\n",
       "0              Eteläinen  POLYGON Z ((24.7827651307035 60.09997268858 0,..."
      ]
     },
     "execution_count": 40,
     "metadata": {},
     "output_type": "execute_result"
    }
   ],
   "source": [
    "# Select the southern disctrict\n",
    "southern = polys.loc[polys['Name']=='Eteläinen']\n",
    "southern.reset_index(drop=True, inplace=True)\n",
    "southern"
   ]
  },
  {
   "cell_type": "code",
   "execution_count": 47,
   "metadata": {},
   "outputs": [
    {
     "data": {
      "image/png": "[encoded data removed]",
      "text/plain": [
       "<matplotlib.figure.Figure at 0x20d5dd29208>"
      ]
     },
     "metadata": {},
     "output_type": "display_data"
    }
   ],
   "source": [
    "# Create figure and axes\n",
    "fig, ax = plt.subplots()\n",
    "polys.plot(ax=ax, facecolor='gray')\n",
    "southern.plot(ax=ax, facecolor='red')\n",
    "data.plot(ax=ax, color='blue', markersize=5)\n",
    "plt.tight_layout()"
   ]
  },
  {
   "cell_type": "code",
   "execution_count": 50,
   "metadata": {},
   "outputs": [
    {
     "data": {
      "text/plain": [
       "0     True\n",
       "1     True\n",
       "2     True\n",
       "3    False\n",
       "4     True\n",
       "dtype: bool"
      ]
     },
     "execution_count": 50,
     "metadata": {},
     "output_type": "execute_result"
    }
   ],
   "source": [
    "# Select points that fall inside Southern District\n",
    "pointinpoly_mask = data.within(southern.loc[0,'geometry'])\n",
    "pointinpoly_mask.head()"
   ]
  },
  {
   "cell_type": "code",
   "execution_count": 55,
   "metadata": {},
   "outputs": [
    {
     "data": {
      "text/html": [
       "<div>\n",
       "<style scoped>\n",
       "    .dataframe tbody tr th:only-of-type {\n",
       "        vertical-align: middle;\n",
       "    }\n",
       "\n",
       "    .dataframe tbody tr th {\n",
       "        vertical-align: top;\n",
       "    }\n",
       "\n",
       "    .dataframe thead th {\n",
       "        text-align: right;\n",
       "    }\n",
       "</style>\n",
       "<table border=\"1\" class=\"dataframe\">\n",
       "  <thead>\n",
       "    <tr style=\"text-align: right;\">\n",
       "      <th></th>\n",
       "      <th>addr</th>\n",
       "      <th>address</th>\n",
       "      <th>geometry</th>\n",
       "      <th>id</th>\n",
       "    </tr>\n",
       "  </thead>\n",
       "  <tbody>\n",
       "    <tr>\n",
       "      <th>0</th>\n",
       "      <td>Itämerenkatu 14, 00101 Helsinki, Finland</td>\n",
       "      <td>Ruoholahti, 14, Itämerenkatu, Ruoholahti, Läns...</td>\n",
       "      <td>POINT (24.9155655 60.1632005)</td>\n",
       "      <td>1000</td>\n",
       "    </tr>\n",
       "    <tr>\n",
       "      <th>1</th>\n",
       "      <td>Kampinkuja 1, 00100 Helsinki, Finland</td>\n",
       "      <td>Kamppi, 1, Kampinkuja, Kamppi, Eteläinen suurp...</td>\n",
       "      <td>POINT (24.9316914 60.1690222)</td>\n",
       "      <td>1001</td>\n",
       "    </tr>\n",
       "    <tr>\n",
       "      <th>2</th>\n",
       "      <td>Kaivokatu 8, 00101 Helsinki, Finland</td>\n",
       "      <td>Citycenter, 8, Kaivokatu, Keskusta, Kluuvi, Et...</td>\n",
       "      <td>POINT (24.94244049213 60.16988445)</td>\n",
       "      <td>1002</td>\n",
       "    </tr>\n",
       "    <tr>\n",
       "      <th>4</th>\n",
       "      <td>Tyynenmerenkatu 9, 00220 Helsinki, Finland</td>\n",
       "      <td>Hesburger Jätkäsaari, 9, Tyynenmerenkatu, Jätk...</td>\n",
       "      <td>POINT (24.9215601 60.1566956)</td>\n",
       "      <td>1005</td>\n",
       "    </tr>\n",
       "    <tr>\n",
       "      <th>10</th>\n",
       "      <td>Rautatientori 1, 00100 Helsinki, Finland</td>\n",
       "      <td>Rautatientori, Keskusta, Kluuvi, Eteläinen suu...</td>\n",
       "      <td>POINT (24.9440942536239 60.17130125)</td>\n",
       "      <td>1011</td>\n",
       "    </tr>\n",
       "    <tr>\n",
       "      <th>30</th>\n",
       "      <td>Urho Kekkosen katu 1, 00100 Helsinki, Finland</td>\n",
       "      <td>Kampin keskus, 1, Urho Kekkosen katu, Kamppi, ...</td>\n",
       "      <td>POINT (24.9331155798105 60.1690911)</td>\n",
       "      <td>1031</td>\n",
       "    </tr>\n",
       "    <tr>\n",
       "      <th>31</th>\n",
       "      <td>Ruoholahdenkatu 17, 00101 Helsinki, Finland</td>\n",
       "      <td>Ruoholahdenkatu, Hietalahti, Kamppi, Eteläinen...</td>\n",
       "      <td>POINT (24.9251045 60.1649874)</td>\n",
       "      <td>1032</td>\n",
       "    </tr>\n",
       "    <tr>\n",
       "      <th>32</th>\n",
       "      <td>Tyynenmerenkatu 3, 00220 Helsinki, Finland</td>\n",
       "      <td>3, Tyynenmerenkatu, Jätkäsaari, Länsisatama, E...</td>\n",
       "      <td>POINT (24.9212065 60.1587845)</td>\n",
       "      <td>1033</td>\n",
       "    </tr>\n",
       "    <tr>\n",
       "      <th>33</th>\n",
       "      <td>Vilhonkatu 4, 00101 Helsinki, Finland</td>\n",
       "      <td>4, Vilhonkatu, Keskusta, Kluuvi, Eteläinen suu...</td>\n",
       "      <td>POINT (24.9473289 60.1718719)</td>\n",
       "      <td>1034</td>\n",
       "    </tr>\n",
       "  </tbody>\n",
       "</table>\n",
       "</div>"
      ],
      "text/plain": [
       "                                             addr  \\\n",
       "0        Itämerenkatu 14, 00101 Helsinki, Finland   \n",
       "1           Kampinkuja 1, 00100 Helsinki, Finland   \n",
       "2            Kaivokatu 8, 00101 Helsinki, Finland   \n",
       "4      Tyynenmerenkatu 9, 00220 Helsinki, Finland   \n",
       "10       Rautatientori 1, 00100 Helsinki, Finland   \n",
       "30  Urho Kekkosen katu 1, 00100 Helsinki, Finland   \n",
       "31    Ruoholahdenkatu 17, 00101 Helsinki, Finland   \n",
       "32     Tyynenmerenkatu 3, 00220 Helsinki, Finland   \n",
       "33          Vilhonkatu 4, 00101 Helsinki, Finland   \n",
       "\n",
       "                                              address  \\\n",
       "0   Ruoholahti, 14, Itämerenkatu, Ruoholahti, Läns...   \n",
       "1   Kamppi, 1, Kampinkuja, Kamppi, Eteläinen suurp...   \n",
       "2   Citycenter, 8, Kaivokatu, Keskusta, Kluuvi, Et...   \n",
       "4   Hesburger Jätkäsaari, 9, Tyynenmerenkatu, Jätk...   \n",
       "10  Rautatientori, Keskusta, Kluuvi, Eteläinen suu...   \n",
       "30  Kampin keskus, 1, Urho Kekkosen katu, Kamppi, ...   \n",
       "31  Ruoholahdenkatu, Hietalahti, Kamppi, Eteläinen...   \n",
       "32  3, Tyynenmerenkatu, Jätkäsaari, Länsisatama, E...   \n",
       "33  4, Vilhonkatu, Keskusta, Kluuvi, Eteläinen suu...   \n",
       "\n",
       "                                geometry    id  \n",
       "0          POINT (24.9155655 60.1632005)  1000  \n",
       "1          POINT (24.9316914 60.1690222)  1001  \n",
       "2     POINT (24.94244049213 60.16988445)  1002  \n",
       "4          POINT (24.9215601 60.1566956)  1005  \n",
       "10  POINT (24.9440942536239 60.17130125)  1011  \n",
       "30   POINT (24.9331155798105 60.1690911)  1031  \n",
       "31         POINT (24.9251045 60.1649874)  1032  \n",
       "32         POINT (24.9212065 60.1587845)  1033  \n",
       "33         POINT (24.9473289 60.1718719)  1034  "
      ]
     },
     "execution_count": 55,
     "metadata": {},
     "output_type": "execute_result"
    }
   ],
   "source": [
    "pointinpoly_data = data.loc[pointinpoly_mask]\n",
    "pointinpoly_data"
   ]
  },
  {
   "cell_type": "code",
   "execution_count": 58,
   "metadata": {},
   "outputs": [
    {
     "data": {
      "image/png": "[encoded data removed]",
      "text/plain": [
       "<matplotlib.figure.Figure at 0x20d5f08d748>"
      ]
     },
     "metadata": {},
     "output_type": "display_data"
    }
   ],
   "source": [
    "# Create figure and axes\n",
    "fig, ax = plt.subplots()\n",
    "polys.plot(ax=ax, facecolor='gray')\n",
    "southern.plot(ax=ax, facecolor='red')\n",
    "pointinpoly_data.plot(ax=ax, color='yellow', markersize=3)\n",
    "plt.tight_layout()"
   ]
  },
  {
   "cell_type": "code",
   "execution_count": null,
   "metadata": {
    "collapsed": true
   },
   "outputs": [],
   "source": []
  }
 ],
 "metadata": {
  "kernelspec": {
   "display_name": "Python 3",
   "language": "python",
   "name": "python3"
  },
  "language_info": {
   "codemirror_mode": {
    "name": "ipython",
    "version": 3
   },
   "file_extension": ".py",
   "mimetype": "text/x-python",
   "name": "python",
   "nbconvert_exporter": "python",
   "pygments_lexer": "ipython3",
   "version": "3.5.4"
  }
 },
 "nbformat": 4,
 "nbformat_minor": 2
}
