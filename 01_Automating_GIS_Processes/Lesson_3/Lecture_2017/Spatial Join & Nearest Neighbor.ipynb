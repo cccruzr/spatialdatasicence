{
 "cells": [
  {
   "cell_type": "markdown",
   "metadata": {},
   "source": [
    "# Spatial Join & Nearest Neighbor"
   ]
  },
  {
   "cell_type": "code",
   "execution_count": 31,
   "metadata": {
    "collapsed": true
   },
   "outputs": [],
   "source": [
    "import geopandas as gpd\n",
    "from fiona.crs import from_epsg\n",
    "import matplotlib.pyplot as plt\n",
    "from shapely.geometry import Point, MultiPoint, LineString\n",
    "import shapely.speedups\n",
    "shapely.speedups.enable()\n",
    "\n",
    "# Import KML drivers (read/write)\n",
    "gpd.io.file.fiona.drvsupport.supported_drivers['KML'] = 'rw'\n",
    "%matplotlib inline"
   ]
  },
  {
   "cell_type": "code",
   "execution_count": 2,
   "metadata": {},
   "outputs": [
    {
     "data": {
      "text/html": [
       "<div>\n",
       "<style scoped>\n",
       "    .dataframe tbody tr th:only-of-type {\n",
       "        vertical-align: middle;\n",
       "    }\n",
       "\n",
       "    .dataframe tbody tr th {\n",
       "        vertical-align: top;\n",
       "    }\n",
       "\n",
       "    .dataframe thead th {\n",
       "        text-align: right;\n",
       "    }\n",
       "</style>\n",
       "<table border=\"1\" class=\"dataframe\">\n",
       "  <thead>\n",
       "    <tr style=\"text-align: right;\">\n",
       "      <th></th>\n",
       "      <th>ASUKKAITA</th>\n",
       "      <th>ASVALJYYS</th>\n",
       "      <th>IKA0_9</th>\n",
       "      <th>IKA10_19</th>\n",
       "      <th>IKA20_29</th>\n",
       "      <th>IKA30_39</th>\n",
       "      <th>IKA40_49</th>\n",
       "      <th>IKA50_59</th>\n",
       "      <th>IKA60_69</th>\n",
       "      <th>IKA70_79</th>\n",
       "      <th>IKA_YLI80</th>\n",
       "      <th>INDEX</th>\n",
       "      <th>geometry</th>\n",
       "    </tr>\n",
       "  </thead>\n",
       "  <tbody>\n",
       "    <tr>\n",
       "      <th>0</th>\n",
       "      <td>8</td>\n",
       "      <td>31.0</td>\n",
       "      <td>99</td>\n",
       "      <td>99</td>\n",
       "      <td>99</td>\n",
       "      <td>99</td>\n",
       "      <td>99</td>\n",
       "      <td>99</td>\n",
       "      <td>99</td>\n",
       "      <td>99</td>\n",
       "      <td>99</td>\n",
       "      <td>688</td>\n",
       "      <td>POLYGON ((25472499.99532626 6689749.005069185,...</td>\n",
       "    </tr>\n",
       "    <tr>\n",
       "      <th>1</th>\n",
       "      <td>6</td>\n",
       "      <td>42.0</td>\n",
       "      <td>99</td>\n",
       "      <td>99</td>\n",
       "      <td>99</td>\n",
       "      <td>99</td>\n",
       "      <td>99</td>\n",
       "      <td>99</td>\n",
       "      <td>99</td>\n",
       "      <td>99</td>\n",
       "      <td>99</td>\n",
       "      <td>703</td>\n",
       "      <td>POLYGON ((25472499.99532626 6685998.998064222,...</td>\n",
       "    </tr>\n",
       "    <tr>\n",
       "      <th>2</th>\n",
       "      <td>8</td>\n",
       "      <td>44.0</td>\n",
       "      <td>99</td>\n",
       "      <td>99</td>\n",
       "      <td>99</td>\n",
       "      <td>99</td>\n",
       "      <td>99</td>\n",
       "      <td>99</td>\n",
       "      <td>99</td>\n",
       "      <td>99</td>\n",
       "      <td>99</td>\n",
       "      <td>710</td>\n",
       "      <td>POLYGON ((25472499.99532626 6684249.004130407,...</td>\n",
       "    </tr>\n",
       "    <tr>\n",
       "      <th>3</th>\n",
       "      <td>7</td>\n",
       "      <td>64.0</td>\n",
       "      <td>99</td>\n",
       "      <td>99</td>\n",
       "      <td>99</td>\n",
       "      <td>99</td>\n",
       "      <td>99</td>\n",
       "      <td>99</td>\n",
       "      <td>99</td>\n",
       "      <td>99</td>\n",
       "      <td>99</td>\n",
       "      <td>711</td>\n",
       "      <td>POLYGON ((25472499.99532626 6683999.004997005,...</td>\n",
       "    </tr>\n",
       "    <tr>\n",
       "      <th>4</th>\n",
       "      <td>19</td>\n",
       "      <td>23.0</td>\n",
       "      <td>99</td>\n",
       "      <td>99</td>\n",
       "      <td>99</td>\n",
       "      <td>99</td>\n",
       "      <td>99</td>\n",
       "      <td>99</td>\n",
       "      <td>99</td>\n",
       "      <td>99</td>\n",
       "      <td>99</td>\n",
       "      <td>715</td>\n",
       "      <td>POLYGON ((25472499.99532626 6682998.998461431,...</td>\n",
       "    </tr>\n",
       "  </tbody>\n",
       "</table>\n",
       "</div>"
      ],
      "text/plain": [
       "   ASUKKAITA  ASVALJYYS  IKA0_9  IKA10_19  IKA20_29  IKA30_39  IKA40_49  \\\n",
       "0          8       31.0      99        99        99        99        99   \n",
       "1          6       42.0      99        99        99        99        99   \n",
       "2          8       44.0      99        99        99        99        99   \n",
       "3          7       64.0      99        99        99        99        99   \n",
       "4         19       23.0      99        99        99        99        99   \n",
       "\n",
       "   IKA50_59  IKA60_69  IKA70_79  IKA_YLI80  INDEX  \\\n",
       "0        99        99        99         99    688   \n",
       "1        99        99        99         99    703   \n",
       "2        99        99        99         99    710   \n",
       "3        99        99        99         99    711   \n",
       "4        99        99        99         99    715   \n",
       "\n",
       "                                            geometry  \n",
       "0  POLYGON ((25472499.99532626 6689749.005069185,...  \n",
       "1  POLYGON ((25472499.99532626 6685998.998064222,...  \n",
       "2  POLYGON ((25472499.99532626 6684249.004130407,...  \n",
       "3  POLYGON ((25472499.99532626 6683999.004997005,...  \n",
       "4  POLYGON ((25472499.99532626 6682998.998461431,...  "
      ]
     },
     "execution_count": 2,
     "metadata": {},
     "output_type": "execute_result"
    }
   ],
   "source": [
    "# Filepath\n",
    "fp = r'data/Vaestotietoruudukko_2015.shp'\n",
    "adr_fp = r'data/addresses_geocode.shp'\n",
    "\n",
    "# Read data\n",
    "adrs = gpd.read_file(adr_fp)\n",
    "\n",
    "pop = gpd.read_file(fp)\n",
    "pop.head()\n",
    "\n"
   ]
  },
  {
   "cell_type": "code",
   "execution_count": 3,
   "metadata": {},
   "outputs": [
    {
     "data": {
      "text/plain": [
       "Index(['POP15', 'ASVALJYYS', 'IKA0_9', 'IKA10_19', 'IKA20_29', 'IKA30_39',\n",
       "       'IKA40_49', 'IKA50_59', 'IKA60_69', 'IKA70_79', 'IKA_YLI80', 'INDEX',\n",
       "       'geometry'],\n",
       "      dtype='object')"
      ]
     },
     "execution_count": 3,
     "metadata": {},
     "output_type": "execute_result"
    }
   ],
   "source": [
    "# Rename columns\n",
    "pop = pop.rename(columns={'ASUKKAITA': 'POP15'})\n",
    "pop.columns"
   ]
  },
  {
   "cell_type": "code",
   "execution_count": 4,
   "metadata": {},
   "outputs": [
    {
     "data": {
      "text/html": [
       "<div>\n",
       "<style scoped>\n",
       "    .dataframe tbody tr th:only-of-type {\n",
       "        vertical-align: middle;\n",
       "    }\n",
       "\n",
       "    .dataframe tbody tr th {\n",
       "        vertical-align: top;\n",
       "    }\n",
       "\n",
       "    .dataframe thead th {\n",
       "        text-align: right;\n",
       "    }\n",
       "</style>\n",
       "<table border=\"1\" class=\"dataframe\">\n",
       "  <thead>\n",
       "    <tr style=\"text-align: right;\">\n",
       "      <th></th>\n",
       "      <th>POP15</th>\n",
       "      <th>geometry</th>\n",
       "    </tr>\n",
       "  </thead>\n",
       "  <tbody>\n",
       "    <tr>\n",
       "      <th>0</th>\n",
       "      <td>8</td>\n",
       "      <td>POLYGON ((25472499.99532626 6689749.005069185,...</td>\n",
       "    </tr>\n",
       "    <tr>\n",
       "      <th>1</th>\n",
       "      <td>6</td>\n",
       "      <td>POLYGON ((25472499.99532626 6685998.998064222,...</td>\n",
       "    </tr>\n",
       "    <tr>\n",
       "      <th>2</th>\n",
       "      <td>8</td>\n",
       "      <td>POLYGON ((25472499.99532626 6684249.004130407,...</td>\n",
       "    </tr>\n",
       "    <tr>\n",
       "      <th>3</th>\n",
       "      <td>7</td>\n",
       "      <td>POLYGON ((25472499.99532626 6683999.004997005,...</td>\n",
       "    </tr>\n",
       "    <tr>\n",
       "      <th>4</th>\n",
       "      <td>19</td>\n",
       "      <td>POLYGON ((25472499.99532626 6682998.998461431,...</td>\n",
       "    </tr>\n",
       "  </tbody>\n",
       "</table>\n",
       "</div>"
      ],
      "text/plain": [
       "   POP15                                           geometry\n",
       "0      8  POLYGON ((25472499.99532626 6689749.005069185,...\n",
       "1      6  POLYGON ((25472499.99532626 6685998.998064222,...\n",
       "2      8  POLYGON ((25472499.99532626 6684249.004130407,...\n",
       "3      7  POLYGON ((25472499.99532626 6683999.004997005,...\n",
       "4     19  POLYGON ((25472499.99532626 6682998.998461431,..."
      ]
     },
     "execution_count": 4,
     "metadata": {},
     "output_type": "execute_result"
    }
   ],
   "source": [
    "drop_cols = ['ASVALJYYS', 'IKA0_9', 'IKA10_19', 'IKA20_29', 'IKA30_39',\n",
    "       'IKA40_49', 'IKA50_59', 'IKA60_69', 'IKA70_79', 'IKA_YLI80', 'INDEX']\n",
    "pop = pop.drop(labels=drop_cols, axis=1)\n",
    "pop.head()"
   ]
  },
  {
   "cell_type": "code",
   "execution_count": 5,
   "metadata": {
    "collapsed": true
   },
   "outputs": [],
   "source": [
    "adrs.crs = from_epsg(4326)"
   ]
  },
  {
   "cell_type": "code",
   "execution_count": 6,
   "metadata": {},
   "outputs": [
    {
     "name": "stdout",
     "output_type": "stream",
     "text": [
      "{'no_defs': True, 'proj': 'tmerc', 'lat_0': 0, 'lon_0': 25, 'ellps': 'GRS80', 'y_0': 0, 'x_0': 25500000, 'units': 'm', 'k': 1} \n",
      "\n",
      " {'no_defs': True, 'init': 'epsg:4326'}\n"
     ]
    }
   ],
   "source": [
    "# Check CRS\n",
    "print(pop.crs, '\\n\\n', adrs.crs)"
   ]
  },
  {
   "cell_type": "code",
   "execution_count": 7,
   "metadata": {},
   "outputs": [
    {
     "data": {
      "text/plain": [
       "{'ellps': 'GRS80',\n",
       " 'k': 1,\n",
       " 'lat_0': 0,\n",
       " 'lon_0': 25,\n",
       " 'no_defs': True,\n",
       " 'proj': 'tmerc',\n",
       " 'units': 'm',\n",
       " 'x_0': 25500000,\n",
       " 'y_0': 0}"
      ]
     },
     "execution_count": 7,
     "metadata": {},
     "output_type": "execute_result"
    }
   ],
   "source": [
    "# Reproject addresses to same projection as population dataset\n",
    "adrs = adrs.to_crs(crs=pop.crs)\n",
    "adrs.crs"
   ]
  },
  {
   "cell_type": "code",
   "execution_count": 8,
   "metadata": {},
   "outputs": [
    {
     "data": {
      "text/plain": [
       "True"
      ]
     },
     "execution_count": 8,
     "metadata": {},
     "output_type": "execute_result"
    }
   ],
   "source": [
    "# Check if CRSs are the same\n",
    "adrs.crs == pop.crs"
   ]
  },
  {
   "cell_type": "code",
   "execution_count": 9,
   "metadata": {},
   "outputs": [
    {
     "data": {
      "text/html": [
       "<div>\n",
       "<style scoped>\n",
       "    .dataframe tbody tr th:only-of-type {\n",
       "        vertical-align: middle;\n",
       "    }\n",
       "\n",
       "    .dataframe tbody tr th {\n",
       "        vertical-align: top;\n",
       "    }\n",
       "\n",
       "    .dataframe thead th {\n",
       "        text-align: right;\n",
       "    }\n",
       "</style>\n",
       "<table border=\"1\" class=\"dataframe\">\n",
       "  <thead>\n",
       "    <tr style=\"text-align: right;\">\n",
       "      <th></th>\n",
       "      <th>addr</th>\n",
       "      <th>address</th>\n",
       "      <th>geometry</th>\n",
       "      <th>id</th>\n",
       "    </tr>\n",
       "  </thead>\n",
       "  <tbody>\n",
       "    <tr>\n",
       "      <th>0</th>\n",
       "      <td>Itämerenkatu 14, 00101 Helsinki, Finland</td>\n",
       "      <td>Ruoholahti, 14, Itämerenkatu, Ruoholahti, Läns...</td>\n",
       "      <td>POINT (25495311.78001142 6672258.582999197)</td>\n",
       "      <td>1000</td>\n",
       "    </tr>\n",
       "    <tr>\n",
       "      <th>1</th>\n",
       "      <td>Kampinkuja 1, 00100 Helsinki, Finland</td>\n",
       "      <td>Kamppi, 1, Kampinkuja, Kamppi, Eteläinen suurp...</td>\n",
       "      <td>POINT (25496207.84010911 6672906.172794735)</td>\n",
       "      <td>1001</td>\n",
       "    </tr>\n",
       "    <tr>\n",
       "      <th>2</th>\n",
       "      <td>Kaivokatu 8, 00101 Helsinki, Finland</td>\n",
       "      <td>Citycenter, 8, Kaivokatu, Keskusta, Kluuvi, Et...</td>\n",
       "      <td>POINT (25496804.66082322 6673001.671884767)</td>\n",
       "      <td>1002</td>\n",
       "    </tr>\n",
       "    <tr>\n",
       "      <th>3</th>\n",
       "      <td>Hermannin rantatie 1, 00580 Helsinki, Finland</td>\n",
       "      <td>Hermannin rantatie, Kyläsaari, Hermanni, Helsi...</td>\n",
       "      <td>POINT (25498388.53457338 6676083.994075484)</td>\n",
       "      <td>1003</td>\n",
       "    </tr>\n",
       "    <tr>\n",
       "      <th>4</th>\n",
       "      <td>Tyynenmerenkatu 9, 00220 Helsinki, Finland</td>\n",
       "      <td>Hesburger Jätkäsaari, 9, Tyynenmerenkatu, Jätk...</td>\n",
       "      <td>POINT (25495643.76901715 6671533.429514003)</td>\n",
       "      <td>1005</td>\n",
       "    </tr>\n",
       "  </tbody>\n",
       "</table>\n",
       "</div>"
      ],
      "text/plain": [
       "                                            addr  \\\n",
       "0       Itämerenkatu 14, 00101 Helsinki, Finland   \n",
       "1          Kampinkuja 1, 00100 Helsinki, Finland   \n",
       "2           Kaivokatu 8, 00101 Helsinki, Finland   \n",
       "3  Hermannin rantatie 1, 00580 Helsinki, Finland   \n",
       "4     Tyynenmerenkatu 9, 00220 Helsinki, Finland   \n",
       "\n",
       "                                             address  \\\n",
       "0  Ruoholahti, 14, Itämerenkatu, Ruoholahti, Läns...   \n",
       "1  Kamppi, 1, Kampinkuja, Kamppi, Eteläinen suurp...   \n",
       "2  Citycenter, 8, Kaivokatu, Keskusta, Kluuvi, Et...   \n",
       "3  Hermannin rantatie, Kyläsaari, Hermanni, Helsi...   \n",
       "4  Hesburger Jätkäsaari, 9, Tyynenmerenkatu, Jätk...   \n",
       "\n",
       "                                      geometry    id  \n",
       "0  POINT (25495311.78001142 6672258.582999197)  1000  \n",
       "1  POINT (25496207.84010911 6672906.172794735)  1001  \n",
       "2  POINT (25496804.66082322 6673001.671884767)  1002  \n",
       "3  POINT (25498388.53457338 6676083.994075484)  1003  \n",
       "4  POINT (25495643.76901715 6671533.429514003)  1005  "
      ]
     },
     "execution_count": 9,
     "metadata": {},
     "output_type": "execute_result"
    }
   ],
   "source": [
    "adrs.head()"
   ]
  },
  {
   "cell_type": "code",
   "execution_count": 10,
   "metadata": {},
   "outputs": [
    {
     "data": {
      "text/html": [
       "<div>\n",
       "<style scoped>\n",
       "    .dataframe tbody tr th:only-of-type {\n",
       "        vertical-align: middle;\n",
       "    }\n",
       "\n",
       "    .dataframe tbody tr th {\n",
       "        vertical-align: top;\n",
       "    }\n",
       "\n",
       "    .dataframe thead th {\n",
       "        text-align: right;\n",
       "    }\n",
       "</style>\n",
       "<table border=\"1\" class=\"dataframe\">\n",
       "  <thead>\n",
       "    <tr style=\"text-align: right;\">\n",
       "      <th></th>\n",
       "      <th>addr</th>\n",
       "      <th>address</th>\n",
       "      <th>geometry</th>\n",
       "      <th>id</th>\n",
       "      <th>index_right</th>\n",
       "      <th>POP15</th>\n",
       "    </tr>\n",
       "  </thead>\n",
       "  <tbody>\n",
       "    <tr>\n",
       "      <th>0</th>\n",
       "      <td>Itämerenkatu 14, 00101 Helsinki, Finland</td>\n",
       "      <td>Ruoholahti, 14, Itämerenkatu, Ruoholahti, Läns...</td>\n",
       "      <td>POINT (25495311.78001142 6672258.582999197)</td>\n",
       "      <td>1000</td>\n",
       "      <td>3214</td>\n",
       "      <td>521</td>\n",
       "    </tr>\n",
       "    <tr>\n",
       "      <th>1</th>\n",
       "      <td>Kampinkuja 1, 00100 Helsinki, Finland</td>\n",
       "      <td>Kamppi, 1, Kampinkuja, Kamppi, Eteläinen suurp...</td>\n",
       "      <td>POINT (25496207.84010911 6672906.172794735)</td>\n",
       "      <td>1001</td>\n",
       "      <td>3326</td>\n",
       "      <td>173</td>\n",
       "    </tr>\n",
       "    <tr>\n",
       "      <th>2</th>\n",
       "      <td>Kaivokatu 8, 00101 Helsinki, Finland</td>\n",
       "      <td>Citycenter, 8, Kaivokatu, Keskusta, Kluuvi, Et...</td>\n",
       "      <td>POINT (25496804.66082322 6673001.671884767)</td>\n",
       "      <td>1002</td>\n",
       "      <td>3449</td>\n",
       "      <td>31</td>\n",
       "    </tr>\n",
       "    <tr>\n",
       "      <th>10</th>\n",
       "      <td>Rautatientori 1, 00100 Helsinki, Finland</td>\n",
       "      <td>Rautatientori, Keskusta, Kluuvi, Eteläinen suu...</td>\n",
       "      <td>POINT (25496896.60078502 6673159.446016792)</td>\n",
       "      <td>1011</td>\n",
       "      <td>3449</td>\n",
       "      <td>31</td>\n",
       "    </tr>\n",
       "    <tr>\n",
       "      <th>3</th>\n",
       "      <td>Hermannin rantatie 1, 00580 Helsinki, Finland</td>\n",
       "      <td>Hermannin rantatie, Kyläsaari, Hermanni, Helsi...</td>\n",
       "      <td>POINT (25498388.53457338 6676083.994075484)</td>\n",
       "      <td>1003</td>\n",
       "      <td>3721</td>\n",
       "      <td>284</td>\n",
       "    </tr>\n",
       "  </tbody>\n",
       "</table>\n",
       "</div>"
      ],
      "text/plain": [
       "                                             addr  \\\n",
       "0        Itämerenkatu 14, 00101 Helsinki, Finland   \n",
       "1           Kampinkuja 1, 00100 Helsinki, Finland   \n",
       "2            Kaivokatu 8, 00101 Helsinki, Finland   \n",
       "10       Rautatientori 1, 00100 Helsinki, Finland   \n",
       "3   Hermannin rantatie 1, 00580 Helsinki, Finland   \n",
       "\n",
       "                                              address  \\\n",
       "0   Ruoholahti, 14, Itämerenkatu, Ruoholahti, Läns...   \n",
       "1   Kamppi, 1, Kampinkuja, Kamppi, Eteläinen suurp...   \n",
       "2   Citycenter, 8, Kaivokatu, Keskusta, Kluuvi, Et...   \n",
       "10  Rautatientori, Keskusta, Kluuvi, Eteläinen suu...   \n",
       "3   Hermannin rantatie, Kyläsaari, Hermanni, Helsi...   \n",
       "\n",
       "                                       geometry    id  index_right  POP15  \n",
       "0   POINT (25495311.78001142 6672258.582999197)  1000         3214    521  \n",
       "1   POINT (25496207.84010911 6672906.172794735)  1001         3326    173  \n",
       "2   POINT (25496804.66082322 6673001.671884767)  1002         3449     31  \n",
       "10  POINT (25496896.60078502 6673159.446016792)  1011         3449     31  \n",
       "3   POINT (25498388.53457338 6676083.994075484)  1003         3721    284  "
      ]
     },
     "execution_count": 10,
     "metadata": {},
     "output_type": "execute_result"
    }
   ],
   "source": [
    "# Spatial join: \n",
    "join = gpd.sjoin(adrs, pop, how='inner', op='within')\n",
    "join.head()"
   ]
  },
  {
   "cell_type": "code",
   "execution_count": 11,
   "metadata": {},
   "outputs": [
    {
     "name": "stderr",
     "output_type": "stream",
     "text": [
      "C:\\Users\\Camilo\\Anaconda3\\envs\\geopython\\lib\\site-packages\\geopandas\\geodataframe.py:447: UserWarning: Unrecognized scheme \"natural_breaks\". Using \"Quantiles\" instead\n",
      "  return plot_dataframe(self, *args, **kwargs)\n"
     ]
    },
    {
     "data": {
      "text/plain": [
       "<matplotlib.axes._subplots.AxesSubplot at 0x26fe4e6f080>"
      ]
     },
     "execution_count": 11,
     "metadata": {},
     "output_type": "execute_result"
    },
    {
     "data": {
      "image/png": "[encoded data removed]",
      "text/plain": [
       "<matplotlib.figure.Figure at 0x26fe269cd68>"
      ]
     },
     "metadata": {},
     "output_type": "display_data"
    }
   ],
   "source": [
    "join.plot(column='POP15', cmap='Reds', markersize=7, scheme='natural_breaks',\\\n",
    "          legend=True)"
   ]
  },
  {
   "cell_type": "code",
   "execution_count": 12,
   "metadata": {},
   "outputs": [
    {
     "data": {
      "text/plain": [
       "<matplotlib.axes._subplots.AxesSubplot at 0x26fe51ab0b8>"
      ]
     },
     "execution_count": 12,
     "metadata": {},
     "output_type": "execute_result"
    },
    {
     "data": {
      "image/png": "[encoded data removed]",
      "text/plain": [
       "<matplotlib.figure.Figure at 0x26fe51bef60>"
      ]
     },
     "metadata": {},
     "output_type": "display_data"
    }
   ],
   "source": [
    "pop.plot(column='POP15')"
   ]
  },
  {
   "cell_type": "markdown",
   "metadata": {},
   "source": [
    "## Nearest Neighbour Analysis"
   ]
  },
  {
   "cell_type": "code",
   "execution_count": 13,
   "metadata": {
    "collapsed": true
   },
   "outputs": [],
   "source": [
    "from shapely.geometry import Point, MultiPoint\n",
    "from shapely.ops import nearest_points"
   ]
  },
  {
   "cell_type": "code",
   "execution_count": 14,
   "metadata": {
    "collapsed": true
   },
   "outputs": [],
   "source": [
    "# Create origin point\n",
    "orig = Point(1, 1.67)\n",
    "\n",
    "# Create other points\n",
    "dest1, dest2, dest3 = Point(0, 1.45), Point(2, 2), Point(0, 2.5)"
   ]
  },
  {
   "cell_type": "code",
   "execution_count": 15,
   "metadata": {},
   "outputs": [
    {
     "data": {
      "image/svg+xml": [
       "<svg xmlns=\"http://www.w3.org/2000/svg\" xmlns:xlink=\"http://www.w3.org/1999/xlink\" width=\"100.0\" height=\"100.0\" viewBox=\"-0.08 1.3699999999999999 2.16 1.2100000000000002\" preserveAspectRatio=\"xMinYMin meet\"><g transform=\"matrix(1,0,0,-1,0,3.95)\"><g><circle cx=\"0.0\" cy=\"1.45\" r=\"0.0648\" stroke=\"#555555\" stroke-width=\"0.0216\" fill=\"#66cc99\" opacity=\"0.6\" /><circle cx=\"2.0\" cy=\"2.0\" r=\"0.0648\" stroke=\"#555555\" stroke-width=\"0.0216\" fill=\"#66cc99\" opacity=\"0.6\" /><circle cx=\"0.0\" cy=\"2.5\" r=\"0.0648\" stroke=\"#555555\" stroke-width=\"0.0216\" fill=\"#66cc99\" opacity=\"0.6\" /></g></g></svg>"
      ],
      "text/plain": [
       "<shapely.geometry.multipoint.MultiPoint at 0x26fee2753c8>"
      ]
     },
     "execution_count": 15,
     "metadata": {},
     "output_type": "execute_result"
    }
   ],
   "source": [
    "# Create MultiPoint object\n",
    "dest = MultiPoint([dest1, dest2, dest3])\n",
    "dest"
   ]
  },
  {
   "cell_type": "code",
   "execution_count": 16,
   "metadata": {},
   "outputs": [
    {
     "name": "stdout",
     "output_type": "stream",
     "text": [
      "POINT (1 1.67) \n",
      " POINT (0 1.45)\n"
     ]
    }
   ],
   "source": [
    "# Calculate the nearest geometry\n",
    "near_geom = nearest_points(orig, dest)\n",
    "print(near_geom[0], '\\n', near_geom[1])"
   ]
  },
  {
   "cell_type": "markdown",
   "metadata": {},
   "source": [
    "## Nearest points using Geopandas"
   ]
  },
  {
   "cell_type": "code",
   "execution_count": 17,
   "metadata": {
    "collapsed": true
   },
   "outputs": [],
   "source": [
    "def nearest(row, geom_union, df1, df2, geom1_col='geometry', \n",
    "            geom2_col='geometry', src_column=None):\n",
    "    \"\"\"Find the nearest point and return the corresponding \n",
    "    value from specified column.\"\"\"\n",
    "    \n",
    "    # Find the geometry that is closest\n",
    "    nearest = df2[geom2_col] == nearest_points(row[geom1_col], geom_union)[1]\n",
    "    \n",
    "    # Get the corresponding value from df2 (matching is based on the geometry)\n",
    "    value = df2[nearest][src_column].get_values()[0]\n",
    "    \n",
    "    return value"
   ]
  },
  {
   "cell_type": "code",
   "execution_count": 18,
   "metadata": {
    "collapsed": true
   },
   "outputs": [],
   "source": [
    "# Filepaths\n",
    "adr_fp = r'data/addresses_geocode.shp'\n",
    "poly_fp = r'data/PKS_suuralue.kml'\n",
    "\n",
    "# Read data\n",
    "adrs = gpd.read_file(adr_fp)\n",
    "polys = gpd.read_file(poly_fp, driver='KML')"
   ]
  },
  {
   "cell_type": "code",
   "execution_count": 19,
   "metadata": {},
   "outputs": [
    {
     "data": {
      "text/plain": [
       "<matplotlib.axes._subplots.AxesSubplot at 0x26fee275550>"
      ]
     },
     "execution_count": 19,
     "metadata": {},
     "output_type": "execute_result"
    },
    {
     "data": {
      "image/png": "[encoded data removed]",
      "text/plain": [
       "<matplotlib.figure.Figure at 0x26fe237ae80>"
      ]
     },
     "metadata": {},
     "output_type": "display_data"
    }
   ],
   "source": [
    "adrs.plot()"
   ]
  },
  {
   "cell_type": "code",
   "execution_count": 20,
   "metadata": {},
   "outputs": [
    {
     "data": {
      "text/plain": [
       "<matplotlib.axes._subplots.AxesSubplot at 0x26fee29bda0>"
      ]
     },
     "execution_count": 20,
     "metadata": {},
     "output_type": "execute_result"
    },
    {
     "data": {
      "image/png": "[encoded data removed]",
      "text/plain": [
       "<matplotlib.figure.Figure at 0x26fede39b70>"
      ]
     },
     "metadata": {},
     "output_type": "display_data"
    }
   ],
   "source": [
    "polys.plot()"
   ]
  },
  {
   "cell_type": "code",
   "execution_count": 21,
   "metadata": {},
   "outputs": [
    {
     "data": {
      "image/svg+xml": [
       "<svg xmlns=\"http://www.w3.org/2000/svg\" xmlns:xlink=\"http://www.w3.org/1999/xlink\" width=\"100.0\" height=\"100.0\" viewBox=\"24.836991092 60.145083092 0.313537715999999 0.14431971599999827\" preserveAspectRatio=\"xMinYMin meet\"><g transform=\"matrix(1,0,0,-1,0,120.4344859)\"><g><circle cx=\"24.8486036\" cy=\"60.2451764\" r=\"0.00940613147999997\" stroke=\"#555555\" stroke-width=\"0.00313537715999999\" fill=\"#66cc99\" opacity=\"0.6\" /><circle cx=\"24.8610322\" cy=\"60.224006\" r=\"0.00940613147999997\" stroke=\"#555555\" stroke-width=\"0.00313537715999999\" fill=\"#66cc99\" opacity=\"0.6\" /><circle cx=\"24.8710287\" cy=\"60.222498\" r=\"0.00940613147999997\" stroke=\"#555555\" stroke-width=\"0.00313537715999999\" fill=\"#66cc99\" opacity=\"0.6\" /><circle cx=\"24.8769977\" cy=\"60.2397435\" r=\"0.00940613147999997\" stroke=\"#555555\" stroke-width=\"0.00313537715999999\" fill=\"#66cc99\" opacity=\"0.6\" /><circle cx=\"24.8842071\" cy=\"60.2305\" r=\"0.00940613147999997\" stroke=\"#555555\" stroke-width=\"0.00313537715999999\" fill=\"#66cc99\" opacity=\"0.6\" /><circle cx=\"24.8941806817097\" cy=\"60.21721545\" r=\"0.00940613147999997\" stroke=\"#555555\" stroke-width=\"0.00313537715999999\" fill=\"#66cc99\" opacity=\"0.6\" /><circle cx=\"24.9155655\" cy=\"60.1632005\" r=\"0.00940613147999997\" stroke=\"#555555\" stroke-width=\"0.00313537715999999\" fill=\"#66cc99\" opacity=\"0.6\" /><circle cx=\"24.9212065\" cy=\"60.1587845\" r=\"0.00940613147999997\" stroke=\"#555555\" stroke-width=\"0.00313537715999999\" fill=\"#66cc99\" opacity=\"0.6\" /><circle cx=\"24.9215601\" cy=\"60.1566956\" r=\"0.00940613147999997\" stroke=\"#555555\" stroke-width=\"0.00313537715999999\" fill=\"#66cc99\" opacity=\"0.6\" /><circle cx=\"24.9251045\" cy=\"60.1649874\" r=\"0.00940613147999997\" stroke=\"#555555\" stroke-width=\"0.00313537715999999\" fill=\"#66cc99\" opacity=\"0.6\" /><circle cx=\"24.9316914\" cy=\"60.1690222\" r=\"0.00940613147999997\" stroke=\"#555555\" stroke-width=\"0.00313537715999999\" fill=\"#66cc99\" opacity=\"0.6\" /><circle cx=\"24.9331155798105\" cy=\"60.1690911\" r=\"0.00940613147999997\" stroke=\"#555555\" stroke-width=\"0.00313537715999999\" fill=\"#66cc99\" opacity=\"0.6\" /><circle cx=\"24.9345417\" cy=\"60.2002522\" r=\"0.00940613147999997\" stroke=\"#555555\" stroke-width=\"0.00313537715999999\" fill=\"#66cc99\" opacity=\"0.6\" /><circle cx=\"24.94244049213\" cy=\"60.16988445\" r=\"0.00940613147999997\" stroke=\"#555555\" stroke-width=\"0.00313537715999999\" fill=\"#66cc99\" opacity=\"0.6\" /><circle cx=\"24.9440942536239\" cy=\"60.17130125\" r=\"0.00940613147999997\" stroke=\"#555555\" stroke-width=\"0.00313537715999999\" fill=\"#66cc99\" opacity=\"0.6\" /><circle cx=\"24.9473289\" cy=\"60.1718719\" r=\"0.00940613147999997\" stroke=\"#555555\" stroke-width=\"0.00313537715999999\" fill=\"#66cc99\" opacity=\"0.6\" /><circle cx=\"24.9480051\" cy=\"60.2217879\" r=\"0.00940613147999997\" stroke=\"#555555\" stroke-width=\"0.00313537715999999\" fill=\"#66cc99\" opacity=\"0.6\" /><circle cx=\"24.9495338\" cy=\"60.1794339\" r=\"0.00940613147999997\" stroke=\"#555555\" stroke-width=\"0.00313537715999999\" fill=\"#66cc99\" opacity=\"0.6\" /><circle cx=\"24.9607487\" cy=\"60.1882163\" r=\"0.00940613147999997\" stroke=\"#555555\" stroke-width=\"0.00313537715999999\" fill=\"#66cc99\" opacity=\"0.6\" /><circle cx=\"24.9655307\" cy=\"60.2294746\" r=\"0.00940613147999997\" stroke=\"#555555\" stroke-width=\"0.00313537715999999\" fill=\"#66cc99\" opacity=\"0.6\" /><circle cx=\"24.9709473\" cy=\"60.1975589\" r=\"0.00940613147999997\" stroke=\"#555555\" stroke-width=\"0.00313537715999999\" fill=\"#66cc99\" opacity=\"0.6\" /><circle cx=\"24.9936217\" cy=\"60.2436491\" r=\"0.00940613147999997\" stroke=\"#555555\" stroke-width=\"0.00313537715999999\" fill=\"#66cc99\" opacity=\"0.6\" /><circle cx=\"25.0068082\" cy=\"60.1887169\" r=\"0.00940613147999997\" stroke=\"#555555\" stroke-width=\"0.00313537715999999\" fill=\"#66cc99\" opacity=\"0.6\" /><circle cx=\"25.0130341\" cy=\"60.2513441\" r=\"0.00940613147999997\" stroke=\"#555555\" stroke-width=\"0.00313537715999999\" fill=\"#66cc99\" opacity=\"0.6\" /><circle cx=\"25.0245571\" cy=\"60.2438214\" r=\"0.00940613147999997\" stroke=\"#555555\" stroke-width=\"0.00313537715999999\" fill=\"#66cc99\" opacity=\"0.6\" /><circle cx=\"25.026632061488\" cy=\"60.1944775\" r=\"0.00940613147999997\" stroke=\"#555555\" stroke-width=\"0.00313537715999999\" fill=\"#66cc99\" opacity=\"0.6\" /><circle cx=\"25.0291169\" cy=\"60.2636285\" r=\"0.00940613147999997\" stroke=\"#555555\" stroke-width=\"0.00313537715999999\" fill=\"#66cc99\" opacity=\"0.6\" /><circle cx=\"25.0331561080774\" cy=\"60.2777903\" r=\"0.00940613147999997\" stroke=\"#555555\" stroke-width=\"0.00313537715999999\" fill=\"#66cc99\" opacity=\"0.6\" /><circle cx=\"25.0747841\" cy=\"60.2253109\" r=\"0.00940613147999997\" stroke=\"#555555\" stroke-width=\"0.00313537715999999\" fill=\"#66cc99\" opacity=\"0.6\" /><circle cx=\"25.0783462\" cy=\"60.209819\" r=\"0.00940613147999997\" stroke=\"#555555\" stroke-width=\"0.00313537715999999\" fill=\"#66cc99\" opacity=\"0.6\" /><circle cx=\"25.0806532\" cy=\"60.2334106\" r=\"0.00940613147999997\" stroke=\"#555555\" stroke-width=\"0.00313537715999999\" fill=\"#66cc99\" opacity=\"0.6\" /><circle cx=\"25.1098071\" cy=\"60.2380653\" r=\"0.00940613147999997\" stroke=\"#555555\" stroke-width=\"0.00313537715999999\" fill=\"#66cc99\" opacity=\"0.6\" /><circle cx=\"25.1109579\" cy=\"60.2216552\" r=\"0.00940613147999997\" stroke=\"#555555\" stroke-width=\"0.00313537715999999\" fill=\"#66cc99\" opacity=\"0.6\" /><circle cx=\"25.1389163\" cy=\"60.2071633\" r=\"0.00940613147999997\" stroke=\"#555555\" stroke-width=\"0.00313537715999999\" fill=\"#66cc99\" opacity=\"0.6\" /></g></g></svg>"
      ],
      "text/plain": [
       "<shapely.geometry.multipoint.MultiPoint at 0x26fef49bf98>"
      ]
     },
     "execution_count": 21,
     "metadata": {},
     "output_type": "execute_result"
    }
   ],
   "source": [
    "# Create MultiPoint object\n",
    "unary_union = adr\n",
    "s.unary_union\n",
    "unary_union"
   ]
  },
  {
   "cell_type": "code",
   "execution_count": 22,
   "metadata": {},
   "outputs": [
    {
     "data": {
      "text/html": [
       "<div>\n",
       "<style scoped>\n",
       "    .dataframe tbody tr th:only-of-type {\n",
       "        vertical-align: middle;\n",
       "    }\n",
       "\n",
       "    .dataframe tbody tr th {\n",
       "        vertical-align: top;\n",
       "    }\n",
       "\n",
       "    .dataframe thead th {\n",
       "        text-align: right;\n",
       "    }\n",
       "</style>\n",
       "<table border=\"1\" class=\"dataframe\">\n",
       "  <thead>\n",
       "    <tr style=\"text-align: right;\">\n",
       "      <th></th>\n",
       "      <th>Description</th>\n",
       "      <th>Name</th>\n",
       "      <th>geometry</th>\n",
       "      <th>centroid</th>\n",
       "    </tr>\n",
       "  </thead>\n",
       "  <tbody>\n",
       "    <tr>\n",
       "      <th>0</th>\n",
       "      <td></td>\n",
       "      <td>Suur-Espoonlahti</td>\n",
       "      <td>POLYGON Z ((24.775059677807 60.1090604462157 0...</td>\n",
       "      <td>POINT (24.76754037242762 60.0440879200116)</td>\n",
       "    </tr>\n",
       "    <tr>\n",
       "      <th>1</th>\n",
       "      <td></td>\n",
       "      <td>Suur-Kauklahti</td>\n",
       "      <td>POLYGON Z ((24.6157775254076 60.1725681273527 ...</td>\n",
       "      <td>POINT (24.57415010885406 60.19764302289445)</td>\n",
       "    </tr>\n",
       "    <tr>\n",
       "      <th>2</th>\n",
       "      <td></td>\n",
       "      <td>Vanha-Espoo</td>\n",
       "      <td>POLYGON Z ((24.6757633262026 60.2120070032819 ...</td>\n",
       "      <td>POINT (24.60400724339237 60.25253297356344)</td>\n",
       "    </tr>\n",
       "    <tr>\n",
       "      <th>3</th>\n",
       "      <td></td>\n",
       "      <td>Pohjois-Espoo</td>\n",
       "      <td>POLYGON Z ((24.767921197401 60.2691954732391 0...</td>\n",
       "      <td>POINT (24.68682879841453 60.30649462398335)</td>\n",
       "    </tr>\n",
       "    <tr>\n",
       "      <th>4</th>\n",
       "      <td></td>\n",
       "      <td>Suur-Matinkylä</td>\n",
       "      <td>POLYGON Z ((24.7536131356802 60.1663051341717 ...</td>\n",
       "      <td>POINT (24.76063843560942 60.15018263640097)</td>\n",
       "    </tr>\n",
       "  </tbody>\n",
       "</table>\n",
       "</div>"
      ],
      "text/plain": [
       "  Description              Name  \\\n",
       "0              Suur-Espoonlahti   \n",
       "1                Suur-Kauklahti   \n",
       "2                   Vanha-Espoo   \n",
       "3                 Pohjois-Espoo   \n",
       "4                Suur-Matinkylä   \n",
       "\n",
       "                                            geometry  \\\n",
       "0  POLYGON Z ((24.775059677807 60.1090604462157 0...   \n",
       "1  POLYGON Z ((24.6157775254076 60.1725681273527 ...   \n",
       "2  POLYGON Z ((24.6757633262026 60.2120070032819 ...   \n",
       "3  POLYGON Z ((24.767921197401 60.2691954732391 0...   \n",
       "4  POLYGON Z ((24.7536131356802 60.1663051341717 ...   \n",
       "\n",
       "                                      centroid  \n",
       "0   POINT (24.76754037242762 60.0440879200116)  \n",
       "1  POINT (24.57415010885406 60.19764302289445)  \n",
       "2  POINT (24.60400724339237 60.25253297356344)  \n",
       "3  POINT (24.68682879841453 60.30649462398335)  \n",
       "4  POINT (24.76063843560942 60.15018263640097)  "
      ]
     },
     "execution_count": 22,
     "metadata": {},
     "output_type": "execute_result"
    }
   ],
   "source": [
    "# Calculate polygons centroid\n",
    "polys['centroid'] = polys.centroid\n",
    "polys.head()"
   ]
  },
  {
   "cell_type": "code",
   "execution_count": 23,
   "metadata": {},
   "outputs": [
    {
     "data": {
      "text/html": [
       "<div>\n",
       "<style scoped>\n",
       "    .dataframe tbody tr th:only-of-type {\n",
       "        vertical-align: middle;\n",
       "    }\n",
       "\n",
       "    .dataframe tbody tr th {\n",
       "        vertical-align: top;\n",
       "    }\n",
       "\n",
       "    .dataframe thead th {\n",
       "        text-align: right;\n",
       "    }\n",
       "</style>\n",
       "<table border=\"1\" class=\"dataframe\">\n",
       "  <thead>\n",
       "    <tr style=\"text-align: right;\">\n",
       "      <th></th>\n",
       "      <th>Description</th>\n",
       "      <th>Name</th>\n",
       "      <th>geometry</th>\n",
       "      <th>centroid</th>\n",
       "      <th>nearest_id</th>\n",
       "    </tr>\n",
       "  </thead>\n",
       "  <tbody>\n",
       "    <tr>\n",
       "      <th>0</th>\n",
       "      <td></td>\n",
       "      <td>Suur-Espoonlahti</td>\n",
       "      <td>POLYGON Z ((24.775059677807 60.1090604462157 0...</td>\n",
       "      <td>POINT (24.76754037242762 60.0440879200116)</td>\n",
       "      <td>1000</td>\n",
       "    </tr>\n",
       "    <tr>\n",
       "      <th>1</th>\n",
       "      <td></td>\n",
       "      <td>Suur-Kauklahti</td>\n",
       "      <td>POLYGON Z ((24.6157775254076 60.1725681273527 ...</td>\n",
       "      <td>POINT (24.57415010885406 60.19764302289445)</td>\n",
       "      <td>1017</td>\n",
       "    </tr>\n",
       "    <tr>\n",
       "      <th>2</th>\n",
       "      <td></td>\n",
       "      <td>Vanha-Espoo</td>\n",
       "      <td>POLYGON Z ((24.6757633262026 60.2120070032819 ...</td>\n",
       "      <td>POINT (24.60400724339237 60.25253297356344)</td>\n",
       "      <td>1017</td>\n",
       "    </tr>\n",
       "    <tr>\n",
       "      <th>3</th>\n",
       "      <td></td>\n",
       "      <td>Pohjois-Espoo</td>\n",
       "      <td>POLYGON Z ((24.767921197401 60.2691954732391 0...</td>\n",
       "      <td>POINT (24.68682879841453 60.30649462398335)</td>\n",
       "      <td>1017</td>\n",
       "    </tr>\n",
       "    <tr>\n",
       "      <th>4</th>\n",
       "      <td></td>\n",
       "      <td>Suur-Matinkylä</td>\n",
       "      <td>POLYGON Z ((24.7536131356802 60.1663051341717 ...</td>\n",
       "      <td>POINT (24.76063843560942 60.15018263640097)</td>\n",
       "      <td>1020</td>\n",
       "    </tr>\n",
       "  </tbody>\n",
       "</table>\n",
       "</div>"
      ],
      "text/plain": [
       "  Description              Name  \\\n",
       "0              Suur-Espoonlahti   \n",
       "1                Suur-Kauklahti   \n",
       "2                   Vanha-Espoo   \n",
       "3                 Pohjois-Espoo   \n",
       "4                Suur-Matinkylä   \n",
       "\n",
       "                                            geometry  \\\n",
       "0  POLYGON Z ((24.775059677807 60.1090604462157 0...   \n",
       "1  POLYGON Z ((24.6157775254076 60.1725681273527 ...   \n",
       "2  POLYGON Z ((24.6757633262026 60.2120070032819 ...   \n",
       "3  POLYGON Z ((24.767921197401 60.2691954732391 0...   \n",
       "4  POLYGON Z ((24.7536131356802 60.1663051341717 ...   \n",
       "\n",
       "                                      centroid  nearest_id  \n",
       "0   POINT (24.76754037242762 60.0440879200116)        1000  \n",
       "1  POINT (24.57415010885406 60.19764302289445)        1017  \n",
       "2  POINT (24.60400724339237 60.25253297356344)        1017  \n",
       "3  POINT (24.68682879841453 60.30649462398335)        1017  \n",
       "4  POINT (24.76063843560942 60.15018263640097)        1020  "
      ]
     },
     "execution_count": 23,
     "metadata": {},
     "output_type": "execute_result"
    }
   ],
   "source": [
    "polys['nearest_id'] = polys.apply(nearest, geom_union=unary_union, df1=polys,\n",
    "                            df2=adrs, geom1_col='centroid', src_column='id',\n",
    "                            axis=1)\n",
    "polys.head()"
   ]
  },
  {
   "cell_type": "code",
   "execution_count": 24,
   "metadata": {},
   "outputs": [
    {
     "data": {
      "text/html": [
       "<div>\n",
       "<style scoped>\n",
       "    .dataframe tbody tr th:only-of-type {\n",
       "        vertical-align: middle;\n",
       "    }\n",
       "\n",
       "    .dataframe tbody tr th {\n",
       "        vertical-align: top;\n",
       "    }\n",
       "\n",
       "    .dataframe thead th {\n",
       "        text-align: right;\n",
       "    }\n",
       "</style>\n",
       "<table border=\"1\" class=\"dataframe\">\n",
       "  <thead>\n",
       "    <tr style=\"text-align: right;\">\n",
       "      <th></th>\n",
       "      <th>Description</th>\n",
       "      <th>Name</th>\n",
       "      <th>poly_geom</th>\n",
       "      <th>centroid</th>\n",
       "      <th>nearest_id</th>\n",
       "    </tr>\n",
       "  </thead>\n",
       "  <tbody>\n",
       "    <tr>\n",
       "      <th>0</th>\n",
       "      <td></td>\n",
       "      <td>Suur-Espoonlahti</td>\n",
       "      <td>POLYGON Z ((24.775059677807 60.1090604462157 0...</td>\n",
       "      <td>POINT (24.76754037242762 60.0440879200116)</td>\n",
       "      <td>1000</td>\n",
       "    </tr>\n",
       "    <tr>\n",
       "      <th>1</th>\n",
       "      <td></td>\n",
       "      <td>Suur-Kauklahti</td>\n",
       "      <td>POLYGON Z ((24.6157775254076 60.1725681273527 ...</td>\n",
       "      <td>POINT (24.57415010885406 60.19764302289445)</td>\n",
       "      <td>1017</td>\n",
       "    </tr>\n",
       "    <tr>\n",
       "      <th>2</th>\n",
       "      <td></td>\n",
       "      <td>Vanha-Espoo</td>\n",
       "      <td>POLYGON Z ((24.6757633262026 60.2120070032819 ...</td>\n",
       "      <td>POINT (24.60400724339237 60.25253297356344)</td>\n",
       "      <td>1017</td>\n",
       "    </tr>\n",
       "    <tr>\n",
       "      <th>3</th>\n",
       "      <td></td>\n",
       "      <td>Pohjois-Espoo</td>\n",
       "      <td>POLYGON Z ((24.767921197401 60.2691954732391 0...</td>\n",
       "      <td>POINT (24.68682879841453 60.30649462398335)</td>\n",
       "      <td>1017</td>\n",
       "    </tr>\n",
       "    <tr>\n",
       "      <th>4</th>\n",
       "      <td></td>\n",
       "      <td>Suur-Matinkylä</td>\n",
       "      <td>POLYGON Z ((24.7536131356802 60.1663051341717 ...</td>\n",
       "      <td>POINT (24.76063843560942 60.15018263640097)</td>\n",
       "      <td>1020</td>\n",
       "    </tr>\n",
       "  </tbody>\n",
       "</table>\n",
       "</div>"
      ],
      "text/plain": [
       "  Description              Name  \\\n",
       "0              Suur-Espoonlahti   \n",
       "1                Suur-Kauklahti   \n",
       "2                   Vanha-Espoo   \n",
       "3                 Pohjois-Espoo   \n",
       "4                Suur-Matinkylä   \n",
       "\n",
       "                                           poly_geom  \\\n",
       "0  POLYGON Z ((24.775059677807 60.1090604462157 0...   \n",
       "1  POLYGON Z ((24.6157775254076 60.1725681273527 ...   \n",
       "2  POLYGON Z ((24.6757633262026 60.2120070032819 ...   \n",
       "3  POLYGON Z ((24.767921197401 60.2691954732391 0...   \n",
       "4  POLYGON Z ((24.7536131356802 60.1663051341717 ...   \n",
       "\n",
       "                                      centroid  nearest_id  \n",
       "0   POINT (24.76754037242762 60.0440879200116)        1000  \n",
       "1  POINT (24.57415010885406 60.19764302289445)        1017  \n",
       "2  POINT (24.60400724339237 60.25253297356344)        1017  \n",
       "3  POINT (24.68682879841453 60.30649462398335)        1017  \n",
       "4  POINT (24.76063843560942 60.15018263640097)        1020  "
      ]
     },
     "execution_count": 24,
     "metadata": {},
     "output_type": "execute_result"
    }
   ],
   "source": [
    "# Rename Polygon geometry\n",
    "polys = polys.rename(columns={'geometry': 'poly_geom'})\n",
    "polys.head()"
   ]
  },
  {
   "cell_type": "code",
   "execution_count": 25,
   "metadata": {},
   "outputs": [
    {
     "data": {
      "text/html": [
       "<div>\n",
       "<style scoped>\n",
       "    .dataframe tbody tr th:only-of-type {\n",
       "        vertical-align: middle;\n",
       "    }\n",
       "\n",
       "    .dataframe tbody tr th {\n",
       "        vertical-align: top;\n",
       "    }\n",
       "\n",
       "    .dataframe thead th {\n",
       "        text-align: right;\n",
       "    }\n",
       "</style>\n",
       "<table border=\"1\" class=\"dataframe\">\n",
       "  <thead>\n",
       "    <tr style=\"text-align: right;\">\n",
       "      <th></th>\n",
       "      <th>addr</th>\n",
       "      <th>address</th>\n",
       "      <th>geometry</th>\n",
       "      <th>id</th>\n",
       "    </tr>\n",
       "  </thead>\n",
       "  <tbody>\n",
       "    <tr>\n",
       "      <th>0</th>\n",
       "      <td>Itämerenkatu 14, 00101 Helsinki, Finland</td>\n",
       "      <td>Ruoholahti, 14, Itämerenkatu, Ruoholahti, Läns...</td>\n",
       "      <td>POINT (24.9155655 60.1632005)</td>\n",
       "      <td>1000</td>\n",
       "    </tr>\n",
       "    <tr>\n",
       "      <th>1</th>\n",
       "      <td>Kampinkuja 1, 00100 Helsinki, Finland</td>\n",
       "      <td>Kamppi, 1, Kampinkuja, Kamppi, Eteläinen suurp...</td>\n",
       "      <td>POINT (24.9316914 60.1690222)</td>\n",
       "      <td>1001</td>\n",
       "    </tr>\n",
       "    <tr>\n",
       "      <th>2</th>\n",
       "      <td>Kaivokatu 8, 00101 Helsinki, Finland</td>\n",
       "      <td>Citycenter, 8, Kaivokatu, Keskusta, Kluuvi, Et...</td>\n",
       "      <td>POINT (24.94244049213 60.16988445)</td>\n",
       "      <td>1002</td>\n",
       "    </tr>\n",
       "    <tr>\n",
       "      <th>3</th>\n",
       "      <td>Hermannin rantatie 1, 00580 Helsinki, Finland</td>\n",
       "      <td>Hermannin rantatie, Kyläsaari, Hermanni, Helsi...</td>\n",
       "      <td>POINT (24.9709473 60.1975589)</td>\n",
       "      <td>1003</td>\n",
       "    </tr>\n",
       "    <tr>\n",
       "      <th>4</th>\n",
       "      <td>Tyynenmerenkatu 9, 00220 Helsinki, Finland</td>\n",
       "      <td>Hesburger Jätkäsaari, 9, Tyynenmerenkatu, Jätk...</td>\n",
       "      <td>POINT (24.9215601 60.1566956)</td>\n",
       "      <td>1005</td>\n",
       "    </tr>\n",
       "  </tbody>\n",
       "</table>\n",
       "</div>"
      ],
      "text/plain": [
       "                                            addr  \\\n",
       "0       Itämerenkatu 14, 00101 Helsinki, Finland   \n",
       "1          Kampinkuja 1, 00100 Helsinki, Finland   \n",
       "2           Kaivokatu 8, 00101 Helsinki, Finland   \n",
       "3  Hermannin rantatie 1, 00580 Helsinki, Finland   \n",
       "4     Tyynenmerenkatu 9, 00220 Helsinki, Finland   \n",
       "\n",
       "                                             address  \\\n",
       "0  Ruoholahti, 14, Itämerenkatu, Ruoholahti, Läns...   \n",
       "1  Kamppi, 1, Kampinkuja, Kamppi, Eteläinen suurp...   \n",
       "2  Citycenter, 8, Kaivokatu, Keskusta, Kluuvi, Et...   \n",
       "3  Hermannin rantatie, Kyläsaari, Hermanni, Helsi...   \n",
       "4  Hesburger Jätkäsaari, 9, Tyynenmerenkatu, Jätk...   \n",
       "\n",
       "                             geometry    id  \n",
       "0       POINT (24.9155655 60.1632005)  1000  \n",
       "1       POINT (24.9316914 60.1690222)  1001  \n",
       "2  POINT (24.94244049213 60.16988445)  1002  \n",
       "3       POINT (24.9709473 60.1975589)  1003  \n",
       "4       POINT (24.9215601 60.1566956)  1005  "
      ]
     },
     "execution_count": 25,
     "metadata": {},
     "output_type": "execute_result"
    }
   ],
   "source": [
    "adrs.head()"
   ]
  },
  {
   "cell_type": "code",
   "execution_count": 28,
   "metadata": {},
   "outputs": [
    {
     "data": {
      "text/html": [
       "<div>\n",
       "<style scoped>\n",
       "    .dataframe tbody tr th:only-of-type {\n",
       "        vertical-align: middle;\n",
       "    }\n",
       "\n",
       "    .dataframe tbody tr th {\n",
       "        vertical-align: top;\n",
       "    }\n",
       "\n",
       "    .dataframe thead th {\n",
       "        text-align: right;\n",
       "    }\n",
       "</style>\n",
       "<table border=\"1\" class=\"dataframe\">\n",
       "  <thead>\n",
       "    <tr style=\"text-align: right;\">\n",
       "      <th></th>\n",
       "      <th>Description</th>\n",
       "      <th>Name</th>\n",
       "      <th>poly_geom</th>\n",
       "      <th>centroid</th>\n",
       "      <th>nearest_id</th>\n",
       "      <th>addr_x</th>\n",
       "      <th>address_x</th>\n",
       "      <th>geometry_x</th>\n",
       "      <th>id_x</th>\n",
       "      <th>addr_y</th>\n",
       "      <th>address_y</th>\n",
       "      <th>geometry_y</th>\n",
       "      <th>id_y</th>\n",
       "    </tr>\n",
       "  </thead>\n",
       "  <tbody>\n",
       "    <tr>\n",
       "      <th>0</th>\n",
       "      <td></td>\n",
       "      <td>Suur-Espoonlahti</td>\n",
       "      <td>POLYGON Z ((24.775059677807 60.1090604462157 0...</td>\n",
       "      <td>POINT (24.76754037242762 60.0440879200116)</td>\n",
       "      <td>1000</td>\n",
       "      <td>Itämerenkatu 14, 00101 Helsinki, Finland</td>\n",
       "      <td>Ruoholahti, 14, Itämerenkatu, Ruoholahti, Läns...</td>\n",
       "      <td>POINT (24.9155655 60.1632005)</td>\n",
       "      <td>1000</td>\n",
       "      <td>Itämerenkatu 14, 00101 Helsinki, Finland</td>\n",
       "      <td>Ruoholahti, 14, Itämerenkatu, Ruoholahti, Läns...</td>\n",
       "      <td>POINT (24.9155655 60.1632005)</td>\n",
       "      <td>1000</td>\n",
       "    </tr>\n",
       "    <tr>\n",
       "      <th>1</th>\n",
       "      <td></td>\n",
       "      <td>Suur-Kauklahti</td>\n",
       "      <td>POLYGON Z ((24.6157775254076 60.1725681273527 ...</td>\n",
       "      <td>POINT (24.57415010885406 60.19764302289445)</td>\n",
       "      <td>1017</td>\n",
       "      <td>Malminkartanontie 17, 00410 Helsinki, Finland</td>\n",
       "      <td>Malminkartanontie, Malminkartano, Konala, Hels...</td>\n",
       "      <td>POINT (24.8486036 60.2451764)</td>\n",
       "      <td>1017</td>\n",
       "      <td>Malminkartanontie 17, 00410 Helsinki, Finland</td>\n",
       "      <td>Malminkartanontie, Malminkartano, Konala, Hels...</td>\n",
       "      <td>POINT (24.8486036 60.2451764)</td>\n",
       "      <td>1017</td>\n",
       "    </tr>\n",
       "    <tr>\n",
       "      <th>2</th>\n",
       "      <td></td>\n",
       "      <td>Vanha-Espoo</td>\n",
       "      <td>POLYGON Z ((24.6757633262026 60.2120070032819 ...</td>\n",
       "      <td>POINT (24.60400724339237 60.25253297356344)</td>\n",
       "      <td>1017</td>\n",
       "      <td>Malminkartanontie 17, 00410 Helsinki, Finland</td>\n",
       "      <td>Malminkartanontie, Malminkartano, Konala, Hels...</td>\n",
       "      <td>POINT (24.8486036 60.2451764)</td>\n",
       "      <td>1017</td>\n",
       "      <td>Malminkartanontie 17, 00410 Helsinki, Finland</td>\n",
       "      <td>Malminkartanontie, Malminkartano, Konala, Hels...</td>\n",
       "      <td>POINT (24.8486036 60.2451764)</td>\n",
       "      <td>1017</td>\n",
       "    </tr>\n",
       "    <tr>\n",
       "      <th>3</th>\n",
       "      <td></td>\n",
       "      <td>Pohjois-Espoo</td>\n",
       "      <td>POLYGON Z ((24.767921197401 60.2691954732391 0...</td>\n",
       "      <td>POINT (24.68682879841453 60.30649462398335)</td>\n",
       "      <td>1017</td>\n",
       "      <td>Malminkartanontie 17, 00410 Helsinki, Finland</td>\n",
       "      <td>Malminkartanontie, Malminkartano, Konala, Hels...</td>\n",
       "      <td>POINT (24.8486036 60.2451764)</td>\n",
       "      <td>1017</td>\n",
       "      <td>Malminkartanontie 17, 00410 Helsinki, Finland</td>\n",
       "      <td>Malminkartanontie, Malminkartano, Konala, Hels...</td>\n",
       "      <td>POINT (24.8486036 60.2451764)</td>\n",
       "      <td>1017</td>\n",
       "    </tr>\n",
       "    <tr>\n",
       "      <th>4</th>\n",
       "      <td></td>\n",
       "      <td>Kauniainen</td>\n",
       "      <td>POLYGON Z ((24.6907528033566 60.2195779731868 ...</td>\n",
       "      <td>POINT (24.71357964516679 60.21457067576294)</td>\n",
       "      <td>1017</td>\n",
       "      <td>Malminkartanontie 17, 00410 Helsinki, Finland</td>\n",
       "      <td>Malminkartanontie, Malminkartano, Konala, Hels...</td>\n",
       "      <td>POINT (24.8486036 60.2451764)</td>\n",
       "      <td>1017</td>\n",
       "      <td>Malminkartanontie 17, 00410 Helsinki, Finland</td>\n",
       "      <td>Malminkartanontie, Malminkartano, Konala, Hels...</td>\n",
       "      <td>POINT (24.8486036 60.2451764)</td>\n",
       "      <td>1017</td>\n",
       "    </tr>\n",
       "  </tbody>\n",
       "</table>\n",
       "</div>"
      ],
      "text/plain": [
       "  Description              Name  \\\n",
       "0              Suur-Espoonlahti   \n",
       "1                Suur-Kauklahti   \n",
       "2                   Vanha-Espoo   \n",
       "3                 Pohjois-Espoo   \n",
       "4                    Kauniainen   \n",
       "\n",
       "                                           poly_geom  \\\n",
       "0  POLYGON Z ((24.775059677807 60.1090604462157 0...   \n",
       "1  POLYGON Z ((24.6157775254076 60.1725681273527 ...   \n",
       "2  POLYGON Z ((24.6757633262026 60.2120070032819 ...   \n",
       "3  POLYGON Z ((24.767921197401 60.2691954732391 0...   \n",
       "4  POLYGON Z ((24.6907528033566 60.2195779731868 ...   \n",
       "\n",
       "                                      centroid  nearest_id  \\\n",
       "0   POINT (24.76754037242762 60.0440879200116)        1000   \n",
       "1  POINT (24.57415010885406 60.19764302289445)        1017   \n",
       "2  POINT (24.60400724339237 60.25253297356344)        1017   \n",
       "3  POINT (24.68682879841453 60.30649462398335)        1017   \n",
       "4  POINT (24.71357964516679 60.21457067576294)        1017   \n",
       "\n",
       "                                          addr_x  \\\n",
       "0       Itämerenkatu 14, 00101 Helsinki, Finland   \n",
       "1  Malminkartanontie 17, 00410 Helsinki, Finland   \n",
       "2  Malminkartanontie 17, 00410 Helsinki, Finland   \n",
       "3  Malminkartanontie 17, 00410 Helsinki, Finland   \n",
       "4  Malminkartanontie 17, 00410 Helsinki, Finland   \n",
       "\n",
       "                                           address_x  \\\n",
       "0  Ruoholahti, 14, Itämerenkatu, Ruoholahti, Läns...   \n",
       "1  Malminkartanontie, Malminkartano, Konala, Hels...   \n",
       "2  Malminkartanontie, Malminkartano, Konala, Hels...   \n",
       "3  Malminkartanontie, Malminkartano, Konala, Hels...   \n",
       "4  Malminkartanontie, Malminkartano, Konala, Hels...   \n",
       "\n",
       "                      geometry_x  id_x  \\\n",
       "0  POINT (24.9155655 60.1632005)  1000   \n",
       "1  POINT (24.8486036 60.2451764)  1017   \n",
       "2  POINT (24.8486036 60.2451764)  1017   \n",
       "3  POINT (24.8486036 60.2451764)  1017   \n",
       "4  POINT (24.8486036 60.2451764)  1017   \n",
       "\n",
       "                                          addr_y  \\\n",
       "0       Itämerenkatu 14, 00101 Helsinki, Finland   \n",
       "1  Malminkartanontie 17, 00410 Helsinki, Finland   \n",
       "2  Malminkartanontie 17, 00410 Helsinki, Finland   \n",
       "3  Malminkartanontie 17, 00410 Helsinki, Finland   \n",
       "4  Malminkartanontie 17, 00410 Helsinki, Finland   \n",
       "\n",
       "                                           address_y  \\\n",
       "0  Ruoholahti, 14, Itämerenkatu, Ruoholahti, Läns...   \n",
       "1  Malminkartanontie, Malminkartano, Konala, Hels...   \n",
       "2  Malminkartanontie, Malminkartano, Konala, Hels...   \n",
       "3  Malminkartanontie, Malminkartano, Konala, Hels...   \n",
       "4  Malminkartanontie, Malminkartano, Konala, Hels...   \n",
       "\n",
       "                      geometry_y  id_y  \n",
       "0  POINT (24.9155655 60.1632005)  1000  \n",
       "1  POINT (24.8486036 60.2451764)  1017  \n",
       "2  POINT (24.8486036 60.2451764)  1017  \n",
       "3  POINT (24.8486036 60.2451764)  1017  \n",
       "4  POINT (24.8486036 60.2451764)  1017  "
      ]
     },
     "execution_count": 28,
     "metadata": {},
     "output_type": "execute_result"
    }
   ],
   "source": [
    "# Table join\n",
    "polys = polys.merge(adrs, left_on='nearest_id', right_on='id')\n",
    "polys.head()"
   ]
  },
  {
   "cell_type": "code",
   "execution_count": 33,
   "metadata": {},
   "outputs": [
    {
     "data": {
      "text/html": [
       "<div>\n",
       "<style scoped>\n",
       "    .dataframe tbody tr th:only-of-type {\n",
       "        vertical-align: middle;\n",
       "    }\n",
       "\n",
       "    .dataframe tbody tr th {\n",
       "        vertical-align: top;\n",
       "    }\n",
       "\n",
       "    .dataframe thead th {\n",
       "        text-align: right;\n",
       "    }\n",
       "</style>\n",
       "<table border=\"1\" class=\"dataframe\">\n",
       "  <thead>\n",
       "    <tr style=\"text-align: right;\">\n",
       "      <th></th>\n",
       "      <th>Description</th>\n",
       "      <th>Name</th>\n",
       "      <th>poly_geom</th>\n",
       "      <th>centroid</th>\n",
       "      <th>nearest_id</th>\n",
       "      <th>addr_x</th>\n",
       "      <th>address_x</th>\n",
       "      <th>geometry_x</th>\n",
       "      <th>id_x</th>\n",
       "      <th>addr_y</th>\n",
       "      <th>address_y</th>\n",
       "      <th>geometry_y</th>\n",
       "      <th>id_y</th>\n",
       "      <th>line</th>\n",
       "    </tr>\n",
       "  </thead>\n",
       "  <tbody>\n",
       "    <tr>\n",
       "      <th>0</th>\n",
       "      <td></td>\n",
       "      <td>Suur-Espoonlahti</td>\n",
       "      <td>POLYGON Z ((24.775059677807 60.1090604462157 0...</td>\n",
       "      <td>POINT (24.76754037242762 60.0440879200116)</td>\n",
       "      <td>1000</td>\n",
       "      <td>Itämerenkatu 14, 00101 Helsinki, Finland</td>\n",
       "      <td>Ruoholahti, 14, Itämerenkatu, Ruoholahti, Läns...</td>\n",
       "      <td>POINT (24.9155655 60.1632005)</td>\n",
       "      <td>1000</td>\n",
       "      <td>Itämerenkatu 14, 00101 Helsinki, Finland</td>\n",
       "      <td>Ruoholahti, 14, Itämerenkatu, Ruoholahti, Läns...</td>\n",
       "      <td>POINT (24.9155655 60.1632005)</td>\n",
       "      <td>1000</td>\n",
       "      <td>LINESTRING (24.9155655 60.1632005, 24.76754037...</td>\n",
       "    </tr>\n",
       "    <tr>\n",
       "      <th>1</th>\n",
       "      <td></td>\n",
       "      <td>Suur-Kauklahti</td>\n",
       "      <td>POLYGON Z ((24.6157775254076 60.1725681273527 ...</td>\n",
       "      <td>POINT (24.57415010885406 60.19764302289445)</td>\n",
       "      <td>1017</td>\n",
       "      <td>Malminkartanontie 17, 00410 Helsinki, Finland</td>\n",
       "      <td>Malminkartanontie, Malminkartano, Konala, Hels...</td>\n",
       "      <td>POINT (24.8486036 60.2451764)</td>\n",
       "      <td>1017</td>\n",
       "      <td>Malminkartanontie 17, 00410 Helsinki, Finland</td>\n",
       "      <td>Malminkartanontie, Malminkartano, Konala, Hels...</td>\n",
       "      <td>POINT (24.8486036 60.2451764)</td>\n",
       "      <td>1017</td>\n",
       "      <td>LINESTRING (24.8486036 60.2451764, 24.57415010...</td>\n",
       "    </tr>\n",
       "    <tr>\n",
       "      <th>2</th>\n",
       "      <td></td>\n",
       "      <td>Vanha-Espoo</td>\n",
       "      <td>POLYGON Z ((24.6757633262026 60.2120070032819 ...</td>\n",
       "      <td>POINT (24.60400724339237 60.25253297356344)</td>\n",
       "      <td>1017</td>\n",
       "      <td>Malminkartanontie 17, 00410 Helsinki, Finland</td>\n",
       "      <td>Malminkartanontie, Malminkartano, Konala, Hels...</td>\n",
       "      <td>POINT (24.8486036 60.2451764)</td>\n",
       "      <td>1017</td>\n",
       "      <td>Malminkartanontie 17, 00410 Helsinki, Finland</td>\n",
       "      <td>Malminkartanontie, Malminkartano, Konala, Hels...</td>\n",
       "      <td>POINT (24.8486036 60.2451764)</td>\n",
       "      <td>1017</td>\n",
       "      <td>LINESTRING (24.8486036 60.2451764, 24.60400724...</td>\n",
       "    </tr>\n",
       "    <tr>\n",
       "      <th>3</th>\n",
       "      <td></td>\n",
       "      <td>Pohjois-Espoo</td>\n",
       "      <td>POLYGON Z ((24.767921197401 60.2691954732391 0...</td>\n",
       "      <td>POINT (24.68682879841453 60.30649462398335)</td>\n",
       "      <td>1017</td>\n",
       "      <td>Malminkartanontie 17, 00410 Helsinki, Finland</td>\n",
       "      <td>Malminkartanontie, Malminkartano, Konala, Hels...</td>\n",
       "      <td>POINT (24.8486036 60.2451764)</td>\n",
       "      <td>1017</td>\n",
       "      <td>Malminkartanontie 17, 00410 Helsinki, Finland</td>\n",
       "      <td>Malminkartanontie, Malminkartano, Konala, Hels...</td>\n",
       "      <td>POINT (24.8486036 60.2451764)</td>\n",
       "      <td>1017</td>\n",
       "      <td>LINESTRING (24.8486036 60.2451764, 24.68682879...</td>\n",
       "    </tr>\n",
       "    <tr>\n",
       "      <th>4</th>\n",
       "      <td></td>\n",
       "      <td>Kauniainen</td>\n",
       "      <td>POLYGON Z ((24.6907528033566 60.2195779731868 ...</td>\n",
       "      <td>POINT (24.71357964516679 60.21457067576294)</td>\n",
       "      <td>1017</td>\n",
       "      <td>Malminkartanontie 17, 00410 Helsinki, Finland</td>\n",
       "      <td>Malminkartanontie, Malminkartano, Konala, Hels...</td>\n",
       "      <td>POINT (24.8486036 60.2451764)</td>\n",
       "      <td>1017</td>\n",
       "      <td>Malminkartanontie 17, 00410 Helsinki, Finland</td>\n",
       "      <td>Malminkartanontie, Malminkartano, Konala, Hels...</td>\n",
       "      <td>POINT (24.8486036 60.2451764)</td>\n",
       "      <td>1017</td>\n",
       "      <td>LINESTRING (24.8486036 60.2451764, 24.71357964...</td>\n",
       "    </tr>\n",
       "  </tbody>\n",
       "</table>\n",
       "</div>"
      ],
      "text/plain": [
       "  Description              Name  \\\n",
       "0              Suur-Espoonlahti   \n",
       "1                Suur-Kauklahti   \n",
       "2                   Vanha-Espoo   \n",
       "3                 Pohjois-Espoo   \n",
       "4                    Kauniainen   \n",
       "\n",
       "                                           poly_geom  \\\n",
       "0  POLYGON Z ((24.775059677807 60.1090604462157 0...   \n",
       "1  POLYGON Z ((24.6157775254076 60.1725681273527 ...   \n",
       "2  POLYGON Z ((24.6757633262026 60.2120070032819 ...   \n",
       "3  POLYGON Z ((24.767921197401 60.2691954732391 0...   \n",
       "4  POLYGON Z ((24.6907528033566 60.2195779731868 ...   \n",
       "\n",
       "                                      centroid  nearest_id  \\\n",
       "0   POINT (24.76754037242762 60.0440879200116)        1000   \n",
       "1  POINT (24.57415010885406 60.19764302289445)        1017   \n",
       "2  POINT (24.60400724339237 60.25253297356344)        1017   \n",
       "3  POINT (24.68682879841453 60.30649462398335)        1017   \n",
       "4  POINT (24.71357964516679 60.21457067576294)        1017   \n",
       "\n",
       "                                          addr_x  \\\n",
       "0       Itämerenkatu 14, 00101 Helsinki, Finland   \n",
       "1  Malminkartanontie 17, 00410 Helsinki, Finland   \n",
       "2  Malminkartanontie 17, 00410 Helsinki, Finland   \n",
       "3  Malminkartanontie 17, 00410 Helsinki, Finland   \n",
       "4  Malminkartanontie 17, 00410 Helsinki, Finland   \n",
       "\n",
       "                                           address_x  \\\n",
       "0  Ruoholahti, 14, Itämerenkatu, Ruoholahti, Läns...   \n",
       "1  Malminkartanontie, Malminkartano, Konala, Hels...   \n",
       "2  Malminkartanontie, Malminkartano, Konala, Hels...   \n",
       "3  Malminkartanontie, Malminkartano, Konala, Hels...   \n",
       "4  Malminkartanontie, Malminkartano, Konala, Hels...   \n",
       "\n",
       "                      geometry_x  id_x  \\\n",
       "0  POINT (24.9155655 60.1632005)  1000   \n",
       "1  POINT (24.8486036 60.2451764)  1017   \n",
       "2  POINT (24.8486036 60.2451764)  1017   \n",
       "3  POINT (24.8486036 60.2451764)  1017   \n",
       "4  POINT (24.8486036 60.2451764)  1017   \n",
       "\n",
       "                                          addr_y  \\\n",
       "0       Itämerenkatu 14, 00101 Helsinki, Finland   \n",
       "1  Malminkartanontie 17, 00410 Helsinki, Finland   \n",
       "2  Malminkartanontie 17, 00410 Helsinki, Finland   \n",
       "3  Malminkartanontie 17, 00410 Helsinki, Finland   \n",
       "4  Malminkartanontie 17, 00410 Helsinki, Finland   \n",
       "\n",
       "                                           address_y  \\\n",
       "0  Ruoholahti, 14, Itämerenkatu, Ruoholahti, Läns...   \n",
       "1  Malminkartanontie, Malminkartano, Konala, Hels...   \n",
       "2  Malminkartanontie, Malminkartano, Konala, Hels...   \n",
       "3  Malminkartanontie, Malminkartano, Konala, Hels...   \n",
       "4  Malminkartanontie, Malminkartano, Konala, Hels...   \n",
       "\n",
       "                      geometry_y  id_y  \\\n",
       "0  POINT (24.9155655 60.1632005)  1000   \n",
       "1  POINT (24.8486036 60.2451764)  1017   \n",
       "2  POINT (24.8486036 60.2451764)  1017   \n",
       "3  POINT (24.8486036 60.2451764)  1017   \n",
       "4  POINT (24.8486036 60.2451764)  1017   \n",
       "\n",
       "                                                line  \n",
       "0  LINESTRING (24.9155655 60.1632005, 24.76754037...  \n",
       "1  LINESTRING (24.8486036 60.2451764, 24.57415010...  \n",
       "2  LINESTRING (24.8486036 60.2451764, 24.60400724...  \n",
       "3  LINESTRING (24.8486036 60.2451764, 24.68682879...  \n",
       "4  LINESTRING (24.8486036 60.2451764, 24.71357964...  "
      ]
     },
     "execution_count": 33,
     "metadata": {},
     "output_type": "execute_result"
    }
   ],
   "source": [
    "# Create a linestring from the centroids to the address points\n",
    "polys['line'] = None\n",
    "polys['line'] = polys.apply(lambda row: LineString([row['geometry_y'], row['centroid']]), axis=1)\n",
    "polys.head()"
   ]
  },
  {
   "cell_type": "code",
   "execution_count": 42,
   "metadata": {},
   "outputs": [
    {
     "name": "stdout",
     "output_type": "stream",
     "text": [
      "<class 'geopandas.geodataframe.GeoDataFrame'>\n"
     ]
    },
    {
     "data": {
      "text/html": [
       "<div>\n",
       "<style scoped>\n",
       "    .dataframe tbody tr th:only-of-type {\n",
       "        vertical-align: middle;\n",
       "    }\n",
       "\n",
       "    .dataframe tbody tr th {\n",
       "        vertical-align: top;\n",
       "    }\n",
       "\n",
       "    .dataframe thead th {\n",
       "        text-align: right;\n",
       "    }\n",
       "</style>\n",
       "<table border=\"1\" class=\"dataframe\">\n",
       "  <thead>\n",
       "    <tr style=\"text-align: right;\">\n",
       "      <th></th>\n",
       "      <th>geometry</th>\n",
       "      <th>id</th>\n",
       "    </tr>\n",
       "  </thead>\n",
       "  <tbody>\n",
       "    <tr>\n",
       "      <th>0</th>\n",
       "      <td>LINESTRING (24.9155655 60.1632005, 24.76754037...</td>\n",
       "      <td>1000</td>\n",
       "    </tr>\n",
       "    <tr>\n",
       "      <th>1</th>\n",
       "      <td>LINESTRING (24.8486036 60.2451764, 24.57415010...</td>\n",
       "      <td>1017</td>\n",
       "    </tr>\n",
       "    <tr>\n",
       "      <th>2</th>\n",
       "      <td>LINESTRING (24.8486036 60.2451764, 24.60400724...</td>\n",
       "      <td>1017</td>\n",
       "    </tr>\n",
       "    <tr>\n",
       "      <th>3</th>\n",
       "      <td>LINESTRING (24.8486036 60.2451764, 24.68682879...</td>\n",
       "      <td>1017</td>\n",
       "    </tr>\n",
       "    <tr>\n",
       "      <th>4</th>\n",
       "      <td>LINESTRING (24.8486036 60.2451764, 24.71357964...</td>\n",
       "      <td>1017</td>\n",
       "    </tr>\n",
       "  </tbody>\n",
       "</table>\n",
       "</div>"
      ],
      "text/plain": [
       "                                            geometry    id\n",
       "0  LINESTRING (24.9155655 60.1632005, 24.76754037...  1000\n",
       "1  LINESTRING (24.8486036 60.2451764, 24.57415010...  1017\n",
       "2  LINESTRING (24.8486036 60.2451764, 24.60400724...  1017\n",
       "3  LINESTRING (24.8486036 60.2451764, 24.68682879...  1017\n",
       "4  LINESTRING (24.8486036 60.2451764, 24.71357964...  1017"
      ]
     },
     "execution_count": 42,
     "metadata": {},
     "output_type": "execute_result"
    }
   ],
   "source": [
    "# Visualizing the lines\n",
    "lines = polys[['line', 'id_y']]\n",
    "lines = lines.rename(columns={'line': 'geometry', 'id_y':'id'})\n",
    "lines = gpd.GeoDataFrame(lines, crs=polys.crs)\n",
    "print(type(lines))\n",
    "lines.head()"
   ]
  },
  {
   "cell_type": "code",
   "execution_count": 43,
   "metadata": {},
   "outputs": [
    {
     "data": {
      "text/plain": [
       "<matplotlib.axes._subplots.AxesSubplot at 0x26fef7aa3c8>"
      ]
     },
     "execution_count": 43,
     "metadata": {},
     "output_type": "execute_result"
    },
    {
     "data": {
      "image/png": "[encoded data removed]",
      "text/plain": [
       "<matplotlib.figure.Figure at 0x26fef5b5780>"
      ]
     },
     "metadata": {},
     "output_type": "display_data"
    }
   ],
   "source": [
    "lines.plot(column='id')"
   ]
  },
  {
   "cell_type": "code",
   "execution_count": null,
   "metadata": {
    "collapsed": true
   },
   "outputs": [],
   "source": []
  }
 ],
 "metadata": {
  "kernelspec": {
   "display_name": "Python 3",
   "language": "python",
   "name": "python3"
  },
  "language_info": {
   "codemirror_mode": {
    "name": "ipython",
    "version": 3
   },
   "file_extension": ".py",
   "mimetype": "text/x-python",
   "name": "python",
   "nbconvert_exporter": "python",
   "pygments_lexer": "ipython3",
   "version": "3.5.4"
  }
 },
 "nbformat": 4,
 "nbformat_minor": 2
}
