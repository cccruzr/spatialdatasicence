{
 "cells": [
  {
   "cell_type": "markdown",
   "metadata": {},
   "source": [
    "## Problem 1: Creating basic geometries\n",
    "\n",
    "Write your codes into a single `create_geometries.py` -file and upload the script to your personal GitHub Exercise-1 repository.\n",
    "\n",
    "1. Create a function called `createPointGeom()` that has two parameters (x_coord, y_coord). Function should create a shapely Point geometry object and return that. \n",
    "Demonstrate the usage of the function by creating Point -objects with the function.\n",
    "\n",
    "2. Create a function called `createLineGeom()` that takes a list of Shapely Point objects as parameter and returns a \n",
    "LineString object of those input points. Function should first check that the input list really contains Shapely Point(s). \n",
    "Demonstrate the usage of the function by creating LineString -objects with the function.\n",
    "\n",
    "3. Create a function called `createPolyGeom()` that takes a list of coordinate tuples **OR** a list of Shapely Point objects and creates/returns \n",
    "a Polygon object of the input data. Both ways of passing the data to the function should be working. \n",
    "Demonstrate the usage of the function by passing data first with coordinate-tuples and then with Point -objects."
   ]
  },
  {
   "cell_type": "code",
   "execution_count": 52,
   "metadata": {
    "collapsed": true
   },
   "outputs": [],
   "source": [
    "# Import necessary geometric objects from shapely module\n",
    "from shapely.geometry import Point, LineString, Polygon"
   ]
  },
  {
   "cell_type": "code",
   "execution_count": 53,
   "metadata": {
    "collapsed": true
   },
   "outputs": [],
   "source": [
    "def createPointGeom(x_coord, y_coord):\n",
    "    ''' x_coord: x coordinate (float)\n",
    "        y_coord: x coordinate (float) '''\n",
    "    return Point(x_coord, y_coord)"
   ]
  },
  {
   "cell_type": "code",
   "execution_count": 54,
   "metadata": {},
   "outputs": [
    {
     "name": "stdout",
     "output_type": "stream",
     "text": [
      "POINT (1 2) <class 'shapely.geometry.point.Point'>\n"
     ]
    },
    {
     "data": {
      "image/svg+xml": [
       "<svg xmlns=\"http://www.w3.org/2000/svg\" xmlns:xlink=\"http://www.w3.org/1999/xlink\" width=\"100.0\" height=\"100.0\" viewBox=\"0.0 1.0 2.0 2.0\" preserveAspectRatio=\"xMinYMin meet\"><g transform=\"matrix(1,0,0,-1,0,4.0)\"><circle cx=\"1.0\" cy=\"2.0\" r=\"0.06\" stroke=\"#555555\" stroke-width=\"0.02\" fill=\"#66cc99\" opacity=\"0.6\" /></g></svg>"
      ],
      "text/plain": [
       "<shapely.geometry.point.Point at 0x198d42ad240>"
      ]
     },
     "execution_count": 54,
     "metadata": {},
     "output_type": "execute_result"
    }
   ],
   "source": [
    "point = createPointGeom(1, 2)\n",
    "print(point, type(point))\n",
    "point"
   ]
  },
  {
   "cell_type": "code",
   "execution_count": 55,
   "metadata": {
    "collapsed": true
   },
   "outputs": [],
   "source": [
    "def createLineGeom(point_list):\n",
    "    ''' point_list: list of points (shapely.geometry.point.Point) '''\n",
    "    return LineString([p.x, p.y] for p in point_list)"
   ]
  },
  {
   "cell_type": "code",
   "execution_count": 56,
   "metadata": {
    "collapsed": true
   },
   "outputs": [],
   "source": [
    "p_list = [Point(0,0), Point(3,2), Point(1,1), Point(4,1)]"
   ]
  },
  {
   "cell_type": "code",
   "execution_count": 57,
   "metadata": {},
   "outputs": [
    {
     "name": "stdout",
     "output_type": "stream",
     "text": [
      "LINESTRING (0 0, 3 2, 1 1, 4 1) <class 'shapely.geometry.linestring.LineString'>\n"
     ]
    },
    {
     "data": {
      "image/svg+xml": [
       "<svg xmlns=\"http://www.w3.org/2000/svg\" xmlns:xlink=\"http://www.w3.org/1999/xlink\" width=\"100.0\" height=\"100.0\" viewBox=\"-0.16 -0.16 4.32 2.3200000000000003\" preserveAspectRatio=\"xMinYMin meet\"><g transform=\"matrix(1,0,0,-1,0,2.0)\"><polyline fill=\"none\" stroke=\"#66cc99\" stroke-width=\"0.0864\" points=\"0.0,0.0 3.0,2.0 1.0,1.0 4.0,1.0\" opacity=\"0.8\" /></g></svg>"
      ],
      "text/plain": [
       "<shapely.geometry.linestring.LineString at 0x198d41a56a0>"
      ]
     },
     "execution_count": 57,
     "metadata": {},
     "output_type": "execute_result"
    }
   ],
   "source": [
    "line = createLineGeom(p_list)\n",
    "print(line, type(line))\n",
    "line"
   ]
  },
  {
   "cell_type": "code",
   "execution_count": 58,
   "metadata": {
    "collapsed": true
   },
   "outputs": [],
   "source": [
    "def createPolyGeom(point_list):\n",
    "    ''' point_list: list of points (list of coordinates tuples OR\n",
    "                                    shapely.geometry.point.Point) '''\n",
    "    if (type(point_list[0]) == tuple):\n",
    "        return Polygon(shell=[tup for tup in point_list])\n",
    "    elif (point_list[0].geom_type == 'Point'):\n",
    "        return Polygon([[p.x, p.y] for p in point_list])\n",
    "    else:\n",
    "        return \"Wrong input\"\n",
    "    "
   ]
  },
  {
   "cell_type": "code",
   "execution_count": 59,
   "metadata": {},
   "outputs": [
    {
     "name": "stdout",
     "output_type": "stream",
     "text": [
      "POLYGON ((0 0, 1 1, 2 3, 5 2, 0 0)) <class 'shapely.geometry.polygon.Polygon'>\n"
     ]
    },
    {
     "data": {
      "image/svg+xml": [
       "<svg xmlns=\"http://www.w3.org/2000/svg\" xmlns:xlink=\"http://www.w3.org/1999/xlink\" width=\"100.0\" height=\"100.0\" viewBox=\"-0.2 -0.2 5.4 3.4000000000000004\" preserveAspectRatio=\"xMinYMin meet\"><g transform=\"matrix(1,0,0,-1,0,3.0)\"><path fill-rule=\"evenodd\" fill=\"#66cc99\" stroke=\"#555555\" stroke-width=\"0.10800000000000001\" opacity=\"0.6\" d=\"M 0.0,0.0 L 1.0,1.0 L 2.0,3.0 L 5.0,2.0 L 0.0,0.0 z\" /></g></svg>"
      ],
      "text/plain": [
       "<shapely.geometry.polygon.Polygon at 0x198d422fc88>"
      ]
     },
     "execution_count": 59,
     "metadata": {},
     "output_type": "execute_result"
    }
   ],
   "source": [
    "tuple_list = [(0,0), (1,1), (2,3), (5,2)]\n",
    "polygon1 = createPolyGeom(tuple_list)\n",
    "print(polygon1, type(polygon1))\n",
    "polygon1"
   ]
  },
  {
   "cell_type": "code",
   "execution_count": 60,
   "metadata": {},
   "outputs": [
    {
     "name": "stdout",
     "output_type": "stream",
     "text": [
      "POLYGON ((0 0, 3 2, 1 1, 4 1, 0 0)) <class 'shapely.geometry.polygon.Polygon'>\n"
     ]
    },
    {
     "data": {
      "image/svg+xml": [
       "<svg xmlns=\"http://www.w3.org/2000/svg\" xmlns:xlink=\"http://www.w3.org/1999/xlink\" width=\"100.0\" height=\"100.0\" viewBox=\"-0.16 -0.16 4.32 2.3200000000000003\" preserveAspectRatio=\"xMinYMin meet\"><g transform=\"matrix(1,0,0,-1,0,2.0)\"><path fill-rule=\"evenodd\" fill=\"#ff3333\" stroke=\"#555555\" stroke-width=\"0.0864\" opacity=\"0.6\" d=\"M 0.0,0.0 L 3.0,2.0 L 1.0,1.0 L 4.0,1.0 L 0.0,0.0 z\" /></g></svg>"
      ],
      "text/plain": [
       "<shapely.geometry.polygon.Polygon at 0x198d422fa20>"
      ]
     },
     "execution_count": 60,
     "metadata": {},
     "output_type": "execute_result"
    }
   ],
   "source": [
    "polygon2 = createPolyGeom(p_list)\n",
    "print(polygon2, type(polygon2))\n",
    "polygon2"
   ]
  },
  {
   "cell_type": "markdown",
   "metadata": {
    "collapsed": true
   },
   "source": [
    "## Problem 2: Attributes of geometries\n",
    "\n",
    "Write your codes into a single `read_attributes.py` -file and upload the script to your personal GitHub Exercise-1 repository.\n",
    "\n",
    "1. Create a function called `getCentroid()` that takes any kind of Shapely's geometric -object as input and returns a centroid of that geometry. Demonstrate the usage of the function.\n",
    "\n",
    "2. Create a function called `getArea()` that takes a Shapely's Polygon -object as input and returns the area of that geometry. Demonstrate the usage of the function.\n",
    "\n",
    "3. Create a function called `getLength()` takes either a Shapely's LineString or Polygon -object as input. Function should check the type of the input and returns the length of  the line if input is LineString and length of the exterior ring if input is Polygon. If something else is passed to the function, it should tell the user --> `\"Error: LineString or Polygon geometries required!\"`.  Demonstrate the usage of the function."
   ]
  },
  {
   "cell_type": "code",
   "execution_count": 61,
   "metadata": {
    "collapsed": true
   },
   "outputs": [],
   "source": [
    "def getCentroid(shapely_elem):\n",
    "    '''INPUT\n",
    "    shapely_elem: shapely geometric object\n",
    "    '''\n",
    "    return shapely_elem.centroid"
   ]
  },
  {
   "cell_type": "code",
   "execution_count": 62,
   "metadata": {},
   "outputs": [
    {
     "name": "stdout",
     "output_type": "stream",
     "text": [
      "POINT (1 2)\n",
      "POINT (1.965755634904715 1.126451270605791)\n",
      "POINT (2.466666666666667 1.7)\n"
     ]
    }
   ],
   "source": [
    "print(getCentroid(point))\n",
    "print(getCentroid(line))\n",
    "print(getCentroid(polygon1))"
   ]
  },
  {
   "cell_type": "code",
   "execution_count": 63,
   "metadata": {
    "collapsed": true
   },
   "outputs": [],
   "source": [
    "def getArea(shapely_elem):\n",
    "    '''INPUT\n",
    "    shapely_elem: shapely geometric object Polygon\n",
    "    '''\n",
    "    if (shapely_elem.geom_type != 'Polygon'):\n",
    "        return \"Error: Polygon geometry required!\"\n",
    "    else:\n",
    "        return shapely_elem.area"
   ]
  },
  {
   "cell_type": "code",
   "execution_count": 64,
   "metadata": {},
   "outputs": [
    {
     "name": "stdout",
     "output_type": "stream",
     "text": [
      "5.0\n"
     ]
    }
   ],
   "source": [
    "print(getArea(polygon1))"
   ]
  },
  {
   "cell_type": "code",
   "execution_count": 65,
   "metadata": {
    "collapsed": true
   },
   "outputs": [],
   "source": [
    "def getLength(shapely_elem):\n",
    "    '''INPUT\n",
    "    shapely_elem: shapely geometric object Polygon\n",
    "    '''\n",
    "    if (shapely_elem.geom_type not in ['Polygon', 'LineString']):\n",
    "        return \"Error: LineString or Polygon geometry required!\"\n",
    "    else:\n",
    "        return shapely_elem.length"
   ]
  },
  {
   "cell_type": "code",
   "execution_count": 66,
   "metadata": {},
   "outputs": [
    {
     "data": {
      "text/plain": [
       "8.84161925296378"
      ]
     },
     "execution_count": 66,
     "metadata": {},
     "output_type": "execute_result"
    }
   ],
   "source": [
    "line.length"
   ]
  },
  {
   "cell_type": "code",
   "execution_count": 67,
   "metadata": {},
   "outputs": [
    {
     "name": "stdout",
     "output_type": "stream",
     "text": [
      "Error: LineString or Polygon geometry required!\n",
      "8.84161925296378\n",
      "12.197724007175768\n"
     ]
    }
   ],
   "source": [
    "print(getLength(point))\n",
    "print(getLength(line))\n",
    "print(getLength(polygon1))"
   ]
  },
  {
   "cell_type": "markdown",
   "metadata": {
    "collapsed": true
   },
   "source": [
    "## Problem 3: Reading coordinates from a file and creating a geometries \n",
    "\n",
    "Write your codes into a single `file_coords_to_geom.py` -file and upload the script to your personal GitHub Exercise-1 repository.\n",
    "\n",
    "One of the \"classical\" problems in GIS is the situation where you have a set of coordinates in a file and you need to get them into a map (or into a GIS-software). Python is a really handy\n",
    "tool to solve this problem as with Python it is basically possible to read data from any kind of input datafile (such as csv-, txt-, excel-, or gpx-files (gps data) or from different databases). \n",
    "So far, I haven't faced any kind of data or file that would be impossible to read with Python. \n",
    "\n",
    "Thus, let's see how we can read data from a file and create Point -objects from them that can be saved e.g. as a new Shapefile (we will learn this next week). \n",
    "Our dataset **[travelTimes_2015_Helsinki.txt](data/travelTimes_2015_Helsinki.txt)** consist of \n",
    "travel times between specific locations in Helsinki Region. The first four rows of our data looks like this:\n",
    "\n",
    "```\n",
    "   from_id;to_id;fromid_toid;route_number;at;from_x;from_y;to_x;to_y;total_route_time;route_time;route_distance;route_total_lines\n",
    "   5861326;5785640;5861326_5785640;1;08:10;24.9704379;60.3119173;24.8560344;60.399940599999994;125.0;99.0;22917.6;2.0\n",
    "   5861326;5785641;5861326_5785641;1;08:10;24.9704379;60.3119173;24.8605682;60.4000135;123.0;102.0;23123.5;2.0\n",
    "   5861326;5785642;5861326_5785642;1;08:10;24.9704379;60.3119173;24.865102;60.4000863;125.0;103.0;23241.3;2.0\n",
    "```\n",
    "\n",
    "Thus, we have many columns of data, but the few important ones are:\n",
    "\n",
    "| Column | Description |\n",
    "|--------|-------------|\n",
    "| from_x | x-coordinate of the **origin** location (longitude) |\n",
    "| from_y | y-coordinate of the **origin** location (latitude) |\n",
    "| to_x   | x-coordinate of the **destination** location (longitude)|\n",
    "| to_y   | y-coordinate of the **destination** location (latitude) |\n",
    "| total_route_time | Travel time with public transportation at the route |\n",
    "\n",
    "### Tasks\n",
    "\n",
    "1. Save the [travelTimes_2015_Helsinki.txt](data/travelTimes_2015_Helsinki.txt) into your computer.\n",
    "2. Read 4 columns, i.e. 'from_x', 'from_y', 'to_x', 'to_y' from the data into Python using Pandas.\n",
    "3. Create two lists called `orig_points` and `dest_points`\n",
    "4. Iterate over the rows of your DataFrame and add Shapely Point -objects into the orig_points -list and dest_point -list representing the origin \n",
    "locations and destination locations accordingly."
   ]
  },
  {
   "cell_type": "code",
   "execution_count": 68,
   "metadata": {
    "collapsed": true
   },
   "outputs": [],
   "source": [
    "import pandas as pd"
   ]
  },
  {
   "cell_type": "code",
   "execution_count": 69,
   "metadata": {},
   "outputs": [
    {
     "data": {
      "text/html": [
       "<div>\n",
       "<style scoped>\n",
       "    .dataframe tbody tr th:only-of-type {\n",
       "        vertical-align: middle;\n",
       "    }\n",
       "\n",
       "    .dataframe tbody tr th {\n",
       "        vertical-align: top;\n",
       "    }\n",
       "\n",
       "    .dataframe thead th {\n",
       "        text-align: right;\n",
       "    }\n",
       "</style>\n",
       "<table border=\"1\" class=\"dataframe\">\n",
       "  <thead>\n",
       "    <tr style=\"text-align: right;\">\n",
       "      <th></th>\n",
       "      <th>from_x</th>\n",
       "      <th>from_y</th>\n",
       "      <th>to_x</th>\n",
       "      <th>to_y</th>\n",
       "    </tr>\n",
       "  </thead>\n",
       "  <tbody>\n",
       "    <tr>\n",
       "      <th>0</th>\n",
       "      <td>24.970438</td>\n",
       "      <td>60.311917</td>\n",
       "      <td>24.856034</td>\n",
       "      <td>60.399941</td>\n",
       "    </tr>\n",
       "    <tr>\n",
       "      <th>1</th>\n",
       "      <td>24.970438</td>\n",
       "      <td>60.311917</td>\n",
       "      <td>24.860568</td>\n",
       "      <td>60.400014</td>\n",
       "    </tr>\n",
       "    <tr>\n",
       "      <th>2</th>\n",
       "      <td>24.970438</td>\n",
       "      <td>60.311917</td>\n",
       "      <td>24.865102</td>\n",
       "      <td>60.400086</td>\n",
       "    </tr>\n",
       "    <tr>\n",
       "      <th>3</th>\n",
       "      <td>24.970438</td>\n",
       "      <td>60.311917</td>\n",
       "      <td>24.869636</td>\n",
       "      <td>60.400159</td>\n",
       "    </tr>\n",
       "    <tr>\n",
       "      <th>4</th>\n",
       "      <td>24.970438</td>\n",
       "      <td>60.311917</td>\n",
       "      <td>24.842582</td>\n",
       "      <td>60.397478</td>\n",
       "    </tr>\n",
       "  </tbody>\n",
       "</table>\n",
       "</div>"
      ],
      "text/plain": [
       "      from_x     from_y       to_x       to_y\n",
       "0  24.970438  60.311917  24.856034  60.399941\n",
       "1  24.970438  60.311917  24.860568  60.400014\n",
       "2  24.970438  60.311917  24.865102  60.400086\n",
       "3  24.970438  60.311917  24.869636  60.400159\n",
       "4  24.970438  60.311917  24.842582  60.397478"
      ]
     },
     "execution_count": 69,
     "metadata": {},
     "output_type": "execute_result"
    }
   ],
   "source": [
    "df = pd.read_csv(\"travelTimes_2015_Helsinki.txt\", sep=\";\")\n",
    "df = df[['from_x', 'from_y', 'to_x', 'to_y']]\n",
    "df.head()"
   ]
  },
  {
   "cell_type": "code",
   "execution_count": 70,
   "metadata": {
    "scrolled": true
   },
   "outputs": [],
   "source": [
    "#df['from'] = Point(df['from_x'], df['from_y'])\n",
    "orig_points = []\n",
    "dest_points = []\n",
    "for index, row in df.iterrows():\n",
    "    #print(row['from_x'])\n",
    "    orig_points.append(Point(row['from_x'], row['from_y']))\n",
    "    dest_points.append(Point(row['to_x'], row['to_y']))\n",
    "    "
   ]
  },
  {
   "cell_type": "code",
   "execution_count": 71,
   "metadata": {},
   "outputs": [
    {
     "name": "stdout",
     "output_type": "stream",
     "text": [
      "14643 14643\n"
     ]
    }
   ],
   "source": [
    "print(len(orig_points), len(dest_points))"
   ]
  },
  {
   "cell_type": "markdown",
   "metadata": {},
   "source": [
    "## Problem 4: Creating LineStrings that represent the movements (optional task for advanced students):\n",
    "\n",
    "This is an optional extra task for those who likes to learn even more. Write your codes into the same file as in previous Problem (3). \n",
    "   \n",
    "1. Create a list called `lines`\n",
    "2. Iterate over the origin and destination lists and create a Shapely LineString -object between the origin and destination point\n",
    "3. Add that line into the lines -list.\n",
    "4. Find out what is the average (Euclidian) distance of all the origin-destination LineStrings that we just created, and print it out.\n",
    "5. To make things more reusable: write creation of the LineString and calculating the average distance into dedicated functions and use them.  "
   ]
  },
  {
   "cell_type": "code",
   "execution_count": 72,
   "metadata": {},
   "outputs": [
    {
     "name": "stdout",
     "output_type": "stream",
     "text": [
      "The Euclidean average distance of all origin-destination lines is: 0.215022\n"
     ]
    }
   ],
   "source": [
    "lines = []\n",
    "\n",
    "#Create the LineStrings from the origin-destination Points\n",
    "for i in range(len(orig_points)):\n",
    "    lines.append(LineString([orig_points[i], dest_points[i]]))\n",
    "\n",
    "distances = [] #List of legths\n",
    "for line in lines:\n",
    "    distances.append(line.length)\n",
    "\n",
    "EuclideanAvg = sum(distances) / float(len(distances))\n",
    "print(\"The Euclidean average distance of all origin-destination lines is: {:5f}\".format(EuclideanAvg))"
   ]
  }
 ],
 "metadata": {
  "kernelspec": {
   "display_name": "Python 3",
   "language": "python",
   "name": "python3"
  },
  "language_info": {
   "codemirror_mode": {
    "name": "ipython",
    "version": 3
   },
   "file_extension": ".py",
   "mimetype": "text/x-python",
   "name": "python",
   "nbconvert_exporter": "python",
   "pygments_lexer": "ipython3",
   "version": "3.5.4"
  }
 },
 "nbformat": 4,
 "nbformat_minor": 2
}
