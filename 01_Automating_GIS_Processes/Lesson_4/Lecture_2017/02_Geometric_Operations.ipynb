{
 "cells": [
  {
   "cell_type": "code",
   "execution_count": 9,
   "metadata": {},
   "outputs": [],
   "source": [
    "import geopandas as gpd\n",
    "import matplotlib.pyplot as plt\n",
    "%matplotlib notebook\n",
    "%matplotlib inline\n",
    "import shapely.speedups\n",
    "\n",
    "# Enable speedups to make queries faster\n",
    "shapely.speedups.enable()"
   ]
  },
  {
   "cell_type": "markdown",
   "metadata": {},
   "source": [
    "## Geometric operations\n",
    "### Overlay analysis\n",
    "The aim here is to make an overlay analysis where we select only specific polygon cells from the data based on the borders of municipality of Helsinki."
   ]
  },
  {
   "cell_type": "code",
   "execution_count": 5,
   "metadata": {},
   "outputs": [
    {
     "name": "stdout",
     "output_type": "stream",
     "text": [
      "   car_m_d  car_m_t  car_r_d  car_r_t  from_id  pt_m_d  pt_m_t  pt_m_tt  \\\n",
      "0    32297       43    32260       48  5785640   32616     116      147   \n",
      "1    32508       43    32471       49  5785641   32822     119      145   \n",
      "\n",
      "   pt_r_d  pt_r_t  pt_r_tt    to_id  walk_d  walk_t  \\\n",
      "0   32616     108      139  5975375   32164     459   \n",
      "1   32822     111      133  5975375   29547     422   \n",
      "\n",
      "                                            geometry  \n",
      "0  POLYGON ((382000.0001358641 6697750.000038058,...  \n",
      "1  POLYGON ((382250.0001358146 6697750.000038053,...   \n",
      "\n",
      "\n",
      " -------- \n",
      "\n",
      "     GML_ID   NAMEFIN      NAMESWE NATCODE  \\\n",
      "0  27517366  Helsinki  Helsingfors     091   \n",
      "\n",
      "                                            geometry  \n",
      "0  POLYGON ((399936.363 6684600.244, 399937.63 66...  \n"
     ]
    }
   ],
   "source": [
    "# File paths\n",
    "border_fp = 'data/Helsinki_borders.shp'\n",
    "grid_fp = 'data/TravelTimes_to_5975375_RailwayStation.shp'\n",
    "\n",
    "# Read files\n",
    "grid = gpd.read_file(grid_fp)\n",
    "hel = gpd.read_file(border_fp)\n",
    "print(grid.head(2), '\\n\\n\\n -------- \\n')\n",
    "print(hel.head(2))"
   ]
  },
  {
   "cell_type": "code",
   "execution_count": 6,
   "metadata": {},
   "outputs": [
    {
     "name": "stdout",
     "output_type": "stream",
     "text": [
      "{'init': 'epsg:3067'}\n",
      "{'init': 'epsg:3067'}\n"
     ]
    }
   ],
   "source": [
    "# Check CRS\n",
    "print(hel.crs)\n",
    "print(grid.crs)"
   ]
  },
  {
   "cell_type": "code",
   "execution_count": 7,
   "metadata": {},
   "outputs": [
    {
     "data": {
      "image/png": "[encoded data removed]",
      "text/plain": [
       "<matplotlib.figure.Figure at 0x275068bbdd8>"
      ]
     },
     "metadata": {},
     "output_type": "display_data"
    }
   ],
   "source": [
    "# Preliminar check\n",
    "basemap = hel.plot()"
   ]
  },
  {
   "cell_type": "code",
   "execution_count": 11,
   "metadata": {},
   "outputs": [
    {
     "data": {
      "text/plain": [
       "<matplotlib.figure.Figure at 0x2750677de80>"
      ]
     },
     "metadata": {},
     "output_type": "display_data"
    }
   ],
   "source": [
    "grid.plot(ax=basemap, facecolor='gray', lw=0.02)\n",
    "plt.tight_layout()"
   ]
  },
  {
   "cell_type": "code",
   "execution_count": 12,
   "metadata": {},
   "outputs": [],
   "source": [
    "result = gpd.overlay(grid, hel, how='intersection')"
   ]
  },
  {
   "cell_type": "code",
   "execution_count": 13,
   "metadata": {},
   "outputs": [
    {
     "data": {
      "image/png": "[encoded data removed]",
      "text/plain": [
       "<matplotlib.figure.Figure at 0x27506775b38>"
      ]
     },
     "metadata": {},
     "output_type": "display_data"
    }
   ],
   "source": [
    "result.plot(color='b')\n",
    "plt.tight_layout()"
   ]
  },
  {
   "cell_type": "code",
   "execution_count": 14,
   "metadata": {},
   "outputs": [
    {
     "data": {
      "text/html": [
       "<div>\n",
       "<style scoped>\n",
       "    .dataframe tbody tr th:only-of-type {\n",
       "        vertical-align: middle;\n",
       "    }\n",
       "\n",
       "    .dataframe tbody tr th {\n",
       "        vertical-align: top;\n",
       "    }\n",
       "\n",
       "    .dataframe thead th {\n",
       "        text-align: right;\n",
       "    }\n",
       "</style>\n",
       "<table border=\"1\" class=\"dataframe\">\n",
       "  <thead>\n",
       "    <tr style=\"text-align: right;\">\n",
       "      <th></th>\n",
       "      <th>car_m_d</th>\n",
       "      <th>car_m_t</th>\n",
       "      <th>car_r_d</th>\n",
       "      <th>car_r_t</th>\n",
       "      <th>from_id</th>\n",
       "      <th>pt_m_d</th>\n",
       "      <th>pt_m_t</th>\n",
       "      <th>pt_m_tt</th>\n",
       "      <th>pt_r_d</th>\n",
       "      <th>pt_r_t</th>\n",
       "      <th>pt_r_tt</th>\n",
       "      <th>to_id</th>\n",
       "      <th>walk_d</th>\n",
       "      <th>walk_t</th>\n",
       "      <th>GML_ID</th>\n",
       "      <th>NAMEFIN</th>\n",
       "      <th>NAMESWE</th>\n",
       "      <th>NATCODE</th>\n",
       "      <th>geometry</th>\n",
       "    </tr>\n",
       "  </thead>\n",
       "  <tbody>\n",
       "    <tr>\n",
       "      <th>0</th>\n",
       "      <td>15981</td>\n",
       "      <td>36</td>\n",
       "      <td>15988</td>\n",
       "      <td>41</td>\n",
       "      <td>6002702</td>\n",
       "      <td>14698</td>\n",
       "      <td>65</td>\n",
       "      <td>73</td>\n",
       "      <td>14698</td>\n",
       "      <td>61</td>\n",
       "      <td>72</td>\n",
       "      <td>5975375</td>\n",
       "      <td>14456</td>\n",
       "      <td>207</td>\n",
       "      <td>27517366</td>\n",
       "      <td>Helsinki</td>\n",
       "      <td>Helsingfors</td>\n",
       "      <td>091</td>\n",
       "      <td>POLYGON ((391000.0001349226 6667750.00004299, ...</td>\n",
       "    </tr>\n",
       "    <tr>\n",
       "      <th>1</th>\n",
       "      <td>16190</td>\n",
       "      <td>34</td>\n",
       "      <td>16197</td>\n",
       "      <td>39</td>\n",
       "      <td>6002701</td>\n",
       "      <td>14661</td>\n",
       "      <td>64</td>\n",
       "      <td>73</td>\n",
       "      <td>14661</td>\n",
       "      <td>60</td>\n",
       "      <td>72</td>\n",
       "      <td>5975375</td>\n",
       "      <td>14419</td>\n",
       "      <td>206</td>\n",
       "      <td>27517366</td>\n",
       "      <td>Helsinki</td>\n",
       "      <td>Helsingfors</td>\n",
       "      <td>091</td>\n",
       "      <td>POLYGON ((390750.0001349644 6668000.000042951,...</td>\n",
       "    </tr>\n",
       "  </tbody>\n",
       "</table>\n",
       "</div>"
      ],
      "text/plain": [
       "   car_m_d  car_m_t  car_r_d  car_r_t  from_id  pt_m_d  pt_m_t  pt_m_tt  \\\n",
       "0    15981       36    15988       41  6002702   14698      65       73   \n",
       "1    16190       34    16197       39  6002701   14661      64       73   \n",
       "\n",
       "   pt_r_d  pt_r_t  pt_r_tt    to_id  walk_d  walk_t    GML_ID   NAMEFIN  \\\n",
       "0   14698      61       72  5975375   14456     207  27517366  Helsinki   \n",
       "1   14661      60       72  5975375   14419     206  27517366  Helsinki   \n",
       "\n",
       "       NAMESWE NATCODE                                           geometry  \n",
       "0  Helsingfors     091  POLYGON ((391000.0001349226 6667750.00004299, ...  \n",
       "1  Helsingfors     091  POLYGON ((390750.0001349644 6668000.000042951,...  "
      ]
     },
     "execution_count": 14,
     "metadata": {},
     "output_type": "execute_result"
    }
   ],
   "source": [
    "result.head(2)"
   ]
  },
  {
   "cell_type": "code",
   "execution_count": 18,
   "metadata": {},
   "outputs": [
    {
     "name": "stdout",
     "output_type": "stream",
     "text": [
      "Intersection shape:  (3836, 19)\n",
      "Original dataset shape:  (13231, 15)\n"
     ]
    }
   ],
   "source": [
    "print('Intersection shape: ', result.shape)\n",
    "print('Original dataset shape: ', grid.shape)"
   ]
  },
  {
   "cell_type": "code",
   "execution_count": 19,
   "metadata": {},
   "outputs": [],
   "source": [
    "# Save result intersection as GeoJSON\n",
    "result_fp = 'output/TravelTimes_to_5975375_RailwayStation_Helsinki.geojson'\n",
    "\n",
    "# Use GeoJSON driver\n",
    "result.to_file(result_fp, driver=\"GeoJSON\")"
   ]
  },
  {
   "cell_type": "markdown",
   "metadata": {},
   "source": [
    "### Aggregationg data\n",
    "\n",
    "Aggregating data can also be useful sometimes. What we mean by aggregation is that we basically merge Geometries into together by some common identifier. Suppose we are interested in studying continents, but we only have country-level data like the country dataset. By aggregation we would convert this into a continent-level dataset.\n",
    "\n",
    "Let’s aggregate our travel time data by car travel times, i.e. the grid cells that have the same travel time to Railway Station will be merged together."
   ]
  },
  {
   "cell_type": "code",
   "execution_count": 20,
   "metadata": {},
   "outputs": [
    {
     "data": {
      "text/html": [
       "<div>\n",
       "<style scoped>\n",
       "    .dataframe tbody tr th:only-of-type {\n",
       "        vertical-align: middle;\n",
       "    }\n",
       "\n",
       "    .dataframe tbody tr th {\n",
       "        vertical-align: top;\n",
       "    }\n",
       "\n",
       "    .dataframe thead th {\n",
       "        text-align: right;\n",
       "    }\n",
       "</style>\n",
       "<table border=\"1\" class=\"dataframe\">\n",
       "  <thead>\n",
       "    <tr style=\"text-align: right;\">\n",
       "      <th></th>\n",
       "      <th>geometry</th>\n",
       "      <th>car_m_d</th>\n",
       "      <th>car_m_t</th>\n",
       "      <th>car_r_d</th>\n",
       "      <th>from_id</th>\n",
       "      <th>pt_m_d</th>\n",
       "      <th>pt_m_t</th>\n",
       "      <th>pt_m_tt</th>\n",
       "      <th>pt_r_d</th>\n",
       "      <th>pt_r_t</th>\n",
       "      <th>pt_r_tt</th>\n",
       "      <th>to_id</th>\n",
       "      <th>walk_d</th>\n",
       "      <th>walk_t</th>\n",
       "      <th>GML_ID</th>\n",
       "      <th>NAMEFIN</th>\n",
       "      <th>NAMESWE</th>\n",
       "      <th>NATCODE</th>\n",
       "    </tr>\n",
       "    <tr>\n",
       "      <th>car_r_t</th>\n",
       "      <th></th>\n",
       "      <th></th>\n",
       "      <th></th>\n",
       "      <th></th>\n",
       "      <th></th>\n",
       "      <th></th>\n",
       "      <th></th>\n",
       "      <th></th>\n",
       "      <th></th>\n",
       "      <th></th>\n",
       "      <th></th>\n",
       "      <th></th>\n",
       "      <th></th>\n",
       "      <th></th>\n",
       "      <th></th>\n",
       "      <th></th>\n",
       "      <th></th>\n",
       "      <th></th>\n",
       "    </tr>\n",
       "  </thead>\n",
       "  <tbody>\n",
       "    <tr>\n",
       "      <th>-1</th>\n",
       "      <td>(POLYGON ((388000.0001354737 6669000.000042855...</td>\n",
       "      <td>-1</td>\n",
       "      <td>-1</td>\n",
       "      <td>-1</td>\n",
       "      <td>5996387</td>\n",
       "      <td>-1</td>\n",
       "      <td>-1</td>\n",
       "      <td>-1</td>\n",
       "      <td>-1</td>\n",
       "      <td>-1</td>\n",
       "      <td>-1</td>\n",
       "      <td>-1</td>\n",
       "      <td>-1</td>\n",
       "      <td>-1</td>\n",
       "      <td>27517366</td>\n",
       "      <td>Helsinki</td>\n",
       "      <td>Helsingfors</td>\n",
       "      <td>091</td>\n",
       "    </tr>\n",
       "    <tr>\n",
       "      <th>0</th>\n",
       "      <td>POLYGON ((386000.0001357812 6672000.000042388,...</td>\n",
       "      <td>0</td>\n",
       "      <td>0</td>\n",
       "      <td>0</td>\n",
       "      <td>5975375</td>\n",
       "      <td>0</td>\n",
       "      <td>0</td>\n",
       "      <td>0</td>\n",
       "      <td>0</td>\n",
       "      <td>0</td>\n",
       "      <td>0</td>\n",
       "      <td>5975375</td>\n",
       "      <td>0</td>\n",
       "      <td>0</td>\n",
       "      <td>27517366</td>\n",
       "      <td>Helsinki</td>\n",
       "      <td>Helsingfors</td>\n",
       "      <td>091</td>\n",
       "    </tr>\n",
       "    <tr>\n",
       "      <th>7</th>\n",
       "      <td>POLYGON ((386250.0001357396 6671750.000042424,...</td>\n",
       "      <td>1059</td>\n",
       "      <td>7</td>\n",
       "      <td>1059</td>\n",
       "      <td>5977007</td>\n",
       "      <td>447</td>\n",
       "      <td>6</td>\n",
       "      <td>6</td>\n",
       "      <td>447</td>\n",
       "      <td>6</td>\n",
       "      <td>6</td>\n",
       "      <td>5975375</td>\n",
       "      <td>447</td>\n",
       "      <td>6</td>\n",
       "      <td>27517366</td>\n",
       "      <td>Helsinki</td>\n",
       "      <td>Helsingfors</td>\n",
       "      <td>091</td>\n",
       "    </tr>\n",
       "  </tbody>\n",
       "</table>\n",
       "</div>"
      ],
      "text/plain": [
       "                                                  geometry  car_m_d  car_m_t  \\\n",
       "car_r_t                                                                        \n",
       "-1       (POLYGON ((388000.0001354737 6669000.000042855...       -1       -1   \n",
       " 0       POLYGON ((386000.0001357812 6672000.000042388,...        0        0   \n",
       " 7       POLYGON ((386250.0001357396 6671750.000042424,...     1059        7   \n",
       "\n",
       "         car_r_d  from_id  pt_m_d  pt_m_t  pt_m_tt  pt_r_d  pt_r_t  pt_r_tt  \\\n",
       "car_r_t                                                                       \n",
       "-1            -1  5996387      -1      -1       -1      -1      -1       -1   \n",
       " 0             0  5975375       0       0        0       0       0        0   \n",
       " 7          1059  5977007     447       6        6     447       6        6   \n",
       "\n",
       "           to_id  walk_d  walk_t    GML_ID   NAMEFIN      NAMESWE NATCODE  \n",
       "car_r_t                                                                    \n",
       "-1            -1      -1      -1  27517366  Helsinki  Helsingfors     091  \n",
       " 0       5975375       0       0  27517366  Helsinki  Helsingfors     091  \n",
       " 7       5975375     447       6  27517366  Helsinki  Helsingfors     091  "
      ]
     },
     "execution_count": 20,
     "metadata": {},
     "output_type": "execute_result"
    }
   ],
   "source": [
    "result_aggregated = result.dissolve(by='car_r_t')\n",
    "result_aggregated.head(3)"
   ]
  },
  {
   "cell_type": "code",
   "execution_count": 21,
   "metadata": {},
   "outputs": [
    {
     "name": "stdout",
     "output_type": "stream",
     "text": [
      "Aggregation shape:  (51, 18)\n",
      "Original dataset shape:  (3836, 19)\n"
     ]
    }
   ],
   "source": [
    "# Compare number of cells in the layers before and after aggregation\n",
    "print('Aggregation shape: ', result_aggregated.shape)\n",
    "print('Original dataset shape: ', result.shape)"
   ]
  },
  {
   "cell_type": "markdown",
   "metadata": {},
   "source": [
    "### Simplifying geometries\n",
    "\n",
    "Sometimes it might be useful to be able to simplify geometries. This could be something to consider for example when you have very detailed spatial features that cover the whole world. If you make a map that covers the whole world, it is unnecessary to have really detailed geometries because it is simply impossible to see those small details from your map. Furthermore, it takes a long time to actually render a large quantity of features into a map. Here, we will see how it is possible to simplify geometric features in Python by continuing the example from the previous tutorial on data classification.\n",
    "\n",
    "What we will do next is to only include the big lakes and simplify them slightly so that they are not as detailed."
   ]
  },
  {
   "cell_type": "code",
   "execution_count": 25,
   "metadata": {},
   "outputs": [
    {
     "data": {
      "text/html": [
       "<div>\n",
       "<style scoped>\n",
       "    .dataframe tbody tr th:only-of-type {\n",
       "        vertical-align: middle;\n",
       "    }\n",
       "\n",
       "    .dataframe tbody tr th {\n",
       "        vertical-align: top;\n",
       "    }\n",
       "\n",
       "    .dataframe thead th {\n",
       "        text-align: right;\n",
       "    }\n",
       "</style>\n",
       "<table border=\"1\" class=\"dataframe\">\n",
       "  <thead>\n",
       "    <tr style=\"text-align: right;\">\n",
       "      <th></th>\n",
       "      <th>Level1</th>\n",
       "      <th>Level1Eng</th>\n",
       "      <th>Level2</th>\n",
       "      <th>Level2Eng</th>\n",
       "      <th>Level3</th>\n",
       "      <th>Level3Eng</th>\n",
       "      <th>Luokka3</th>\n",
       "      <th>area</th>\n",
       "      <th>area_m2</th>\n",
       "      <th>area_km2</th>\n",
       "      <th>small_big</th>\n",
       "      <th>geometry</th>\n",
       "    </tr>\n",
       "  </thead>\n",
       "  <tbody>\n",
       "    <tr>\n",
       "      <th>15</th>\n",
       "      <td>5</td>\n",
       "      <td>Water bodies</td>\n",
       "      <td>51</td>\n",
       "      <td>Inland waters</td>\n",
       "      <td>512</td>\n",
       "      <td>Water bodies</td>\n",
       "      <td>512</td>\n",
       "      <td>2.870054e+06</td>\n",
       "      <td>2.870054e+06</td>\n",
       "      <td>2.870054</td>\n",
       "      <td>1</td>\n",
       "      <td>POLYGON ((327040 6660720, 327085.469 6660705.6...</td>\n",
       "    </tr>\n",
       "    <tr>\n",
       "      <th>16</th>\n",
       "      <td>5</td>\n",
       "      <td>Water bodies</td>\n",
       "      <td>51</td>\n",
       "      <td>Inland waters</td>\n",
       "      <td>512</td>\n",
       "      <td>Water bodies</td>\n",
       "      <td>512</td>\n",
       "      <td>3.286290e+06</td>\n",
       "      <td>3.286290e+06</td>\n",
       "      <td>3.286290</td>\n",
       "      <td>1</td>\n",
       "      <td>POLYGON ((322060 6661880, 322050.9180000001 66...</td>\n",
       "    </tr>\n",
       "    <tr>\n",
       "      <th>28</th>\n",
       "      <td>5</td>\n",
       "      <td>Water bodies</td>\n",
       "      <td>51</td>\n",
       "      <td>Inland waters</td>\n",
       "      <td>512</td>\n",
       "      <td>Water bodies</td>\n",
       "      <td>512</td>\n",
       "      <td>3.121023e+06</td>\n",
       "      <td>3.121023e+06</td>\n",
       "      <td>3.121023</td>\n",
       "      <td>1</td>\n",
       "      <td>POLYGON ((323040 6667540, 323048.1640000001 66...</td>\n",
       "    </tr>\n",
       "  </tbody>\n",
       "</table>\n",
       "</div>"
      ],
      "text/plain": [
       "    Level1     Level1Eng  Level2      Level2Eng  Level3     Level3Eng Luokka3  \\\n",
       "15       5  Water bodies      51  Inland waters     512  Water bodies     512   \n",
       "16       5  Water bodies      51  Inland waters     512  Water bodies     512   \n",
       "28       5  Water bodies      51  Inland waters     512  Water bodies     512   \n",
       "\n",
       "            area       area_m2  area_km2  small_big  \\\n",
       "15  2.870054e+06  2.870054e+06  2.870054          1   \n",
       "16  3.286290e+06  3.286290e+06  3.286290          1   \n",
       "28  3.121023e+06  3.121023e+06  3.121023          1   \n",
       "\n",
       "                                             geometry  \n",
       "15  POLYGON ((327040 6660720, 327085.469 6660705.6...  \n",
       "16  POLYGON ((322060 6661880, 322050.9180000001 66...  \n",
       "28  POLYGON ((323040 6667540, 323048.1640000001 66...  "
      ]
     },
     "execution_count": 25,
     "metadata": {},
     "output_type": "execute_result"
    }
   ],
   "source": [
    "lakes_fp = r'output/lakes.shp'\n",
    "lakes = gpd.read_file(lakes_fp)\n",
    "\n",
    "# Include only the big lakes\n",
    "big_lakes = lakes.loc[lakes['small_big'] == 1].copy()\n",
    "big_lakes.head(3)"
   ]
  },
  {
   "cell_type": "code",
   "execution_count": 26,
   "metadata": {},
   "outputs": [
    {
     "data": {
      "image/png": "[encoded data removed]",
      "text/plain": [
       "<matplotlib.figure.Figure at 0x27506722e10>"
      ]
     },
     "metadata": {},
     "output_type": "display_data"
    }
   ],
   "source": [
    "# Plot the big lakes\n",
    "big_lakes.plot(lw=0.05, color='blue')\n",
    "plt.tight_layout()"
   ]
  },
  {
   "cell_type": "code",
   "execution_count": 27,
   "metadata": {},
   "outputs": [],
   "source": [
    "# Save the big lakes as a file to disk\n",
    "outfp_big_lakes = r'output/big_lakes.shp'\n",
    "big_lakes.to_file(outfp_big_lakes)"
   ]
  },
  {
   "cell_type": "markdown",
   "metadata": {},
   "source": [
    "The Polygons that are presented there are quite detailed, let’s generalize them a bit.\n",
    "\n",
    "Generalization can be done easily by using a Shapely function called `.simplify()`. The tolerance parameter is adjusts how much geometries should be generalized. The tolerance value is tied to the coordinate system of the geometries. Thus, here the value we pass is 300 meters."
   ]
  },
  {
   "cell_type": "code",
   "execution_count": 30,
   "metadata": {},
   "outputs": [
    {
     "data": {
      "image/png": "[encoded data removed]",
      "text/plain": [
       "<matplotlib.figure.Figure at 0x27504fcdeb8>"
      ]
     },
     "metadata": {},
     "output_type": "display_data"
    }
   ],
   "source": [
    "big_lakes['geom_simp'] = big_lakes.simplify(tolerance=300)\n",
    "\n",
    "# Set new geometry column\n",
    "big_lakes['geometry'] = big_lakes['geom_simp']\n",
    "\n",
    "# Plot simplified geometry\n",
    "big_lakes.plot(lw=0.05, color='blue')\n",
    "plt.tight_layout()"
   ]
  },
  {
   "cell_type": "code",
   "execution_count": 33,
   "metadata": {},
   "outputs": [
    {
     "data": {
      "text/html": [
       "<div>\n",
       "<style scoped>\n",
       "    .dataframe tbody tr th:only-of-type {\n",
       "        vertical-align: middle;\n",
       "    }\n",
       "\n",
       "    .dataframe tbody tr th {\n",
       "        vertical-align: top;\n",
       "    }\n",
       "\n",
       "    .dataframe thead th {\n",
       "        text-align: right;\n",
       "    }\n",
       "</style>\n",
       "<table border=\"1\" class=\"dataframe\">\n",
       "  <thead>\n",
       "    <tr style=\"text-align: right;\">\n",
       "      <th></th>\n",
       "      <th>Level1</th>\n",
       "      <th>Level1Eng</th>\n",
       "      <th>Level2</th>\n",
       "      <th>Level2Eng</th>\n",
       "      <th>Level3</th>\n",
       "      <th>Level3Eng</th>\n",
       "      <th>Luokka3</th>\n",
       "      <th>area</th>\n",
       "      <th>area_m2</th>\n",
       "      <th>area_km2</th>\n",
       "      <th>small_big</th>\n",
       "      <th>geometry</th>\n",
       "    </tr>\n",
       "  </thead>\n",
       "  <tbody>\n",
       "    <tr>\n",
       "      <th>15</th>\n",
       "      <td>5</td>\n",
       "      <td>Water bodies</td>\n",
       "      <td>51</td>\n",
       "      <td>Inland waters</td>\n",
       "      <td>512</td>\n",
       "      <td>Water bodies</td>\n",
       "      <td>512</td>\n",
       "      <td>2.870054e+06</td>\n",
       "      <td>2.870054e+06</td>\n",
       "      <td>2.870054</td>\n",
       "      <td>1</td>\n",
       "      <td>POLYGON ((327040 6660720, 326998.848 6660070.8...</td>\n",
       "    </tr>\n",
       "    <tr>\n",
       "      <th>16</th>\n",
       "      <td>5</td>\n",
       "      <td>Water bodies</td>\n",
       "      <td>51</td>\n",
       "      <td>Inland waters</td>\n",
       "      <td>512</td>\n",
       "      <td>Water bodies</td>\n",
       "      <td>512</td>\n",
       "      <td>3.286290e+06</td>\n",
       "      <td>3.286290e+06</td>\n",
       "      <td>3.286290</td>\n",
       "      <td>1</td>\n",
       "      <td>POLYGON ((322060 6661880, 322569.8049999999 66...</td>\n",
       "    </tr>\n",
       "  </tbody>\n",
       "</table>\n",
       "</div>"
      ],
      "text/plain": [
       "    Level1     Level1Eng  Level2      Level2Eng  Level3     Level3Eng Luokka3  \\\n",
       "15       5  Water bodies      51  Inland waters     512  Water bodies     512   \n",
       "16       5  Water bodies      51  Inland waters     512  Water bodies     512   \n",
       "\n",
       "            area       area_m2  area_km2  small_big  \\\n",
       "15  2.870054e+06  2.870054e+06  2.870054          1   \n",
       "16  3.286290e+06  3.286290e+06  3.286290          1   \n",
       "\n",
       "                                             geometry  \n",
       "15  POLYGON ((327040 6660720, 326998.848 6660070.8...  \n",
       "16  POLYGON ((322060 6661880, 322569.8049999999 66...  "
      ]
     },
     "execution_count": 33,
     "metadata": {},
     "output_type": "execute_result"
    }
   ],
   "source": [
    "big_lakes = big_lakes.drop(columns=['geom_simp'])\n",
    "big_lakes.head(2)"
   ]
  },
  {
   "cell_type": "code",
   "execution_count": 34,
   "metadata": {},
   "outputs": [],
   "source": [
    "# Save the simplified big lakes as a file to disk\n",
    "outfp_big_lakes_simp = r'output/big_lakes_simplified.shp'\n",
    "big_lakes.to_file(outfp_big_lakes_simp)"
   ]
  },
  {
   "cell_type": "code",
   "execution_count": null,
   "metadata": {},
   "outputs": [],
   "source": []
  }
 ],
 "metadata": {
  "kernelspec": {
   "display_name": "Python 3",
   "language": "python",
   "name": "python3"
  },
  "language_info": {
   "codemirror_mode": {
    "name": "ipython",
    "version": 3
   },
   "file_extension": ".py",
   "mimetype": "text/x-python",
   "name": "python",
   "nbconvert_exporter": "python",
   "pygments_lexer": "ipython3",
   "version": "3.6.4"
  }
 },
 "nbformat": 4,
 "nbformat_minor": 2
}
