{
 "cells": [
  {
   "cell_type": "code",
   "execution_count": 1,
   "metadata": {},
   "outputs": [],
   "source": [
    "import geopandas as gpd\n",
    "import matplotlib.pyplot as plt\n",
    "%matplotlib notebook"
   ]
  },
  {
   "cell_type": "markdown",
   "metadata": {},
   "source": [
    "## Calculations in DataFrames"
   ]
  },
  {
   "cell_type": "code",
   "execution_count": 2,
   "metadata": {},
   "outputs": [],
   "source": [
    "# File path\n",
    "fp = \"data/Corine2012_Uusimaa.shp\"\n",
    "data = gpd.read_file(fp)"
   ]
  },
  {
   "cell_type": "code",
   "execution_count": 3,
   "metadata": {},
   "outputs": [
    {
     "data": {
      "text/html": [
       "<div>\n",
       "<style scoped>\n",
       "    .dataframe tbody tr th:only-of-type {\n",
       "        vertical-align: middle;\n",
       "    }\n",
       "\n",
       "    .dataframe tbody tr th {\n",
       "        vertical-align: top;\n",
       "    }\n",
       "\n",
       "    .dataframe thead th {\n",
       "        text-align: right;\n",
       "    }\n",
       "</style>\n",
       "<table border=\"1\" class=\"dataframe\">\n",
       "  <thead>\n",
       "    <tr style=\"text-align: right;\">\n",
       "      <th></th>\n",
       "      <th>Level1</th>\n",
       "      <th>Level1Eng</th>\n",
       "      <th>Level1Suo</th>\n",
       "      <th>Level2</th>\n",
       "      <th>Level2Eng</th>\n",
       "      <th>Level2Suo</th>\n",
       "      <th>Level3</th>\n",
       "      <th>Level3Eng</th>\n",
       "      <th>Level3Suo</th>\n",
       "      <th>Luokka3</th>\n",
       "      <th>geometry</th>\n",
       "    </tr>\n",
       "  </thead>\n",
       "  <tbody>\n",
       "    <tr>\n",
       "      <th>0</th>\n",
       "      <td>1</td>\n",
       "      <td>Artificial surfaces</td>\n",
       "      <td>Rakennetut alueet</td>\n",
       "      <td>11</td>\n",
       "      <td>Urban fabric</td>\n",
       "      <td>Asuinalueet</td>\n",
       "      <td>112</td>\n",
       "      <td>Discontinuous urban fabric</td>\n",
       "      <td>Väljästi rakennetut asuinalueet</td>\n",
       "      <td>112</td>\n",
       "      <td>POLYGON ((279500 6640640, 279507.469 6640635.3...</td>\n",
       "    </tr>\n",
       "    <tr>\n",
       "      <th>1</th>\n",
       "      <td>1</td>\n",
       "      <td>Artificial surfaces</td>\n",
       "      <td>Rakennetut alueet</td>\n",
       "      <td>11</td>\n",
       "      <td>Urban fabric</td>\n",
       "      <td>Asuinalueet</td>\n",
       "      <td>112</td>\n",
       "      <td>Discontinuous urban fabric</td>\n",
       "      <td>Väljästi rakennetut asuinalueet</td>\n",
       "      <td>112</td>\n",
       "      <td>POLYGON ((313620 6655820, 313639.8910000001 66...</td>\n",
       "    </tr>\n",
       "    <tr>\n",
       "      <th>2</th>\n",
       "      <td>1</td>\n",
       "      <td>Artificial surfaces</td>\n",
       "      <td>Rakennetut alueet</td>\n",
       "      <td>11</td>\n",
       "      <td>Urban fabric</td>\n",
       "      <td>Asuinalueet</td>\n",
       "      <td>112</td>\n",
       "      <td>Discontinuous urban fabric</td>\n",
       "      <td>Väljästi rakennetut asuinalueet</td>\n",
       "      <td>112</td>\n",
       "      <td>POLYGON ((399720 6680460, 399672.2120000001 66...</td>\n",
       "    </tr>\n",
       "    <tr>\n",
       "      <th>3</th>\n",
       "      <td>3</td>\n",
       "      <td>Forests and semi-natural areas</td>\n",
       "      <td>Metsät sekä avoimet kankaat ja kalliomaat</td>\n",
       "      <td>32</td>\n",
       "      <td>Shrub and/or herbaceous vegetation associations</td>\n",
       "      <td>Harvapuustoiset metsät ja pensastot</td>\n",
       "      <td>324</td>\n",
       "      <td>Transitional woodland/shrub</td>\n",
       "      <td>Harvapuustoiset alueet</td>\n",
       "      <td>324</td>\n",
       "      <td>POLYGON ((469320 6718500, 469344.023 6718358.6...</td>\n",
       "    </tr>\n",
       "    <tr>\n",
       "      <th>4</th>\n",
       "      <td>3</td>\n",
       "      <td>Forests and semi-natural areas</td>\n",
       "      <td>Metsät sekä avoimet kankaat ja kalliomaat</td>\n",
       "      <td>32</td>\n",
       "      <td>Shrub and/or herbaceous vegetation associations</td>\n",
       "      <td>Harvapuustoiset metsät ja pensastot</td>\n",
       "      <td>324</td>\n",
       "      <td>Transitional woodland/shrub</td>\n",
       "      <td>Harvapuustoiset alueet</td>\n",
       "      <td>324</td>\n",
       "      <td>POLYGON ((403180 6718140, 403179.318 6718132.3...</td>\n",
       "    </tr>\n",
       "  </tbody>\n",
       "</table>\n",
       "</div>"
      ],
      "text/plain": [
       "   Level1                       Level1Eng  \\\n",
       "0       1             Artificial surfaces   \n",
       "1       1             Artificial surfaces   \n",
       "2       1             Artificial surfaces   \n",
       "3       3  Forests and semi-natural areas   \n",
       "4       3  Forests and semi-natural areas   \n",
       "\n",
       "                                   Level1Suo  Level2  \\\n",
       "0                          Rakennetut alueet      11   \n",
       "1                          Rakennetut alueet      11   \n",
       "2                          Rakennetut alueet      11   \n",
       "3  Metsät sekä avoimet kankaat ja kalliomaat      32   \n",
       "4  Metsät sekä avoimet kankaat ja kalliomaat      32   \n",
       "\n",
       "                                         Level2Eng  \\\n",
       "0                                     Urban fabric   \n",
       "1                                     Urban fabric   \n",
       "2                                     Urban fabric   \n",
       "3  Shrub and/or herbaceous vegetation associations   \n",
       "4  Shrub and/or herbaceous vegetation associations   \n",
       "\n",
       "                             Level2Suo  Level3                    Level3Eng  \\\n",
       "0                          Asuinalueet     112   Discontinuous urban fabric   \n",
       "1                          Asuinalueet     112   Discontinuous urban fabric   \n",
       "2                          Asuinalueet     112   Discontinuous urban fabric   \n",
       "3  Harvapuustoiset metsät ja pensastot     324  Transitional woodland/shrub   \n",
       "4  Harvapuustoiset metsät ja pensastot     324  Transitional woodland/shrub   \n",
       "\n",
       "                         Level3Suo Luokka3  \\\n",
       "0  Väljästi rakennetut asuinalueet     112   \n",
       "1  Väljästi rakennetut asuinalueet     112   \n",
       "2  Väljästi rakennetut asuinalueet     112   \n",
       "3           Harvapuustoiset alueet     324   \n",
       "4           Harvapuustoiset alueet     324   \n",
       "\n",
       "                                            geometry  \n",
       "0  POLYGON ((279500 6640640, 279507.469 6640635.3...  \n",
       "1  POLYGON ((313620 6655820, 313639.8910000001 66...  \n",
       "2  POLYGON ((399720 6680460, 399672.2120000001 66...  \n",
       "3  POLYGON ((469320 6718500, 469344.023 6718358.6...  \n",
       "4  POLYGON ((403180 6718140, 403179.318 6718132.3...  "
      ]
     },
     "execution_count": 3,
     "metadata": {},
     "output_type": "execute_result"
    }
   ],
   "source": [
    "data.head()"
   ]
  },
  {
   "cell_type": "code",
   "execution_count": 5,
   "metadata": {},
   "outputs": [
    {
     "data": {
      "text/html": [
       "<div>\n",
       "<style scoped>\n",
       "    .dataframe tbody tr th:only-of-type {\n",
       "        vertical-align: middle;\n",
       "    }\n",
       "\n",
       "    .dataframe tbody tr th {\n",
       "        vertical-align: top;\n",
       "    }\n",
       "\n",
       "    .dataframe thead th {\n",
       "        text-align: right;\n",
       "    }\n",
       "</style>\n",
       "<table border=\"1\" class=\"dataframe\">\n",
       "  <thead>\n",
       "    <tr style=\"text-align: right;\">\n",
       "      <th></th>\n",
       "      <th>Level1</th>\n",
       "      <th>Level1Eng</th>\n",
       "      <th>Level2</th>\n",
       "      <th>Level2Eng</th>\n",
       "      <th>Level3</th>\n",
       "      <th>Level3Eng</th>\n",
       "      <th>Luokka3</th>\n",
       "      <th>geometry</th>\n",
       "    </tr>\n",
       "  </thead>\n",
       "  <tbody>\n",
       "    <tr>\n",
       "      <th>0</th>\n",
       "      <td>1</td>\n",
       "      <td>Artificial surfaces</td>\n",
       "      <td>11</td>\n",
       "      <td>Urban fabric</td>\n",
       "      <td>112</td>\n",
       "      <td>Discontinuous urban fabric</td>\n",
       "      <td>112</td>\n",
       "      <td>POLYGON ((279500 6640640, 279507.469 6640635.3...</td>\n",
       "    </tr>\n",
       "    <tr>\n",
       "      <th>1</th>\n",
       "      <td>1</td>\n",
       "      <td>Artificial surfaces</td>\n",
       "      <td>11</td>\n",
       "      <td>Urban fabric</td>\n",
       "      <td>112</td>\n",
       "      <td>Discontinuous urban fabric</td>\n",
       "      <td>112</td>\n",
       "      <td>POLYGON ((313620 6655820, 313639.8910000001 66...</td>\n",
       "    </tr>\n",
       "  </tbody>\n",
       "</table>\n",
       "</div>"
      ],
      "text/plain": [
       "   Level1            Level1Eng  Level2     Level2Eng  Level3  \\\n",
       "0       1  Artificial surfaces      11  Urban fabric     112   \n",
       "1       1  Artificial surfaces      11  Urban fabric     112   \n",
       "\n",
       "                    Level3Eng Luokka3  \\\n",
       "0  Discontinuous urban fabric     112   \n",
       "1  Discontinuous urban fabric     112   \n",
       "\n",
       "                                            geometry  \n",
       "0  POLYGON ((279500 6640640, 279507.469 6640635.3...  \n",
       "1  POLYGON ((313620 6655820, 313639.8910000001 66...  "
      ]
     },
     "execution_count": 5,
     "metadata": {},
     "output_type": "execute_result"
    }
   ],
   "source": [
    "# Select only English columns\n",
    "selected_cols = ['Level1', 'Level1Eng', 'Level2', 'Level2Eng', 'Level3', 'Level3Eng', 'Luokka3', 'geometry']\n",
    "data = data[selected_cols]\n",
    "data.head(2)"
   ]
  },
  {
   "cell_type": "code",
   "execution_count": 6,
   "metadata": {},
   "outputs": [
    {
     "data": {
      "image/png": "[encoded data removed]",
      "text/plain": [
       "<matplotlib.figure.Figure at 0x1d6055e49e8>"
      ]
     },
     "metadata": {},
     "output_type": "display_data"
    }
   ],
   "source": [
    "data.plot(column='Level3', lw=0.05)\n",
    "plt.tight_layout()"
   ]
  },
  {
   "cell_type": "code",
   "execution_count": 7,
   "metadata": {},
   "outputs": [
    {
     "data": {
      "text/plain": [
       "['Discontinuous urban fabric',\n",
       " 'Transitional woodland/shrub',\n",
       " 'Non-irrigated arable land',\n",
       " 'Fruit trees and berry plantations',\n",
       " 'Pastures',\n",
       " 'Land principally occupied by agriculture, with significant areas of natural vegetation',\n",
       " 'Bare rock',\n",
       " 'Inland marshes',\n",
       " 'Peatbogs',\n",
       " 'Salt marshes',\n",
       " 'Water courses',\n",
       " 'Water bodies',\n",
       " 'Sea and ocean',\n",
       " 'Industrial or commercial units',\n",
       " 'Road and rail networks and associated land',\n",
       " 'Port areas',\n",
       " 'Airports',\n",
       " 'Mineral extraction sites',\n",
       " 'Broad-leaved forest',\n",
       " 'Dump sites',\n",
       " 'Coniferous forest',\n",
       " 'Construction sites',\n",
       " 'Green urban areas',\n",
       " 'Sport and leisure facilities',\n",
       " 'Mixed forest']"
      ]
     },
     "execution_count": 7,
     "metadata": {},
     "output_type": "execute_result"
    }
   ],
   "source": [
    "#Let’s see what kind of values we have in ‘Level3Eng’ column\n",
    "list(data['Level3Eng'].unique())"
   ]
  },
  {
   "cell_type": "code",
   "execution_count": 10,
   "metadata": {},
   "outputs": [
    {
     "data": {
      "text/html": [
       "<div>\n",
       "<style scoped>\n",
       "    .dataframe tbody tr th:only-of-type {\n",
       "        vertical-align: middle;\n",
       "    }\n",
       "\n",
       "    .dataframe tbody tr th {\n",
       "        vertical-align: top;\n",
       "    }\n",
       "\n",
       "    .dataframe thead th {\n",
       "        text-align: right;\n",
       "    }\n",
       "</style>\n",
       "<table border=\"1\" class=\"dataframe\">\n",
       "  <thead>\n",
       "    <tr style=\"text-align: right;\">\n",
       "      <th></th>\n",
       "      <th>Level1</th>\n",
       "      <th>Level1Eng</th>\n",
       "      <th>Level2</th>\n",
       "      <th>Level2Eng</th>\n",
       "      <th>Level3</th>\n",
       "      <th>Level3Eng</th>\n",
       "      <th>Luokka3</th>\n",
       "      <th>geometry</th>\n",
       "    </tr>\n",
       "  </thead>\n",
       "  <tbody>\n",
       "    <tr>\n",
       "      <th>1388</th>\n",
       "      <td>5</td>\n",
       "      <td>Water bodies</td>\n",
       "      <td>51</td>\n",
       "      <td>Inland waters</td>\n",
       "      <td>512</td>\n",
       "      <td>Water bodies</td>\n",
       "      <td>512</td>\n",
       "      <td>POLYGON ((298388.189 6642944.189999999, 298364...</td>\n",
       "    </tr>\n",
       "    <tr>\n",
       "      <th>1389</th>\n",
       "      <td>5</td>\n",
       "      <td>Water bodies</td>\n",
       "      <td>51</td>\n",
       "      <td>Inland waters</td>\n",
       "      <td>512</td>\n",
       "      <td>Water bodies</td>\n",
       "      <td>512</td>\n",
       "      <td>POLYGON ((286629.2579999999 6643429.219000001,...</td>\n",
       "    </tr>\n",
       "  </tbody>\n",
       "</table>\n",
       "</div>"
      ],
      "text/plain": [
       "      Level1     Level1Eng  Level2      Level2Eng  Level3     Level3Eng  \\\n",
       "1388       5  Water bodies      51  Inland waters     512  Water bodies   \n",
       "1389       5  Water bodies      51  Inland waters     512  Water bodies   \n",
       "\n",
       "     Luokka3                                           geometry  \n",
       "1388     512  POLYGON ((298388.189 6642944.189999999, 298364...  \n",
       "1389     512  POLYGON ((286629.2579999999 6643429.219000001,...  "
      ]
     },
     "execution_count": 10,
     "metadata": {},
     "output_type": "execute_result"
    }
   ],
   "source": [
    "# Select lakes (i.e. 'waterbodies' in the data) and make a proper copy out of our data\n",
    "lakes = data.loc[data['Level3Eng'] == 'Water bodies'].copy()\n",
    "lakes.head(2)"
   ]
  },
  {
   "cell_type": "code",
   "execution_count": 11,
   "metadata": {},
   "outputs": [
    {
     "data": {
      "text/plain": [
       "{'ellps': 'GRS80', 'no_defs': True, 'proj': 'utm', 'units': 'm', 'zone': 35}"
      ]
     },
     "execution_count": 11,
     "metadata": {},
     "output_type": "execute_result"
    }
   ],
   "source": [
    "# Check coordinate system information\n",
    "data.crs"
   ]
  },
  {
   "cell_type": "code",
   "execution_count": 12,
   "metadata": {},
   "outputs": [
    {
     "data": {
      "text/plain": [
       "{'ellps': 'GRS80', 'no_defs': True, 'proj': 'utm', 'units': 'm', 'zone': 35}"
      ]
     },
     "execution_count": 12,
     "metadata": {},
     "output_type": "execute_result"
    }
   ],
   "source": [
    "lakes.crs"
   ]
  },
  {
   "cell_type": "code",
   "execution_count": 14,
   "metadata": {},
   "outputs": [
    {
     "data": {
      "text/html": [
       "<div>\n",
       "<style scoped>\n",
       "    .dataframe tbody tr th:only-of-type {\n",
       "        vertical-align: middle;\n",
       "    }\n",
       "\n",
       "    .dataframe tbody tr th {\n",
       "        vertical-align: top;\n",
       "    }\n",
       "\n",
       "    .dataframe thead th {\n",
       "        text-align: right;\n",
       "    }\n",
       "</style>\n",
       "<table border=\"1\" class=\"dataframe\">\n",
       "  <thead>\n",
       "    <tr style=\"text-align: right;\">\n",
       "      <th></th>\n",
       "      <th>Level1</th>\n",
       "      <th>Level1Eng</th>\n",
       "      <th>Level2</th>\n",
       "      <th>Level2Eng</th>\n",
       "      <th>Level3</th>\n",
       "      <th>Level3Eng</th>\n",
       "      <th>Luokka3</th>\n",
       "      <th>geometry</th>\n",
       "      <th>area</th>\n",
       "      <th>area_m2</th>\n",
       "    </tr>\n",
       "  </thead>\n",
       "  <tbody>\n",
       "    <tr>\n",
       "      <th>1388</th>\n",
       "      <td>5</td>\n",
       "      <td>Water bodies</td>\n",
       "      <td>51</td>\n",
       "      <td>Inland waters</td>\n",
       "      <td>512</td>\n",
       "      <td>Water bodies</td>\n",
       "      <td>512</td>\n",
       "      <td>POLYGON ((298388.189 6642944.189999999, 298364...</td>\n",
       "      <td>268310.708164</td>\n",
       "      <td>268310.708164</td>\n",
       "    </tr>\n",
       "    <tr>\n",
       "      <th>1389</th>\n",
       "      <td>5</td>\n",
       "      <td>Water bodies</td>\n",
       "      <td>51</td>\n",
       "      <td>Inland waters</td>\n",
       "      <td>512</td>\n",
       "      <td>Water bodies</td>\n",
       "      <td>512</td>\n",
       "      <td>POLYGON ((286629.2579999999 6643429.219000001,...</td>\n",
       "      <td>917661.921348</td>\n",
       "      <td>917661.921348</td>\n",
       "    </tr>\n",
       "  </tbody>\n",
       "</table>\n",
       "</div>"
      ],
      "text/plain": [
       "      Level1     Level1Eng  Level2      Level2Eng  Level3     Level3Eng  \\\n",
       "1388       5  Water bodies      51  Inland waters     512  Water bodies   \n",
       "1389       5  Water bodies      51  Inland waters     512  Water bodies   \n",
       "\n",
       "     Luokka3                                           geometry  \\\n",
       "1388     512  POLYGON ((298388.189 6642944.189999999, 298364...   \n",
       "1389     512  POLYGON ((286629.2579999999 6643429.219000001,...   \n",
       "\n",
       "               area        area_m2  \n",
       "1388  268310.708164  268310.708164  \n",
       "1389  917661.921348  917661.921348  "
      ]
     },
     "execution_count": 14,
     "metadata": {},
     "output_type": "execute_result"
    }
   ],
   "source": [
    "lakes['area_m2'] = lakes.area\n",
    "lakes.head(2)"
   ]
  },
  {
   "cell_type": "code",
   "execution_count": 16,
   "metadata": {},
   "outputs": [
    {
     "data": {
      "text/html": [
       "<div>\n",
       "<style scoped>\n",
       "    .dataframe tbody tr th:only-of-type {\n",
       "        vertical-align: middle;\n",
       "    }\n",
       "\n",
       "    .dataframe tbody tr th {\n",
       "        vertical-align: top;\n",
       "    }\n",
       "\n",
       "    .dataframe thead th {\n",
       "        text-align: right;\n",
       "    }\n",
       "</style>\n",
       "<table border=\"1\" class=\"dataframe\">\n",
       "  <thead>\n",
       "    <tr style=\"text-align: right;\">\n",
       "      <th></th>\n",
       "      <th>Level1</th>\n",
       "      <th>Level1Eng</th>\n",
       "      <th>Level2</th>\n",
       "      <th>Level2Eng</th>\n",
       "      <th>Level3</th>\n",
       "      <th>Level3Eng</th>\n",
       "      <th>Luokka3</th>\n",
       "      <th>geometry</th>\n",
       "      <th>area</th>\n",
       "      <th>area_m2</th>\n",
       "      <th>area_km2</th>\n",
       "    </tr>\n",
       "  </thead>\n",
       "  <tbody>\n",
       "    <tr>\n",
       "      <th>1388</th>\n",
       "      <td>5</td>\n",
       "      <td>Water bodies</td>\n",
       "      <td>51</td>\n",
       "      <td>Inland waters</td>\n",
       "      <td>512</td>\n",
       "      <td>Water bodies</td>\n",
       "      <td>512</td>\n",
       "      <td>POLYGON ((298388.189 6642944.189999999, 298364...</td>\n",
       "      <td>268310.708164</td>\n",
       "      <td>268310.708164</td>\n",
       "      <td>0.268311</td>\n",
       "    </tr>\n",
       "    <tr>\n",
       "      <th>1389</th>\n",
       "      <td>5</td>\n",
       "      <td>Water bodies</td>\n",
       "      <td>51</td>\n",
       "      <td>Inland waters</td>\n",
       "      <td>512</td>\n",
       "      <td>Water bodies</td>\n",
       "      <td>512</td>\n",
       "      <td>POLYGON ((286629.2579999999 6643429.219000001,...</td>\n",
       "      <td>917661.921348</td>\n",
       "      <td>917661.921348</td>\n",
       "      <td>0.917662</td>\n",
       "    </tr>\n",
       "  </tbody>\n",
       "</table>\n",
       "</div>"
      ],
      "text/plain": [
       "      Level1     Level1Eng  Level2      Level2Eng  Level3     Level3Eng  \\\n",
       "1388       5  Water bodies      51  Inland waters     512  Water bodies   \n",
       "1389       5  Water bodies      51  Inland waters     512  Water bodies   \n",
       "\n",
       "     Luokka3                                           geometry  \\\n",
       "1388     512  POLYGON ((298388.189 6642944.189999999, 298364...   \n",
       "1389     512  POLYGON ((286629.2579999999 6643429.219000001,...   \n",
       "\n",
       "               area        area_m2  area_km2  \n",
       "1388  268310.708164  268310.708164  0.268311  \n",
       "1389  917661.921348  917661.921348  0.917662  "
      ]
     },
     "execution_count": 16,
     "metadata": {},
     "output_type": "execute_result"
    }
   ],
   "source": [
    "lakes['area_km2'] = lakes['area_m2'] / 1E6\n",
    "lakes.head(2)"
   ]
  },
  {
   "cell_type": "code",
   "execution_count": 22,
   "metadata": {},
   "outputs": [
    {
     "name": "stdout",
     "output_type": "stream",
     "text": [
      "Lakes mean size is 1.583 km^2\n"
     ]
    }
   ],
   "source": [
    "# What is the mean size of our lakes?\n",
    "lakes_mean_size = lakes['area_km2'].mean()\n",
    "print('Lakes mean size is {0} km^2'.format(round(lakes_mean_size,3)))"
   ]
  },
  {
   "cell_type": "markdown",
   "metadata": {},
   "source": [
    "## Classifying data"
   ]
  },
  {
   "cell_type": "markdown",
   "metadata": {},
   "source": [
    "### Creating a custom classifier \n",
    "Let’s create a function where we classify the geometries into two classes based on a given threshold -parameter. If the area of a polygon is lower than the threshold value (average size of the lake), the output column will get a value 0, if it is larger, it will get a value 1. This kind of classification is often called a binary classification."
   ]
  },
  {
   "cell_type": "code",
   "execution_count": 23,
   "metadata": {},
   "outputs": [],
   "source": [
    "# Function for classification task\n",
    "def binaryClassifier(row, source_col, output_col, threshold):\n",
    "    # If area of input geom is lower than the threshold\n",
    "    if row[source_col] < threshold:\n",
    "        # Update output column with value 0\n",
    "        row[output_col] = 0\n",
    "    else:\n",
    "        row[output_col] = 1\n",
    "    \n",
    "    # Return updated row\n",
    "    return row"
   ]
  },
  {
   "cell_type": "code",
   "execution_count": 24,
   "metadata": {},
   "outputs": [
    {
     "data": {
      "text/html": [
       "<div>\n",
       "<style scoped>\n",
       "    .dataframe tbody tr th:only-of-type {\n",
       "        vertical-align: middle;\n",
       "    }\n",
       "\n",
       "    .dataframe tbody tr th {\n",
       "        vertical-align: top;\n",
       "    }\n",
       "\n",
       "    .dataframe thead th {\n",
       "        text-align: right;\n",
       "    }\n",
       "</style>\n",
       "<table border=\"1\" class=\"dataframe\">\n",
       "  <thead>\n",
       "    <tr style=\"text-align: right;\">\n",
       "      <th></th>\n",
       "      <th>Level1</th>\n",
       "      <th>Level1Eng</th>\n",
       "      <th>Level2</th>\n",
       "      <th>Level2Eng</th>\n",
       "      <th>Level3</th>\n",
       "      <th>Level3Eng</th>\n",
       "      <th>Luokka3</th>\n",
       "      <th>geometry</th>\n",
       "      <th>area</th>\n",
       "      <th>area_m2</th>\n",
       "      <th>area_km2</th>\n",
       "      <th>small_big</th>\n",
       "    </tr>\n",
       "  </thead>\n",
       "  <tbody>\n",
       "    <tr>\n",
       "      <th>1388</th>\n",
       "      <td>5</td>\n",
       "      <td>Water bodies</td>\n",
       "      <td>51</td>\n",
       "      <td>Inland waters</td>\n",
       "      <td>512</td>\n",
       "      <td>Water bodies</td>\n",
       "      <td>512</td>\n",
       "      <td>POLYGON ((298388.189 6642944.189999999, 298364...</td>\n",
       "      <td>268310.708164</td>\n",
       "      <td>268310.708164</td>\n",
       "      <td>0.268311</td>\n",
       "      <td>None</td>\n",
       "    </tr>\n",
       "    <tr>\n",
       "      <th>1389</th>\n",
       "      <td>5</td>\n",
       "      <td>Water bodies</td>\n",
       "      <td>51</td>\n",
       "      <td>Inland waters</td>\n",
       "      <td>512</td>\n",
       "      <td>Water bodies</td>\n",
       "      <td>512</td>\n",
       "      <td>POLYGON ((286629.2579999999 6643429.219000001,...</td>\n",
       "      <td>917661.921348</td>\n",
       "      <td>917661.921348</td>\n",
       "      <td>0.917662</td>\n",
       "      <td>None</td>\n",
       "    </tr>\n",
       "  </tbody>\n",
       "</table>\n",
       "</div>"
      ],
      "text/plain": [
       "      Level1     Level1Eng  Level2      Level2Eng  Level3     Level3Eng  \\\n",
       "1388       5  Water bodies      51  Inland waters     512  Water bodies   \n",
       "1389       5  Water bodies      51  Inland waters     512  Water bodies   \n",
       "\n",
       "     Luokka3                                           geometry  \\\n",
       "1388     512  POLYGON ((298388.189 6642944.189999999, 298364...   \n",
       "1389     512  POLYGON ((286629.2579999999 6643429.219000001,...   \n",
       "\n",
       "               area        area_m2  area_km2 small_big  \n",
       "1388  268310.708164  268310.708164  0.268311      None  \n",
       "1389  917661.921348  917661.921348  0.917662      None  "
      ]
     },
     "execution_count": 24,
     "metadata": {},
     "output_type": "execute_result"
    }
   ],
   "source": [
    "# Create empty column for classification\n",
    "lakes['small_big'] = None\n",
    "lakes.head(2)"
   ]
  },
  {
   "cell_type": "code",
   "execution_count": 26,
   "metadata": {},
   "outputs": [
    {
     "data": {
      "text/html": [
       "<div>\n",
       "<style scoped>\n",
       "    .dataframe tbody tr th:only-of-type {\n",
       "        vertical-align: middle;\n",
       "    }\n",
       "\n",
       "    .dataframe tbody tr th {\n",
       "        vertical-align: top;\n",
       "    }\n",
       "\n",
       "    .dataframe thead th {\n",
       "        text-align: right;\n",
       "    }\n",
       "</style>\n",
       "<table border=\"1\" class=\"dataframe\">\n",
       "  <thead>\n",
       "    <tr style=\"text-align: right;\">\n",
       "      <th></th>\n",
       "      <th>Level1</th>\n",
       "      <th>Level1Eng</th>\n",
       "      <th>Level2</th>\n",
       "      <th>Level2Eng</th>\n",
       "      <th>Level3</th>\n",
       "      <th>Level3Eng</th>\n",
       "      <th>Luokka3</th>\n",
       "      <th>geometry</th>\n",
       "      <th>area</th>\n",
       "      <th>area_m2</th>\n",
       "      <th>area_km2</th>\n",
       "      <th>small_big</th>\n",
       "    </tr>\n",
       "  </thead>\n",
       "  <tbody>\n",
       "    <tr>\n",
       "      <th>1624</th>\n",
       "      <td>5</td>\n",
       "      <td>Water bodies</td>\n",
       "      <td>51</td>\n",
       "      <td>Inland waters</td>\n",
       "      <td>512</td>\n",
       "      <td>Water bodies</td>\n",
       "      <td>512</td>\n",
       "      <td>POLYGON ((407300 6732280, 407300 6732160, 4071...</td>\n",
       "      <td>3.228702e+05</td>\n",
       "      <td>3.228702e+05</td>\n",
       "      <td>0.322870</td>\n",
       "      <td>0</td>\n",
       "    </tr>\n",
       "    <tr>\n",
       "      <th>1625</th>\n",
       "      <td>5</td>\n",
       "      <td>Water bodies</td>\n",
       "      <td>51</td>\n",
       "      <td>Inland waters</td>\n",
       "      <td>512</td>\n",
       "      <td>Water bodies</td>\n",
       "      <td>512</td>\n",
       "      <td>POLYGON ((416220 6734380, 416226.719 6734366.7...</td>\n",
       "      <td>1.942463e+06</td>\n",
       "      <td>1.942463e+06</td>\n",
       "      <td>1.942463</td>\n",
       "      <td>1</td>\n",
       "    </tr>\n",
       "    <tr>\n",
       "      <th>1626</th>\n",
       "      <td>5</td>\n",
       "      <td>Water bodies</td>\n",
       "      <td>51</td>\n",
       "      <td>Inland waters</td>\n",
       "      <td>512</td>\n",
       "      <td>Water bodies</td>\n",
       "      <td>512</td>\n",
       "      <td>POLYGON ((407140 6736420, 407149.0630000001 67...</td>\n",
       "      <td>1.170017e+06</td>\n",
       "      <td>1.170017e+06</td>\n",
       "      <td>1.170017</td>\n",
       "      <td>0</td>\n",
       "    </tr>\n",
       "    <tr>\n",
       "      <th>1627</th>\n",
       "      <td>5</td>\n",
       "      <td>Water bodies</td>\n",
       "      <td>51</td>\n",
       "      <td>Inland waters</td>\n",
       "      <td>512</td>\n",
       "      <td>Water bodies</td>\n",
       "      <td>512</td>\n",
       "      <td>POLYGON ((415120 6734100, 415108.7109999999 67...</td>\n",
       "      <td>1.537351e+06</td>\n",
       "      <td>1.537351e+06</td>\n",
       "      <td>1.537351</td>\n",
       "      <td>0</td>\n",
       "    </tr>\n",
       "    <tr>\n",
       "      <th>1628</th>\n",
       "      <td>5</td>\n",
       "      <td>Water bodies</td>\n",
       "      <td>51</td>\n",
       "      <td>Inland waters</td>\n",
       "      <td>512</td>\n",
       "      <td>Water bodies</td>\n",
       "      <td>512</td>\n",
       "      <td>POLYGON ((403360 6738380, 403366.1980000001 67...</td>\n",
       "      <td>9.771618e+05</td>\n",
       "      <td>9.771618e+05</td>\n",
       "      <td>0.977162</td>\n",
       "      <td>0</td>\n",
       "    </tr>\n",
       "  </tbody>\n",
       "</table>\n",
       "</div>"
      ],
      "text/plain": [
       "      Level1     Level1Eng  Level2      Level2Eng  Level3     Level3Eng  \\\n",
       "1624       5  Water bodies      51  Inland waters     512  Water bodies   \n",
       "1625       5  Water bodies      51  Inland waters     512  Water bodies   \n",
       "1626       5  Water bodies      51  Inland waters     512  Water bodies   \n",
       "1627       5  Water bodies      51  Inland waters     512  Water bodies   \n",
       "1628       5  Water bodies      51  Inland waters     512  Water bodies   \n",
       "\n",
       "     Luokka3                                           geometry          area  \\\n",
       "1624     512  POLYGON ((407300 6732280, 407300 6732160, 4071...  3.228702e+05   \n",
       "1625     512  POLYGON ((416220 6734380, 416226.719 6734366.7...  1.942463e+06   \n",
       "1626     512  POLYGON ((407140 6736420, 407149.0630000001 67...  1.170017e+06   \n",
       "1627     512  POLYGON ((415120 6734100, 415108.7109999999 67...  1.537351e+06   \n",
       "1628     512  POLYGON ((403360 6738380, 403366.1980000001 67...  9.771618e+05   \n",
       "\n",
       "           area_m2  area_km2  small_big  \n",
       "1624  3.228702e+05  0.322870          0  \n",
       "1625  1.942463e+06  1.942463          1  \n",
       "1626  1.170017e+06  1.170017          0  \n",
       "1627  1.537351e+06  1.537351          0  \n",
       "1628  9.771618e+05  0.977162          0  "
      ]
     },
     "execution_count": 26,
     "metadata": {},
     "output_type": "execute_result"
    }
   ],
   "source": [
    "lakes = lakes.apply(binaryClassifier, source_col='area_km2', output_col='small_big', threshold=lakes_mean_size, axis=1)\n",
    "lakes.tail()"
   ]
  },
  {
   "cell_type": "code",
   "execution_count": 28,
   "metadata": {},
   "outputs": [
    {
     "data": {
      "image/png": "[encoded data removed]",
      "text/plain": [
       "<matplotlib.figure.Figure at 0x1d6067b7240>"
      ]
     },
     "metadata": {},
     "output_type": "display_data"
    }
   ],
   "source": [
    "lakes.plot(column='small_big', lw=0.05, cmap='seismic')\n",
    "plt.tight_layout()"
   ]
  },
  {
   "cell_type": "code",
   "execution_count": 29,
   "metadata": {},
   "outputs": [],
   "source": [
    "# Save the lakes as a file to disk\n",
    "outfp_lakes = r'output/lakes.shp'\n",
    "lakes.to_file(outfp_lakes)"
   ]
  },
  {
   "cell_type": "markdown",
   "metadata": {},
   "source": [
    "### Multicriteria data classification"
   ]
  },
  {
   "cell_type": "code",
   "execution_count": 30,
   "metadata": {},
   "outputs": [],
   "source": [
    "def customClassifier2(row, src_col1, src_col2, threshold1, threshold2, output_col):\n",
    "    # 1. If the value in src_col1 is LOWER than the threshold1 value\n",
    "    # 2. AND the value in src_col2 is HIGHER than the threshold2 value, give value 1, otherwise give 0\n",
    "    if row[src_col1] < threshold1 and row[src_col2] > threshold2:\n",
    "        # Update the output column with value 0\n",
    "        row[output_col] = 1\n",
    "    # If area of input geometry is higher than the threshold value update with value 1\n",
    "    else:\n",
    "        row[output_col] = 0\n",
    "\n",
    "    # Return the updated row\n",
    "    return row"
   ]
  },
  {
   "cell_type": "code",
   "execution_count": 43,
   "metadata": {},
   "outputs": [
    {
     "name": "stdout",
     "output_type": "stream",
     "text": [
      "(13231, 15)\n"
     ]
    },
    {
     "data": {
      "text/html": [
       "<div>\n",
       "<style scoped>\n",
       "    .dataframe tbody tr th:only-of-type {\n",
       "        vertical-align: middle;\n",
       "    }\n",
       "\n",
       "    .dataframe tbody tr th {\n",
       "        vertical-align: top;\n",
       "    }\n",
       "\n",
       "    .dataframe thead th {\n",
       "        text-align: right;\n",
       "    }\n",
       "</style>\n",
       "<table border=\"1\" class=\"dataframe\">\n",
       "  <thead>\n",
       "    <tr style=\"text-align: right;\">\n",
       "      <th></th>\n",
       "      <th>car_m_d</th>\n",
       "      <th>car_m_t</th>\n",
       "      <th>car_r_d</th>\n",
       "      <th>car_r_t</th>\n",
       "      <th>from_id</th>\n",
       "      <th>pt_m_d</th>\n",
       "      <th>pt_m_t</th>\n",
       "      <th>pt_m_tt</th>\n",
       "      <th>pt_r_d</th>\n",
       "      <th>pt_r_t</th>\n",
       "      <th>pt_r_tt</th>\n",
       "      <th>to_id</th>\n",
       "      <th>walk_d</th>\n",
       "      <th>walk_t</th>\n",
       "      <th>geometry</th>\n",
       "    </tr>\n",
       "  </thead>\n",
       "  <tbody>\n",
       "    <tr>\n",
       "      <th>0</th>\n",
       "      <td>32297</td>\n",
       "      <td>43</td>\n",
       "      <td>32260</td>\n",
       "      <td>48</td>\n",
       "      <td>5785640</td>\n",
       "      <td>32616</td>\n",
       "      <td>116</td>\n",
       "      <td>147</td>\n",
       "      <td>32616</td>\n",
       "      <td>108</td>\n",
       "      <td>139</td>\n",
       "      <td>5975375</td>\n",
       "      <td>32164</td>\n",
       "      <td>459</td>\n",
       "      <td>POLYGON ((382000.0001358641 6697750.000038058,...</td>\n",
       "    </tr>\n",
       "    <tr>\n",
       "      <th>1</th>\n",
       "      <td>32508</td>\n",
       "      <td>43</td>\n",
       "      <td>32471</td>\n",
       "      <td>49</td>\n",
       "      <td>5785641</td>\n",
       "      <td>32822</td>\n",
       "      <td>119</td>\n",
       "      <td>145</td>\n",
       "      <td>32822</td>\n",
       "      <td>111</td>\n",
       "      <td>133</td>\n",
       "      <td>5975375</td>\n",
       "      <td>29547</td>\n",
       "      <td>422</td>\n",
       "      <td>POLYGON ((382250.0001358146 6697750.000038053,...</td>\n",
       "    </tr>\n",
       "  </tbody>\n",
       "</table>\n",
       "</div>"
      ],
      "text/plain": [
       "   car_m_d  car_m_t  car_r_d  car_r_t  from_id  pt_m_d  pt_m_t  pt_m_tt  \\\n",
       "0    32297       43    32260       48  5785640   32616     116      147   \n",
       "1    32508       43    32471       49  5785641   32822     119      145   \n",
       "\n",
       "   pt_r_d  pt_r_t  pt_r_tt    to_id  walk_d  walk_t  \\\n",
       "0   32616     108      139  5975375   32164     459   \n",
       "1   32822     111      133  5975375   29547     422   \n",
       "\n",
       "                                            geometry  \n",
       "0  POLYGON ((382000.0001358641 6697750.000038058,...  \n",
       "1  POLYGON ((382250.0001358146 6697750.000038053,...  "
      ]
     },
     "execution_count": 43,
     "metadata": {},
     "output_type": "execute_result"
    }
   ],
   "source": [
    "# Read travle time data\n",
    "tt_fp = r\"data/TravelTimes_to_5975375_RailwayStation.shp\"\n",
    "\n",
    "# Read the GeoJSON file similarly as Shapefile\n",
    "acc = gpd.read_file(tt_fp)\n",
    "\n",
    "# Let's see what we have\n",
    "print(acc.shape)\n",
    "acc.head(2)"
   ]
  },
  {
   "cell_type": "code",
   "execution_count": 41,
   "metadata": {},
   "outputs": [
    {
     "data": {
      "text/plain": [
       "(13020, 15)"
      ]
     },
     "execution_count": 41,
     "metadata": {},
     "output_type": "execute_result"
    }
   ],
   "source": [
    "# NoData values are encoded with -1, therefore we get rid of those with\n",
    "acc = acc.loc[acc['pt_r_tt'] >= 0].copy()\n",
    "acc.shape"
   ]
  },
  {
   "cell_type": "code",
   "execution_count": 45,
   "metadata": {},
   "outputs": [
    {
     "data": {
      "text/plain": [
       "<matplotlib.axes._subplots.AxesSubplot at 0x1d60acb7208>"
      ]
     },
     "execution_count": 45,
     "metadata": {},
     "output_type": "execute_result"
    },
    {
     "data": {
      "image/png": "[encoded data removed]",
      "text/plain": [
       "<matplotlib.figure.Figure at 0x1d60665efd0>"
      ]
     },
     "metadata": {},
     "output_type": "display_data"
    }
   ],
   "source": [
    "# Plot using 9 classes and classify the values using \"Fisher Jenks\" classification\n",
    "acc.plot(column='pt_r_tt', scheme='Fisher_Jenks', k=9, cmap=\"RdYlBu\", lw=0.5)\n",
    "\n",
    "# Use tight layout\n",
    "#plt.tight_layout()"
   ]
  },
  {
   "cell_type": "code",
   "execution_count": 46,
   "metadata": {},
   "outputs": [
    {
     "data": {
      "image/png": "[encoded data removed]",
      "text/plain": [
       "<matplotlib.figure.Figure at 0x1d60acc8a58>"
      ]
     },
     "metadata": {},
     "output_type": "display_data"
    }
   ],
   "source": [
    "# Let’s also make a plot about walking distances\n",
    "acc.plot(column='walk_d', scheme='Fisher_Jenks', k=9, cmap='RdYlBu', lw=0)\n",
    "plt.tight_layout()"
   ]
  },
  {
   "cell_type": "markdown",
   "metadata": {},
   "source": [
    "Let’s finally do our classification based on two criteria and find out grid cells where the travel time is lower or equal to 20 minutes but they are further away than 4 km (4000 meters) from city center."
   ]
  },
  {
   "cell_type": "code",
   "execution_count": 48,
   "metadata": {},
   "outputs": [],
   "source": [
    "acc['suitable_area'] = None"
   ]
  },
  {
   "cell_type": "code",
   "execution_count": 49,
   "metadata": {},
   "outputs": [
    {
     "data": {
      "text/html": [
       "<div>\n",
       "<style scoped>\n",
       "    .dataframe tbody tr th:only-of-type {\n",
       "        vertical-align: middle;\n",
       "    }\n",
       "\n",
       "    .dataframe tbody tr th {\n",
       "        vertical-align: top;\n",
       "    }\n",
       "\n",
       "    .dataframe thead th {\n",
       "        text-align: right;\n",
       "    }\n",
       "</style>\n",
       "<table border=\"1\" class=\"dataframe\">\n",
       "  <thead>\n",
       "    <tr style=\"text-align: right;\">\n",
       "      <th></th>\n",
       "      <th>car_m_d</th>\n",
       "      <th>car_m_t</th>\n",
       "      <th>car_r_d</th>\n",
       "      <th>car_r_t</th>\n",
       "      <th>from_id</th>\n",
       "      <th>pt_m_d</th>\n",
       "      <th>pt_m_t</th>\n",
       "      <th>pt_m_tt</th>\n",
       "      <th>pt_r_d</th>\n",
       "      <th>pt_r_t</th>\n",
       "      <th>pt_r_tt</th>\n",
       "      <th>to_id</th>\n",
       "      <th>walk_d</th>\n",
       "      <th>walk_t</th>\n",
       "      <th>geometry</th>\n",
       "      <th>suitable_area</th>\n",
       "    </tr>\n",
       "  </thead>\n",
       "  <tbody>\n",
       "    <tr>\n",
       "      <th>0</th>\n",
       "      <td>32297</td>\n",
       "      <td>43</td>\n",
       "      <td>32260</td>\n",
       "      <td>48</td>\n",
       "      <td>5785640</td>\n",
       "      <td>32616</td>\n",
       "      <td>116</td>\n",
       "      <td>147</td>\n",
       "      <td>32616</td>\n",
       "      <td>108</td>\n",
       "      <td>139</td>\n",
       "      <td>5975375</td>\n",
       "      <td>32164</td>\n",
       "      <td>459</td>\n",
       "      <td>POLYGON ((382000.0001358641 6697750.000038058,...</td>\n",
       "      <td>0</td>\n",
       "    </tr>\n",
       "    <tr>\n",
       "      <th>1</th>\n",
       "      <td>32508</td>\n",
       "      <td>43</td>\n",
       "      <td>32471</td>\n",
       "      <td>49</td>\n",
       "      <td>5785641</td>\n",
       "      <td>32822</td>\n",
       "      <td>119</td>\n",
       "      <td>145</td>\n",
       "      <td>32822</td>\n",
       "      <td>111</td>\n",
       "      <td>133</td>\n",
       "      <td>5975375</td>\n",
       "      <td>29547</td>\n",
       "      <td>422</td>\n",
       "      <td>POLYGON ((382250.0001358146 6697750.000038053,...</td>\n",
       "      <td>0</td>\n",
       "    </tr>\n",
       "    <tr>\n",
       "      <th>2</th>\n",
       "      <td>30133</td>\n",
       "      <td>50</td>\n",
       "      <td>31872</td>\n",
       "      <td>56</td>\n",
       "      <td>5785642</td>\n",
       "      <td>32940</td>\n",
       "      <td>121</td>\n",
       "      <td>146</td>\n",
       "      <td>32940</td>\n",
       "      <td>113</td>\n",
       "      <td>133</td>\n",
       "      <td>5975375</td>\n",
       "      <td>29626</td>\n",
       "      <td>423</td>\n",
       "      <td>POLYGON ((382500.0001357661 6697750.000038046,...</td>\n",
       "      <td>0</td>\n",
       "    </tr>\n",
       "  </tbody>\n",
       "</table>\n",
       "</div>"
      ],
      "text/plain": [
       "   car_m_d  car_m_t  car_r_d  car_r_t  from_id  pt_m_d  pt_m_t  pt_m_tt  \\\n",
       "0    32297       43    32260       48  5785640   32616     116      147   \n",
       "1    32508       43    32471       49  5785641   32822     119      145   \n",
       "2    30133       50    31872       56  5785642   32940     121      146   \n",
       "\n",
       "   pt_r_d  pt_r_t  pt_r_tt    to_id  walk_d  walk_t  \\\n",
       "0   32616     108      139  5975375   32164     459   \n",
       "1   32822     111      133  5975375   29547     422   \n",
       "2   32940     113      133  5975375   29626     423   \n",
       "\n",
       "                                            geometry  suitable_area  \n",
       "0  POLYGON ((382000.0001358641 6697750.000038058,...              0  \n",
       "1  POLYGON ((382250.0001358146 6697750.000038053,...              0  \n",
       "2  POLYGON ((382500.0001357661 6697750.000038046,...              0  "
      ]
     },
     "execution_count": 49,
     "metadata": {},
     "output_type": "execute_result"
    }
   ],
   "source": [
    "acc = acc.apply(customClassifier2omClassifier2omClassifier2, src_col1='pt_r_tt', src_col2='walk_d', threshold1=20, threshold2=4000, output_col='suitable_area', axis=1)\n",
    "acc.head(3)"
   ]
  },
  {
   "cell_type": "markdown",
   "metadata": {},
   "source": [
    "How many Polygons are suitable for us? Let’s find out by using a Pandas function called value_counts() that return the count of different values in our column."
   ]
  },
  {
   "cell_type": "code",
   "execution_count": 50,
   "metadata": {},
   "outputs": [
    {
     "data": {
      "text/plain": [
       "0    13222\n",
       "1        9\n",
       "Name: suitable_area, dtype: int64"
      ]
     },
     "execution_count": 50,
     "metadata": {},
     "output_type": "execute_result"
    }
   ],
   "source": [
    "acc['suitable_area'].value_counts()"
   ]
  },
  {
   "cell_type": "code",
   "execution_count": 51,
   "metadata": {},
   "outputs": [
    {
     "data": {
      "image/png": "[encoded data removed]",
      "text/plain": [
       "<matplotlib.figure.Figure at 0x1d60b139860>"
      ]
     },
     "metadata": {},
     "output_type": "display_data"
    }
   ],
   "source": [
    "acc.plot(column='suitable_area', lw=0)\n",
    "plt.tight_layout()"
   ]
  },
  {
   "cell_type": "markdown",
   "metadata": {},
   "source": [
    "## Classification based on common classifiers"
   ]
  },
  {
   "cell_type": "code",
   "execution_count": 52,
   "metadata": {},
   "outputs": [],
   "source": [
    "import pysal as ps"
   ]
  },
  {
   "cell_type": "code",
   "execution_count": 53,
   "metadata": {},
   "outputs": [],
   "source": [
    "# Define the number of classes\n",
    "n_classes = 9"
   ]
  },
  {
   "cell_type": "code",
   "execution_count": 54,
   "metadata": {},
   "outputs": [],
   "source": [
    "# Create a Natural Breaks classifier\n",
    "classifier = ps.Natural_Breaks.make(k=n_classes)"
   ]
  },
  {
   "cell_type": "code",
   "execution_count": 55,
   "metadata": {},
   "outputs": [
    {
     "data": {
      "text/html": [
       "<div>\n",
       "<style scoped>\n",
       "    .dataframe tbody tr th:only-of-type {\n",
       "        vertical-align: middle;\n",
       "    }\n",
       "\n",
       "    .dataframe tbody tr th {\n",
       "        vertical-align: top;\n",
       "    }\n",
       "\n",
       "    .dataframe thead th {\n",
       "        text-align: right;\n",
       "    }\n",
       "</style>\n",
       "<table border=\"1\" class=\"dataframe\">\n",
       "  <thead>\n",
       "    <tr style=\"text-align: right;\">\n",
       "      <th></th>\n",
       "      <th>pt_r_tt</th>\n",
       "    </tr>\n",
       "  </thead>\n",
       "  <tbody>\n",
       "    <tr>\n",
       "      <th>0</th>\n",
       "      <td>8</td>\n",
       "    </tr>\n",
       "    <tr>\n",
       "      <th>1</th>\n",
       "      <td>8</td>\n",
       "    </tr>\n",
       "    <tr>\n",
       "      <th>2</th>\n",
       "      <td>8</td>\n",
       "    </tr>\n",
       "    <tr>\n",
       "      <th>3</th>\n",
       "      <td>8</td>\n",
       "    </tr>\n",
       "    <tr>\n",
       "      <th>4</th>\n",
       "      <td>8</td>\n",
       "    </tr>\n",
       "  </tbody>\n",
       "</table>\n",
       "</div>"
      ],
      "text/plain": [
       "   pt_r_tt\n",
       "0        8\n",
       "1        8\n",
       "2        8\n",
       "3        8\n",
       "4        8"
      ]
     },
     "execution_count": 55,
     "metadata": {},
     "output_type": "execute_result"
    }
   ],
   "source": [
    "# Classify the data\n",
    "classifications = acc[['pt_r_tt']].apply(classifier)\n",
    "classifications.head()"
   ]
  },
  {
   "cell_type": "code",
   "execution_count": 57,
   "metadata": {},
   "outputs": [
    {
     "data": {
      "text/html": [
       "<div>\n",
       "<style scoped>\n",
       "    .dataframe tbody tr th:only-of-type {\n",
       "        vertical-align: middle;\n",
       "    }\n",
       "\n",
       "    .dataframe tbody tr th {\n",
       "        vertical-align: top;\n",
       "    }\n",
       "\n",
       "    .dataframe thead th {\n",
       "        text-align: right;\n",
       "    }\n",
       "</style>\n",
       "<table border=\"1\" class=\"dataframe\">\n",
       "  <thead>\n",
       "    <tr style=\"text-align: right;\">\n",
       "      <th></th>\n",
       "      <th>n_break_pt_r_tt</th>\n",
       "    </tr>\n",
       "  </thead>\n",
       "  <tbody>\n",
       "    <tr>\n",
       "      <th>0</th>\n",
       "      <td>8</td>\n",
       "    </tr>\n",
       "    <tr>\n",
       "      <th>1</th>\n",
       "      <td>8</td>\n",
       "    </tr>\n",
       "  </tbody>\n",
       "</table>\n",
       "</div>"
      ],
      "text/plain": [
       "   n_break_pt_r_tt\n",
       "0                8\n",
       "1                8"
      ]
     },
     "execution_count": 57,
     "metadata": {},
     "output_type": "execute_result"
    }
   ],
   "source": [
    "# Rename column\n",
    "classifications.columns = ['n_break_pt_r_tt']\n",
    "classifications.head(2)"
   ]
  },
  {
   "cell_type": "code",
   "execution_count": 58,
   "metadata": {},
   "outputs": [
    {
     "data": {
      "text/html": [
       "<div>\n",
       "<style scoped>\n",
       "    .dataframe tbody tr th:only-of-type {\n",
       "        vertical-align: middle;\n",
       "    }\n",
       "\n",
       "    .dataframe tbody tr th {\n",
       "        vertical-align: top;\n",
       "    }\n",
       "\n",
       "    .dataframe thead th {\n",
       "        text-align: right;\n",
       "    }\n",
       "</style>\n",
       "<table border=\"1\" class=\"dataframe\">\n",
       "  <thead>\n",
       "    <tr style=\"text-align: right;\">\n",
       "      <th></th>\n",
       "      <th>car_m_d</th>\n",
       "      <th>car_m_t</th>\n",
       "      <th>car_r_d</th>\n",
       "      <th>car_r_t</th>\n",
       "      <th>from_id</th>\n",
       "      <th>pt_m_d</th>\n",
       "      <th>pt_m_t</th>\n",
       "      <th>pt_m_tt</th>\n",
       "      <th>pt_r_d</th>\n",
       "      <th>pt_r_t</th>\n",
       "      <th>pt_r_tt</th>\n",
       "      <th>to_id</th>\n",
       "      <th>walk_d</th>\n",
       "      <th>walk_t</th>\n",
       "      <th>geometry</th>\n",
       "      <th>suitable_area</th>\n",
       "      <th>n_break_pt_r_tt</th>\n",
       "    </tr>\n",
       "  </thead>\n",
       "  <tbody>\n",
       "    <tr>\n",
       "      <th>0</th>\n",
       "      <td>32297</td>\n",
       "      <td>43</td>\n",
       "      <td>32260</td>\n",
       "      <td>48</td>\n",
       "      <td>5785640</td>\n",
       "      <td>32616</td>\n",
       "      <td>116</td>\n",
       "      <td>147</td>\n",
       "      <td>32616</td>\n",
       "      <td>108</td>\n",
       "      <td>139</td>\n",
       "      <td>5975375</td>\n",
       "      <td>32164</td>\n",
       "      <td>459</td>\n",
       "      <td>POLYGON ((382000.0001358641 6697750.000038058,...</td>\n",
       "      <td>0</td>\n",
       "      <td>8</td>\n",
       "    </tr>\n",
       "    <tr>\n",
       "      <th>1</th>\n",
       "      <td>32508</td>\n",
       "      <td>43</td>\n",
       "      <td>32471</td>\n",
       "      <td>49</td>\n",
       "      <td>5785641</td>\n",
       "      <td>32822</td>\n",
       "      <td>119</td>\n",
       "      <td>145</td>\n",
       "      <td>32822</td>\n",
       "      <td>111</td>\n",
       "      <td>133</td>\n",
       "      <td>5975375</td>\n",
       "      <td>29547</td>\n",
       "      <td>422</td>\n",
       "      <td>POLYGON ((382250.0001358146 6697750.000038053,...</td>\n",
       "      <td>0</td>\n",
       "      <td>8</td>\n",
       "    </tr>\n",
       "    <tr>\n",
       "      <th>2</th>\n",
       "      <td>30133</td>\n",
       "      <td>50</td>\n",
       "      <td>31872</td>\n",
       "      <td>56</td>\n",
       "      <td>5785642</td>\n",
       "      <td>32940</td>\n",
       "      <td>121</td>\n",
       "      <td>146</td>\n",
       "      <td>32940</td>\n",
       "      <td>113</td>\n",
       "      <td>133</td>\n",
       "      <td>5975375</td>\n",
       "      <td>29626</td>\n",
       "      <td>423</td>\n",
       "      <td>POLYGON ((382500.0001357661 6697750.000038046,...</td>\n",
       "      <td>0</td>\n",
       "      <td>8</td>\n",
       "    </tr>\n",
       "  </tbody>\n",
       "</table>\n",
       "</div>"
      ],
      "text/plain": [
       "   car_m_d  car_m_t  car_r_d  car_r_t  from_id  pt_m_d  pt_m_t  pt_m_tt  \\\n",
       "0    32297       43    32260       48  5785640   32616     116      147   \n",
       "1    32508       43    32471       49  5785641   32822     119      145   \n",
       "2    30133       50    31872       56  5785642   32940     121      146   \n",
       "\n",
       "   pt_r_d  pt_r_t  pt_r_tt    to_id  walk_d  walk_t  \\\n",
       "0   32616     108      139  5975375   32164     459   \n",
       "1   32822     111      133  5975375   29547     422   \n",
       "2   32940     113      133  5975375   29626     423   \n",
       "\n",
       "                                            geometry  suitable_area  \\\n",
       "0  POLYGON ((382000.0001358641 6697750.000038058,...              0   \n",
       "1  POLYGON ((382250.0001358146 6697750.000038053,...              0   \n",
       "2  POLYGON ((382500.0001357661 6697750.000038046,...              0   \n",
       "\n",
       "   n_break_pt_r_tt  \n",
       "0                8  \n",
       "1                8  \n",
       "2                8  "
      ]
     },
     "execution_count": 58,
     "metadata": {},
     "output_type": "execute_result"
    }
   ],
   "source": [
    "# Join with original dataset 'acc' based on index\n",
    "acc = acc.join(classifications)\n",
    "acc.head(3)"
   ]
  },
  {
   "cell_type": "code",
   "execution_count": 59,
   "metadata": {},
   "outputs": [
    {
     "data": {
      "image/png": "[encoded data removed]",
      "text/plain": [
       "<matplotlib.figure.Figure at 0x1d60b5c34e0>"
      ]
     },
     "metadata": {},
     "output_type": "display_data"
    }
   ],
   "source": [
    "# Classification plot\n",
    "acc.plot(column='n_break_pt_r_tt', lw=0, legend=True)\n",
    "plt.tight_layout()"
   ]
  },
  {
   "cell_type": "code",
   "execution_count": null,
   "metadata": {},
   "outputs": [],
   "source": []
  }
 ],
 "metadata": {
  "kernelspec": {
   "display_name": "Python 3",
   "language": "python",
   "name": "python3"
  },
  "language_info": {
   "codemirror_mode": {
    "name": "ipython",
    "version": 3
   },
   "file_extension": ".py",
   "mimetype": "text/x-python",
   "name": "python",
   "nbconvert_exporter": "python",
   "pygments_lexer": "ipython3",
   "version": "3.6.4"
  }
 },
 "nbformat": 4,
 "nbformat_minor": 2
}
